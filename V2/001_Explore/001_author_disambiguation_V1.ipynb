{
 "cells": [
  {
   "cell_type": "code",
   "execution_count": 0,
   "metadata": {
    "application/vnd.databricks.v1+cell": {
     "cellMetadata": {},
     "inputWidgets": {},
     "nuid": "44920190-9120-4ae8-858f-14f52b073315",
     "showTitle": false,
     "title": ""
    }
   },
   "outputs": [
    {
     "data": {
      "application/vnd.databricks.v1+bamboolib_hint": "{\"pd.DataFrames\": [], \"version\": \"0.0.1\"}",
      "text/plain": []
     },
     "metadata": {
      "application/vnd.databricks.v1+output": {
       "addedWidgets": {},
       "arguments": {},
       "data": {
        "application/vnd.databricks.v1+bamboolib_hint": "{\"pd.DataFrames\": [], \"version\": \"0.0.1\"}",
        "text/plain": ""
       },
       "datasetInfos": [],
       "executionCount": null,
       "metadata": {
        "kernelSessionId": "d60dbebf-9dce549b00890305a6529caf"
       },
       "removedWidgets": [],
       "type": "mimeBundle"
      }
     },
     "output_type": "display_data"
    }
   ],
   "source": [
    "import pickle\n",
    "import boto3\n",
    "import re\n",
    "import json\n",
    "import pandas as pd\n",
    "import numpy as np\n",
    "import matplotlib.pyplot as plt\n",
    "# from nameparser import HumanName"
   ]
  },
  {
   "cell_type": "code",
   "execution_count": 0,
   "metadata": {
    "application/vnd.databricks.v1+cell": {
     "cellMetadata": {},
     "inputWidgets": {},
     "nuid": "2ba961a2-7e64-4844-8d78-c47e5f47c752",
     "showTitle": false,
     "title": ""
    }
   },
   "outputs": [
    {
     "name": "stdout",
     "output_type": "stream",
     "text": [
      "/databricks/spark/python/pyspark/sql/context.py:117: FutureWarning: Deprecated in 3.0.0. Use SparkSession.builder.getOrCreate() instead.\n",
      "  warnings.warn(\n"
     ]
    }
   ],
   "source": [
    "from pyspark.sql import SparkSession\n",
    "sc = spark.sparkContext\n",
    "from pyspark.sql import SQLContext\n",
    "from pyspark.sql import functions as F\n",
    "from pyspark.sql.window import Window\n",
    "from pyspark.sql.types import IntegerType, StringType, FloatType, ArrayType, DoubleType, StructType, StructField\n",
    "sqlContext = SQLContext(sc)"
   ]
  },
  {
   "cell_type": "code",
   "execution_count": 0,
   "metadata": {
    "application/vnd.databricks.v1+cell": {
     "cellMetadata": {},
     "inputWidgets": {},
     "nuid": "5f29191d-1059-4a1a-a42b-0a11e8599c1f",
     "showTitle": false,
     "title": ""
    }
   },
   "outputs": [],
   "source": [
    "base_save_path = \"s3://author-disambiguation/V1/redshift_temp_dir/\"\n",
    "iteration_save_path = \"s3://author-disambiguation/V1/\""
   ]
  },
  {
   "cell_type": "markdown",
   "metadata": {
    "application/vnd.databricks.v1+cell": {
     "cellMetadata": {},
     "inputWidgets": {},
     "nuid": "47f9abef-de4b-45bd-8d74-3d30740105f2",
     "showTitle": false,
     "title": ""
    }
   },
   "source": [
    "### Getting all data"
   ]
  },
  {
   "cell_type": "code",
   "execution_count": 0,
   "metadata": {
    "application/vnd.databricks.v1+cell": {
     "cellMetadata": {},
     "inputWidgets": {},
     "nuid": "21919fc2-445a-480a-9465-40f651751af4",
     "showTitle": false,
     "title": ""
    }
   },
   "outputs": [
    {
     "data": {
      "text/html": [
       "<style scoped>\n",
       "  .ansiout {\n",
       "    display: block;\n",
       "    unicode-bidi: embed;\n",
       "    white-space: pre-wrap;\n",
       "    word-wrap: break-word;\n",
       "    word-break: break-all;\n",
       "    font-family: \"Source Code Pro\", \"Menlo\", monospace;;\n",
       "    font-size: 13px;\n",
       "    color: #555;\n",
       "    margin-left: 4px;\n",
       "    line-height: 19px;\n",
       "  }\n",
       "</style>\n",
       "<div class=\"ansiout\"></div>"
      ]
     },
     "metadata": {
      "application/vnd.databricks.v1+output": {
       "addedWidgets": {},
       "arguments": {},
       "data": "<div class=\"ansiout\"></div>",
       "datasetInfos": [],
       "metadata": {},
       "removedWidgets": [],
       "type": "html"
      }
     },
     "output_type": "display_data"
    }
   ],
   "source": [
    "query = \\\n",
    "\"\"\"\n",
    "select count(*)\n",
    "from mid.author\n",
    "\"\"\""
   ]
  },
  {
   "cell_type": "code",
   "execution_count": 0,
   "metadata": {
    "application/vnd.databricks.v1+cell": {
     "cellMetadata": {},
     "inputWidgets": {},
     "nuid": "9811bab2-2e79-48dc-8935-f215e8d9a17a",
     "showTitle": false,
     "title": ""
    }
   },
   "outputs": [
    {
     "data": {
      "text/html": [
       "<style scoped>\n",
       "  .ansiout {\n",
       "    display: block;\n",
       "    unicode-bidi: embed;\n",
       "    white-space: pre-wrap;\n",
       "    word-wrap: break-word;\n",
       "    word-break: break-all;\n",
       "    font-family: \"Source Code Pro\", \"Menlo\", monospace;;\n",
       "    font-size: 13px;\n",
       "    color: #555;\n",
       "    margin-left: 4px;\n",
       "    line-height: 19px;\n",
       "  }\n",
       "</style>\n",
       "<div class=\"ansiout\"></div>"
      ]
     },
     "metadata": {
      "application/vnd.databricks.v1+output": {
       "addedWidgets": {},
       "arguments": {},
       "data": "<div class=\"ansiout\"></div>",
       "datasetInfos": [],
       "metadata": {},
       "removedWidgets": [],
       "type": "html"
      }
     },
     "output_type": "display_data"
    }
   ],
   "source": [
    "all_data = spark.read \\\n",
    ".format(\"com.databricks.spark.redshift\") \\\n",
    ".option(\"url\", redshift_url) \\\n",
    ".option(\"user\", \"app_user\") \\\n",
    ".option(\"password\", redshift_password) \\\n",
    ".option(\"query\", query) \\\n",
    ".option(\"tempdir\", base_save_path) \\\n",
    ".option(\"forward_spark_s3_credentials\", True) \\\n",
    ".load()"
   ]
  },
  {
   "cell_type": "code",
   "execution_count": 0,
   "metadata": {
    "application/vnd.databricks.v1+cell": {
     "cellMetadata": {},
     "inputWidgets": {},
     "nuid": "1fc6f387-7e7d-46fd-8e7c-b0ca0a812343",
     "showTitle": false,
     "title": ""
    }
   },
   "outputs": [
    {
     "data": {
      "text/html": [
       "<style scoped>\n",
       "  .ansiout {\n",
       "    display: block;\n",
       "    unicode-bidi: embed;\n",
       "    white-space: pre-wrap;\n",
       "    word-wrap: break-word;\n",
       "    word-break: break-all;\n",
       "    font-family: \"Source Code Pro\", \"Menlo\", monospace;;\n",
       "    font-size: 13px;\n",
       "    color: #555;\n",
       "    margin-left: 4px;\n",
       "    line-height: 19px;\n",
       "  }\n",
       "</style>\n",
       "<div class=\"ansiout\">+---------+\n",
       "    count|\n",
       "+---------+\n",
       "251232707|\n",
       "+---------+\n",
       "\n",
       "</div>"
      ]
     },
     "metadata": {
      "application/vnd.databricks.v1+output": {
       "addedWidgets": {},
       "arguments": {},
       "data": "<div class=\"ansiout\">+---------+\n|    count|\n+---------+\n|251232707|\n+---------+\n\n</div>",
       "datasetInfos": [],
       "metadata": {},
       "removedWidgets": [],
       "type": "html"
      }
     },
     "output_type": "display_data"
    }
   ],
   "source": [
    "all_data.show()"
   ]
  },
  {
   "cell_type": "markdown",
   "metadata": {
    "application/vnd.databricks.v1+cell": {
     "cellMetadata": {},
     "inputWidgets": {},
     "nuid": "e868bf85-c484-4598-90a1-5e8a3f62457b",
     "showTitle": false,
     "title": ""
    }
   },
   "source": [
    "### Save Static Tables"
   ]
  },
  {
   "cell_type": "code",
   "execution_count": 0,
   "metadata": {
    "application/vnd.databricks.v1+cell": {
     "cellMetadata": {},
     "inputWidgets": {},
     "nuid": "c7ea6db4-3890-4202-b2ba-9dc6e6acf2c6",
     "showTitle": false,
     "title": ""
    }
   },
   "outputs": [
    {
     "data": {
      "text/html": [
       "<style scoped>\n",
       "  .ansiout {\n",
       "    display: block;\n",
       "    unicode-bidi: embed;\n",
       "    white-space: pre-wrap;\n",
       "    word-wrap: break-word;\n",
       "    word-break: break-all;\n",
       "    font-family: \"Source Code Pro\", \"Menlo\", monospace;;\n",
       "    font-size: 13px;\n",
       "    color: #555;\n",
       "    margin-left: 4px;\n",
       "    line-height: 19px;\n",
       "  }\n",
       "</style>\n",
       "<div class=\"ansiout\"></div>"
      ]
     },
     "metadata": {
      "application/vnd.databricks.v1+output": {
       "addedWidgets": {},
       "arguments": {},
       "data": "<div class=\"ansiout\"></div>",
       "datasetInfos": [],
       "metadata": {},
       "removedWidgets": [],
       "type": "html"
      }
     },
     "output_type": "display_data"
    }
   ],
   "source": [
    "query = \\\n",
    "\"\"\"\n",
    "select author_id, normalized_name, display_name, paper_count,last_known_affiliation_id\n",
    "from mid.author\n",
    "\"\"\""
   ]
  },
  {
   "cell_type": "code",
   "execution_count": 0,
   "metadata": {
    "application/vnd.databricks.v1+cell": {
     "cellMetadata": {},
     "inputWidgets": {},
     "nuid": "dc7c50aa-0d02-4d88-95e4-6d836f638630",
     "showTitle": false,
     "title": ""
    }
   },
   "outputs": [
    {
     "data": {
      "text/html": [
       "<style scoped>\n",
       "  .ansiout {\n",
       "    display: block;\n",
       "    unicode-bidi: embed;\n",
       "    white-space: pre-wrap;\n",
       "    word-wrap: break-word;\n",
       "    word-break: break-all;\n",
       "    font-family: \"Source Code Pro\", \"Menlo\", monospace;;\n",
       "    font-size: 13px;\n",
       "    color: #555;\n",
       "    margin-left: 4px;\n",
       "    line-height: 19px;\n",
       "  }\n",
       "</style>\n",
       "<div class=\"ansiout\"></div>"
      ]
     },
     "metadata": {
      "application/vnd.databricks.v1+output": {
       "addedWidgets": {},
       "arguments": {},
       "data": "<div class=\"ansiout\"></div>",
       "datasetInfos": [],
       "metadata": {},
       "removedWidgets": [],
       "type": "html"
      }
     },
     "output_type": "display_data"
    }
   ],
   "source": [
    "authors = spark.read \\\n",
    ".format(\"com.databricks.spark.redshift\") \\\n",
    ".option(\"url\", redshift_url) \\\n",
    ".option(\"user\", \"app_user\") \\\n",
    ".option(\"password\", redshift_password) \\\n",
    ".option(\"query\", query) \\\n",
    ".option(\"tempdir\", base_save_path) \\\n",
    ".option(\"forward_spark_s3_credentials\", True) \\\n",
    ".load()"
   ]
  },
  {
   "cell_type": "code",
   "execution_count": 0,
   "metadata": {
    "application/vnd.databricks.v1+cell": {
     "cellMetadata": {},
     "inputWidgets": {},
     "nuid": "e27608d8-547c-4e38-9581-57c86865d813",
     "showTitle": false,
     "title": ""
    }
   },
   "outputs": [
    {
     "data": {
      "text/html": [
       "<style scoped>\n",
       "  .ansiout {\n",
       "    display: block;\n",
       "    unicode-bidi: embed;\n",
       "    white-space: pre-wrap;\n",
       "    word-wrap: break-word;\n",
       "    word-break: break-all;\n",
       "    font-family: \"Source Code Pro\", \"Menlo\", monospace;;\n",
       "    font-size: 13px;\n",
       "    color: #555;\n",
       "    margin-left: 4px;\n",
       "    line-height: 19px;\n",
       "  }\n",
       "</style>\n",
       "<div class=\"ansiout\"></div>"
      ]
     },
     "metadata": {
      "application/vnd.databricks.v1+output": {
       "addedWidgets": {},
       "arguments": {},
       "data": "<div class=\"ansiout\"></div>",
       "datasetInfos": [],
       "metadata": {},
       "removedWidgets": [],
       "type": "html"
      }
     },
     "output_type": "display_data"
    }
   ],
   "source": [
    "authors \\\n",
    ".write.mode('overwrite').parquet(f\"{iteration_save_path}static_authors\")"
   ]
  },
  {
   "cell_type": "code",
   "execution_count": 0,
   "metadata": {
    "application/vnd.databricks.v1+cell": {
     "cellMetadata": {},
     "inputWidgets": {},
     "nuid": "d68d9ce7-f36b-45eb-b5df-f251898e84d7",
     "showTitle": false,
     "title": ""
    }
   },
   "outputs": [],
   "source": [
    "query = \\\n",
    "\"\"\"\n",
    "select paper_id, original_title, TO_DATE(publication_date,'YYYY-MM-DD') as publication_date, journal_id\n",
    "from mid.work\n",
    "\"\"\""
   ]
  },
  {
   "cell_type": "code",
   "execution_count": 0,
   "metadata": {
    "application/vnd.databricks.v1+cell": {
     "cellMetadata": {},
     "inputWidgets": {},
     "nuid": "7f684add-3863-4a7a-ac19-f04056eb8c7b",
     "showTitle": false,
     "title": ""
    }
   },
   "outputs": [],
   "source": [
    "works = spark.read \\\n",
    ".format(\"com.databricks.spark.redshift\") \\\n",
    ".option(\"url\", redshift_url) \\\n",
    ".option(\"user\", \"app_user\") \\\n",
    ".option(\"password\", redshift_password) \\\n",
    ".option(\"query\", query) \\\n",
    ".option(\"tempdir\", base_save_path) \\\n",
    ".option(\"forward_spark_s3_credentials\", True) \\\n",
    ".load()"
   ]
  },
  {
   "cell_type": "code",
   "execution_count": 0,
   "metadata": {
    "application/vnd.databricks.v1+cell": {
     "cellMetadata": {},
     "inputWidgets": {},
     "nuid": "fc3ab20a-e108-4bb6-af07-c9e10b2a7004",
     "showTitle": false,
     "title": ""
    }
   },
   "outputs": [
    {
     "data": {
      "text/html": [
       "<style scoped>\n",
       "  .ansiout {\n",
       "    display: block;\n",
       "    unicode-bidi: embed;\n",
       "    white-space: pre-wrap;\n",
       "    word-wrap: break-word;\n",
       "    word-break: break-all;\n",
       "    font-family: \"Source Code Pro\", \"Menlo\", monospace;;\n",
       "    font-size: 13px;\n",
       "    color: #555;\n",
       "    margin-left: 4px;\n",
       "    line-height: 19px;\n",
       "  }\n",
       "</style>\n",
       "<div class=\"ansiout\"></div>"
      ]
     },
     "metadata": {
      "application/vnd.databricks.v1+output": {
       "addedWidgets": {},
       "arguments": {},
       "data": "<div class=\"ansiout\"></div>",
       "datasetInfos": [],
       "metadata": {},
       "removedWidgets": [],
       "type": "html"
      }
     },
     "output_type": "display_data"
    }
   ],
   "source": [
    "works \\\n",
    ".write.mode('overwrite').parquet(f\"{iteration_save_path}static_works\")"
   ]
  },
  {
   "cell_type": "code",
   "execution_count": 0,
   "metadata": {
    "application/vnd.databricks.v1+cell": {
     "cellMetadata": {},
     "inputWidgets": {},
     "nuid": "9119db5d-fad2-47ed-8f6c-be03ccb66b45",
     "showTitle": false,
     "title": ""
    }
   },
   "outputs": [
    {
     "data": {
      "text/html": [
       "<style scoped>\n",
       "  .ansiout {\n",
       "    display: block;\n",
       "    unicode-bidi: embed;\n",
       "    white-space: pre-wrap;\n",
       "    word-wrap: break-word;\n",
       "    word-break: break-all;\n",
       "    font-family: \"Source Code Pro\", \"Menlo\", monospace;;\n",
       "    font-size: 13px;\n",
       "    color: #555;\n",
       "    margin-left: 4px;\n",
       "    line-height: 19px;\n",
       "  }\n",
       "</style>\n",
       "<div class=\"ansiout\"></div>"
      ]
     },
     "metadata": {
      "application/vnd.databricks.v1+output": {
       "addedWidgets": {},
       "arguments": {},
       "data": "<div class=\"ansiout\"></div>",
       "datasetInfos": [],
       "metadata": {},
       "removedWidgets": [],
       "type": "html"
      }
     },
     "output_type": "display_data"
    }
   ],
   "source": [
    "query = \\\n",
    "\"\"\"\n",
    "select distinct journal_id, display_name as journal\n",
    "from mid.journal\n",
    "\"\"\""
   ]
  },
  {
   "cell_type": "code",
   "execution_count": 0,
   "metadata": {
    "application/vnd.databricks.v1+cell": {
     "cellMetadata": {},
     "inputWidgets": {},
     "nuid": "f09b6caf-965b-4111-b87a-a14b3df7b6a1",
     "showTitle": false,
     "title": ""
    }
   },
   "outputs": [
    {
     "data": {
      "text/html": [
       "<style scoped>\n",
       "  .ansiout {\n",
       "    display: block;\n",
       "    unicode-bidi: embed;\n",
       "    white-space: pre-wrap;\n",
       "    word-wrap: break-word;\n",
       "    word-break: break-all;\n",
       "    font-family: \"Source Code Pro\", \"Menlo\", monospace;;\n",
       "    font-size: 13px;\n",
       "    color: #555;\n",
       "    margin-left: 4px;\n",
       "    line-height: 19px;\n",
       "  }\n",
       "</style>\n",
       "<div class=\"ansiout\"></div>"
      ]
     },
     "metadata": {
      "application/vnd.databricks.v1+output": {
       "addedWidgets": {},
       "arguments": {},
       "data": "<div class=\"ansiout\"></div>",
       "datasetInfos": [],
       "metadata": {},
       "removedWidgets": [],
       "type": "html"
      }
     },
     "output_type": "display_data"
    }
   ],
   "source": [
    "journals = spark.read \\\n",
    ".format(\"com.databricks.spark.redshift\") \\\n",
    ".option(\"url\", redshift_url) \\\n",
    ".option(\"user\", \"app_user\") \\\n",
    ".option(\"password\", redshift_password) \\\n",
    ".option(\"query\", query) \\\n",
    ".option(\"tempdir\", base_save_path) \\\n",
    ".option(\"forward_spark_s3_credentials\", True) \\\n",
    ".load()"
   ]
  },
  {
   "cell_type": "code",
   "execution_count": 0,
   "metadata": {
    "application/vnd.databricks.v1+cell": {
     "cellMetadata": {},
     "inputWidgets": {},
     "nuid": "9f511e6a-b9e5-40da-be7e-c9cbdec39527",
     "showTitle": false,
     "title": ""
    }
   },
   "outputs": [
    {
     "data": {
      "text/html": [
       "<style scoped>\n",
       "  .ansiout {\n",
       "    display: block;\n",
       "    unicode-bidi: embed;\n",
       "    white-space: pre-wrap;\n",
       "    word-wrap: break-word;\n",
       "    word-break: break-all;\n",
       "    font-family: \"Source Code Pro\", \"Menlo\", monospace;;\n",
       "    font-size: 13px;\n",
       "    color: #555;\n",
       "    margin-left: 4px;\n",
       "    line-height: 19px;\n",
       "  }\n",
       "</style>\n",
       "<div class=\"ansiout\"></div>"
      ]
     },
     "metadata": {
      "application/vnd.databricks.v1+output": {
       "addedWidgets": {},
       "arguments": {},
       "data": "<div class=\"ansiout\"></div>",
       "datasetInfos": [],
       "metadata": {},
       "removedWidgets": [],
       "type": "html"
      }
     },
     "output_type": "display_data"
    }
   ],
   "source": [
    "journals \\\n",
    ".write.mode('overwrite').parquet(f\"{iteration_save_path}static_journals\")"
   ]
  },
  {
   "cell_type": "code",
   "execution_count": 0,
   "metadata": {
    "application/vnd.databricks.v1+cell": {
     "cellMetadata": {},
     "inputWidgets": {},
     "nuid": "7d447862-c3d1-48cb-8280-0d32ec722fa0",
     "showTitle": false,
     "title": ""
    }
   },
   "outputs": [],
   "source": [
    "query = \\\n",
    "\"\"\"\n",
    "select paper_id, author_id, original_author, author_sequence_number, cast(original_affiliation as TEXT), original_orcid\n",
    "from mid.affiliation\n",
    "\"\"\""
   ]
  },
  {
   "cell_type": "code",
   "execution_count": 0,
   "metadata": {
    "application/vnd.databricks.v1+cell": {
     "cellMetadata": {},
     "inputWidgets": {},
     "nuid": "d579b52a-e4ec-4b0a-9f95-bf7bee0a4885",
     "showTitle": false,
     "title": ""
    }
   },
   "outputs": [],
   "source": [
    "affiliations = spark.read \\\n",
    ".format(\"com.databricks.spark.redshift\") \\\n",
    ".option(\"url\", redshift_url) \\\n",
    ".option(\"user\", \"app_user\") \\\n",
    ".option(\"password\", redshift_password) \\\n",
    ".option(\"query\", query) \\\n",
    ".option(\"tempdir\", base_save_path) \\\n",
    ".option(\"forward_spark_s3_credentials\", True) \\\n",
    ".load()"
   ]
  },
  {
   "cell_type": "code",
   "execution_count": 0,
   "metadata": {
    "application/vnd.databricks.v1+cell": {
     "cellMetadata": {},
     "inputWidgets": {},
     "nuid": "8618cf4e-d305-4509-ad14-5e27540b19a3",
     "showTitle": false,
     "title": ""
    }
   },
   "outputs": [],
   "source": [
    "affiliations \\\n",
    ".write.mode('overwrite').parquet(f\"{iteration_save_path}static_affiliations\")"
   ]
  },
  {
   "cell_type": "code",
   "execution_count": 0,
   "metadata": {
    "application/vnd.databricks.v1+cell": {
     "cellMetadata": {},
     "inputWidgets": {},
     "nuid": "1c84aa4b-250d-41ab-aeab-f0aa2b04e1cf",
     "showTitle": false,
     "title": ""
    }
   },
   "outputs": [
    {
     "data": {
      "text/html": [
       "<style scoped>\n",
       "  .ansiout {\n",
       "    display: block;\n",
       "    unicode-bidi: embed;\n",
       "    white-space: pre-wrap;\n",
       "    word-wrap: break-word;\n",
       "    word-break: break-all;\n",
       "    font-family: \"Source Code Pro\", \"Menlo\", monospace;;\n",
       "    font-size: 13px;\n",
       "    color: #555;\n",
       "    margin-left: 4px;\n",
       "    line-height: 19px;\n",
       "  }\n",
       "</style>\n",
       "<div class=\"ansiout\">Out[78]: 220474025</div>"
      ]
     },
     "metadata": {
      "application/vnd.databricks.v1+output": {
       "addedWidgets": {},
       "arguments": {},
       "data": "<div class=\"ansiout\">Out[78]: 220474025</div>",
       "datasetInfos": [],
       "metadata": {},
       "removedWidgets": [],
       "type": "html"
      }
     },
     "output_type": "display_data"
    }
   ],
   "source": [
    "affiliations.dropDuplicates(subset=['paper_id', 'original_author', 'author_sequence_number']).groupBy('paper_id').count().filter(F.col('count')<300).count()"
   ]
  },
  {
   "cell_type": "code",
   "execution_count": 0,
   "metadata": {
    "application/vnd.databricks.v1+cell": {
     "cellMetadata": {},
     "inputWidgets": {},
     "nuid": "4e4d5894-b493-4f3d-8fc3-029d71a3208d",
     "showTitle": false,
     "title": ""
    }
   },
   "outputs": [
    {
     "data": {
      "text/html": [
       "<style scoped>\n",
       "  .ansiout {\n",
       "    display: block;\n",
       "    unicode-bidi: embed;\n",
       "    white-space: pre-wrap;\n",
       "    word-wrap: break-word;\n",
       "    word-break: break-all;\n",
       "    font-family: \"Source Code Pro\", \"Menlo\", monospace;;\n",
       "    font-size: 13px;\n",
       "    color: #555;\n",
       "    margin-left: 4px;\n",
       "    line-height: 19px;\n",
       "  }\n",
       "</style>\n",
       "<div class=\"ansiout\"></div>"
      ]
     },
     "metadata": {
      "application/vnd.databricks.v1+output": {
       "addedWidgets": {},
       "arguments": {},
       "data": "<div class=\"ansiout\"></div>",
       "datasetInfos": [],
       "metadata": {},
       "removedWidgets": [],
       "type": "html"
      }
     },
     "output_type": "display_data"
    }
   ],
   "source": [
    "query = \\\n",
    "\"\"\"\n",
    "select distinct paper_id, paper_reference_id\n",
    "from mid.citation\n",
    "\"\"\""
   ]
  },
  {
   "cell_type": "code",
   "execution_count": 0,
   "metadata": {
    "application/vnd.databricks.v1+cell": {
     "cellMetadata": {},
     "inputWidgets": {},
     "nuid": "c7f6baaf-caab-49e2-b340-d4061a2dce75",
     "showTitle": false,
     "title": ""
    }
   },
   "outputs": [
    {
     "data": {
      "text/html": [
       "<style scoped>\n",
       "  .ansiout {\n",
       "    display: block;\n",
       "    unicode-bidi: embed;\n",
       "    white-space: pre-wrap;\n",
       "    word-wrap: break-word;\n",
       "    word-break: break-all;\n",
       "    font-family: \"Source Code Pro\", \"Menlo\", monospace;;\n",
       "    font-size: 13px;\n",
       "    color: #555;\n",
       "    margin-left: 4px;\n",
       "    line-height: 19px;\n",
       "  }\n",
       "</style>\n",
       "<div class=\"ansiout\"></div>"
      ]
     },
     "metadata": {
      "application/vnd.databricks.v1+output": {
       "addedWidgets": {},
       "arguments": {},
       "data": "<div class=\"ansiout\"></div>",
       "datasetInfos": [],
       "metadata": {},
       "removedWidgets": [],
       "type": "html"
      }
     },
     "output_type": "display_data"
    }
   ],
   "source": [
    "citations = spark.read \\\n",
    ".format(\"com.databricks.spark.redshift\") \\\n",
    ".option(\"url\", redshift_url) \\\n",
    ".option(\"user\", \"app_user\") \\\n",
    ".option(\"password\", redshift_password) \\\n",
    ".option(\"query\", query) \\\n",
    ".option(\"tempdir\", base_save_path) \\\n",
    ".option(\"forward_spark_s3_credentials\", True) \\\n",
    ".load()"
   ]
  },
  {
   "cell_type": "code",
   "execution_count": 0,
   "metadata": {
    "application/vnd.databricks.v1+cell": {
     "cellMetadata": {},
     "inputWidgets": {},
     "nuid": "5a3e8726-91c5-4fbe-a273-c4f84c4611a3",
     "showTitle": false,
     "title": ""
    }
   },
   "outputs": [
    {
     "data": {
      "text/html": [
       "<style scoped>\n",
       "  .ansiout {\n",
       "    display: block;\n",
       "    unicode-bidi: embed;\n",
       "    white-space: pre-wrap;\n",
       "    word-wrap: break-word;\n",
       "    word-break: break-all;\n",
       "    font-family: \"Source Code Pro\", \"Menlo\", monospace;;\n",
       "    font-size: 13px;\n",
       "    color: #555;\n",
       "    margin-left: 4px;\n",
       "    line-height: 19px;\n",
       "  }\n",
       "</style>\n",
       "<div class=\"ansiout\"></div>"
      ]
     },
     "metadata": {
      "application/vnd.databricks.v1+output": {
       "addedWidgets": {},
       "arguments": {},
       "data": "<div class=\"ansiout\"></div>",
       "datasetInfos": [],
       "metadata": {},
       "removedWidgets": [],
       "type": "html"
      }
     },
     "output_type": "display_data"
    }
   ],
   "source": [
    "citations \\\n",
    ".write.mode('overwrite').parquet(f\"{iteration_save_path}static_citations\")"
   ]
  },
  {
   "cell_type": "code",
   "execution_count": 0,
   "metadata": {
    "application/vnd.databricks.v1+cell": {
     "cellMetadata": {},
     "inputWidgets": {},
     "nuid": "fcd00ef2-f0fe-480c-8b99-6f0288d8d88e",
     "showTitle": false,
     "title": ""
    }
   },
   "outputs": [
    {
     "data": {
      "text/html": [
       "<style scoped>\n",
       "  .ansiout {\n",
       "    display: block;\n",
       "    unicode-bidi: embed;\n",
       "    white-space: pre-wrap;\n",
       "    word-wrap: break-word;\n",
       "    word-break: break-all;\n",
       "    font-family: \"Source Code Pro\", \"Menlo\", monospace;;\n",
       "    font-size: 13px;\n",
       "    color: #555;\n",
       "    margin-left: 4px;\n",
       "    line-height: 19px;\n",
       "  }\n",
       "</style>\n",
       "<div class=\"ansiout\">Out[62]: 69308347</div>"
      ]
     },
     "metadata": {
      "application/vnd.databricks.v1+output": {
       "addedWidgets": {},
       "arguments": {},
       "data": "<div class=\"ansiout\">Out[62]: 69308347</div>",
       "datasetInfos": [],
       "metadata": {},
       "removedWidgets": [],
       "type": "html"
      }
     },
     "output_type": "display_data"
    }
   ],
   "source": [
    "citations.groupBy('paper_id').count().filter(F.col('count')<300).count()"
   ]
  },
  {
   "cell_type": "code",
   "execution_count": 0,
   "metadata": {
    "application/vnd.databricks.v1+cell": {
     "cellMetadata": {},
     "inputWidgets": {},
     "nuid": "12e9a71c-f04a-4318-b0ec-3c5584dbf787",
     "showTitle": false,
     "title": ""
    }
   },
   "outputs": [
    {
     "data": {
      "text/html": [
       "<style scoped>\n",
       "  .ansiout {\n",
       "    display: block;\n",
       "    unicode-bidi: embed;\n",
       "    white-space: pre-wrap;\n",
       "    word-wrap: break-word;\n",
       "    word-break: break-all;\n",
       "    font-family: \"Source Code Pro\", \"Menlo\", monospace;;\n",
       "    font-size: 13px;\n",
       "    color: #555;\n",
       "    margin-left: 4px;\n",
       "    line-height: 19px;\n",
       "  }\n",
       "</style>\n",
       "<div class=\"ansiout\">Out[63]: 0.9987463280318539</div>"
      ]
     },
     "metadata": {
      "application/vnd.databricks.v1+output": {
       "addedWidgets": {},
       "arguments": {},
       "data": "<div class=\"ansiout\">Out[63]: 0.9987463280318539</div>",
       "datasetInfos": [],
       "metadata": {},
       "removedWidgets": [],
       "type": "html"
      }
     },
     "output_type": "display_data"
    }
   ],
   "source": [
    "69308347/69395346"
   ]
  },
  {
   "cell_type": "code",
   "execution_count": 0,
   "metadata": {
    "application/vnd.databricks.v1+cell": {
     "cellMetadata": {},
     "inputWidgets": {},
     "nuid": "c5b7ccc1-3f81-4bfc-b53a-59a9c5e68dd8",
     "showTitle": false,
     "title": ""
    }
   },
   "outputs": [
    {
     "data": {
      "text/html": [
       "<style scoped>\n",
       "  .ansiout {\n",
       "    display: block;\n",
       "    unicode-bidi: embed;\n",
       "    white-space: pre-wrap;\n",
       "    word-wrap: break-word;\n",
       "    word-break: break-all;\n",
       "    font-family: \"Source Code Pro\", \"Menlo\", monospace;;\n",
       "    font-size: 13px;\n",
       "    color: #555;\n",
       "    margin-left: 4px;\n",
       "    line-height: 19px;\n",
       "  }\n",
       "</style>\n",
       "<div class=\"ansiout\"></div>"
      ]
     },
     "metadata": {
      "application/vnd.databricks.v1+output": {
       "addedWidgets": {},
       "arguments": {},
       "data": "<div class=\"ansiout\"></div>",
       "datasetInfos": [],
       "metadata": {},
       "removedWidgets": [],
       "type": "html"
      }
     },
     "output_type": "display_data"
    }
   ],
   "source": [
    "query = \\\n",
    "\"\"\"\n",
    "select affiliation_id, display_name, normalized_name, mag_normalized_name, ror_id, city, region, country\n",
    "from mid.institution\n",
    "\"\"\""
   ]
  },
  {
   "cell_type": "code",
   "execution_count": 0,
   "metadata": {
    "application/vnd.databricks.v1+cell": {
     "cellMetadata": {},
     "inputWidgets": {},
     "nuid": "92d1f489-e8c1-4664-bb47-525dca2ecf0f",
     "showTitle": false,
     "title": ""
    }
   },
   "outputs": [
    {
     "data": {
      "text/html": [
       "<style scoped>\n",
       "  .ansiout {\n",
       "    display: block;\n",
       "    unicode-bidi: embed;\n",
       "    white-space: pre-wrap;\n",
       "    word-wrap: break-word;\n",
       "    word-break: break-all;\n",
       "    font-family: \"Source Code Pro\", \"Menlo\", monospace;;\n",
       "    font-size: 13px;\n",
       "    color: #555;\n",
       "    margin-left: 4px;\n",
       "    line-height: 19px;\n",
       "  }\n",
       "</style>\n",
       "<div class=\"ansiout\"></div>"
      ]
     },
     "metadata": {
      "application/vnd.databricks.v1+output": {
       "addedWidgets": {},
       "arguments": {},
       "data": "<div class=\"ansiout\"></div>",
       "datasetInfos": [],
       "metadata": {},
       "removedWidgets": [],
       "type": "html"
      }
     },
     "output_type": "display_data"
    }
   ],
   "source": [
    "institutions = spark.read \\\n",
    ".format(\"com.databricks.spark.redshift\") \\\n",
    ".option(\"url\", redshift_url) \\\n",
    ".option(\"user\", \"app_user\") \\\n",
    ".option(\"password\", redshift_password) \\\n",
    ".option(\"query\", query) \\\n",
    ".option(\"tempdir\", base_save_path) \\\n",
    ".option(\"forward_spark_s3_credentials\", True) \\\n",
    ".load()"
   ]
  },
  {
   "cell_type": "code",
   "execution_count": 0,
   "metadata": {
    "application/vnd.databricks.v1+cell": {
     "cellMetadata": {},
     "inputWidgets": {},
     "nuid": "52e3e46b-7380-4421-8f06-c30e4263c82c",
     "showTitle": false,
     "title": ""
    }
   },
   "outputs": [
    {
     "data": {
      "text/html": [
       "<style scoped>\n",
       "  .ansiout {\n",
       "    display: block;\n",
       "    unicode-bidi: embed;\n",
       "    white-space: pre-wrap;\n",
       "    word-wrap: break-word;\n",
       "    word-break: break-all;\n",
       "    font-family: \"Source Code Pro\", \"Menlo\", monospace;;\n",
       "    font-size: 13px;\n",
       "    color: #555;\n",
       "    margin-left: 4px;\n",
       "    line-height: 19px;\n",
       "  }\n",
       "</style>\n",
       "<div class=\"ansiout\"></div>"
      ]
     },
     "metadata": {
      "application/vnd.databricks.v1+output": {
       "addedWidgets": {},
       "arguments": {},
       "data": "<div class=\"ansiout\"></div>",
       "datasetInfos": [],
       "metadata": {},
       "removedWidgets": [],
       "type": "html"
      }
     },
     "output_type": "display_data"
    }
   ],
   "source": [
    "institutions \\\n",
    ".write.mode('overwrite').parquet(f\"{iteration_save_path}static_institutions\")"
   ]
  },
  {
   "cell_type": "markdown",
   "metadata": {
    "application/vnd.databricks.v1+cell": {
     "cellMetadata": {},
     "inputWidgets": {},
     "nuid": "03e3ad85-75c2-444d-a621-0ef781d907ae",
     "showTitle": false,
     "title": ""
    }
   },
   "source": [
    "### Get data for author disambiguation"
   ]
  },
  {
   "cell_type": "code",
   "execution_count": 0,
   "metadata": {
    "application/vnd.databricks.v1+cell": {
     "cellMetadata": {},
     "inputWidgets": {},
     "nuid": "f1bbd080-b4e1-4fd8-ab00-fb83c965530e",
     "showTitle": false,
     "title": ""
    }
   },
   "outputs": [
    {
     "data": {
      "text/html": [
       "<style scoped>\n",
       "  .ansiout {\n",
       "    display: block;\n",
       "    unicode-bidi: embed;\n",
       "    white-space: pre-wrap;\n",
       "    word-wrap: break-word;\n",
       "    word-break: break-all;\n",
       "    font-family: \"Source Code Pro\", \"Menlo\", monospace;;\n",
       "    font-size: 13px;\n",
       "    color: #555;\n",
       "    margin-left: 4px;\n",
       "    line-height: 19px;\n",
       "  }\n",
       "</style>\n",
       "<div class=\"ansiout\"></div>"
      ]
     },
     "metadata": {
      "application/vnd.databricks.v1+output": {
       "addedWidgets": {},
       "arguments": {},
       "data": "<div class=\"ansiout\"></div>",
       "datasetInfos": [],
       "metadata": {},
       "removedWidgets": [],
       "type": "html"
      }
     },
     "output_type": "display_data"
    }
   ],
   "source": [
    "get_papers = \\\n",
    "f\"\"\"select paper_id, original_title, EXTRACT(YEAR from TO_DATE(publication_date,'YYYY-MM-DD')) as pub_year, \n",
    "   journal_id\n",
    "   from mid.work\"\"\"\n",
    "\n",
    "get_journal_name = \\\n",
    "f\"\"\"select distinct journal_id, display_name as journal\n",
    "    from mid.journal\"\"\"\n",
    "\n",
    "attach_authors = \\\n",
    "f\"\"\"select paper_id, author_id as mag_author_id, original_author as author_name, \n",
    "           concat(cast(paper_id as VARCHAR(15)), concat('_', cast(author_sequence_number as VARCHAR(5)))) as paper_author_id,  \n",
    "           author_sequence_number as seq_no, listagg(cast(original_affiliation as TEXT),'::::') as affiliation\n",
    "    from mid.affiliation\n",
    "    where original_author is not null\n",
    "    group by paper_id, author_id, original_author, author_sequence_number\"\"\"\n",
    "\n",
    "attach_coauthors = \\\n",
    "f\"\"\"select paper_id, listagg(original_author,'::::') as coauthors\n",
    "    from (select distinct paper_id, original_author, author_sequence_number, ROW_NUMBER() OVER (PARTITION BY paper_id) as row_number\n",
    "          from mid.affiliation) as all_authors\n",
    "    where row_number <= 300\n",
    "    group by paper_id\"\"\"\n",
    "\n",
    "attach_references = \\\n",
    "f\"\"\"select paper_id, listagg(cast(paper_reference_id as VARCHAR(16)),'::::') as references\n",
    "    from (select distinct paper_id, paper_reference_id, ROW_NUMBER() OVER (PARTITION BY paper_id) as row_number\n",
    "          from mid.citation) as all_refs\n",
    "    where row_number <= 300\n",
    "    group by paper_id\"\"\""
   ]
  },
  {
   "cell_type": "code",
   "execution_count": 0,
   "metadata": {
    "application/vnd.databricks.v1+cell": {
     "cellMetadata": {},
     "inputWidgets": {},
     "nuid": "e7370a53-f203-49d1-80d4-a15e74f98573",
     "showTitle": false,
     "title": ""
    }
   },
   "outputs": [
    {
     "data": {
      "text/html": [
       "<style scoped>\n",
       "  .ansiout {\n",
       "    display: block;\n",
       "    unicode-bidi: embed;\n",
       "    white-space: pre-wrap;\n",
       "    word-wrap: break-word;\n",
       "    word-break: break-all;\n",
       "    font-family: \"Source Code Pro\", \"Menlo\", monospace;;\n",
       "    font-size: 13px;\n",
       "    color: #555;\n",
       "    margin-left: 4px;\n",
       "    line-height: 19px;\n",
       "  }\n",
       "</style>\n",
       "<div class=\"ansiout\"></div>"
      ]
     },
     "metadata": {
      "application/vnd.databricks.v1+output": {
       "addedWidgets": {},
       "arguments": {},
       "data": "<div class=\"ansiout\"></div>",
       "datasetInfos": [],
       "metadata": {},
       "removedWidgets": [],
       "type": "html"
      }
     },
     "output_type": "display_data"
    }
   ],
   "source": [
    "testing_df = spark.read \\\n",
    ".format(\"com.databricks.spark.redshift\") \\\n",
    ".option(\"url\", redshift_url) \\\n",
    ".option(\"user\", \"app_user\") \\\n",
    ".option(\"password\", redshift_password) \\\n",
    ".option(\"query\", attach_references) \\\n",
    ".option(\"tempdir\", base_save_path) \\\n",
    ".option(\"forward_spark_s3_credentials\", True) \\\n",
    ".load()"
   ]
  },
  {
   "cell_type": "code",
   "execution_count": 0,
   "metadata": {
    "application/vnd.databricks.v1+cell": {
     "cellMetadata": {},
     "inputWidgets": {},
     "nuid": "96eb2041-0fce-4b2a-9039-baa36eeedfdd",
     "showTitle": false,
     "title": ""
    }
   },
   "outputs": [
    {
     "data": {
      "text/html": [
       "<style scoped>\n",
       "  .ansiout {\n",
       "    display: block;\n",
       "    unicode-bidi: embed;\n",
       "    white-space: pre-wrap;\n",
       "    word-wrap: break-word;\n",
       "    word-break: break-all;\n",
       "    font-family: \"Source Code Pro\", \"Menlo\", monospace;;\n",
       "    font-size: 13px;\n",
       "    color: #555;\n",
       "    margin-left: 4px;\n",
       "    line-height: 19px;\n",
       "  }\n",
       "</style>\n",
       "<div class=\"ansiout\"></div>"
      ]
     },
     "metadata": {
      "application/vnd.databricks.v1+output": {
       "addedWidgets": {},
       "arguments": {},
       "data": "<div class=\"ansiout\"></div>",
       "datasetInfos": [],
       "metadata": {},
       "removedWidgets": [],
       "type": "html"
      }
     },
     "output_type": "display_data"
    }
   ],
   "source": [
    "full_query = \\\n",
    "f\"\"\"\n",
    "select a.paper_id as UID, a.original_title title, a.pub_year, e.journal, b.mag_author_id, \n",
    "       b.author_name as author, b.paper_author_id, b.affiliation, b.seq_no, c.coauthors, d.references\n",
    "from ({get_papers}) a\n",
    "left join ({attach_authors}) b\n",
    "on a.paper_id=b.paper_id\n",
    "left join ({attach_coauthors}) c\n",
    "on a.paper_id=c.paper_id\n",
    "left join ({attach_references}) d\n",
    "on a.paper_id=d.paper_id\n",
    "left join({get_journal_name}) e\n",
    "on a.journal_id=e.journal_id\n",
    "\"\"\""
   ]
  },
  {
   "cell_type": "code",
   "execution_count": 0,
   "metadata": {
    "application/vnd.databricks.v1+cell": {
     "cellMetadata": {},
     "inputWidgets": {},
     "nuid": "fa7cf9c0-6653-4b8b-a193-1124215c9da2",
     "showTitle": false,
     "title": ""
    }
   },
   "outputs": [
    {
     "data": {
      "text/html": [
       "<style scoped>\n",
       "  .ansiout {\n",
       "    display: block;\n",
       "    unicode-bidi: embed;\n",
       "    white-space: pre-wrap;\n",
       "    word-wrap: break-word;\n",
       "    word-break: break-all;\n",
       "    font-family: \"Source Code Pro\", \"Menlo\", monospace;;\n",
       "    font-size: 13px;\n",
       "    color: #555;\n",
       "    margin-left: 4px;\n",
       "    line-height: 19px;\n",
       "  }\n",
       "</style>\n",
       "<div class=\"ansiout\"></div>"
      ]
     },
     "metadata": {
      "application/vnd.databricks.v1+output": {
       "addedWidgets": {},
       "arguments": {},
       "data": "<div class=\"ansiout\"></div>",
       "datasetInfos": [],
       "metadata": {},
       "removedWidgets": [],
       "type": "html"
      }
     },
     "output_type": "display_data"
    }
   ],
   "source": [
    "raw_input_data = spark.read \\\n",
    ".format(\"com.databricks.spark.redshift\") \\\n",
    ".option(\"url\", redshift_url) \\\n",
    ".option(\"user\", \"app_user\") \\\n",
    ".option(\"password\", redshift_password) \\\n",
    ".option(\"query\", full_query) \\\n",
    ".option(\"tempdir\", base_save_path) \\\n",
    ".option(\"forward_spark_s3_credentials\", True) \\\n",
    ".load()"
   ]
  },
  {
   "cell_type": "code",
   "execution_count": 0,
   "metadata": {
    "application/vnd.databricks.v1+cell": {
     "cellMetadata": {},
     "inputWidgets": {},
     "nuid": "4e2a8892-ab40-47a0-92e1-7d1633068c2b",
     "showTitle": false,
     "title": ""
    }
   },
   "outputs": [
    {
     "data": {
      "text/html": [
       "<style scoped>\n",
       "  .ansiout {\n",
       "    display: block;\n",
       "    unicode-bidi: embed;\n",
       "    white-space: pre-wrap;\n",
       "    word-wrap: break-word;\n",
       "    word-break: break-all;\n",
       "    font-family: \"Source Code Pro\", \"Menlo\", monospace;;\n",
       "    font-size: 13px;\n",
       "    color: #555;\n",
       "    margin-left: 4px;\n",
       "    line-height: 19px;\n",
       "  }\n",
       "</style>\n",
       "<div class=\"ansiout\"></div>"
      ]
     },
     "metadata": {
      "application/vnd.databricks.v1+output": {
       "addedWidgets": {},
       "arguments": {},
       "data": "<div class=\"ansiout\"></div>",
       "datasetInfos": [],
       "metadata": {},
       "removedWidgets": [],
       "type": "html"
      }
     },
     "output_type": "display_data"
    }
   ],
   "source": [
    "raw_input_data \\\n",
    ".write.mode('overwrite').parquet(f\"{iteration_save_path}raw_author_disam_input_data\")"
   ]
  },
  {
   "cell_type": "markdown",
   "metadata": {
    "application/vnd.databricks.v1+cell": {
     "cellMetadata": {},
     "inputWidgets": {},
     "nuid": "e9f0e30a-96e4-455b-97b8-58bc01b6ad69",
     "showTitle": false,
     "title": ""
    }
   },
   "source": [
    "### Reading the Saved Tables"
   ]
  },
  {
   "cell_type": "code",
   "execution_count": 0,
   "metadata": {
    "application/vnd.databricks.v1+cell": {
     "cellMetadata": {},
     "inputWidgets": {},
     "nuid": "42009c32-4d46-44c3-a447-f5e6ab0c8ec9",
     "showTitle": false,
     "title": ""
    }
   },
   "outputs": [],
   "source": [
    "# authors = spark.read.parquet(f\"{iteration_save_path}static_authors\")\n",
    "# works = spark.read.parquet(f\"{iteration_save_path}static_works\")\n",
    "# journals = spark.read.parquet(f\"{iteration_save_path}static_journals\")\n",
    "affiliations = spark.read.parquet(f\"{iteration_save_path}static_affiliations\")\n",
    "# institutions = spark.read.parquet(f\"{iteration_save_path}static_institutions\")\n",
    "# citations = spark.read.parquet(f\"{iteration_save_path}static_citations\")\n",
    "# raw_input_data = spark.read.parquet(f\"{iteration_save_path}raw_author_disam_input_data\").filter(F.col('author')!='')"
   ]
  },
  {
   "cell_type": "code",
   "execution_count": 0,
   "metadata": {
    "application/vnd.databricks.v1+cell": {
     "cellMetadata": {},
     "inputWidgets": {},
     "nuid": "9cf52743-08d4-402d-94f3-05a185f04f77",
     "showTitle": false,
     "title": ""
    }
   },
   "outputs": [
    {
     "name": "stdout",
     "output_type": "stream",
     "text": [
      "root\n",
      " |-- paper_id: long (nullable = true)\n",
      " |-- original_title: string (nullable = true)\n",
      " |-- publication_date: date (nullable = true)\n",
      " |-- journal_id: long (nullable = true)\n",
      "\n"
     ]
    }
   ],
   "source": [
    "works.printSchema()"
   ]
  },
  {
   "cell_type": "code",
   "execution_count": 0,
   "metadata": {
    "application/vnd.databricks.v1+cell": {
     "cellMetadata": {},
     "inputWidgets": {},
     "nuid": "ff971e8f-f3a3-4a7e-b41c-b75239b8cd5c",
     "showTitle": false,
     "title": ""
    }
   },
   "outputs": [
    {
     "name": "stdout",
     "output_type": "stream",
     "text": [
      "Out[45]: 614116887"
     ]
    }
   ],
   "source": [
    "affiliations.cache().count()"
   ]
  },
  {
   "cell_type": "code",
   "execution_count": 0,
   "metadata": {
    "application/vnd.databricks.v1+cell": {
     "cellMetadata": {},
     "inputWidgets": {},
     "nuid": "789ac9de-8804-48f9-99be-5fdb7277b4ee",
     "showTitle": false,
     "title": ""
    }
   },
   "outputs": [
    {
     "name": "stdout",
     "output_type": "stream",
     "text": [
      "+-------------+-------------+\n",
      "|min(paper_id)|max(paper_id)|\n",
      "+-------------+-------------+\n",
      "|   2908575976|   4296761487|\n",
      "+-------------+-------------+\n",
      "\n"
     ]
    }
   ],
   "source": [
    "affiliations.filter(F.col('original_orcid')!='').select(F.min(F.col('paper_id')), F.max(F.col('paper_id'))).show()"
   ]
  },
  {
   "cell_type": "code",
   "execution_count": 0,
   "metadata": {
    "application/vnd.databricks.v1+cell": {
     "cellMetadata": {},
     "inputWidgets": {},
     "nuid": "0d1741f9-3711-4030-a967-b258e6d8247e",
     "showTitle": false,
     "title": ""
    }
   },
   "outputs": [
    {
     "name": "stdout",
     "output_type": "stream",
     "text": [
      "+-------------------+---------------+\n",
      "|original_orcid     |original_author|\n",
      "+-------------------+---------------+\n",
      "|0000-0001-9695-4543|Valeriy Lakhno |\n",
      "|0000-0001-9695-4543|Valerii Lakhno |\n",
      "|0000-0001-9695-4543|Valery Lakhno  |\n",
      "|0000-0001-9695-4543|V. Lakhno      |\n",
      "|0000-0001-9695-4543|V. Lakhno      |\n",
      "|0000-0001-9695-4543|V. A. Lakhno   |\n",
      "|0000-0001-9695-4543|Valerii Lakhno |\n",
      "|0000-0001-9695-4543|Valery Lakhno  |\n",
      "|0000-0001-9695-4543|Lakhno Valeriy |\n",
      "+-------------------+---------------+\n",
      "\n"
     ]
    }
   ],
   "source": [
    "affiliations.filter(F.col('original_orcid')=='0000-0001-9695-4543') \\\n",
    ".select('original_orcid','original_author').show(25, truncate=False)"
   ]
  },
  {
   "cell_type": "code",
   "execution_count": 0,
   "metadata": {
    "application/vnd.databricks.v1+cell": {
     "cellMetadata": {},
     "inputWidgets": {},
     "nuid": "4dc2bf88-4428-4e7a-bd4c-80937109d9e9",
     "showTitle": false,
     "title": ""
    }
   },
   "outputs": [
    {
     "name": "stdout",
     "output_type": "stream",
     "text": [
      "+-------------------+-------------------------------------------------------------------------------------------------------------------------------------------------------------------------------------------------------+----------------+\n",
      "|original_orcid     |author_names                                                                                                                                                                                           |author_names_len|\n",
      "+-------------------+-------------------------------------------------------------------------------------------------------------------------------------------------------------------------------------------------------+----------------+\n",
      "|0000-0001-6206-2133|[S. A. Melchenko, Yu.M. Zabrodskaya, Yu. M. Zabrodskaya, J. M. Zabrodskaya, Yu M Zabrodskaya, Yu. M. Zabrodskaia]                                                                                      |6               |\n",
      "|0000-0001-6268-6552|[José Padrón, José M. Padrón, José M.Padrón, José M Padrón, José Manuel Padrón, Jose M. M. Padrón]                                                                                                     |6               |\n",
      "|0000-0001-6413-5957|[Ihsan-ul- Haq, Ihsan-Ul Haq, Ihsan ul Haq, None Ihsan-ul-Haq, I. Haq, Ihsan Ul Haq]                                                                                                                   |6               |\n",
      "|0000-0001-6755-7629|[Asha KOTNURKAR>, Asha S. Kotnurkar, Asha Kotnurkar, asha Shivappa kotnurkar, S. K. Asha, Asha KOTNURKAR]                                                                                              |6               |\n",
      "|0000-0001-6825-4697|[T. A. Vakaliuk, Тетяна ВАКАЛЮК, Tetiana Vakaliuk, Тетяна Анатоліївна Вакалюк, Т.А. Вакалюк, Tetiana A. Vakaliuk]                                                                                      |6               |\n",
      "|0000-0001-7060-1598|[CARLOS E.G.R. SCHAEFER, CARLOS ERNESTO G.R. SCHAEFER, Carlos E G R Schaefer, Carlos Ernesto G R Schaefer, Carlos Ernesto Gonçalves Reynaud Schaefer, CARLOS E.R.G. SCHAEFER, Carlos E. G. R. Schaefer]|7               |\n",
      "|0000-0001-7394-5185|[Mohamed Kharfan‐Dabaja, Mohamed A Kharfan-Dabaja, Mohamed Kharfan-Dabaja, Mohamad A. Kharfan-Dabaja, Mohamed A. Kharfan-Dabaja, Mohamed KHARFAN-DABAJA]                                               |6               |\n",
      "|0000-0001-7985-0048|[M Kassim Javaid, Kassim Javaid, MK Javaid, M.K. Javaid, M. Kassim Javaid, Muhammad Kassim Javaid]                                                                                                     |6               |\n",
      "|0000-0001-8078-2652|[V. Chubaieskyi, V. Chubaievskyi, V Chubaievskyi, Vitaliy Chubaievskyi, Віталій ЧУБАЄВСЬКИЙ, Vitalii Chubaievskyi]                                                                                     |6               |\n",
      "|0000-0001-9695-4543|[Valeriy Lakhno, V. Lakhno, V. A. Lakhno, Lakhno Valeriy, Valerii Lakhno, Valery Lakhno]                                                                                                               |6               |\n",
      "|0000-0001-9700-0418|[Malcolm G. Semple, Malcolm G Semple, Calum Semple, Malcolm Gracie Semple, M.G. Semple, Malcolm Semple]                                                                                                |6               |\n",
      "|0000-0002-0343-239X|[John Leif Jørgensen, J. L. Jørgensen, John Leif Jorgensen, John L Jorgensen, John L. Jørgensen, John Jørgensen]                                                                                       |6               |\n",
      "|0000-0002-0447-2633|[J. R. Hopkins, James F. Hopkins, J. Hopkins, James Hopkins, Jim R. Hopkins, James R. Hopkins]                                                                                                         |6               |\n",
      "|0000-0002-0801-0831|[Robert J. Parker, R. Parker, R. J. Parker, Robert J . Parker, Rob Parker, Robert Parker, Robert J Parker]                                                                                             |7               |\n",
      "|0000-0002-1605-7859|[Sergey Tereshchenko, S. Yu. Tereschenko, Sergey Yu. Tereshchenko, S.Yu. Tereschenko, S. Yu. Tereshchenko, S Y Tereshchenko]                                                                           |6               |\n",
      "|0000-0002-2448-4033|[D. V. Bishop, Dorothy V M Bishop, D. V. M. Bishop, Dorothy V Bishop, Dorothy Vera Margaret Bishop, Dorothy V.M. Bishop, Dorothy V. M. Bishop]                                                         |7               |\n",
      "|0000-0002-3010-6493|[Liz Thomas, Elizabeth Ruth Thomas, Elizabeth R. Thomas, Elizabeth Thomas, E. R. Thomas, Elisabeth R. Thomas]                                                                                          |6               |\n",
      "|0000-0002-3319-5516|[T Pradhan, Snigdha Rai, Gehanath Baral, Nrinmoy Biswas, Animesh Biswas, Henry Ruiru Mwang, Pushpa Srichand]                                                                                           |7               |\n",
      "|0000-0002-3478-4945|[A.C.T. van Duin, Adri C.T. van Duin, Adri C. T. van Duin, Adri. C. T. van Duin, Adri van Duin, Adri C T van Duin]                                                                                     |6               |\n",
      "|0000-0002-3944-996X|[PAULO E.A.S. CÂMARA, Paulo Eduardo Aguiar Saraiva Câmara, Paulo E.A.S. Câmara, Paulo Saraiva Camara, Paulo E. A. S. Câmara, WESLEY L. BARBOSA]                                                        |6               |\n",
      "|0000-0002-4166-2284|[Jeroen A. Bokhoven, Jeroen Anton van Bokhoven, Jeroen A van Bokhoven, Jeroen A. van Bokhoven, Jeroen Anton Bokhoven, J. A. van Bokhoven]                                                              |6               |\n",
      "|0000-0002-6317-3975|[John J V McMurray, John Joseph Valentine McMurray, John JV. McMurray, John Jv McMurray, John McMurray, John J.V. McMurray, John J. V. McMurray, John JV McMurray]                                     |8               |\n",
      "|0000-0002-7700-7724|[Andrey Yaremenko, A I Yaremenko, A. I. Yaremenko, Andrey I. Yaremenko, А.И. Еременко, A.I. Yaremenko]                                                                                                 |6               |\n",
      "|0000-0002-7948-9317|[Margarida Reis-Santos, Margarida Santos-Reis, Margarida Santos, Margarida Reis Santos, Maria Margarida da Silva Reis dos Santos Ferreira, Maria Margarida da Silva Reis Dos Santos Ferreira]          |6               |\n",
      "|0000-0002-8868-4739|[Thomas Bracegirdle, Thomas Bricegirdle, Tom Bracegirdle, Tom J. Bracegirdle, Thomas J. Bracegirdle, T. J. Bracegirdle]                                                                                |6               |\n",
      "+-------------------+-------------------------------------------------------------------------------------------------------------------------------------------------------------------------------------------------------+----------------+\n",
      "only showing top 25 rows\n",
      "\n"
     ]
    }
   ],
   "source": [
    "affiliations.filter(F.col('original_orcid')!='') \\\n",
    ".groupby('original_orcid') \\\n",
    ".agg(F.collect_set(F.col('original_author')).alias('author_names')) \\\n",
    ".withColumn('author_names_len', F.size(F.col('author_names'))) \\\n",
    ".filter(F.col('author_names_len') > 5) \\\n",
    ".show(25, truncate=False)"
   ]
  },
  {
   "cell_type": "code",
   "execution_count": 0,
   "metadata": {
    "application/vnd.databricks.v1+cell": {
     "cellMetadata": {},
     "inputWidgets": {},
     "nuid": "987346d9-17e6-419f-952a-04326c867d5a",
     "showTitle": false,
     "title": ""
    }
   },
   "outputs": [],
   "source": []
  },
  {
   "cell_type": "code",
   "execution_count": 0,
   "metadata": {
    "application/vnd.databricks.v1+cell": {
     "cellMetadata": {},
     "inputWidgets": {},
     "nuid": "5ecd7e6b-9bbf-47a9-90b3-5d7372784e3c",
     "showTitle": false,
     "title": ""
    }
   },
   "outputs": [],
   "source": []
  },
  {
   "cell_type": "code",
   "execution_count": 0,
   "metadata": {
    "application/vnd.databricks.v1+cell": {
     "cellMetadata": {},
     "inputWidgets": {},
     "nuid": "b91e2979-1996-4c1e-ab8e-66d95a7a7861",
     "showTitle": false,
     "title": ""
    }
   },
   "outputs": [],
   "source": []
  },
  {
   "cell_type": "code",
   "execution_count": 0,
   "metadata": {
    "application/vnd.databricks.v1+cell": {
     "cellMetadata": {},
     "inputWidgets": {},
     "nuid": "edf430e2-1e54-42f2-924c-bc472da77fd5",
     "showTitle": false,
     "title": ""
    }
   },
   "outputs": [
    {
     "name": "stdout",
     "output_type": "stream",
     "text": [
      "+--------+--------------------+----------------+----------+\n",
      "|paper_id|      original_title|publication_date|journal_id|\n",
      "+--------+--------------------+----------------+----------+\n",
      "|     236|CHAPTER 11 – Stat...|      2001-01-01|      null|\n",
      "|    1280|University of Mic...|      1955-08-01|      null|\n",
      "|    1638|Benvenuto Cellini...|      1834-01-01|      null|\n",
      "|    1682|Capítulo 15 – Apl...|      2005-01-01|      null|\n",
      "|    3190|Beiträge zur Frag...|      1933-01-01|2752137261|\n",
      "+--------+--------------------+----------------+----------+\n",
      "only showing top 5 rows\n",
      "\n"
     ]
    }
   ],
   "source": [
    "works.show(5)"
   ]
  },
  {
   "cell_type": "code",
   "execution_count": 0,
   "metadata": {
    "application/vnd.databricks.v1+cell": {
     "cellMetadata": {},
     "inputWidgets": {},
     "nuid": "7404ae92-312f-475a-9f60-9195a0fb935d",
     "showTitle": false,
     "title": ""
    }
   },
   "outputs": [
    {
     "name": "stdout",
     "output_type": "stream",
     "text": [
      "+-------------+\n",
      "|max(paper_id)|\n",
      "+-------------+\n",
      "|   4291252484|\n",
      "+-------------+\n",
      "\n"
     ]
    }
   ],
   "source": [
    "works.select(F.max(F.col('paper_id'))).show()"
   ]
  },
  {
   "cell_type": "code",
   "execution_count": 0,
   "metadata": {
    "application/vnd.databricks.v1+cell": {
     "cellMetadata": {},
     "inputWidgets": {},
     "nuid": "f7550943-1bde-4976-97ac-5e39b7a3269c",
     "showTitle": false,
     "title": ""
    }
   },
   "outputs": [
    {
     "data": {
      "text/html": [
       "<style scoped>\n",
       "  .ansiout {\n",
       "    display: block;\n",
       "    unicode-bidi: embed;\n",
       "    white-space: pre-wrap;\n",
       "    word-wrap: break-word;\n",
       "    word-break: break-all;\n",
       "    font-family: \"Source Code Pro\", \"Menlo\", monospace;;\n",
       "    font-size: 13px;\n",
       "    color: #555;\n",
       "    margin-left: 4px;\n",
       "    line-height: 19px;\n",
       "  }\n",
       "</style>\n",
       "<div class=\"ansiout\">Out[5]: 604871070</div>"
      ]
     },
     "metadata": {
      "application/vnd.databricks.v1+output": {
       "addedWidgets": {},
       "arguments": {},
       "data": "<div class=\"ansiout\">Out[5]: 604871070</div>",
       "datasetInfos": [],
       "metadata": {},
       "removedWidgets": [],
       "type": "html"
      }
     },
     "output_type": "display_data"
    }
   ],
   "source": [
    "raw_input_data.cache().count()"
   ]
  },
  {
   "cell_type": "markdown",
   "metadata": {
    "application/vnd.databricks.v1+cell": {
     "cellMetadata": {},
     "inputWidgets": {},
     "nuid": "0091aec2-3783-4059-938b-87fc58b30824",
     "showTitle": false,
     "title": ""
    }
   },
   "source": [
    "#### Quick Data Quality Checks"
   ]
  },
  {
   "cell_type": "code",
   "execution_count": 0,
   "metadata": {
    "application/vnd.databricks.v1+cell": {
     "cellMetadata": {},
     "inputWidgets": {},
     "nuid": "a82fabbe-4347-4920-9424-020f36577e33",
     "showTitle": false,
     "title": ""
    }
   },
   "outputs": [
    {
     "data": {
      "text/html": [
       "<style scoped>\n",
       "  .ansiout {\n",
       "    display: block;\n",
       "    unicode-bidi: embed;\n",
       "    white-space: pre-wrap;\n",
       "    word-wrap: break-word;\n",
       "    word-break: break-all;\n",
       "    font-family: \"Source Code Pro\", \"Menlo\", monospace;;\n",
       "    font-size: 13px;\n",
       "    color: #555;\n",
       "    margin-left: 4px;\n",
       "    line-height: 19px;\n",
       "  }\n",
       "</style>\n",
       "<div class=\"ansiout\">+---+-----+--------+-------+-------------+------+---------------+-----------+------+---------+----------+\n",
       "uid|title|pub_year|journal|mag_author_id|author|paper_author_id|affiliation|seq_no|coauthors|references|\n",
       "+---+-----+--------+-------+-------------+------+---------------+-----------+------+---------+----------+\n",
       "  0|    1|       0|      0|            0|     0|              0|          0|     0|        0|         0|\n",
       "+---+-----+--------+-------+-------------+------+---------------+-----------+------+---------+----------+\n",
       "\n",
       "</div>"
      ]
     },
     "metadata": {
      "application/vnd.databricks.v1+output": {
       "addedWidgets": {},
       "arguments": {},
       "data": "<div class=\"ansiout\">+---+-----+--------+-------+-------------+------+---------------+-----------+------+---------+----------+\n|uid|title|pub_year|journal|mag_author_id|author|paper_author_id|affiliation|seq_no|coauthors|references|\n+---+-----+--------+-------+-------------+------+---------------+-----------+------+---------+----------+\n|  0|    1|       0|      0|            0|     0|              0|          0|     0|        0|         0|\n+---+-----+--------+-------+-------------+------+---------------+-----------+------+---------+----------+\n\n</div>",
       "datasetInfos": [],
       "metadata": {},
       "removedWidgets": [],
       "type": "html"
      }
     },
     "output_type": "display_data"
    }
   ],
   "source": [
    "raw_input_data.select([F.count(F.when(F.isnan(c), c)).alias(c) for c in raw_input_data.columns]).show()"
   ]
  },
  {
   "cell_type": "code",
   "execution_count": 0,
   "metadata": {
    "application/vnd.databricks.v1+cell": {
     "cellMetadata": {},
     "inputWidgets": {},
     "nuid": "9590b50e-09ec-4cf4-a052-84e9a8d2883a",
     "showTitle": false,
     "title": ""
    }
   },
   "outputs": [
    {
     "data": {
      "text/html": [
       "<style scoped>\n",
       "  .ansiout {\n",
       "    display: block;\n",
       "    unicode-bidi: embed;\n",
       "    white-space: pre-wrap;\n",
       "    word-wrap: break-word;\n",
       "    word-break: break-all;\n",
       "    font-family: \"Source Code Pro\", \"Menlo\", monospace;;\n",
       "    font-size: 13px;\n",
       "    color: #555;\n",
       "    margin-left: 4px;\n",
       "    line-height: 19px;\n",
       "  }\n",
       "</style>\n",
       "<div class=\"ansiout\">+--------+-------------+------------------+--------------------+-------------------+\n",
       "pub_year|avg(pub_year)| avg(coauthor_len)|avg(affiliation_len)|avg(references_len)|\n",
       "+--------+-------------+------------------+--------------------+-------------------+\n",
       "    1976|       1976.0|3.5444656326763004|   1.005909737434547| 3.6560007410066597|\n",
       "    1977|       1977.0|3.9397931152698926|   1.005699374218141| 3.8671707891845486|\n",
       "    1978|       1978.0|3.7780280709894445|  1.0060958125507482|  4.017972392993852|\n",
       "    1979|       1979.0|  3.67181633117668|  1.0060754122601177| 4.2205211283172686|\n",
       "    1980|       1980.0|3.6698145629462857|  1.0058025774239254| 4.0952232706003135|\n",
       "    1981|       1981.0| 4.094913386168779|  1.0062608296374893|  4.452053307024198|\n",
       "    1982|       1982.0|4.1526760372822435|  1.0060388879555278|  4.486606432658984|\n",
       "    1983|       1983.0| 4.228749423100933|  1.0064104182711124|   4.60514117018277|\n",
       "    1984|       1984.0|  4.31914925629431|  1.0063378934199014|  4.769900484901016|\n",
       "    1985|       1985.0| 4.465709670895231|  1.0061478994029804|  5.040170273419818|\n",
       "    1986|       1986.0|  4.36273025012484|  1.0060787556822577|  5.188195556409962|\n",
       "    1987|       1987.0| 4.625152845501498|  1.0059118832604177|  5.252142962556895|\n",
       "    1988|       1988.0|4.6349275760499395|  1.0053448683462294|  5.534922847887342|\n",
       "    1989|       1989.0| 4.967871391686527|  1.0053606553218586|  5.652761963149169|\n",
       "    1990|       1990.0| 6.596077780210638|  1.0048267418836274|  5.804147758826801|\n",
       "    1991|       1991.0| 6.505672969354904|  1.0052083740942612| 6.0739648768944186|\n",
       "    1992|       1992.0| 7.325441568313953|   1.005515239010127|  6.448401832549511|\n",
       "    1993|       1993.0| 7.442716646674284|  1.0052643125991902|  6.322133609902545|\n",
       "    1994|       1994.0| 7.484321782346917|   1.005325912866308|  6.743051921148869|\n",
       "    1995|       1995.0|  9.08788372152299|  1.0054405580961745|  6.994167117991875|\n",
       "    1996|       1996.0| 8.656917728490404|  1.0062058118597166|  6.943265770351689|\n",
       "    1997|       1997.0| 8.307136037574981|  1.0059577538982785|  7.337056031301683|\n",
       "    1998|       1998.0| 8.206653436794538|  1.0060946963116852|   7.68828561420503|\n",
       "    1999|       1999.0|  8.16551558940821|  1.0062300196458525|  8.970450288160926|\n",
       "    2000|       2000.0| 7.911615579016571|  1.0060926821342775|  8.833258018447108|\n",
       "    2001|       2001.0| 7.853645879079273|  1.0062855269826223|  9.107932274786007|\n",
       "    2002|       2002.0| 7.765062849243263|   1.006390413566215|  9.430672873078992|\n",
       "    2003|       2003.0| 6.857638560733638|    1.00667576013652|  9.511639401916446|\n",
       "    2004|       2004.0| 8.517404374994596|  1.0072741165246828|  9.925740393352866|\n",
       "    2005|       2005.0| 8.567483873431783|  1.0077946074317468|  10.49533437762454|\n",
       "    2006|       2006.0|  8.59005709264874|  1.0084586759324325| 10.731835760934255|\n",
       "    2007|       2007.0| 9.283014515979042|  1.0088324910221056|  11.13996023049373|\n",
       "    2008|       2008.0|  9.38310606694475|  1.0091660956970443| 11.241211387874536|\n",
       "    2009|       2009.0|15.375789890090788|  1.0098262592982366| 11.293597547838763|\n",
       "    2010|       2010.0|13.266998480411816|  1.0105614863758323| 11.780234409366805|\n",
       "    2011|       2011.0|13.030094615607084|   1.011858468363002|   12.7441165904193|\n",
       "    2012|       2012.0|  18.8202134084449|  1.0125711160961055|  13.43897724657726|\n",
       "    2013|       2013.0|15.714697063685895|   1.013615484992953|  14.06751626831831|\n",
       "    2014|       2014.0|14.519966812040876|   1.013547791821421| 14.793212712334117|\n",
       "    2015|       2015.0|14.659715566980585|  1.0150501314222433| 15.439320073120523|\n",
       "    2016|       2016.0|19.079164764986995|  1.0158877767354824| 14.860523517563562|\n",
       "    2017|       2017.0|15.351116863040163|  1.0184894168278418| 16.040409643293767|\n",
       "    2018|       2018.0| 16.53857226628665|  1.0211546742880182| 16.504875933534812|\n",
       "    2019|       2019.0|15.667150040480987|  1.0227751642025258|  17.87675801263855|\n",
       "    2020|       2020.0|14.135846486226137|  1.0254717750558155|   18.3937380137707|\n",
       "    2021|       2021.0|18.367056783461347|  1.0285841904319675| 21.694587787768484|\n",
       "    2022|       2022.0|25.995612611027106|  1.0721302957490342|  25.35498079061955|\n",
       "    2023|       2023.0|10.979903705254344|  1.0384132300607076| 25.494138580699182|\n",
       "    2024|       2024.0| 7.958348968105065|  1.0138836772983115|  20.18686679174484|\n",
       "    2025|       2025.0|           7.71875|             1.00625|            1.19375|\n",
       "+--------+-------------+------------------+--------------------+-------------------+\n",
       "only showing top 50 rows\n",
       "\n",
       "</div>"
      ]
     },
     "metadata": {
      "application/vnd.databricks.v1+output": {
       "addedWidgets": {},
       "arguments": {},
       "data": "<div class=\"ansiout\">+--------+-------------+------------------+--------------------+-------------------+\n|pub_year|avg(pub_year)| avg(coauthor_len)|avg(affiliation_len)|avg(references_len)|\n+--------+-------------+------------------+--------------------+-------------------+\n|    1976|       1976.0|3.5444656326763004|   1.005909737434547| 3.6560007410066597|\n|    1977|       1977.0|3.9397931152698926|   1.005699374218141| 3.8671707891845486|\n|    1978|       1978.0|3.7780280709894445|  1.0060958125507482|  4.017972392993852|\n|    1979|       1979.0|  3.67181633117668|  1.0060754122601177| 4.2205211283172686|\n|    1980|       1980.0|3.6698145629462857|  1.0058025774239254| 4.0952232706003135|\n|    1981|       1981.0| 4.094913386168779|  1.0062608296374893|  4.452053307024198|\n|    1982|       1982.0|4.1526760372822435|  1.0060388879555278|  4.486606432658984|\n|    1983|       1983.0| 4.228749423100933|  1.0064104182711124|   4.60514117018277|\n|    1984|       1984.0|  4.31914925629431|  1.0063378934199014|  4.769900484901016|\n|    1985|       1985.0| 4.465709670895231|  1.0061478994029804|  5.040170273419818|\n|    1986|       1986.0|  4.36273025012484|  1.0060787556822577|  5.188195556409962|\n|    1987|       1987.0| 4.625152845501498|  1.0059118832604177|  5.252142962556895|\n|    1988|       1988.0|4.6349275760499395|  1.0053448683462294|  5.534922847887342|\n|    1989|       1989.0| 4.967871391686527|  1.0053606553218586|  5.652761963149169|\n|    1990|       1990.0| 6.596077780210638|  1.0048267418836274|  5.804147758826801|\n|    1991|       1991.0| 6.505672969354904|  1.0052083740942612| 6.0739648768944186|\n|    1992|       1992.0| 7.325441568313953|   1.005515239010127|  6.448401832549511|\n|    1993|       1993.0| 7.442716646674284|  1.0052643125991902|  6.322133609902545|\n|    1994|       1994.0| 7.484321782346917|   1.005325912866308|  6.743051921148869|\n|    1995|       1995.0|  9.08788372152299|  1.0054405580961745|  6.994167117991875|\n|    1996|       1996.0| 8.656917728490404|  1.0062058118597166|  6.943265770351689|\n|    1997|       1997.0| 8.307136037574981|  1.0059577538982785|  7.337056031301683|\n|    1998|       1998.0| 8.206653436794538|  1.0060946963116852|   7.68828561420503|\n|    1999|       1999.0|  8.16551558940821|  1.0062300196458525|  8.970450288160926|\n|    2000|       2000.0| 7.911615579016571|  1.0060926821342775|  8.833258018447108|\n|    2001|       2001.0| 7.853645879079273|  1.0062855269826223|  9.107932274786007|\n|    2002|       2002.0| 7.765062849243263|   1.006390413566215|  9.430672873078992|\n|    2003|       2003.0| 6.857638560733638|    1.00667576013652|  9.511639401916446|\n|    2004|       2004.0| 8.517404374994596|  1.0072741165246828|  9.925740393352866|\n|    2005|       2005.0| 8.567483873431783|  1.0077946074317468|  10.49533437762454|\n|    2006|       2006.0|  8.59005709264874|  1.0084586759324325| 10.731835760934255|\n|    2007|       2007.0| 9.283014515979042|  1.0088324910221056|  11.13996023049373|\n|    2008|       2008.0|  9.38310606694475|  1.0091660956970443| 11.241211387874536|\n|    2009|       2009.0|15.375789890090788|  1.0098262592982366| 11.293597547838763|\n|    2010|       2010.0|13.266998480411816|  1.0105614863758323| 11.780234409366805|\n|    2011|       2011.0|13.030094615607084|   1.011858468363002|   12.7441165904193|\n|    2012|       2012.0|  18.8202134084449|  1.0125711160961055|  13.43897724657726|\n|    2013|       2013.0|15.714697063685895|   1.013615484992953|  14.06751626831831|\n|    2014|       2014.0|14.519966812040876|   1.013547791821421| 14.793212712334117|\n|    2015|       2015.0|14.659715566980585|  1.0150501314222433| 15.439320073120523|\n|    2016|       2016.0|19.079164764986995|  1.0158877767354824| 14.860523517563562|\n|    2017|       2017.0|15.351116863040163|  1.0184894168278418| 16.040409643293767|\n|    2018|       2018.0| 16.53857226628665|  1.0211546742880182| 16.504875933534812|\n|    2019|       2019.0|15.667150040480987|  1.0227751642025258|  17.87675801263855|\n|    2020|       2020.0|14.135846486226137|  1.0254717750558155|   18.3937380137707|\n|    2021|       2021.0|18.367056783461347|  1.0285841904319675| 21.694587787768484|\n|    2022|       2022.0|25.995612611027106|  1.0721302957490342|  25.35498079061955|\n|    2023|       2023.0|10.979903705254344|  1.0384132300607076| 25.494138580699182|\n|    2024|       2024.0| 7.958348968105065|  1.0138836772983115|  20.18686679174484|\n|    2025|       2025.0|           7.71875|             1.00625|            1.19375|\n+--------+-------------+------------------+--------------------+-------------------+\nonly showing top 50 rows\n\n</div>",
       "datasetInfos": [],
       "metadata": {},
       "removedWidgets": [],
       "type": "html"
      }
     },
     "output_type": "display_data"
    }
   ],
   "source": [
    "raw_input_data \\\n",
    ".withColumn(\"affiliation\", turn_string_into_list_udf(F.col('affiliation'))) \\\n",
    ".withColumn(\"coauthors\", turn_string_into_list_udf(F.col('coauthors'))) \\\n",
    ".withColumn(\"references\", turn_string_into_list_udf(F.col('references'))) \\\n",
    ".withColumn(\"coauthors\", transform_coauthors_udf(F.col('coauthors'))) \\\n",
    ".withColumn(\"coauthor_len\", F.size(F.col('coauthors'))) \\\n",
    ".withColumn(\"affiliation_len\", F.size(F.col('affiliation'))) \\\n",
    ".withColumn(\"references_len\", F.size(F.col('references'))) \\\n",
    ".select(\"pub_year\", \"coauthor_len\", \"affiliation_len\", \"references_len\") \\\n",
    ".groupby('pub_year').mean().orderBy('pub_year') \\\n",
    ".filter(F.col('pub_year')>1975).show(50)"
   ]
  },
  {
   "cell_type": "code",
   "execution_count": 0,
   "metadata": {
    "application/vnd.databricks.v1+cell": {
     "cellMetadata": {},
     "inputWidgets": {},
     "nuid": "87a50947-550d-470a-a0d8-a2870261a10c",
     "showTitle": false,
     "title": ""
    }
   },
   "outputs": [
    {
     "data": {
      "text/html": [
       "<style scoped>\n",
       "  .ansiout {\n",
       "    display: block;\n",
       "    unicode-bidi: embed;\n",
       "    white-space: pre-wrap;\n",
       "    word-wrap: break-word;\n",
       "    word-break: break-all;\n",
       "    font-family: \"Source Code Pro\", \"Menlo\", monospace;;\n",
       "    font-size: 13px;\n",
       "    color: #555;\n",
       "    margin-left: 4px;\n",
       "    line-height: 19px;\n",
       "  }\n",
       "</style>\n",
       "<div class=\"ansiout\">+--------+--------+\n",
       "pub_year|   count|\n",
       "+--------+--------+\n",
       "    1976| 1910914|\n",
       "    1977| 2036013|\n",
       "    1978| 2155250|\n",
       "    1979| 2270957|\n",
       "    1980| 2534391|\n",
       "    1981| 2578572|\n",
       "    1982| 2690396|\n",
       "    1983| 2851452|\n",
       "    1984| 3057325|\n",
       "    1985| 3218823|\n",
       "    1986| 3412376|\n",
       "    1987| 3679369|\n",
       "    1988| 3912725|\n",
       "    1989| 4218141|\n",
       "    1990| 4649306|\n",
       "    1991| 4727771|\n",
       "    1992| 4968597|\n",
       "    1993| 5264505|\n",
       "    1994| 5575570|\n",
       "    1995| 6002693|\n",
       "    1996| 6522112|\n",
       "    1997| 6911833|\n",
       "    1998| 7362631|\n",
       "    1999| 7660650|\n",
       "    2000| 8499869|\n",
       "    2001| 8960267|\n",
       "    2002| 9711891|\n",
       "    2003|10856142|\n",
       "    2004|11914849|\n",
       "    2005|12986799|\n",
       "    2006|14426726|\n",
       "    2007|15560163|\n",
       "    2008|17090810|\n",
       "    2009|19007233|\n",
       "    2010|20229823|\n",
       "    2011|21527738|\n",
       "    2012|23605064|\n",
       "    2013|24978765|\n",
       "    2014|25769587|\n",
       "    2015|26810530|\n",
       "    2016|28899890|\n",
       "    2017|27947339|\n",
       "    2018|28541919|\n",
       "    2019|29996798|\n",
       "    2020|32430445|\n",
       "    2021|32812054|\n",
       "    2022|16705380|\n",
       "    2023|   19108|\n",
       "    2024|    2665|\n",
       "    2025|     160|\n",
       "+--------+--------+\n",
       "only showing top 50 rows\n",
       "\n",
       "</div>"
      ]
     },
     "metadata": {
      "application/vnd.databricks.v1+output": {
       "addedWidgets": {},
       "arguments": {},
       "data": "<div class=\"ansiout\">+--------+--------+\n|pub_year|   count|\n+--------+--------+\n|    1976| 1910914|\n|    1977| 2036013|\n|    1978| 2155250|\n|    1979| 2270957|\n|    1980| 2534391|\n|    1981| 2578572|\n|    1982| 2690396|\n|    1983| 2851452|\n|    1984| 3057325|\n|    1985| 3218823|\n|    1986| 3412376|\n|    1987| 3679369|\n|    1988| 3912725|\n|    1989| 4218141|\n|    1990| 4649306|\n|    1991| 4727771|\n|    1992| 4968597|\n|    1993| 5264505|\n|    1994| 5575570|\n|    1995| 6002693|\n|    1996| 6522112|\n|    1997| 6911833|\n|    1998| 7362631|\n|    1999| 7660650|\n|    2000| 8499869|\n|    2001| 8960267|\n|    2002| 9711891|\n|    2003|10856142|\n|    2004|11914849|\n|    2005|12986799|\n|    2006|14426726|\n|    2007|15560163|\n|    2008|17090810|\n|    2009|19007233|\n|    2010|20229823|\n|    2011|21527738|\n|    2012|23605064|\n|    2013|24978765|\n|    2014|25769587|\n|    2015|26810530|\n|    2016|28899890|\n|    2017|27947339|\n|    2018|28541919|\n|    2019|29996798|\n|    2020|32430445|\n|    2021|32812054|\n|    2022|16705380|\n|    2023|   19108|\n|    2024|    2665|\n|    2025|     160|\n+--------+--------+\nonly showing top 50 rows\n\n</div>",
       "datasetInfos": [],
       "metadata": {},
       "removedWidgets": [],
       "type": "html"
      }
     },
     "output_type": "display_data"
    }
   ],
   "source": [
    "raw_input_data \\\n",
    ".select('pub_year') \\\n",
    ".groupby('pub_year').count() \\\n",
    ".orderBy('pub_year') \\\n",
    ".filter(F.col('pub_year')>1975).show(50)"
   ]
  },
  {
   "cell_type": "markdown",
   "metadata": {
    "application/vnd.databricks.v1+cell": {
     "cellMetadata": {},
     "inputWidgets": {},
     "nuid": "bbd2288a-cc7f-4024-8ced-b9f9f8211fd8",
     "showTitle": false,
     "title": ""
    }
   },
   "source": [
    "#### Get data into final format for feeding to blocking function"
   ]
  },
  {
   "cell_type": "code",
   "execution_count": 0,
   "metadata": {
    "application/vnd.databricks.v1+cell": {
     "cellMetadata": {},
     "inputWidgets": {},
     "nuid": "947f75b8-22a2-495a-87b1-559b570cdbb6",
     "showTitle": false,
     "title": ""
    }
   },
   "outputs": [
    {
     "data": {
      "text/html": [
       "<style scoped>\n",
       "  .ansiout {\n",
       "    display: block;\n",
       "    unicode-bidi: embed;\n",
       "    white-space: pre-wrap;\n",
       "    word-wrap: break-word;\n",
       "    word-break: break-all;\n",
       "    font-family: \"Source Code Pro\", \"Menlo\", monospace;;\n",
       "    font-size: 13px;\n",
       "    color: #555;\n",
       "    margin-left: 4px;\n",
       "    line-height: 19px;\n",
       "  }\n",
       "</style>\n",
       "<div class=\"ansiout\">+----------+-------------+-------------+--------------------+\n",
       "uid       |author       |author_split |author_last_name_len|\n",
       "+----------+-------------+-------------+--------------------+\n",
       "4282023997|xiangping qu |xiangping qu |2                   |\n",
       "365248090 |雅明 石塚    |雅明 石塚    |2                   |\n",
       "653842788 |逹 山本      |逹 山本      |2                   |\n",
       "304198829 |良之 帶刀    |良之 帶刀    |2                   |\n",
       "4210363173|Yangping Li  |Yangping Li  |2                   |\n",
       "2392957748|Cao Ji       |Cao Ji       |2                   |\n",
       "2508830026|竹内 昭彦    |竹内 昭彦    |2                   |\n",
       "2042087331|Kerth Wj     |WJ Kerth     |2                   |\n",
       "16845551  |誠 清水      |誠 清水      |2                   |\n",
       "585487600 |武志 古川    |武志 古川    |2                   |\n",
       "2074842342|X. Ma        |X. Ma        |2                   |\n",
       "1538704079|誠 飯田      |誠 飯田      |2                   |\n",
       "356789053 |昭子 中村    |昭子 中村    |2                   |\n",
       "401867376 |孝 岩下      |孝 岩下      |2                   |\n",
       "2943952301|Ziao Fu      |Ziao Fu      |2                   |\n",
       "379237897 |隆 横山      |隆 横山      |2                   |\n",
       "2410207359|Mullany Cj   |CJ Mullany   |2                   |\n",
       "2783443174|Qingxu Yu    |Qingxu Yu    |2                   |\n",
       "3183337926|淳太郎 芦刈  |淳太郎 芦刈  |2                   |\n",
       "2076442294|Yunkai Li    |Yunkai Li    |2                   |\n",
       "3163376438|Lin Ye       |Lin Ye       |2                   |\n",
       "650315780 |一成 金子    |一成 金子    |2                   |\n",
       "2951651696|Gui Lu       |Gui Lu       |2                   |\n",
       "2915523118|健 金子      |健 金子      |2                   |\n",
       "2596642980|G. Xu        |G. Xu        |2                   |\n",
       "2913220901|昭彦 松峯    |昭彦 松峯    |2                   |\n",
       "602842247 |眞一 高田    |眞一 高田    |2                   |\n",
       "2904807669|Rongqing Xu  |Rongqing Xu  |2                   |\n",
       "407189219 |一寿 藤本    |一寿 藤本    |2                   |\n",
       "2981731292|Jiyuan Tu    |Jiyuan Tu    |2                   |\n",
       "640450218 |克之 吉田    |克之 吉田    |2                   |\n",
       "316858981 |隆一 青木    |隆一 青木    |2                   |\n",
       "2534511095|Erlong Li    |Erlong Li    |2                   |\n",
       "2747335770|直章 石田    |直章 石田    |2                   |\n",
       "2328453635|Xiaodong Xu  |Xiaodong Xu  |2                   |\n",
       "3089725974|Long Qu      |Long Qu      |2                   |\n",
       "2404829041|Xiao-Jiang Yu|Xiao-Jiang Yu|2                   |\n",
       "948789189 |貴子 上川    |貴子 上川    |2                   |\n",
       "2273662850|浩之 岩瀬    |浩之 岩瀬    |2                   |\n",
       "386088018 |武彦 伊東    |武彦 伊東    |2                   |\n",
       "1577259104|幸泰 小澤    |幸泰 小澤    |2                   |\n",
       "647455250 |徹 吉田      |徹 吉田      |2                   |\n",
       "2555024076|Wenqing Li   |Wenqing Li   |2                   |\n",
       "2135715702|Y. Li        |Y. Li        |2                   |\n",
       "1003397019|Lloyd Bj     |BJ Lloyd     |2                   |\n",
       "2047103902|Jiann-Ming Wu|Jiann-Ming Wu|2                   |\n",
       "4225255716|Yanhong Li   |Yanhong Li   |2                   |\n",
       "615049692 |靖子 古賀    |靖子 古賀    |2                   |\n",
       "4285612929|Zhuo Li      |Zhuo Li      |2                   |\n",
       "339284904 |慶一 北條    |慶一 北條    |2                   |\n",
       "2949379042|Youqiao Ma   |Youqiao Ma   |2                   |\n",
       "2394524447|Burns Rp     |RP Burns     |2                   |\n",
       "364968913 |康雄 大西    |康雄 大西    |2                   |\n",
       "2736322659|Sheng-mei Ma |Sheng-mei Ma |2                   |\n",
       "653599318 |哲也 杉正    |哲也 杉正    |2                   |\n",
       "2921462187|Bosch Fx     |FX Bosch     |2                   |\n",
       "2991426221|Yan Li       |Yan Li       |2                   |\n",
       "2099199527|Maohua Lu    |Maohua Lu    |2                   |\n",
       "4256292937|Hui Li       |Hui Li       |2                   |\n",
       "658806768 |雅英 前田    |雅英 前田    |2                   |\n",
       "2399978101|Goel Ka      |Goel Ka      |2                   |\n",
       "378823269 |照弘 瀬島    |照弘 瀬島    |2                   |\n",
       "306678905 |俊毅 高橋    |俊毅 高橋    |2                   |\n",
       "3091265663|Ping Lu      |Ping Lu      |2                   |\n",
       "2398837232|智宏 山倉    |智宏 山倉    |2                   |\n",
       "586975897 |清志 川村    |清志 川村    |2                   |\n",
       "617356572 |俊男 山名    |俊男 山名    |2                   |\n",
       "2548625455|Jun Hu       |Jun Hu       |2                   |\n",
       "2900019138|Yunfeng Ge   |Yunfeng Ge   |2                   |\n",
       "2414005015|Simonov Pv   |PV Simonov   |2                   |\n",
       "608892426 |幸嗣 武川    |幸嗣 武川    |2                   |\n",
       "2574501932|亙 小沢      |亙 小沢      |2                   |\n",
       "2187074594|Xiameng Xu   |Xiameng Xu   |2                   |\n",
       "1580128959|泉 山口      |泉 山口      |2                   |\n",
       "2765904729|紘司 市川    |紘司 市川    |2                   |\n",
       "2346752951|誠吾 佐藤    |誠吾 佐藤    |2                   |\n",
       "11516439  |努 田川      |努 田川      |2                   |\n",
       "2503913353|佳菜子 内田  |佳菜子 内田  |2                   |\n",
       "592060189 |玉堂 川合    |玉堂 川合    |2                   |\n",
       "2564566551|Xuming He    |Xuming He    |2                   |\n",
       "2785903318|Ran Li       |Ran Li       |2                   |\n",
       "596857085 |慶徳 平井    |慶徳 平井    |2                   |\n",
       "433858459 |良平 田崎    |良平 田崎    |2                   |\n",
       "360034949 |達生 鳥居    |達生 鳥居    |2                   |\n",
       "75320826  |Kempf Hg     |HG Kempf     |2                   |\n",
       "2413081325|Chaturvedi Vk|VK Chaturvedi|2                   |\n",
       "2275081203|Ogola Pe     |Ogola Pe     |2                   |\n",
       "2463966808|Qiang Wu     |Qiang Wu     |2                   |\n",
       "4239939555|Bohai Ji     |Bohai Ji     |2                   |\n",
       "3175686446|昭美 青木    |昭美 青木    |2                   |\n",
       "618169127 |秀之 高津    |秀之 高津    |2                   |\n",
       "120594693 |清一 鷲田    |清一 鷲田    |2                   |\n",
       "589879033 |隆 栗原      |隆 栗原      |2                   |\n",
       "2159929259|Sen Hu       |Sen Hu       |2                   |\n",
       "4210580258|Ing-Song Yu  |Ing-Song Yu  |2                   |\n",
       "3107855858|Lin Yu       |Lin Yu       |2                   |\n",
       "4229587438|Suxia Li     |Suxia Li     |2                   |\n",
       "1430482963|中山 耕造    |中山 耕造    |2                   |\n",
       "426550260 |賢次 三枝    |賢次 三枝    |2                   |\n",
       "2512465038|宮本 清茂    |宮本 清茂    |2                   |\n",
       "+----------+-------------+-------------+--------------------+\n",
       "only showing top 100 rows\n",
       "\n",
       "</div>"
      ]
     },
     "metadata": {
      "application/vnd.databricks.v1+output": {
       "addedWidgets": {},
       "arguments": {},
       "data": "<div class=\"ansiout\">+----------+-------------+-------------+--------------------+\n|uid       |author       |author_split |author_last_name_len|\n+----------+-------------+-------------+--------------------+\n|4282023997|xiangping qu |xiangping qu |2                   |\n|365248090 |雅明 石塚    |雅明 石塚    |2                   |\n|653842788 |逹 山本      |逹 山本      |2                   |\n|304198829 |良之 帶刀    |良之 帶刀    |2                   |\n|4210363173|Yangping Li  |Yangping Li  |2                   |\n|2392957748|Cao Ji       |Cao Ji       |2                   |\n|2508830026|竹内 昭彦    |竹内 昭彦    |2                   |\n|2042087331|Kerth Wj     |WJ Kerth     |2                   |\n|16845551  |誠 清水      |誠 清水      |2                   |\n|585487600 |武志 古川    |武志 古川    |2                   |\n|2074842342|X. Ma        |X. Ma        |2                   |\n|1538704079|誠 飯田      |誠 飯田      |2                   |\n|356789053 |昭子 中村    |昭子 中村    |2                   |\n|401867376 |孝 岩下      |孝 岩下      |2                   |\n|2943952301|Ziao Fu      |Ziao Fu      |2                   |\n|379237897 |隆 横山      |隆 横山      |2                   |\n|2410207359|Mullany Cj   |CJ Mullany   |2                   |\n|2783443174|Qingxu Yu    |Qingxu Yu    |2                   |\n|3183337926|淳太郎 芦刈  |淳太郎 芦刈  |2                   |\n|2076442294|Yunkai Li    |Yunkai Li    |2                   |\n|3163376438|Lin Ye       |Lin Ye       |2                   |\n|650315780 |一成 金子    |一成 金子    |2                   |\n|2951651696|Gui Lu       |Gui Lu       |2                   |\n|2915523118|健 金子      |健 金子      |2                   |\n|2596642980|G. Xu        |G. Xu        |2                   |\n|2913220901|昭彦 松峯    |昭彦 松峯    |2                   |\n|602842247 |眞一 高田    |眞一 高田    |2                   |\n|2904807669|Rongqing Xu  |Rongqing Xu  |2                   |\n|407189219 |一寿 藤本    |一寿 藤本    |2                   |\n|2981731292|Jiyuan Tu    |Jiyuan Tu    |2                   |\n|640450218 |克之 吉田    |克之 吉田    |2                   |\n|316858981 |隆一 青木    |隆一 青木    |2                   |\n|2534511095|Erlong Li    |Erlong Li    |2                   |\n|2747335770|直章 石田    |直章 石田    |2                   |\n|2328453635|Xiaodong Xu  |Xiaodong Xu  |2                   |\n|3089725974|Long Qu      |Long Qu      |2                   |\n|2404829041|Xiao-Jiang Yu|Xiao-Jiang Yu|2                   |\n|948789189 |貴子 上川    |貴子 上川    |2                   |\n|2273662850|浩之 岩瀬    |浩之 岩瀬    |2                   |\n|386088018 |武彦 伊東    |武彦 伊東    |2                   |\n|1577259104|幸泰 小澤    |幸泰 小澤    |2                   |\n|647455250 |徹 吉田      |徹 吉田      |2                   |\n|2555024076|Wenqing Li   |Wenqing Li   |2                   |\n|2135715702|Y. Li        |Y. Li        |2                   |\n|1003397019|Lloyd Bj     |BJ Lloyd     |2                   |\n|2047103902|Jiann-Ming Wu|Jiann-Ming Wu|2                   |\n|4225255716|Yanhong Li   |Yanhong Li   |2                   |\n|615049692 |靖子 古賀    |靖子 古賀    |2                   |\n|4285612929|Zhuo Li      |Zhuo Li      |2                   |\n|339284904 |慶一 北條    |慶一 北條    |2                   |\n|2949379042|Youqiao Ma   |Youqiao Ma   |2                   |\n|2394524447|Burns Rp     |RP Burns     |2                   |\n|364968913 |康雄 大西    |康雄 大西    |2                   |\n|2736322659|Sheng-mei Ma |Sheng-mei Ma |2                   |\n|653599318 |哲也 杉正    |哲也 杉正    |2                   |\n|2921462187|Bosch Fx     |FX Bosch     |2                   |\n|2991426221|Yan Li       |Yan Li       |2                   |\n|2099199527|Maohua Lu    |Maohua Lu    |2                   |\n|4256292937|Hui Li       |Hui Li       |2                   |\n|658806768 |雅英 前田    |雅英 前田    |2                   |\n|2399978101|Goel Ka      |Goel Ka      |2                   |\n|378823269 |照弘 瀬島    |照弘 瀬島    |2                   |\n|306678905 |俊毅 高橋    |俊毅 高橋    |2                   |\n|3091265663|Ping Lu      |Ping Lu      |2                   |\n|2398837232|智宏 山倉    |智宏 山倉    |2                   |\n|586975897 |清志 川村    |清志 川村    |2                   |\n|617356572 |俊男 山名    |俊男 山名    |2                   |\n|2548625455|Jun Hu       |Jun Hu       |2                   |\n|2900019138|Yunfeng Ge   |Yunfeng Ge   |2                   |\n|2414005015|Simonov Pv   |PV Simonov   |2                   |\n|608892426 |幸嗣 武川    |幸嗣 武川    |2                   |\n|2574501932|亙 小沢      |亙 小沢      |2                   |\n|2187074594|Xiameng Xu   |Xiameng Xu   |2                   |\n|1580128959|泉 山口      |泉 山口      |2                   |\n|2765904729|紘司 市川    |紘司 市川    |2                   |\n|2346752951|誠吾 佐藤    |誠吾 佐藤    |2                   |\n|11516439  |努 田川      |努 田川      |2                   |\n|2503913353|佳菜子 内田  |佳菜子 内田  |2                   |\n|592060189 |玉堂 川合    |玉堂 川合    |2                   |\n|2564566551|Xuming He    |Xuming He    |2                   |\n|2785903318|Ran Li       |Ran Li       |2                   |\n|596857085 |慶徳 平井    |慶徳 平井    |2                   |\n|433858459 |良平 田崎    |良平 田崎    |2                   |\n|360034949 |達生 鳥居    |達生 鳥居    |2                   |\n|75320826  |Kempf Hg     |HG Kempf     |2                   |\n|2413081325|Chaturvedi Vk|VK Chaturvedi|2                   |\n|2275081203|Ogola Pe     |Ogola Pe     |2                   |\n|2463966808|Qiang Wu     |Qiang Wu     |2                   |\n|4239939555|Bohai Ji     |Bohai Ji     |2                   |\n|3175686446|昭美 青木    |昭美 青木    |2                   |\n|618169127 |秀之 高津    |秀之 高津    |2                   |\n|120594693 |清一 鷲田    |清一 鷲田    |2                   |\n|589879033 |隆 栗原      |隆 栗原      |2                   |\n|2159929259|Sen Hu       |Sen Hu       |2                   |\n|4210580258|Ing-Song Yu  |Ing-Song Yu  |2                   |\n|3107855858|Lin Yu       |Lin Yu       |2                   |\n|4229587438|Suxia Li     |Suxia Li     |2                   |\n|1430482963|中山 耕造    |中山 耕造    |2                   |\n|426550260 |賢次 三枝    |賢次 三枝    |2                   |\n|2512465038|宮本 清茂    |宮本 清茂    |2                   |\n+----------+-------------+-------------+--------------------+\nonly showing top 100 rows\n\n</div>",
       "datasetInfos": [],
       "metadata": {},
       "removedWidgets": [],
       "type": "html"
      }
     },
     "output_type": "display_data"
    }
   ],
   "source": [
    "raw_input_data.sample(0.00001).select('uid','author') \\\n",
    ".withColumn('author_split', check_author_name_udf(F.col('author'))) \\\n",
    ".withColumn('author_last_name_len', last_name_check_udf(F.col('author'))) \\\n",
    ".filter(F.col('author_last_name_len')==2) \\\n",
    ".show(100, truncate=False)"
   ]
  },
  {
   "cell_type": "code",
   "execution_count": 0,
   "metadata": {
    "application/vnd.databricks.v1+cell": {
     "cellMetadata": {},
     "inputWidgets": {},
     "nuid": "c9ad4b32-3647-48cf-b8fd-ca95821fb2f4",
     "showTitle": false,
     "title": ""
    }
   },
   "outputs": [
    {
     "data": {
      "text/html": [
       "<style scoped>\n",
       "  .ansiout {\n",
       "    display: block;\n",
       "    unicode-bidi: embed;\n",
       "    white-space: pre-wrap;\n",
       "    word-wrap: break-word;\n",
       "    word-break: break-all;\n",
       "    font-family: \"Source Code Pro\", \"Menlo\", monospace;;\n",
       "    font-size: 13px;\n",
       "    color: #555;\n",
       "    margin-left: 4px;\n",
       "    line-height: 19px;\n",
       "  }\n",
       "</style>\n",
       "<div class=\"ansiout\">+----------+------------------------------------------+--------+------------------------------------------------------+-------------+---------------+---------------+-----------+------+------------------------------------------------+----------+\n",
       "uid       |title                                     |pub_year|journal                                               |mag_author_id|author         |paper_author_id|affiliation|seq_no|coauthors                                       |references|\n",
       "+----------+------------------------------------------+--------+------------------------------------------------------+-------------+---------------+---------------+-----------+------+------------------------------------------------+----------+\n",
       "4200068434|Shareholders Lock-Up in Close Corporations|2021    |Vestnik èkonomičeskogo pravosudiâ Rossijskoj Federacii|4201926957   |D.S. Pavlova   |4200068434_3   |           |3     |D.S. Pavlova::::O.A. Ryabtsev::::Yu.Yu. Zakaznov|null      |\n",
       "4200068434|Shareholders Lock-Up in Close Corporations|2021    |Vestnik èkonomičeskogo pravosudiâ Rossijskoj Federacii|4200932120   |Yu.Yu. Zakaznov|4200068434_1   |           |1     |D.S. Pavlova::::O.A. Ryabtsev::::Yu.Yu. Zakaznov|null      |\n",
       "4200068434|Shareholders Lock-Up in Close Corporations|2021    |Vestnik èkonomičeskogo pravosudiâ Rossijskoj Federacii|4201926958   |O.A. Ryabtsev  |4200068434_4   |           |4     |D.S. Pavlova::::O.A. Ryabtsev::::Yu.Yu. Zakaznov|null      |\n",
       "+----------+------------------------------------------+--------+------------------------------------------------------+-------------+---------------+---------------+-----------+------+------------------------------------------------+----------+\n",
       "\n",
       "</div>"
      ]
     },
     "metadata": {
      "application/vnd.databricks.v1+output": {
       "addedWidgets": {},
       "arguments": {},
       "data": "<div class=\"ansiout\">+----------+------------------------------------------+--------+------------------------------------------------------+-------------+---------------+---------------+-----------+------+------------------------------------------------+----------+\n|uid       |title                                     |pub_year|journal                                               |mag_author_id|author         |paper_author_id|affiliation|seq_no|coauthors                                       |references|\n+----------+------------------------------------------+--------+------------------------------------------------------+-------------+---------------+---------------+-----------+------+------------------------------------------------+----------+\n|4200068434|Shareholders Lock-Up in Close Corporations|2021    |Vestnik èkonomičeskogo pravosudiâ Rossijskoj Federacii|4201926957   |D.S. Pavlova   |4200068434_3   |           |3     |D.S. Pavlova::::O.A. Ryabtsev::::Yu.Yu. Zakaznov|null      |\n|4200068434|Shareholders Lock-Up in Close Corporations|2021    |Vestnik èkonomičeskogo pravosudiâ Rossijskoj Federacii|4200932120   |Yu.Yu. Zakaznov|4200068434_1   |           |1     |D.S. Pavlova::::O.A. Ryabtsev::::Yu.Yu. Zakaznov|null      |\n|4200068434|Shareholders Lock-Up in Close Corporations|2021    |Vestnik èkonomičeskogo pravosudiâ Rossijskoj Federacii|4201926958   |O.A. Ryabtsev  |4200068434_4   |           |4     |D.S. Pavlova::::O.A. Ryabtsev::::Yu.Yu. Zakaznov|null      |\n+----------+------------------------------------------+--------+------------------------------------------------------+-------------+---------------+---------------+-----------+------+------------------------------------------------+----------+\n\n</div>",
       "datasetInfos": [],
       "metadata": {},
       "removedWidgets": [],
       "type": "html"
      }
     },
     "output_type": "display_data"
    }
   ],
   "source": [
    "raw_input_data.filter(F.col('uid')==4200068434).show(truncate=False)"
   ]
  },
  {
   "cell_type": "code",
   "execution_count": 0,
   "metadata": {
    "application/vnd.databricks.v1+cell": {
     "cellMetadata": {},
     "inputWidgets": {},
     "nuid": "1de3bc71-27f2-43c7-b3b1-1d0a1a666b4e",
     "showTitle": false,
     "title": ""
    }
   },
   "outputs": [
    {
     "data": {
      "text/html": [
       "<style scoped>\n",
       "  .ansiout {\n",
       "    display: block;\n",
       "    unicode-bidi: embed;\n",
       "    white-space: pre-wrap;\n",
       "    word-wrap: break-word;\n",
       "    word-break: break-all;\n",
       "    font-family: \"Source Code Pro\", \"Menlo\", monospace;;\n",
       "    font-size: 13px;\n",
       "    color: #555;\n",
       "    margin-left: 4px;\n",
       "    line-height: 19px;\n",
       "  }\n",
       "</style>\n",
       "<div class=\"ansiout\">root\n",
       "-- uid: long (nullable = true)\n",
       "-- title: string (nullable = true)\n",
       "-- pub_year: integer (nullable = true)\n",
       "-- journal: string (nullable = true)\n",
       "-- mag_author_id: long (nullable = true)\n",
       "-- author: string (nullable = true)\n",
       "-- paper_author_id: string (nullable = true)\n",
       "-- affiliation: string (nullable = true)\n",
       "-- seq_no: integer (nullable = true)\n",
       "-- coauthors: string (nullable = true)\n",
       "-- references: string (nullable = true)\n",
       "\n",
       "</div>"
      ]
     },
     "metadata": {
      "application/vnd.databricks.v1+output": {
       "addedWidgets": {},
       "arguments": {},
       "data": "<div class=\"ansiout\">root\n |-- uid: long (nullable = true)\n |-- title: string (nullable = true)\n |-- pub_year: integer (nullable = true)\n |-- journal: string (nullable = true)\n |-- mag_author_id: long (nullable = true)\n |-- author: string (nullable = true)\n |-- paper_author_id: string (nullable = true)\n |-- affiliation: string (nullable = true)\n |-- seq_no: integer (nullable = true)\n |-- coauthors: string (nullable = true)\n |-- references: string (nullable = true)\n\n</div>",
       "datasetInfos": [],
       "metadata": {},
       "removedWidgets": [],
       "type": "html"
      }
     },
     "output_type": "display_data"
    }
   ],
   "source": [
    "raw_input_data.printSchema()"
   ]
  },
  {
   "cell_type": "code",
   "execution_count": 0,
   "metadata": {
    "application/vnd.databricks.v1+cell": {
     "cellMetadata": {},
     "inputWidgets": {},
     "nuid": "0c091831-ac58-481d-a6a9-1103f0bde09b",
     "showTitle": false,
     "title": ""
    }
   },
   "outputs": [
    {
     "data": {
      "text/html": [
       "<style scoped>\n",
       "  .ansiout {\n",
       "    display: block;\n",
       "    unicode-bidi: embed;\n",
       "    white-space: pre-wrap;\n",
       "    word-wrap: break-word;\n",
       "    word-break: break-all;\n",
       "    font-family: \"Source Code Pro\", \"Menlo\", monospace;;\n",
       "    font-size: 13px;\n",
       "    color: #555;\n",
       "    margin-left: 4px;\n",
       "    line-height: 19px;\n",
       "  }\n",
       "</style>\n",
       "<div class=\"ansiout\"></div>"
      ]
     },
     "metadata": {
      "application/vnd.databricks.v1+output": {
       "addedWidgets": {},
       "arguments": {},
       "data": "<div class=\"ansiout\"></div>",
       "datasetInfos": [],
       "metadata": {},
       "removedWidgets": [],
       "type": "html"
      }
     },
     "output_type": "display_data"
    }
   ],
   "source": [
    "def turn_string_into_list(col_string):\n",
    "    if isinstance(col_string, str):\n",
    "        return col_string.split(\"::::\")\n",
    "    else:\n",
    "        return []\n",
    "    \n",
    "def add_W_to_works_and_authors(work_author):\n",
    "    if isinstance(work_author, str):\n",
    "        return f\"W{work_author}\"\n",
    "    else:\n",
    "        return f\"W{str(work_author)}\"\n",
    "      \n",
    "def add_W_to_references(references):\n",
    "    return [f\"W{str(x)}\" for x in references]\n",
    "      \n",
    "def check_author_name(author):\n",
    "    author_names = author.strip().split(\" \")\n",
    "    author_names = [x for x in author_names if x != \" \"]\n",
    "    \n",
    "    if len(author_names) == 1:\n",
    "        pass\n",
    "    elif len(author_names) == 2:\n",
    "        if len(author_names[1]) == 1:\n",
    "            if author_names[0][-1]==\",\":\n",
    "                author_names = [author_names[1].upper()] + [author_names[0][:-1]]\n",
    "            else:\n",
    "                author_names = [author_names[1].upper()] + [author_names[0]]\n",
    "        elif len(author_names[1])==2:\n",
    "            if author_names[1][1] in [\".\",\",\",\";\",\":\"]:\n",
    "                if author_names[0][-1]==\",\":\n",
    "                    author_names = [author_names[1].upper()] + [author_names[0][:-1]]\n",
    "                else:\n",
    "                    author_names = [author_names[1].upper()] + [author_names[0]]\n",
    "            elif ((author_names[1].lower()[0] not in [\"a\",\"e\",\"i\",\"o\",\"u\"]) and \n",
    "                  (author_names[1].lower()[1] not in [\"a\",\"e\",\"i\",\"o\",\"u\"]) and \n",
    "                  (re.match(r'[a-zA-Z]{2}', author_names[1])) and \n",
    "                  (author_names[1].lower() not in ['ng','ty'])):\n",
    "                author_names = [author_names[1].upper()] + [author_names[0]]\n",
    "        elif len(author_names[1]) >=3:\n",
    "            if author_names[0][-1] == \",\":\n",
    "                author_names = [author_names[1]] + [author_names[0][:-1]]\n",
    "        else:\n",
    "            pass\n",
    "    elif len(author_names) == 3:\n",
    "        pass\n",
    "    elif len(author_names) >= 4:\n",
    "        if (\"(\" in author_names) and (\")\" in author_names):\n",
    "            temp_names = author_names[author_names.index(\"(\")+1:author_names.index(\")\")]\n",
    "            if len(temp_names) > 1:\n",
    "                author_names = temp_names\n",
    "            else:\n",
    "                author_names = author_names[:author_names.index(\"(\")]\n",
    "    else:\n",
    "        pass\n",
    "    \n",
    "    return \" \".join(author_names)\n",
    "\n",
    "def last_name_check(author_name):\n",
    "    author_last_name_len = 0\n",
    "    names = author_name.split(\" \")\n",
    "    if len(names) == 2:\n",
    "        author_last_name_len = len(names[1])\n",
    "        \n",
    "    return author_last_name_len\n",
    "\n",
    "def transform_coauthors(coauthors):\n",
    "    if isinstance(coauthors, list):\n",
    "        final_coauthors = []\n",
    "        for coauthor in coauthors:\n",
    "            final_coauthors.append(check_author_name(coauthor))\n",
    "    else:\n",
    "        final_coauthors = []\n",
    "    return final_coauthors\n",
    "  \n",
    "def remove_current_author(author, coauthors):\n",
    "    return [x for x in coauthors if x!=author]\n",
    "\n",
    "def get_block_name_id(name):\n",
    "    person = HumanName(name)\n",
    "    last_name = person.last\n",
    "    first_name = person.first\n",
    "    if (len(first_name) < 1) & (len(last_name) < 1):\n",
    "        return name.lower()\n",
    "    elif len(first_name) < 1:\n",
    "        return last_name\n",
    "    elif len(last_name) < 1:\n",
    "        return name.lower()\n",
    "    else:\n",
    "        initials = \"%s_%s\" % (first_name[0], last_name)\n",
    "        return initials.lower()\n",
    "            \n",
    "\n",
    "turn_string_into_list_udf = F.udf(turn_string_into_list, ArrayType(StringType()))\n",
    "add_W_to_works_and_authors_udf = F.udf(add_W_to_works_and_authors, StringType())\n",
    "check_author_name_udf = F.udf(check_author_name, StringType())\n",
    "transform_coauthors_udf = F.udf(transform_coauthors,  ArrayType(StringType()))\n",
    "last_name_check_udf = F.udf(last_name_check, IntegerType())\n",
    "remove_current_author_udf = F.udf(remove_current_author,  ArrayType(StringType()))\n",
    "get_block_name_id_udf = F.udf(get_block_name_id, StringType())\n",
    "add_W_to_references_udf = F.udf(add_W_to_references, ArrayType(StringType()))"
   ]
  },
  {
   "cell_type": "code",
   "execution_count": 0,
   "metadata": {
    "application/vnd.databricks.v1+cell": {
     "cellMetadata": {},
     "inputWidgets": {},
     "nuid": "a3d42d6e-f95e-4c4b-b5b9-6c9f97c6ab29",
     "showTitle": false,
     "title": ""
    }
   },
   "outputs": [
    {
     "data": {
      "text/html": [
       "<style scoped>\n",
       "  .ansiout {\n",
       "    display: block;\n",
       "    unicode-bidi: embed;\n",
       "    white-space: pre-wrap;\n",
       "    word-wrap: break-word;\n",
       "    word-break: break-all;\n",
       "    font-family: \"Source Code Pro\", \"Menlo\", monospace;;\n",
       "    font-size: 13px;\n",
       "    color: #555;\n",
       "    margin-left: 4px;\n",
       "    line-height: 19px;\n",
       "  }\n",
       "</style>\n",
       "<div class=\"ansiout\"></div>"
      ]
     },
     "metadata": {
      "application/vnd.databricks.v1+output": {
       "addedWidgets": {},
       "arguments": {},
       "data": "<div class=\"ansiout\"></div>",
       "datasetInfos": [],
       "metadata": {},
       "removedWidgets": [],
       "type": "html"
      }
     },
     "output_type": "display_data"
    }
   ],
   "source": [
    "test_df = raw_input_data \\\n",
    ".withColumn(\"affiliation\", turn_string_into_list_udf(F.col('affiliation'))) \\\n",
    ".withColumn(\"coauthors\", turn_string_into_list_udf(F.col('coauthors'))) \\\n",
    ".withColumn(\"references\", turn_string_into_list_udf(F.col('references'))) \\\n",
    ".withColumn(\"UID\", add_W_to_works_and_authors_udf(F.col('uid'))) \\\n",
    ".withColumn(\"paper_author_id\", add_W_to_works_and_authors_udf(F.col('paper_author_id'))) \\\n",
    ".withColumn(\"author\", check_author_name_udf(F.col('author'))) \\\n",
    ".withColumn(\"coauthors\", transform_coauthors_udf(F.col('coauthors'))) \\\n",
    ".withColumn(\"block_id\", get_block_name_id_udf('author'))"
   ]
  },
  {
   "cell_type": "code",
   "execution_count": 0,
   "metadata": {
    "application/vnd.databricks.v1+cell": {
     "cellMetadata": {},
     "inputWidgets": {},
     "nuid": "239ae64d-f76b-4953-961d-ae3511eaaae3",
     "showTitle": false,
     "title": ""
    }
   },
   "outputs": [
    {
     "data": {
      "text/html": [
       "<style scoped>\n",
       "  .ansiout {\n",
       "    display: block;\n",
       "    unicode-bidi: embed;\n",
       "    white-space: pre-wrap;\n",
       "    word-wrap: break-word;\n",
       "    word-break: break-all;\n",
       "    font-family: \"Source Code Pro\", \"Menlo\", monospace;;\n",
       "    font-size: 13px;\n",
       "    color: #555;\n",
       "    margin-left: 4px;\n",
       "    line-height: 19px;\n",
       "  }\n",
       "</style>\n",
       "<div class=\"ansiout\"></div>"
      ]
     },
     "metadata": {
      "application/vnd.databricks.v1+output": {
       "addedWidgets": {},
       "arguments": {},
       "data": "<div class=\"ansiout\"></div>",
       "datasetInfos": [],
       "metadata": {},
       "removedWidgets": [],
       "type": "html"
      }
     },
     "output_type": "display_data"
    }
   ],
   "source": [
    "raw_input_data \\\n",
    ".withColumn(\"affiliation\", turn_string_into_list_udf(F.col('affiliation'))) \\\n",
    ".withColumn(\"coauthors\", turn_string_into_list_udf(F.col('coauthors'))) \\\n",
    ".withColumn(\"references\", turn_string_into_list_udf(F.col('references'))) \\\n",
    ".withColumn(\"references\", add_W_to_references_udf(F.col('references'))) \\\n",
    ".withColumn(\"UID\", add_W_to_works_and_authors_udf(F.col('uid'))) \\\n",
    ".withColumn(\"paper_author_id\", add_W_to_works_and_authors_udf(F.col('paper_author_id'))) \\\n",
    ".withColumn(\"author\", check_author_name_udf(F.col('author'))) \\\n",
    ".withColumn(\"coauthors\", transform_coauthors_udf(F.col('coauthors'))) \\\n",
    ".withColumn(\"coauthors\", remove_current_author_udf(F.col('author'), F.col('coauthors'))) \\\n",
    ".withColumn(\"block_id\", get_block_name_id_udf('author')) \\\n",
    ".write.mode('overwrite').parquet(f\"{iteration_save_path}all_data_blocked\")"
   ]
  },
  {
   "cell_type": "code",
   "execution_count": 0,
   "metadata": {
    "application/vnd.databricks.v1+cell": {
     "cellMetadata": {},
     "inputWidgets": {},
     "nuid": "ff7056d5-22bb-4736-9c06-1b234b5236c2",
     "showTitle": false,
     "title": ""
    }
   },
   "outputs": [],
   "source": []
  },
  {
   "cell_type": "markdown",
   "metadata": {
    "application/vnd.databricks.v1+cell": {
     "cellMetadata": {},
     "inputWidgets": {},
     "nuid": "44363d1c-2ded-40e6-b505-43b3bae5169e",
     "showTitle": false,
     "title": ""
    }
   },
   "source": [
    "#### Getting block IDs into correct file buckets"
   ]
  },
  {
   "cell_type": "code",
   "execution_count": 0,
   "metadata": {
    "application/vnd.databricks.v1+cell": {
     "cellMetadata": {},
     "inputWidgets": {},
     "nuid": "ea207c54-6676-42d2-96cc-c768e310500a",
     "showTitle": false,
     "title": ""
    }
   },
   "outputs": [],
   "source": [
    "import random"
   ]
  },
  {
   "cell_type": "code",
   "execution_count": 0,
   "metadata": {
    "application/vnd.databricks.v1+cell": {
     "cellMetadata": {},
     "inputWidgets": {},
     "nuid": "492e6aa2-5bde-41f0-876c-ecba995c349d",
     "showTitle": false,
     "title": ""
    }
   },
   "outputs": [],
   "source": [
    "author_block_ids = spark.read.parquet(f\"{iteration_save_path}all_data_blocked\").select('block_id').distinct()"
   ]
  },
  {
   "cell_type": "code",
   "execution_count": 0,
   "metadata": {
    "application/vnd.databricks.v1+cell": {
     "cellMetadata": {},
     "inputWidgets": {},
     "nuid": "55c1319e-24ef-43f4-a24e-5568853ce70e",
     "showTitle": false,
     "title": ""
    }
   },
   "outputs": [
    {
     "data": {
      "text/html": [
       "<style scoped>\n",
       "  .ansiout {\n",
       "    display: block;\n",
       "    unicode-bidi: embed;\n",
       "    white-space: pre-wrap;\n",
       "    word-wrap: break-word;\n",
       "    word-break: break-all;\n",
       "    font-family: \"Source Code Pro\", \"Menlo\", monospace;;\n",
       "    font-size: 13px;\n",
       "    color: #555;\n",
       "    margin-left: 4px;\n",
       "    line-height: 19px;\n",
       "  }\n",
       "</style>\n",
       "<div class=\"ansiout\">Out[13]: 25955385</div>"
      ]
     },
     "metadata": {
      "application/vnd.databricks.v1+output": {
       "addedWidgets": {},
       "arguments": {},
       "data": "<div class=\"ansiout\">Out[13]: 25955385</div>",
       "datasetInfos": [],
       "metadata": {},
       "removedWidgets": [],
       "type": "html"
      }
     },
     "output_type": "display_data"
    }
   ],
   "source": [
    "author_block_ids.cache().count()"
   ]
  },
  {
   "cell_type": "code",
   "execution_count": 0,
   "metadata": {
    "application/vnd.databricks.v1+cell": {
     "cellMetadata": {},
     "inputWidgets": {},
     "nuid": "b746c1b0-2c33-49ef-9383-37a4af697cf2",
     "showTitle": false,
     "title": ""
    }
   },
   "outputs": [
    {
     "data": {
      "text/html": [
       "<style scoped>\n",
       "  .ansiout {\n",
       "    display: block;\n",
       "    unicode-bidi: embed;\n",
       "    white-space: pre-wrap;\n",
       "    word-wrap: break-word;\n",
       "    word-break: break-all;\n",
       "    font-family: \"Source Code Pro\", \"Menlo\", monospace;;\n",
       "    font-size: 13px;\n",
       "    color: #555;\n",
       "    margin-left: 4px;\n",
       "    line-height: 19px;\n",
       "  }\n",
       "</style>\n",
       "<div class=\"ansiout\"></div>"
      ]
     },
     "metadata": {
      "application/vnd.databricks.v1+output": {
       "addedWidgets": {},
       "arguments": {},
       "data": "<div class=\"ansiout\"></div>",
       "datasetInfos": [],
       "metadata": {},
       "removedWidgets": [],
       "type": "html"
      }
     },
     "output_type": "display_data"
    }
   ],
   "source": [
    "def get_random_int(block_id):\n",
    "    return random.randint(0,500)\n",
    "\n",
    "get_random_int_udf = F.udf(get_random_int, IntegerType())"
   ]
  },
  {
   "cell_type": "code",
   "execution_count": 0,
   "metadata": {
    "application/vnd.databricks.v1+cell": {
     "cellMetadata": {},
     "inputWidgets": {},
     "nuid": "480b7361-7b0e-4edf-96ce-8d2cc6d44cc2",
     "showTitle": false,
     "title": ""
    }
   },
   "outputs": [
    {
     "data": {
      "text/html": [
       "<style scoped>\n",
       "  .ansiout {\n",
       "    display: block;\n",
       "    unicode-bidi: embed;\n",
       "    white-space: pre-wrap;\n",
       "    word-wrap: break-word;\n",
       "    word-break: break-all;\n",
       "    font-family: \"Source Code Pro\", \"Menlo\", monospace;;\n",
       "    font-size: 13px;\n",
       "    color: #555;\n",
       "    margin-left: 4px;\n",
       "    line-height: 19px;\n",
       "  }\n",
       "</style>\n",
       "<div class=\"ansiout\"></div>"
      ]
     },
     "metadata": {
      "application/vnd.databricks.v1+output": {
       "addedWidgets": {},
       "arguments": {},
       "data": "<div class=\"ansiout\"></div>",
       "datasetInfos": [],
       "metadata": {},
       "removedWidgets": [],
       "type": "html"
      }
     },
     "output_type": "display_data"
    }
   ],
   "source": [
    "author_block_ids \\\n",
    ".withColumn(\"random_partition_number\", get_random_int_udf('block_id')) \\\n",
    ".write.mode('overwrite').parquet(f\"{iteration_save_path}data_block_partitions\")"
   ]
  },
  {
   "cell_type": "markdown",
   "metadata": {
    "application/vnd.databricks.v1+cell": {
     "cellMetadata": {},
     "inputWidgets": {},
     "nuid": "8026affd-9d70-4233-90bd-577a3e5138bc",
     "showTitle": false,
     "title": ""
    }
   },
   "source": [
    "#### Getting data partitioned"
   ]
  },
  {
   "cell_type": "code",
   "execution_count": 0,
   "metadata": {
    "application/vnd.databricks.v1+cell": {
     "cellMetadata": {},
     "inputWidgets": {},
     "nuid": "d5e3376c-7fdd-4a97-bc7e-ca4805cfd97c",
     "showTitle": false,
     "title": ""
    }
   },
   "outputs": [
    {
     "data": {
      "text/html": [
       "<style scoped>\n",
       "  .ansiout {\n",
       "    display: block;\n",
       "    unicode-bidi: embed;\n",
       "    white-space: pre-wrap;\n",
       "    word-wrap: break-word;\n",
       "    word-break: break-all;\n",
       "    font-family: \"Source Code Pro\", \"Menlo\", monospace;;\n",
       "    font-size: 13px;\n",
       "    color: #555;\n",
       "    margin-left: 4px;\n",
       "    line-height: 19px;\n",
       "  }\n",
       "</style>\n",
       "<div class=\"ansiout\"></div>"
      ]
     },
     "metadata": {
      "application/vnd.databricks.v1+output": {
       "addedWidgets": {},
       "arguments": {},
       "data": "<div class=\"ansiout\"></div>",
       "datasetInfos": [],
       "metadata": {},
       "removedWidgets": [],
       "type": "html"
      }
     },
     "output_type": "display_data"
    }
   ],
   "source": [
    "all_data = spark.read.parquet(f\"{iteration_save_path}all_data_blocked\")\n",
    "author_blocks = spark.read.parquet(f\"{iteration_save_path}data_block_partitions\")"
   ]
  },
  {
   "cell_type": "code",
   "execution_count": 0,
   "metadata": {
    "application/vnd.databricks.v1+cell": {
     "cellMetadata": {},
     "inputWidgets": {},
     "nuid": "11fca982-c18d-4567-b3bc-2708ac1111f5",
     "showTitle": false,
     "title": ""
    }
   },
   "outputs": [
    {
     "data": {
      "text/html": [
       "<style scoped>\n",
       "  .ansiout {\n",
       "    display: block;\n",
       "    unicode-bidi: embed;\n",
       "    white-space: pre-wrap;\n",
       "    word-wrap: break-word;\n",
       "    word-break: break-all;\n",
       "    font-family: \"Source Code Pro\", \"Menlo\", monospace;;\n",
       "    font-size: 13px;\n",
       "    color: #555;\n",
       "    margin-left: 4px;\n",
       "    line-height: 19px;\n",
       "  }\n",
       "</style>\n",
       "<div class=\"ansiout\">Out[10]: 604870974</div>"
      ]
     },
     "metadata": {
      "application/vnd.databricks.v1+output": {
       "addedWidgets": {},
       "arguments": {},
       "data": "<div class=\"ansiout\">Out[10]: 604870974</div>",
       "datasetInfos": [],
       "metadata": {},
       "removedWidgets": [],
       "type": "html"
      }
     },
     "output_type": "display_data"
    }
   ],
   "source": [
    "partition_data = all_data.join(author_blocks, on='block_id')\n",
    "partition_data.cache().count()"
   ]
  },
  {
   "cell_type": "code",
   "execution_count": 0,
   "metadata": {
    "application/vnd.databricks.v1+cell": {
     "cellMetadata": {},
     "inputWidgets": {},
     "nuid": "073b6088-8927-4bbe-a91b-f4e3763f3ecb",
     "showTitle": false,
     "title": ""
    }
   },
   "outputs": [
    {
     "data": {
      "text/html": [
       "<style scoped>\n",
       "  .ansiout {\n",
       "    display: block;\n",
       "    unicode-bidi: embed;\n",
       "    white-space: pre-wrap;\n",
       "    word-wrap: break-word;\n",
       "    word-break: break-all;\n",
       "    font-family: \"Source Code Pro\", \"Menlo\", monospace;;\n",
       "    font-size: 13px;\n",
       "    color: #555;\n",
       "    margin-left: 4px;\n",
       "    line-height: 19px;\n",
       "  }\n",
       "</style>\n",
       "<div class=\"ansiout\"></div>"
      ]
     },
     "metadata": {
      "application/vnd.databricks.v1+output": {
       "addedWidgets": {},
       "arguments": {},
       "data": "<div class=\"ansiout\"></div>",
       "datasetInfos": [],
       "metadata": {},
       "removedWidgets": [],
       "type": "html"
      }
     },
     "output_type": "display_data"
    }
   ],
   "source": [
    "partition_data \\\n",
    "    .repartition(1) \\\n",
    "    .write \\\n",
    "    .partitionBy(\"random_partition_number\") \\\n",
    "    .mode(\"overwrite\") \\\n",
    "    .json(f\"{iteration_save_path}all_data_blocked_and_partitioned\")"
   ]
  },
  {
   "cell_type": "markdown",
   "metadata": {
    "application/vnd.databricks.v1+cell": {
     "cellMetadata": {},
     "inputWidgets": {},
     "nuid": "81404950-f82a-4bc9-bc61-d73c6df7178e",
     "showTitle": false,
     "title": ""
    }
   },
   "source": [
    "### Saving Affliation to orcid mapping"
   ]
  },
  {
   "cell_type": "code",
   "execution_count": 0,
   "metadata": {
    "application/vnd.databricks.v1+cell": {
     "cellMetadata": {},
     "inputWidgets": {},
     "nuid": "ccec5f50-0423-44d5-bcb2-4b029b6c695b",
     "showTitle": false,
     "title": ""
    }
   },
   "outputs": [
    {
     "name": "stdout",
     "output_type": "stream",
     "text": [
      "+----------+----------+--------------------+----------------------+--------------------+-------------------+\n",
      "|  paper_id| author_id|     original_author|author_sequence_number|original_affiliation|     original_orcid|\n",
      "+----------+----------+--------------------+----------------------+--------------------+-------------------+\n",
      "|2909119052|2038892679|   Karen H. Rosenlof|                     4|                    |0000-0002-0903-8270|\n",
      "|2909119052|2165641823|       Amy H. Butler|                     1|                    |0000-0002-3632-0925|\n",
      "|2909119052|2342711310| Jeremiah P. Sjoberg|                     2|                    |0000-0002-7606-0566|\n",
      "|2910448828| 672377543|Eric M. Leibenspe...|                    12|                    |0000-0002-1906-2688|\n",
      "|2910448828|2010820540|    William H. Brune|                     4|                    |0000-0002-1609-4051|\n",
      "+----------+----------+--------------------+----------------------+--------------------+-------------------+\n",
      "only showing top 5 rows\n",
      "\n"
     ]
    }
   ],
   "source": [
    "affiliations.filter(F.col('original_orcid')!='').show(5)"
   ]
  },
  {
   "cell_type": "code",
   "execution_count": 0,
   "metadata": {
    "application/vnd.databricks.v1+cell": {
     "cellMetadata": {},
     "inputWidgets": {},
     "nuid": "1705b649-2f35-4c96-9f6e-243d3b2da813",
     "showTitle": false,
     "title": ""
    }
   },
   "outputs": [],
   "source": [
    "affiliations.filter(F.col('original_orcid')!='') \\\n",
    ".select('paper_id','author_id','author_sequence_number','original_orcid') \\\n",
    ".coalesce(1).write.mode('overwrite').parquet(f\"{iteration_save_path}paperid_authorid_orcid_mapping\")"
   ]
  },
  {
   "cell_type": "code",
   "execution_count": 0,
   "metadata": {
    "application/vnd.databricks.v1+cell": {
     "cellMetadata": {},
     "inputWidgets": {},
     "nuid": "9c2b2dde-3001-4ff1-bba6-fd9a2334c795",
     "showTitle": false,
     "title": ""
    }
   },
   "outputs": [],
   "source": []
  },
  {
   "cell_type": "code",
   "execution_count": 0,
   "metadata": {
    "application/vnd.databricks.v1+cell": {
     "cellMetadata": {},
     "inputWidgets": {},
     "nuid": "534364a2-a7c9-4250-8f2a-503c12e2924f",
     "showTitle": false,
     "title": ""
    }
   },
   "outputs": [],
   "source": []
  },
  {
   "cell_type": "code",
   "execution_count": 0,
   "metadata": {
    "application/vnd.databricks.v1+cell": {
     "cellMetadata": {},
     "inputWidgets": {},
     "nuid": "b52c4ad6-af37-4591-99d8-5cb309823375",
     "showTitle": false,
     "title": ""
    }
   },
   "outputs": [],
   "source": []
  },
  {
   "cell_type": "code",
   "execution_count": 0,
   "metadata": {
    "application/vnd.databricks.v1+cell": {
     "cellMetadata": {},
     "inputWidgets": {},
     "nuid": "5d17b273-d6a0-49b3-9092-8b154ce34321",
     "showTitle": false,
     "title": ""
    }
   },
   "outputs": [],
   "source": []
  },
  {
   "cell_type": "code",
   "execution_count": 0,
   "metadata": {
    "application/vnd.databricks.v1+cell": {
     "cellMetadata": {},
     "inputWidgets": {},
     "nuid": "70bdd582-ad90-4476-a904-a890f3715a58",
     "showTitle": false,
     "title": ""
    }
   },
   "outputs": [],
   "source": []
  },
  {
   "cell_type": "code",
   "execution_count": 0,
   "metadata": {
    "application/vnd.databricks.v1+cell": {
     "cellMetadata": {},
     "inputWidgets": {},
     "nuid": "02cf4045-e16f-4aab-ba8e-e6f6d9020b31",
     "showTitle": false,
     "title": ""
    }
   },
   "outputs": [],
   "source": []
  },
  {
   "cell_type": "markdown",
   "metadata": {
    "application/vnd.databricks.v1+cell": {
     "cellMetadata": {},
     "inputWidgets": {},
     "nuid": "ee0417e2-e057-4994-81ae-ae26c0f1e2f1",
     "showTitle": false,
     "title": ""
    }
   },
   "source": [
    "### Data for Whitepaper"
   ]
  },
  {
   "cell_type": "code",
   "execution_count": 0,
   "metadata": {
    "application/vnd.databricks.v1+cell": {
     "cellMetadata": {},
     "inputWidgets": {},
     "nuid": "2b25ff22-f2ec-4834-a715-c9150b220969",
     "showTitle": false,
     "title": ""
    }
   },
   "outputs": [],
   "source": [
    "W4299872130"
   ]
  },
  {
   "cell_type": "code",
   "execution_count": 0,
   "metadata": {
    "application/vnd.databricks.v1+cell": {
     "cellMetadata": {},
     "inputWidgets": {},
     "nuid": "5c4528c9-481a-42c5-86fe-6bb70d549d1b",
     "showTitle": false,
     "title": ""
    }
   },
   "outputs": [],
   "source": [
    "raw_input_data = spark.read.parquet(f\"{iteration_save_path}raw_author_disam_input_data\").filter(F.col('author')!='')"
   ]
  },
  {
   "cell_type": "code",
   "execution_count": 0,
   "metadata": {
    "application/vnd.databricks.v1+cell": {
     "cellMetadata": {},
     "inputWidgets": {},
     "nuid": "8fe354f4-7553-4f10-9bc1-057860841389",
     "showTitle": false,
     "title": ""
    }
   },
   "outputs": [
    {
     "name": "stdout",
     "output_type": "stream",
     "text": [
      "Out[5]: 604871070"
     ]
    }
   ],
   "source": [
    "raw_input_data.cache().count()"
   ]
  },
  {
   "cell_type": "code",
   "execution_count": 0,
   "metadata": {
    "application/vnd.databricks.v1+cell": {
     "cellMetadata": {},
     "inputWidgets": {},
     "nuid": "ced23fdd-a7a1-456d-ac58-f02e3aee863d",
     "showTitle": false,
     "title": ""
    }
   },
   "outputs": [
    {
     "name": "stdout",
     "output_type": "stream",
     "text": [
      "root\n",
      " |-- uid: long (nullable = true)\n",
      " |-- title: string (nullable = true)\n",
      " |-- pub_year: integer (nullable = true)\n",
      " |-- journal: string (nullable = true)\n",
      " |-- mag_author_id: long (nullable = true)\n",
      " |-- author: string (nullable = true)\n",
      " |-- paper_author_id: string (nullable = true)\n",
      " |-- affiliation: string (nullable = true)\n",
      " |-- seq_no: integer (nullable = true)\n",
      " |-- coauthors: string (nullable = true)\n",
      " |-- references: string (nullable = true)\n",
      "\n"
     ]
    }
   ],
   "source": [
    "raw_input_data.printSchema()"
   ]
  },
  {
   "cell_type": "code",
   "execution_count": 0,
   "metadata": {
    "application/vnd.databricks.v1+cell": {
     "cellMetadata": {},
     "inputWidgets": {},
     "nuid": "12d7bbd4-f11c-4441-9bff-27db2b439c56",
     "showTitle": false,
     "title": ""
    }
   },
   "outputs": [
    {
     "name": "stdout",
     "output_type": "stream",
     "text": [
      "+----------+--------------------+--------+-------+-------------+----------------+---------------+-----------+------+--------------------+----------+\n",
      "|       uid|               title|pub_year|journal|mag_author_id|          author|paper_author_id|affiliation|seq_no|           coauthors|references|\n",
      "+----------+--------------------+--------+-------+-------------+----------------+---------------+-----------+------+--------------------+----------+\n",
      "|2227647665|Foreward to Meani...|    2015|   null|   2208157607|     Priem Jason|   2227647665_3|           |     3|Priem Jason::::te...|      null|\n",
      "|2227647665|Foreward to Meani...|    2015|   null|   2215492700| Piwowar Heather|   2227647665_2|           |     2|Priem Jason::::te...|      null|\n",
      "|2227647665|Foreward to Meani...|    2015|   null|   2197711048|team Impactstory|   2227647665_1|           |     1|Priem Jason::::te...|      null|\n",
      "+----------+--------------------+--------+-------+-------------+----------------+---------------+-----------+------+--------------------+----------+\n",
      "\n"
     ]
    }
   ],
   "source": [
    "raw_input_data.filter(F.col('uid')==2227647665).show(25)"
   ]
  },
  {
   "cell_type": "code",
   "execution_count": 0,
   "metadata": {
    "application/vnd.databricks.v1+cell": {
     "cellMetadata": {},
     "inputWidgets": {},
     "nuid": "80e5883f-09b1-406a-96ab-c829af674947",
     "showTitle": false,
     "title": ""
    }
   },
   "outputs": [
    {
     "name": "stdout",
     "output_type": "stream",
     "text": [
      "Out[8]: 252973688"
     ]
    }
   ],
   "source": [
    "raw_input_data.groupby('mag_author_id').count().count()"
   ]
  },
  {
   "cell_type": "code",
   "execution_count": 0,
   "metadata": {
    "application/vnd.databricks.v1+cell": {
     "cellMetadata": {},
     "inputWidgets": {},
     "nuid": "fbb83157-59c6-4a60-894f-aa2b1d71f3a9",
     "showTitle": false,
     "title": ""
    }
   },
   "outputs": [
    {
     "name": "stdout",
     "output_type": "stream",
     "text": [
      "Out[7]: 604871070"
     ]
    }
   ],
   "source": [
    "all_data_blocked = spark.read.parquet(f\"{iteration_save_path}all_data_blocked\")\n",
    "all_data_blocked.cache().count()"
   ]
  },
  {
   "cell_type": "code",
   "execution_count": 0,
   "metadata": {
    "application/vnd.databricks.v1+cell": {
     "cellMetadata": {},
     "inputWidgets": {},
     "nuid": "ade32052-cd90-45d7-87c5-359f8420b9a3",
     "showTitle": false,
     "title": ""
    }
   },
   "outputs": [],
   "source": []
  },
  {
   "cell_type": "code",
   "execution_count": 0,
   "metadata": {
    "application/vnd.databricks.v1+cell": {
     "cellMetadata": {},
     "inputWidgets": {},
     "nuid": "d46bed73-aa48-4b78-ab99-884357eee486",
     "showTitle": false,
     "title": ""
    }
   },
   "outputs": [
    {
     "name": "stdout",
     "output_type": "stream",
     "text": [
      "+-----------+--------------------+--------+-------+-------------+-----------+---------------+-----------+------+--------------------+--------------------+--------+\n",
      "|        UID|               title|pub_year|journal|mag_author_id|     author|paper_author_id|affiliation|seq_no|           coauthors|          references|block_id|\n",
      "+-----------+--------------------+--------+-------+-------------+-----------+---------------+-----------+------+--------------------+--------------------+--------+\n",
      "|W2227647665|Foreward to Meani...|    2015|   null|   2208157607|Priem Jason|  W2227647665_3|         []|     3|[team Impactstory...|                  []| p_jason|\n",
      "|W2244341329|Toward a comprehe...|    2013|   null|   2208157607|Priem Jason|  W2244341329_2|         []|     2|[Piwowar Heather,...|[W2121727515, W25...| p_jason|\n",
      "|  W87230806|Prevalence and us...|    2012|   null|   2208157607|Priem Jason|    W87230806_1|         []|     1|[Costello Kaitlin...|                  []| p_jason|\n",
      "+-----------+--------------------+--------+-------+-------------+-----------+---------------+-----------+------+--------------------+--------------------+--------+\n",
      "\n"
     ]
    }
   ],
   "source": [
    "all_data_blocked.filter(F.col('block_id')=='p_jason').filter(F.col('author')=='Priem Jason').show(100)"
   ]
  },
  {
   "cell_type": "code",
   "execution_count": 0,
   "metadata": {
    "application/vnd.databricks.v1+cell": {
     "cellMetadata": {},
     "inputWidgets": {},
     "nuid": "dc855387-f485-4aaf-b79e-b386d19efaf7",
     "showTitle": false,
     "title": ""
    }
   },
   "outputs": [
    {
     "name": "stdout",
     "output_type": "stream",
     "text": [
      "Out[18]: 221765881"
     ]
    }
   ],
   "source": [
    "all_data_blocked.dropDuplicates(subset=['UID']).count()"
   ]
  },
  {
   "cell_type": "code",
   "execution_count": 0,
   "metadata": {
    "application/vnd.databricks.v1+cell": {
     "cellMetadata": {},
     "inputWidgets": {},
     "nuid": "b2503066-1472-4eac-9769-0a63b9ac44cd",
     "showTitle": false,
     "title": ""
    }
   },
   "outputs": [
    {
     "name": "stdout",
     "output_type": "stream",
     "text": [
      "Out[23]: 0.526363773695197"
     ]
    }
   ],
   "source": [
    "116729526/221765881"
   ]
  },
  {
   "cell_type": "code",
   "execution_count": 0,
   "metadata": {
    "application/vnd.databricks.v1+cell": {
     "cellMetadata": {},
     "inputWidgets": {},
     "nuid": "6367eb09-19ca-4d44-8fa6-4c8aeb985843",
     "showTitle": false,
     "title": ""
    }
   },
   "outputs": [
    {
     "name": "stdout",
     "output_type": "stream",
     "text": [
      "+-----+-------+--------+-------------+------+------+\n",
      "|title|journal|pub_year|mag_author_id|author|seq_no|\n",
      "+-----+-------+--------+-------------+------+------+\n",
      "|    1|      0|       0|            0|     0|     0|\n",
      "+-----+-------+--------+-------------+------+------+\n",
      "\n"
     ]
    }
   ],
   "source": [
    "all_data_blocked.dropDuplicates(subset=['UID']) \\\n",
    ".select('title','journal','pub_year','mag_author_id','author','seq_no') \\\n",
    ".select([F.count(F.when(F.isnan(c), c)).alias(c) for c in ['title','journal','pub_year','mag_author_id','author','seq_no']]).show()"
   ]
  },
  {
   "cell_type": "code",
   "execution_count": 0,
   "metadata": {
    "application/vnd.databricks.v1+cell": {
     "cellMetadata": {},
     "inputWidgets": {},
     "nuid": "6998bdac-d7da-4803-a709-98b76c33398d",
     "showTitle": false,
     "title": ""
    }
   },
   "outputs": [
    {
     "name": "stdout",
     "output_type": "stream",
     "text": [
      "+------------------+\n",
      "|sum(journal_check)|\n",
      "+------------------+\n",
      "|         116729526|\n",
      "+------------------+\n",
      "\n"
     ]
    }
   ],
   "source": [
    "all_data_blocked.dropDuplicates(subset=['UID']) \\\n",
    ".withColumn('journal_check', F.when(F.col('journal')!=\"\", 1).otherwise(0)) \\\n",
    ".select(F.sum(F.col('journal_check'))).show()"
   ]
  },
  {
   "cell_type": "code",
   "execution_count": 0,
   "metadata": {
    "application/vnd.databricks.v1+cell": {
     "cellMetadata": {},
     "inputWidgets": {},
     "nuid": "bdc7dabb-af5c-4ec1-a04f-5408b0a1a778",
     "showTitle": false,
     "title": ""
    }
   },
   "outputs": [
    {
     "name": "stdout",
     "output_type": "stream",
     "text": [
      "+---------------+-------------+--------------+\n",
      "|affiliation_len|coauthors_len|references_len|\n",
      "+---------------+-------------+--------------+\n",
      "|      604871070|    502486792|     253079634|\n",
      "+---------------+-------------+--------------+\n",
      "\n"
     ]
    }
   ],
   "source": [
    "all_data_blocked \\\n",
    ".withColumn(\"affiliation_len\", F.size(F.col('affiliation'))) \\\n",
    ".withColumn(\"coauthors_len\", F.size(F.col('coauthors'))) \\\n",
    ".withColumn(\"references_len\", F.size(F.col('references'))) \\\n",
    ".select([F.count(F.when(F.col(c)>0, 1)).alias(c) for c in ['affiliation_len','coauthors_len','references_len']]) \\\n",
    ".show()"
   ]
  },
  {
   "cell_type": "code",
   "execution_count": 0,
   "metadata": {
    "application/vnd.databricks.v1+cell": {
     "cellMetadata": {},
     "inputWidgets": {},
     "nuid": "e12715c3-70ca-41b5-b970-728a5a5efd51",
     "showTitle": false,
     "title": ""
    }
   },
   "outputs": [
    {
     "name": "stdout",
     "output_type": "stream",
     "text": [
      "+--------------+\n",
      "|sum(aff_check)|\n",
      "+--------------+\n",
      "|     320935815|\n",
      "+--------------+\n",
      "\n"
     ]
    }
   ],
   "source": [
    "all_data_blocked \\\n",
    ".withColumn(\"affiliation_first\", F.col('affiliation').getItem(0)) \\\n",
    ".withColumn('aff_check', F.when(F.col('affiliation_first')==\"\", 1).otherwise(0)) \\\n",
    ".select(F.sum(F.col('aff_check'))).show()"
   ]
  },
  {
   "cell_type": "code",
   "execution_count": 0,
   "metadata": {
    "application/vnd.databricks.v1+cell": {
     "cellMetadata": {},
     "inputWidgets": {},
     "nuid": "7cf08b8b-9335-4015-861d-cb9ad006ff6b",
     "showTitle": false,
     "title": ""
    }
   },
   "outputs": [
    {
     "name": "stdout",
     "output_type": "stream",
     "text": [
      "Out[29]: 0.5305854932027084"
     ]
    }
   ],
   "source": [
    "#missing\n",
    "320935815/604871070"
   ]
  },
  {
   "cell_type": "code",
   "execution_count": 0,
   "metadata": {
    "application/vnd.databricks.v1+cell": {
     "cellMetadata": {},
     "inputWidgets": {},
     "nuid": "ba9f01c1-ea2c-416f-a197-160361b33909",
     "showTitle": false,
     "title": ""
    }
   },
   "outputs": [
    {
     "name": "stdout",
     "output_type": "stream",
     "text": [
      "Out[24]: 0.8307337165257382"
     ]
    }
   ],
   "source": [
    "# complete\n",
    "502486792/604871070"
   ]
  },
  {
   "cell_type": "code",
   "execution_count": 0,
   "metadata": {
    "application/vnd.databricks.v1+cell": {
     "cellMetadata": {},
     "inputWidgets": {},
     "nuid": "5d8c8c84-cb5f-4c30-9c47-ccd6a7058ad7",
     "showTitle": false,
     "title": ""
    }
   },
   "outputs": [
    {
     "name": "stdout",
     "output_type": "stream",
     "text": [
      "Out[25]: 0.41840260933623424"
     ]
    }
   ],
   "source": [
    "# complete\n",
    "253079634/604871070"
   ]
  },
  {
   "cell_type": "code",
   "execution_count": 0,
   "metadata": {
    "application/vnd.databricks.v1+cell": {
     "cellMetadata": {},
     "inputWidgets": {},
     "nuid": "fb3d191a-8a3a-4acd-9a50-03e8a8d3531c",
     "showTitle": false,
     "title": ""
    }
   },
   "outputs": [],
   "source": []
  },
  {
   "cell_type": "code",
   "execution_count": 0,
   "metadata": {
    "application/vnd.databricks.v1+cell": {
     "cellMetadata": {},
     "inputWidgets": {},
     "nuid": "018fc102-04d2-42a4-aade-cb5926369555",
     "showTitle": false,
     "title": ""
    }
   },
   "outputs": [],
   "source": []
  }
 ],
 "metadata": {
  "application/vnd.databricks.v1+notebook": {
   "dashboards": [],
   "language": "python",
   "notebookMetadata": {
    "pythonIndentUnit": 4
   },
   "notebookName": "author_disambiguation_V1",
   "notebookOrigID": 3233912941001558,
   "widgets": {}
  },
  "kernelspec": {
   "display_name": "Python 3 (ipykernel)",
   "language": "python",
   "name": "python3"
  },
  "language_info": {
   "codemirror_mode": {
    "name": "ipython",
    "version": 3
   },
   "file_extension": ".py",
   "mimetype": "text/x-python",
   "name": "python",
   "nbconvert_exporter": "python",
   "pygments_lexer": "ipython3",
   "version": "3.8.12"
  }
 },
 "nbformat": 4,
 "nbformat_minor": 1
}
