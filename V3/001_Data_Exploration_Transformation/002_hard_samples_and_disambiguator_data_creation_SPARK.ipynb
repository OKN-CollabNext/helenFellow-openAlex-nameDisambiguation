{
 "cells": [
  {
   "cell_type": "code",
   "execution_count": 1,
   "metadata": {
    "application/vnd.databricks.v1+cell": {
     "cellMetadata": {
      "byteLimit": 2048000,
      "rowLimit": 10000
     },
     "inputWidgets": {},
     "nuid": "44920190-9120-4ae8-858f-14f52b073315",
     "showTitle": false,
     "title": ""
    },
    "scrolled": false
   },
   "outputs": [],
   "source": [
    "import pickle\n",
    "import boto3\n",
    "import re\n",
    "import json\n",
    "import random\n",
    "import pandas as pd\n",
    "import numpy as np\n",
    "import matplotlib.pyplot as plt\n",
    "\n",
    "from pyspark.sql import functions as F\n",
    "from pyspark.sql.window import Window\n",
    "from pyspark.sql.types import IntegerType, StringType, FloatType, ArrayType, DoubleType, StructType, StructField"
   ]
  },
  {
   "cell_type": "code",
   "execution_count": null,
   "metadata": {
    "application/vnd.databricks.v1+cell": {
     "cellMetadata": {
      "byteLimit": 2048000,
      "rowLimit": 10000
     },
     "inputWidgets": {},
     "nuid": "5f29191d-1059-4a1a-a42b-0a11e8599c1f",
     "showTitle": false,
     "title": ""
    },
    "scrolled": false
   },
   "outputs": [],
   "source": [
    "base_save_path = \"<S3path>\"\n",
    "iteration_save_path = \"<S3path>\""
   ]
  },
  {
   "cell_type": "code",
   "execution_count": null,
   "metadata": {
    "application/vnd.databricks.v1+cell": {
     "cellMetadata": {
      "byteLimit": 2048000,
      "rowLimit": 10000
     },
     "inputWidgets": {},
     "nuid": "f3fc9950-ebb9-463e-af5a-e2c9b59ae456",
     "showTitle": false,
     "title": ""
    },
    "scrolled": false
   },
   "outputs": [],
   "source": [
    "all_names = spark.read.parquet(f\"{iteration_save_path}name_embedding_training_data/given_family_output_names\") \\\n",
    ".select(F.trim(F.col('given_name')).alias('given_name'), \n",
    "        F.trim(F.col('family_name')).alias('family_name'), \n",
    "        F.trim(F.col('output_name')).alias('output_name'), \n",
    "        F.trim(F.col('raw_input')).alias('raw_input')) \\\n",
    ".drop_duplicates(subset=['given_name','family_name','output_name'])\n",
    "all_names.cache().count()"
   ]
  },
  {
   "cell_type": "code",
   "execution_count": null,
   "metadata": {
    "application/vnd.databricks.v1+cell": {
     "cellMetadata": {
      "byteLimit": 2048000,
      "rowLimit": 10000
     },
     "inputWidgets": {},
     "nuid": "93613755-4177-4cd3-a944-af433e93732e",
     "showTitle": false,
     "title": ""
    },
    "scrolled": false
   },
   "outputs": [],
   "source": [
    "all_names.groupby('given_name').agg(F.collect_list(F.col('output_name')).alias('output_name')) \\\n",
    ".write.mode('overwrite').parquet(f\"{iteration_save_path}name_embedding_training_data/hard_samples/given_name_matches\")"
   ]
  },
  {
   "cell_type": "code",
   "execution_count": null,
   "metadata": {
    "application/vnd.databricks.v1+cell": {
     "cellMetadata": {
      "byteLimit": 2048000,
      "rowLimit": 10000
     },
     "inputWidgets": {},
     "nuid": "268655f3-a8f0-4afd-905f-3cb48be004d3",
     "showTitle": false,
     "title": ""
    },
    "scrolled": false
   },
   "outputs": [],
   "source": [
    "all_names.groupby('family_name').agg(F.collect_list(F.col('output_name')).alias('output_name')) \\\n",
    ".write.mode('overwrite').parquet(f\"{iteration_save_path}name_embedding_training_data/hard_samples/family_name_matches\")"
   ]
  },
  {
   "cell_type": "code",
   "execution_count": null,
   "metadata": {
    "application/vnd.databricks.v1+cell": {
     "cellMetadata": {
      "byteLimit": 2048000,
      "rowLimit": 10000
     },
     "inputWidgets": {},
     "nuid": "d8ffa8d5-2ac5-4168-89a5-322a0c87a9ad",
     "showTitle": false,
     "title": ""
    },
    "scrolled": false
   },
   "outputs": [],
   "source": [
    "given_matches = spark.read \\\n",
    ".parquet(f\"{iteration_save_path}name_embedding_training_data/hard_samples/given_name_matches\")\n",
    "\n",
    "given_matches.cache().count()"
   ]
  },
  {
   "cell_type": "code",
   "execution_count": null,
   "metadata": {
    "application/vnd.databricks.v1+cell": {
     "cellMetadata": {
      "byteLimit": 2048000,
      "rowLimit": 10000
     },
     "inputWidgets": {},
     "nuid": "9835c224-001f-4998-9bf7-a7c466b565af",
     "showTitle": false,
     "title": ""
    },
    "scrolled": false
   },
   "outputs": [],
   "source": [
    "family_matches = spark.read \\\n",
    ".parquet(f\"{iteration_save_path}name_embedding_training_data/hard_samples/family_name_matches\")\n",
    "\n",
    "family_matches.cache().count()"
   ]
  },
  {
   "cell_type": "code",
   "execution_count": null,
   "metadata": {
    "application/vnd.databricks.v1+cell": {
     "cellMetadata": {
      "byteLimit": 2048000,
      "rowLimit": 10000
     },
     "inputWidgets": {},
     "nuid": "8349ede2-c7a1-45d4-989c-4805d1178083",
     "showTitle": false,
     "title": ""
    },
    "scrolled": false
   },
   "outputs": [],
   "source": [
    "def get_pair_of_hard_samples_(list_of_like_names):\n",
    "    if len(list_of_like_names) <8:\n",
    "        return []\n",
    "    else:\n",
    "        choice_1 = random.choice(list_of_like_names)\n",
    "        choice_2 = random.choice(list_of_like_names)\n",
    "        if choice_1 == choice_2:\n",
    "            return list_of_like_names[:2]\n",
    "        else:\n",
    "            return [choice_1, choice_2]\n",
    "\n",
    "get_pair_of_hard_samples = F.udf(get_pair_of_hard_samples_, ArrayType(StringType()))"
   ]
  },
  {
   "cell_type": "code",
   "execution_count": null,
   "metadata": {
    "application/vnd.databricks.v1+cell": {
     "cellMetadata": {
      "byteLimit": 2048000,
      "rowLimit": 10000
     },
     "inputWidgets": {},
     "nuid": "dd347be6-92bb-4ecc-90d6-fee692137a98",
     "showTitle": false,
     "title": ""
    },
    "scrolled": false
   },
   "outputs": [],
   "source": [
    "given_matches \\\n",
    ".withColumn(\"hard_pairs\", get_pair_of_hard_samples(F.col('output_name'))) \\\n",
    ".withColumn(\"hard_pair_len\", F.size(F.col('hard_pairs'))) \\\n",
    ".filter(F.col('hard_pair_len') ==2) \\\n",
    ".select('hard_pairs') \\\n",
    ".write.mode('overwrite').parquet(f\"{iteration_save_path}name_embedding_training_data/hard_samples/given_hard_pairs\")"
   ]
  },
  {
   "cell_type": "code",
   "execution_count": null,
   "metadata": {
    "application/vnd.databricks.v1+cell": {
     "cellMetadata": {
      "byteLimit": 2048000,
      "rowLimit": 10000
     },
     "inputWidgets": {},
     "nuid": "a0783542-64e5-447d-a818-ab4e1ca03393",
     "showTitle": false,
     "title": ""
    },
    "scrolled": false
   },
   "outputs": [],
   "source": [
    "family_matches \\\n",
    ".withColumn(\"hard_pairs\", get_pair_of_hard_samples(F.col('output_name'))) \\\n",
    ".withColumn(\"hard_pair_len\", F.size(F.col('hard_pairs'))) \\\n",
    ".filter(F.col('hard_pair_len') ==2) \\\n",
    ".select('hard_pairs') \\\n",
    ".write.mode('overwrite').parquet(f\"{iteration_save_path}name_embedding_training_data/hard_samples/family_hard_pairs\")"
   ]
  },
  {
   "cell_type": "code",
   "execution_count": null,
   "metadata": {
    "application/vnd.databricks.v1+cell": {
     "cellMetadata": {
      "byteLimit": 2048000,
      "rowLimit": 10000
     },
     "inputWidgets": {},
     "nuid": "3706390e-3b9c-427a-a638-c8b1193f4672",
     "showTitle": false,
     "title": ""
    },
    "scrolled": false
   },
   "outputs": [],
   "source": [
    "spark.read.parquet(f\"{iteration_save_path}name_embedding_training_data/hard_samples/family_hard_pairs\") \\\n",
    ".union(spark.read.parquet(f\"{iteration_save_path}name_embedding_training_data/hard_samples/given_hard_pairs\")) \\\n",
    ".dropDuplicates() \\\n",
    ".coalesce(1).write.mode('overwrite').parquet(f\"{iteration_save_path}name_embedding_training_data/hard_samples/final_hard_negative_pairs\")"
   ]
  },
  {
   "cell_type": "code",
   "execution_count": null,
   "metadata": {
    "application/vnd.databricks.v1+cell": {
     "cellMetadata": {
      "byteLimit": 2048000,
      "rowLimit": 10000
     },
     "inputWidgets": {},
     "nuid": "eb93b30b-6f2f-4a93-90e9-996867fb1759",
     "showTitle": false,
     "title": ""
    },
    "scrolled": false
   },
   "outputs": [],
   "source": [
    "spark.read.parquet(f\"{iteration_save_path}name_embedding_training_data/hard_samples/family_hard_pairs\") \\\n",
    ".union(spark.read.parquet(f\"{iteration_save_path}name_embedding_training_data/hard_samples/given_hard_pairs\"))"
   ]
  },
  {
   "cell_type": "markdown",
   "metadata": {
    "application/vnd.databricks.v1+cell": {
     "cellMetadata": {},
     "inputWidgets": {},
     "nuid": "91b9d3b1-edc1-4309-aa33-6490e9837b4c",
     "showTitle": false,
     "title": ""
    }
   },
   "source": [
    "### For Disambiguator"
   ]
  },
  {
   "cell_type": "code",
   "execution_count": null,
   "metadata": {
    "application/vnd.databricks.v1+cell": {
     "cellMetadata": {
      "byteLimit": 2048000,
      "rowLimit": 10000
     },
     "inputWidgets": {},
     "nuid": "98a39cc6-218d-4ab7-8701-8d001d8bca14",
     "showTitle": false,
     "title": ""
    },
    "scrolled": false
   },
   "outputs": [],
   "source": [
    "orcid_names = spark.read.parquet(f\"{iteration_save_path}orcid_names_data_dump.parquet\") \\\n",
    "    .select('orcid',F.trim(F.col('given_names')).alias('given_name'),F.trim(F.col('family_name')).alias('family_name')) \\\n",
    "    .select('orcid', 'given_name','family_name', \n",
    "    F.concat_ws(' ', F.col('given_name'), F.col('family_name')).alias('output_name')) \\\n",
    "    .dropDuplicates()\n",
    "orcid_names.cache().count()"
   ]
  },
  {
   "cell_type": "code",
   "execution_count": null,
   "metadata": {
    "application/vnd.databricks.v1+cell": {
     "cellMetadata": {
      "byteLimit": 2048000,
      "rowLimit": 10000
     },
     "inputWidgets": {},
     "nuid": "970d5bf7-0444-4ffc-a6ef-1ba918278a1e",
     "showTitle": false,
     "title": ""
    },
    "scrolled": false
   },
   "outputs": [],
   "source": [
    "for i in range(4):\n",
    "    orcid_names.select(F.lit('positive').alias('sample_type'), F.col('orcid').alias('orcid_1'), F.col('orcid').alias('orcid_2')) \\\n",
    "        .coalesce(50).write.mode('append') \\\n",
    "        .parquet(f\"{iteration_save_path}disambiguator_training_data/final_positive_sample_orcids\")"
   ]
  },
  {
   "cell_type": "code",
   "execution_count": null,
   "metadata": {
    "application/vnd.databricks.v1+cell": {
     "cellMetadata": {
      "byteLimit": 2048000,
      "rowLimit": 10000
     },
     "inputWidgets": {},
     "nuid": "33fd0120-294d-4b1e-a2c8-ce85835d9f17",
     "showTitle": false,
     "title": ""
    },
    "scrolled": false
   },
   "outputs": [],
   "source": [
    "pos_samples = spark.read.parquet(f\"{iteration_save_path}disambiguator_training_data/final_positive_sample_orcids\")\n",
    "pos_samples.cache().count()"
   ]
  },
  {
   "cell_type": "code",
   "execution_count": null,
   "metadata": {
    "application/vnd.databricks.v1+cell": {
     "cellMetadata": {
      "byteLimit": 2048000,
      "rowLimit": 10000
     },
     "inputWidgets": {},
     "nuid": "2776e22f-17ac-4894-9161-e78db70304f9",
     "showTitle": false,
     "title": ""
    },
    "scrolled": false
   },
   "outputs": [],
   "source": [
    "w = Window().partitionBy(F.lit('a')).orderBy(F.rand())\n",
    "\n",
    "orcid_names.withColumn(\"row_num\", F.row_number().over(w)) \\\n",
    "    .select('orcid', 'row_num') \\\n",
    "    .coalesce(20).write.mode('overwrite') \\\n",
    "    .parquet(f\"{iteration_save_path}disambiguator_training_data/easy_samples/random_1\")"
   ]
  },
  {
   "cell_type": "code",
   "execution_count": null,
   "metadata": {
    "application/vnd.databricks.v1+cell": {
     "cellMetadata": {
      "byteLimit": 2048000,
      "rowLimit": 10000
     },
     "inputWidgets": {},
     "nuid": "6cb66242-e2d1-484b-b1c6-4cf6febfc6fc",
     "showTitle": false,
     "title": ""
    },
    "scrolled": false
   },
   "outputs": [],
   "source": [
    "w = Window().partitionBy(F.lit('a')).orderBy(F.rand())\n",
    "\n",
    "orcid_names.withColumn(\"row_num\", F.row_number().over(w)) \\\n",
    "    .select('orcid', 'row_num') \\\n",
    "    .coalesce(20).write.mode('overwrite') \\\n",
    "    .parquet(f\"{iteration_save_path}disambiguator_training_data/easy_samples/random_2\")"
   ]
  },
  {
   "cell_type": "code",
   "execution_count": null,
   "metadata": {
    "application/vnd.databricks.v1+cell": {
     "cellMetadata": {
      "byteLimit": 2048000,
      "rowLimit": 10000
     },
     "inputWidgets": {},
     "nuid": "b40bb9bd-66c8-4cc1-8c79-8001e44dd35e",
     "showTitle": false,
     "title": ""
    },
    "scrolled": false
   },
   "outputs": [],
   "source": [
    "w = Window().partitionBy(F.lit('a')).orderBy(F.rand())\n",
    "\n",
    "orcid_names.withColumn(\"row_num\", F.row_number().over(w)) \\\n",
    "    .select('orcid', 'row_num') \\\n",
    "    .coalesce(20).write.mode('overwrite') \\\n",
    "    .parquet(f\"{iteration_save_path}disambiguator_training_data/easy_samples/random_3\")"
   ]
  },
  {
   "cell_type": "code",
   "execution_count": null,
   "metadata": {
    "application/vnd.databricks.v1+cell": {
     "cellMetadata": {
      "byteLimit": 2048000,
      "rowLimit": 10000
     },
     "inputWidgets": {},
     "nuid": "397a9068-e149-4757-a9fb-35c8a3bd55bb",
     "showTitle": false,
     "title": ""
    },
    "scrolled": false
   },
   "outputs": [],
   "source": [
    "orcid_names \\\n",
    "    .filter(~F.col('given_name').isNull()) \\\n",
    "    .filter(~F.col('family_name').isNull()) \\\n",
    "    .groupBy('output_name').agg(F.collect_list(F.col('orcid')).alias('orcids')) \\\n",
    "    .withColumn('orcid_len', F.size(F.col('orcids'))) \\\n",
    "    .filter(F.col('orcid_len')>1) \\\n",
    "    .coalesce(20).write.mode('overwrite') \\\n",
    "    .parquet(f\"{iteration_save_path}disambiguator_training_data/hard_samples/hard_negatives_output_name\")"
   ]
  },
  {
   "cell_type": "code",
   "execution_count": null,
   "metadata": {
    "application/vnd.databricks.v1+cell": {
     "cellMetadata": {
      "byteLimit": 2048000,
      "rowLimit": 10000
     },
     "inputWidgets": {},
     "nuid": "02bc8c8e-f5a7-495c-9292-d9a2c11c3c5c",
     "showTitle": false,
     "title": ""
    },
    "scrolled": false
   },
   "outputs": [],
   "source": [
    "orcid_names.groupBy('given_name').agg(F.collect_list(F.col('orcid')).alias('orcids')) \\\n",
    "    .withColumn('orcid_len', F.size(F.col('orcids'))) \\\n",
    "    .filter(F.col('orcid_len')>1) \\\n",
    "    .coalesce(20).write.mode('overwrite') \\\n",
    "    .parquet(f\"{iteration_save_path}disambiguator_training_data/hard_samples/hard_negatives_given_name\")"
   ]
  },
  {
   "cell_type": "code",
   "execution_count": null,
   "metadata": {
    "application/vnd.databricks.v1+cell": {
     "cellMetadata": {
      "byteLimit": 2048000,
      "rowLimit": 10000
     },
     "inputWidgets": {},
     "nuid": "83a6f245-2d71-44b7-8fce-b94fa6ff3faf",
     "showTitle": false,
     "title": ""
    },
    "scrolled": false
   },
   "outputs": [],
   "source": [
    "orcid_names.groupBy('family_name').agg(F.collect_list(F.col('orcid')).alias('orcids')) \\\n",
    "    .withColumn('orcid_len', F.size(F.col('orcids'))) \\\n",
    "    .filter(F.col('orcid_len')>1) \\\n",
    "    .coalesce(20).write.mode('overwrite') \\\n",
    "    .parquet(f\"{iteration_save_path}disambiguator_training_data/hard_samples/hard_negatives_family_name\")"
   ]
  },
  {
   "cell_type": "code",
   "execution_count": null,
   "metadata": {
    "application/vnd.databricks.v1+cell": {
     "cellMetadata": {
      "byteLimit": 2048000,
      "rowLimit": 10000
     },
     "inputWidgets": {},
     "nuid": "96757d87-b1ab-4571-9f6a-f86d78f39eca",
     "showTitle": false,
     "title": ""
    },
    "scrolled": false
   },
   "outputs": [],
   "source": [
    "orcid_names.groupBy('output_name').agg(F.collect_list(F.col('orcid')).alias('orcids')) \\\n",
    "    .withColumn('orcid_len', F.size(F.col('orcids'))) \\\n",
    "    .filter(F.col('orcid_len')>1) \\\n",
    "    .sample(0.001).show(10, truncate=False)"
   ]
  },
  {
   "cell_type": "code",
   "execution_count": null,
   "metadata": {
    "application/vnd.databricks.v1+cell": {
     "cellMetadata": {},
     "inputWidgets": {},
     "nuid": "0b969fba-ce95-41c7-a263-4cd9053721f3",
     "showTitle": false,
     "title": ""
    },
    "scrolled": false
   },
   "outputs": [],
   "source": []
  }
 ],
 "metadata": {
  "application/vnd.databricks.v1+notebook": {
   "dashboards": [],
   "language": "python",
   "notebookMetadata": {
    "pythonIndentUnit": 4
   },
   "notebookName": "name_embedding_disam_data_creation_hard_samples",
   "notebookOrigID": 336798386597758,
   "widgets": {}
  },
  "kernelspec": {
   "display_name": "Python 3 (ipykernel)",
   "language": "python",
   "name": "python3"
  },
  "language_info": {
   "codemirror_mode": {
    "name": "ipython",
    "version": 3
   },
   "file_extension": ".py",
   "mimetype": "text/x-python",
   "name": "python",
   "nbconvert_exporter": "python",
   "pygments_lexer": "ipython3",
   "version": "3.8.12"
  }
 },
 "nbformat": 4,
 "nbformat_minor": 1
}
