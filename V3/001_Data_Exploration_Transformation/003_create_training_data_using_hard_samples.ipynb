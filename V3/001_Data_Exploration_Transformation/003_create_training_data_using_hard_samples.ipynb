{
 "cells": [
  {
   "cell_type": "code",
   "execution_count": null,
   "metadata": {
    "application/vnd.databricks.v1+cell": {
     "cellMetadata": {
      "byteLimit": 2048000,
      "rowLimit": 10000
     },
     "inputWidgets": {},
     "nuid": "44920190-9120-4ae8-858f-14f52b073315",
     "showTitle": false,
     "title": ""
    }
   },
   "outputs": [],
   "source": [
    "import pickle\n",
    "import boto3\n",
    "import re\n",
    "import json\n",
    "import random\n",
    "import pandas as pd\n",
    "import numpy as np\n",
    "\n",
    "from pyspark.sql import functions as F\n",
    "from pyspark.sql.window import Window\n",
    "from pyspark.sql.types import IntegerType, StringType, FloatType, ArrayType, DoubleType, StructType, StructField\n",
    "from pyspark.ml.functions import array_to_vector"
   ]
  },
  {
   "cell_type": "code",
   "execution_count": null,
   "metadata": {
    "application/vnd.databricks.v1+cell": {
     "cellMetadata": {
      "byteLimit": 2048000,
      "rowLimit": 10000
     },
     "inputWidgets": {},
     "nuid": "a92c1d15-5bd2-44b9-9e90-d6b9397480bd",
     "showTitle": false,
     "title": ""
    }
   },
   "outputs": [],
   "source": [
    "base_save_path = \"<S3path>\"\n",
    "iteration_save_path = \"<S3path>\""
   ]
  },
  {
   "cell_type": "markdown",
   "metadata": {
    "application/vnd.databricks.v1+cell": {
     "cellMetadata": {},
     "inputWidgets": {},
     "nuid": "0650cad4-08c8-4884-85c8-b401ec3803cd",
     "showTitle": false,
     "title": ""
    }
   },
   "source": [
    "#### Getting hard pairs using name embedding"
   ]
  },
  {
   "cell_type": "code",
   "execution_count": null,
   "metadata": {
    "application/vnd.databricks.v1+cell": {
     "cellMetadata": {
      "byteLimit": 2048000,
      "rowLimit": 10000
     },
     "inputWidgets": {},
     "nuid": "4003d270-3e93-4409-b75c-b40dc9ef6763",
     "showTitle": false,
     "title": ""
    }
   },
   "outputs": [],
   "source": [
    "def get_pair_of_hard_samples_(list_of_like_names):\n",
    "    if len(list_of_like_names) <8:\n",
    "        return []\n",
    "    else:\n",
    "        choice_1 = random.choice(list_of_like_names)\n",
    "        choice_2 = random.choice(list_of_like_names)\n",
    "        if choice_1 == choice_2:\n",
    "            return list_of_like_names[:2]\n",
    "        else:\n",
    "            return [choice_1, choice_2]\n",
    "\n",
    "get_pair_of_hard_samples = F.udf(get_pair_of_hard_samples_, ArrayType(StringType()))"
   ]
  },
  {
   "cell_type": "code",
   "execution_count": null,
   "metadata": {
    "application/vnd.databricks.v1+cell": {
     "cellMetadata": {
      "byteLimit": 2048000,
      "rowLimit": 10000
     },
     "inputWidgets": {},
     "nuid": "c6dc82d3-7964-4dbf-b34e-51835ad416d9",
     "showTitle": false,
     "title": ""
    }
   },
   "outputs": [],
   "source": [
    "def turn_into_neg_pair_(num_1, num_2):\n",
    "    return [num_1, num_2]\n",
    "\n",
    "turn_into_neg_pair = F.udf(turn_into_neg_pair_, ArrayType(StringType()))"
   ]
  },
  {
   "cell_type": "code",
   "execution_count": null,
   "metadata": {
    "application/vnd.databricks.v1+cell": {
     "cellMetadata": {
      "byteLimit": 2048000,
      "rowLimit": 10000
     },
     "inputWidgets": {},
     "nuid": "8a55878e-12d0-4db0-95b8-beb6a035ea4f",
     "showTitle": false,
     "title": ""
    }
   },
   "outputs": [],
   "source": [
    "hard_embedding_pairs = spark.read \\\n",
    "    .parquet(f\"{iteration_save_path}final_model_data/training_data_creation/hard_embedding_orcid_pairs/hard_embeddings.parquet\") \\\n",
    "    .select('orcid_1', 'orcid_2', F.lit('embedding_negative').alias('sample_type'))\n",
    "hard_embedding_pairs.cache().count()"
   ]
  },
  {
   "cell_type": "code",
   "execution_count": null,
   "metadata": {
    "application/vnd.databricks.v1+cell": {
     "cellMetadata": {
      "byteLimit": 2048000,
      "rowLimit": 10000
     },
     "inputWidgets": {},
     "nuid": "1126c35c-a37f-485d-97a5-adc176a226fa",
     "showTitle": false,
     "title": ""
    }
   },
   "outputs": [],
   "source": [
    "hard_output = spark.read\\\n",
    "    .parquet(f\"{iteration_save_path}disambiguator_training_data/hard_samples/hard_negatives_output_name\") \\\n",
    "    .select(F.col('orcids').alias('pairs'), F.lit('output_negative').alias('sample_type'))\n",
    "hard_output.cache().count()"
   ]
  },
  {
   "cell_type": "code",
   "execution_count": null,
   "metadata": {
    "application/vnd.databricks.v1+cell": {
     "cellMetadata": {
      "byteLimit": 2048000,
      "rowLimit": 10000
     },
     "inputWidgets": {},
     "nuid": "ba7cac2d-8e0b-4502-b89f-39cda1de2ed7",
     "showTitle": false,
     "title": ""
    }
   },
   "outputs": [],
   "source": [
    "hard_given = spark.read\\\n",
    "    .parquet(f\"{iteration_save_path}disambiguator_training_data/hard_samples/hard_negatives_given_name\") \\\n",
    "    .select(F.col('orcids').alias('pairs'), F.lit('given_negative').alias('sample_type'))\n",
    "hard_given.cache().count()"
   ]
  },
  {
   "cell_type": "code",
   "execution_count": null,
   "metadata": {
    "application/vnd.databricks.v1+cell": {
     "cellMetadata": {
      "byteLimit": 2048000,
      "rowLimit": 10000
     },
     "inputWidgets": {},
     "nuid": "478cb6b0-df39-423d-b98a-a9541c550b2b",
     "showTitle": false,
     "title": ""
    }
   },
   "outputs": [],
   "source": [
    "hard_family = spark.read\\\n",
    "    .parquet(f\"{iteration_save_path}disambiguator_training_data/hard_samples/hard_negatives_family_name\") \\\n",
    "    .select(F.col('orcids').alias('pairs'), F.lit('family_negative').alias('sample_type'))\n",
    "hard_family.cache().count()"
   ]
  },
  {
   "cell_type": "code",
   "execution_count": null,
   "metadata": {
    "application/vnd.databricks.v1+cell": {
     "cellMetadata": {
      "byteLimit": 2048000,
      "rowLimit": 10000
     },
     "inputWidgets": {},
     "nuid": "173d9795-00cc-46cc-ba57-ddfc530b2af7",
     "showTitle": false,
     "title": ""
    }
   },
   "outputs": [],
   "source": [
    "hard_output \\\n",
    "    .union(hard_family.select(*hard_output.columns)) \\\n",
    "    .union(hard_given.select(*hard_output.columns)) \\\n",
    "    .withColumn('final_pair', get_pair_of_hard_samples(F.col('pairs'))) \\\n",
    "        .select('final_pair', 'sample_type') \\\n",
    "    .withColumn('pair_len', F.size(F.col('final_pair'))) \\\n",
    "    .filter(F.col('pair_len')==2) \\\n",
    "    .select('sample_type', F.col('final_pair')[0].alias('orcid_1'), F.col('final_pair')[1].alias('orcid_2')) \\\n",
    "    .union(hard_embedding_pairs.select('sample_type','orcid_1','orcid_2')) \\\n",
    "    .write.mode('overwrite') \\\n",
    "    .parquet(f\"{iteration_save_path}final_model_data/training_data_creation/final_negative_sample_orcids\")"
   ]
  },
  {
   "cell_type": "code",
   "execution_count": null,
   "metadata": {},
   "outputs": [],
   "source": [
    "hard_output \\\n",
    "    .union(hard_family.select(*hard_output.columns)) \\\n",
    "    .union(hard_given.select(*hard_output.columns)) \\\n",
    "    .withColumn('final_pair', get_pair_of_hard_samples(F.col('pairs'))) \\\n",
    "        .select('final_pair', 'sample_type') \\\n",
    "    .withColumn('pair_len', F.size(F.col('final_pair'))) \\\n",
    "    .filter(F.col('pair_len')==2) \\\n",
    "    .select('sample_type', F.col('final_pair')[0].alias('orcid_1'), F.col('final_pair')[1].alias('orcid_2'))  \\\n",
    "    .coalesce(1) \\\n",
    "    .write.mode('overwrite') \\\n",
    "    .parquet(f\"{iteration_save_path}datasets_to_share/hard_negative_samples\")"
   ]
  },
  {
   "cell_type": "markdown",
   "metadata": {
    "application/vnd.databricks.v1+cell": {
     "cellMetadata": {},
     "inputWidgets": {},
     "nuid": "8292fb3d-1234-424a-b04b-88be71a5c4de",
     "showTitle": false,
     "title": ""
    }
   },
   "source": [
    "### Creating the training data for embedding model"
   ]
  },
  {
   "cell_type": "code",
   "execution_count": null,
   "metadata": {
    "application/vnd.databricks.v1+cell": {
     "cellMetadata": {
      "byteLimit": 2048000,
      "rowLimit": 10000
     },
     "inputWidgets": {},
     "nuid": "562319b7-68de-4aa7-9cc0-ec7593e20d19",
     "showTitle": false,
     "title": ""
    }
   },
   "outputs": [],
   "source": [
    "level_0_ids = ['17744445','138885662','162324750','144133560','15744967','33923547','71924100','86803240','41008148','127313418','185592680','142362112','144024400','127413603','205649164','95457728','192562407','121332964','39432304']\n",
    "broadcast_level_0_ids = spark.sparkContext.broadcast(level_0_ids)"
   ]
  },
  {
   "cell_type": "code",
   "execution_count": null,
   "metadata": {
    "application/vnd.databricks.v1+cell": {
     "cellMetadata": {
      "byteLimit": 2048000,
      "rowLimit": 10000
     },
     "inputWidgets": {},
     "nuid": "7dae8e07-acdd-41c7-9e17-78dc8043d168",
     "showTitle": false,
     "title": ""
    }
   },
   "outputs": [],
   "source": [
    "def remove_level_0_ids_(old_concepts_list):\n",
    "    return [x for x in old_concepts_list if x not in broadcast_level_0_ids.value]\n",
    "\n",
    "remove_level_0_ids = F.udf(remove_level_0_ids_, ArrayType(StringType()))"
   ]
  },
  {
   "cell_type": "code",
   "execution_count": null,
   "metadata": {
    "application/vnd.databricks.v1+cell": {
     "cellMetadata": {
      "byteLimit": 2048000,
      "rowLimit": 10000
     },
     "inputWidgets": {},
     "nuid": "2b7084ad-bbff-407d-a2c6-30abcd5d26ed",
     "showTitle": false,
     "title": ""
    }
   },
   "outputs": [],
   "source": [
    "def cosine_similarity_(v1, v2):\n",
    "    return float(v1.dot(v2) / (v1.norm(2) * v2.norm(2)))\n",
    "\n",
    "cosine_similarity_udf = F.udf(cosine_similarity_, FloatType())"
   ]
  },
  {
   "cell_type": "code",
   "execution_count": null,
   "metadata": {
    "application/vnd.databricks.v1+cell": {
     "cellMetadata": {
      "byteLimit": 2048000,
      "rowLimit": 10000
     },
     "inputWidgets": {},
     "nuid": "91981da3-0359-45f0-aa81-753ae47b10ba",
     "showTitle": false,
     "title": ""
    }
   },
   "outputs": [],
   "source": [
    "def get_percentage_of_intersection_and_sum_(list_1, list_2):\n",
    "    if list_1 and list_2:\n",
    "        list_1 = set(list_1)\n",
    "        list_2 = set(list_2)\n",
    "        list_inter = len(list_1.intersection(list_2))\n",
    "        sum_of_lists = len(list_1 | list_2)\n",
    "        \n",
    "        return [float(len(list_1)), float(len(list_2)), float(list_inter), float(sum_of_lists)]\n",
    "    else:\n",
    "        if list_1:\n",
    "            return [float(len(list_1)), 0.0, 0.0, float(len(list_1))]\n",
    "        elif list_2:\n",
    "            return [0.0, float(len(list_2)), 0.0, float(len(list_2))]\n",
    "        else:\n",
    "            return [0.0, 0.0, 0.0, 0.0]\n",
    "\n",
    "get_percentage_of_intersection_and_sum = F.udf(get_percentage_of_intersection_and_sum_, ArrayType(FloatType()))"
   ]
  },
  {
   "cell_type": "code",
   "execution_count": null,
   "metadata": {
    "application/vnd.databricks.v1+cell": {
     "cellMetadata": {
      "byteLimit": 2048000,
      "rowLimit": 10000
     },
     "inputWidgets": {},
     "nuid": "32c717f1-2292-4430-bdfc-bb804cb8a4ea",
     "showTitle": false,
     "title": ""
    }
   },
   "outputs": [],
   "source": [
    "def does_either_work_show_in_citations_(paper_id_1, paper_id_2, citation_1, citation_2):\n",
    "    if paper_id_1 in citation_2:\n",
    "        return 1\n",
    "    elif paper_id_2 in citation_1:\n",
    "        return 1\n",
    "    else:\n",
    "        return 0\n",
    "\n",
    "does_either_work_show_in_citations = F.udf(does_either_work_show_in_citations_, IntegerType())"
   ]
  },
  {
   "cell_type": "code",
   "execution_count": null,
   "metadata": {
    "application/vnd.databricks.v1+cell": {
     "cellMetadata": {
      "byteLimit": 2048000,
      "rowLimit": 10000
     },
     "inputWidgets": {},
     "nuid": "c12216d0-0227-4b30-b659-f81cd3998533",
     "showTitle": false,
     "title": ""
    }
   },
   "outputs": [],
   "source": [
    "def get_paper_id_(work_id):\n",
    "    return work_id.split(\"_\")[0]\n",
    "\n",
    "get_paper_id = F.udf(get_paper_id_, StringType())"
   ]
  },
  {
   "cell_type": "code",
   "execution_count": null,
   "metadata": {
    "application/vnd.databricks.v1+cell": {
     "cellMetadata": {
      "byteLimit": 2048000,
      "rowLimit": 10000
     },
     "inputWidgets": {},
     "nuid": "7681ecc5-91c6-4ba8-942a-43301dba3578",
     "showTitle": false,
     "title": ""
    }
   },
   "outputs": [],
   "source": [
    "w1 = Window().partitionBy('orcid_1').orderBy(F.rand())\n",
    "w2 = Window().partitionBy('orcid_2').orderBy(F.rand())"
   ]
  },
  {
   "cell_type": "code",
   "execution_count": null,
   "metadata": {
    "application/vnd.databricks.v1+cell": {
     "cellMetadata": {
      "byteLimit": 2048000,
      "rowLimit": 10000
     },
     "inputWidgets": {},
     "nuid": "1ee66a29-8cdd-4be9-9035-aa74c12758d2",
     "showTitle": false,
     "title": ""
    }
   },
   "outputs": [],
   "source": [
    "pos_samples = spark.read.parquet(f\"{iteration_save_path}disambiguator_training_data/final_positive_sample_orcids\")\n",
    "pos_samples.cache().count()"
   ]
  },
  {
   "cell_type": "code",
   "execution_count": null,
   "metadata": {
    "application/vnd.databricks.v1+cell": {
     "cellMetadata": {
      "byteLimit": 2048000,
      "rowLimit": 10000
     },
     "inputWidgets": {},
     "nuid": "17ef48bc-7cdb-4259-94e6-f78a93b1bf0a",
     "showTitle": false,
     "title": ""
    }
   },
   "outputs": [],
   "source": [
    "neg_samples = spark.read.parquet(f\"{iteration_save_path}final_model_data/training_data_creation/final_negative_sample_orcids\")\n",
    "neg_samples.cache().count()"
   ]
  },
  {
   "cell_type": "code",
   "execution_count": null,
   "metadata": {
    "application/vnd.databricks.v1+cell": {
     "cellMetadata": {
      "byteLimit": 2048000,
      "rowLimit": 10000
     },
     "inputWidgets": {},
     "nuid": "f20551a8-e20c-4c42-8968-86bff046b8b2",
     "showTitle": false,
     "title": ""
    }
   },
   "outputs": [],
   "source": [
    "dis_data_proc_1 = spark.read.parquet(f\"{iteration_save_path}final_model_data/all_sample_data_for_all_work_authors\") \\\n",
    "    .select(F.col('work_id').alias('work_id_1'), F.col('orcid').alias('orcid_1'), F.col('coauthors').alias('coauthors_1'), \n",
    "            F.col('citations').alias('citations_1'), F.col('institutions').alias('institutions_1'), \n",
    "            F.col('original_author').alias('author_1'), F.col('concepts').alias('concepts_1')) \\\n",
    "    .filter(F.col('orcid')!='') \\\n",
    "    .withColumn('inst_orc_1', F.row_number().over(w1))\n",
    "dis_data_proc_1.cache().count()"
   ]
  },
  {
   "cell_type": "code",
   "execution_count": null,
   "metadata": {
    "application/vnd.databricks.v1+cell": {
     "cellMetadata": {
      "byteLimit": 2048000,
      "rowLimit": 10000
     },
     "inputWidgets": {},
     "nuid": "bf33ca4c-49b9-4341-8da5-bc955c746bce",
     "showTitle": false,
     "title": ""
    }
   },
   "outputs": [],
   "source": [
    "dis_data_proc_2 = spark.read.parquet(f\"{iteration_save_path}final_model_data/all_sample_data_for_all_work_authors\") \\\n",
    "    .select(F.col('work_id').alias('work_id_2'), F.col('orcid').alias('orcid_2'), F.col('coauthors').alias('coauthors_2'), \n",
    "            F.col('institutions').alias('institutions_2'), F.col('citations').alias('citations_2'),\n",
    "            F.col('original_author').alias('author_2'), F.col('concepts').alias('concepts_2')) \\\n",
    "    .filter(F.col('orcid')!='') \\\n",
    "    .withColumn('inst_orc_2', F.row_number().over(w2))\n",
    "dis_data_proc_2.cache().count()"
   ]
  },
  {
   "cell_type": "code",
   "execution_count": null,
   "metadata": {
    "application/vnd.databricks.v1+cell": {
     "cellMetadata": {
      "byteLimit": 2048000,
      "rowLimit": 10000
     },
     "inputWidgets": {},
     "nuid": "51d2ceca-4f74-4b34-b901-d81818f03e1c",
     "showTitle": false,
     "title": ""
    }
   },
   "outputs": [],
   "source": [
    "pos_samples \\\n",
    "    .join(dis_data_proc_1, how='inner', on='orcid_1') \\\n",
    "    .filter(F.col('inst_orc_1')<2) \\\n",
    "    .join(dis_data_proc_2, how='inner', on='orcid_2') \\\n",
    "    .filter(F.col('inst_orc_2')<2) \\\n",
    "    .select('sample_type','orcid_1','orcid_2','author_1','author_2','work_id_1','work_id_2','coauthors_1','coauthors_2','concepts_1',\n",
    "            'concepts_2','institutions_1','institutions_2','citations_1','citations_2') \\\n",
    "    .sample(0.1) \\\n",
    "    .write.mode('overwrite') \\\n",
    "    .parquet(f\"{iteration_save_path}final_model_data/training_data_creation/final_positive_samples\")"
   ]
  },
  {
   "cell_type": "code",
   "execution_count": null,
   "metadata": {
    "application/vnd.databricks.v1+cell": {
     "cellMetadata": {
      "byteLimit": 2048000,
      "rowLimit": 10000
     },
     "inputWidgets": {},
     "nuid": "ab4b8438-dc0e-424f-903d-0cab5a3d6fb3",
     "showTitle": false,
     "title": ""
    }
   },
   "outputs": [],
   "source": [
    "final_pos_samples = spark.read.parquet(f\"{iteration_save_path}final_model_data/training_data_creation/final_positive_samples\")\n",
    "final_pos_samples.cache().count()"
   ]
  },
  {
   "cell_type": "code",
   "execution_count": null,
   "metadata": {
    "application/vnd.databricks.v1+cell": {
     "cellMetadata": {
      "byteLimit": 2048000,
      "rowLimit": 10000
     },
     "inputWidgets": {},
     "nuid": "e4a2a42f-0d26-4fcc-9c59-275b265cd919",
     "showTitle": false,
     "title": ""
    }
   },
   "outputs": [],
   "source": [
    "neg_samples \\\n",
    "    .join(dis_data_proc_1, how='inner', on='orcid_1') \\\n",
    "    .filter(F.col('inst_orc_1')<4) \\\n",
    "    .join(dis_data_proc_2, how='inner', on='orcid_2') \\\n",
    "    .filter(F.col('inst_orc_2')<4) \\\n",
    "    .select('sample_type','orcid_1','orcid_2','author_1','author_2','work_id_1','work_id_2','coauthors_1','coauthors_2','concepts_1',\n",
    "            'concepts_2','institutions_1','institutions_2','citations_1','citations_2') \\\n",
    "    .write.mode('overwrite') \\\n",
    "    .parquet(f\"{iteration_save_path}final_model_data/training_data_creation/final_negative_samples\")"
   ]
  },
  {
   "cell_type": "code",
   "execution_count": null,
   "metadata": {
    "application/vnd.databricks.v1+cell": {
     "cellMetadata": {
      "byteLimit": 2048000,
      "rowLimit": 10000
     },
     "inputWidgets": {},
     "nuid": "9ecdf027-798a-49a2-8052-3be52cf7e2f0",
     "showTitle": false,
     "title": ""
    }
   },
   "outputs": [],
   "source": [
    "final_neg_samples = spark.read.parquet(f\"{iteration_save_path}final_model_data/training_data_creation/final_negative_samples\")\n",
    "final_neg_samples.cache().count()"
   ]
  },
  {
   "cell_type": "code",
   "execution_count": null,
   "metadata": {
    "application/vnd.databricks.v1+cell": {
     "cellMetadata": {
      "byteLimit": 2048000,
      "rowLimit": 10000
     },
     "inputWidgets": {},
     "nuid": "62140679-c721-41a1-b002-1a6b7454ee28",
     "showTitle": false,
     "title": ""
    }
   },
   "outputs": [],
   "source": [
    "final_pos_samples.union(final_neg_samples.select(*final_pos_samples.columns)).orderBy(F.rand()) \\\n",
    "    .write.mode('overwrite') \\\n",
    "    .parquet(f\"{iteration_save_path}final_model_data/training_data_creation/all_final_sample_data\")"
   ]
  },
  {
   "cell_type": "code",
   "execution_count": null,
   "metadata": {
    "application/vnd.databricks.v1+cell": {
     "cellMetadata": {},
     "inputWidgets": {},
     "nuid": "c626eaa5-4b85-4f8a-981c-f6b237f96234",
     "showTitle": false,
     "title": ""
    }
   },
   "outputs": [],
   "source": []
  },
  {
   "cell_type": "markdown",
   "metadata": {
    "application/vnd.databricks.v1+cell": {
     "cellMetadata": {},
     "inputWidgets": {},
     "nuid": "4fdd3222-0db4-49f3-8b51-83c0b319551b",
     "showTitle": false,
     "title": ""
    }
   },
   "source": [
    "### Train, Val, Test"
   ]
  },
  {
   "cell_type": "code",
   "execution_count": null,
   "metadata": {
    "application/vnd.databricks.v1+cell": {
     "cellMetadata": {
      "byteLimit": 2048000,
      "rowLimit": 10000
     },
     "inputWidgets": {},
     "nuid": "2499bced-7a21-45a5-8d49-f0a99e896931",
     "showTitle": false,
     "title": ""
    }
   },
   "outputs": [],
   "source": [
    "@udf(returnType=ArrayType(StringType()))\n",
    "def remove_short_authors(coauthors):\n",
    "    return [x for x in coauthors if len(x)>6]"
   ]
  },
  {
   "cell_type": "code",
   "execution_count": null,
   "metadata": {},
   "outputs": [],
   "source": [
    "spark.read.parquet(f\"{iteration_save_path}final_model_data/training_data_creation/all_final_sample_data\") \\\n",
    "    .select('sample_type','orcid_1','orcid_2',F.col('work_id_1').alias('work_author_id_1'),\n",
    "            F.col('work_id_2').alias('work_author_id_2'),'author_1','author_2','coauthors_1','coauthors_2',\n",
    "            'concepts_1','concepts_2','institutions_1','institutions_2','citations_1','citations_2') \\\n",
    "    .coalesce(1) \\\n",
    "    .write.mode('overwrite') \\\n",
    "    .parquet(f\"{iteration_save_path}datasets_to_share/all_possible_training_data\")"
   ]
  },
  {
   "cell_type": "code",
   "execution_count": null,
   "metadata": {
    "application/vnd.databricks.v1+cell": {
     "cellMetadata": {
      "byteLimit": 2048000,
      "rowLimit": 10000
     },
     "inputWidgets": {},
     "nuid": "51202bf4-6b24-4770-9048-bfd8ce1f20c2",
     "showTitle": false,
     "title": ""
    }
   },
   "outputs": [],
   "source": [
    "temp_df = spark.read.parquet(f\"{iteration_save_path}final_model_data/training_data_creation/all_final_sample_data\")\n",
    "temp_df.cache().count()"
   ]
  },
  {
   "cell_type": "code",
   "execution_count": null,
   "metadata": {
    "application/vnd.databricks.v1+cell": {
     "cellMetadata": {
      "byteLimit": 2048000,
      "rowLimit": 10000
     },
     "inputWidgets": {},
     "nuid": "c9817998-0d59-449b-9328-b9d1750a3844",
     "showTitle": false,
     "title": ""
    }
   },
   "outputs": [],
   "source": [
    "temp_df \\\n",
    "    .withColumn('paper_id_1', get_paper_id(F.col('work_id_1'))) \\\n",
    "    .withColumn('paper_id_2', get_paper_id(F.col('work_id_2'))) \\\n",
    "    .withColumn('coauthors_shorter_1', remove_short_authors(F.col('coauthors_1'))) \\\n",
    "    .withColumn('coauthors_shorter_2', remove_short_authors(F.col('coauthors_2'))) \\\n",
    "    .withColumn('concepts_shorter_1', remove_level_0_ids(F.col('concepts_1'))) \\\n",
    "    .withColumn('concepts_shorter_2', remove_level_0_ids(F.col('concepts_2'))) \\\n",
    "    .withColumn('concepts_shortest_1', get_new_concepts_list(F.col('concepts_1'))) \\\n",
    "    .withColumn('concepts_shortest_2', get_new_concepts_list(F.col('concepts_2'))) \\\n",
    "    .withColumn('per_int_insts', get_percentage_of_intersection_and_sum(F.col('institutions_1'), F.col('institutions_2'))) \\\n",
    "    .withColumn('per_int_coauthors', get_percentage_of_intersection_and_sum(F.col('coauthors_1'), F.col('coauthors_2'))) \\\n",
    "    .withColumn('per_int_coauthors_shorter', get_percentage_of_intersection_and_sum(F.col('coauthors_shorter_1'), \n",
    "                                                                                    F.col('coauthors_shorter_2'))) \\\n",
    "    .withColumn('per_int_concepts', get_percentage_of_intersection_and_sum(F.col('concepts_1'), F.col('concepts_2'))) \\\n",
    "    .withColumn('per_int_concepts_shorter', get_percentage_of_intersection_and_sum(F.col('concepts_shorter_1'), \n",
    "                                                                                   F.col('concepts_shorter_2'))) \\\n",
    "    .withColumn('per_int_concepts_shortest', get_percentage_of_intersection_and_sum(F.col('concepts_shortest_1'), \n",
    "                                                                                    F.col('concepts_shortest_2'))) \\\n",
    "    .withColumn('per_int_citations', get_percentage_of_intersection_and_sum(F.col('citations_1'), F.col('citations_2'))) \\\n",
    "    .withColumn('citation_work_match', does_either_work_show_in_citations(F.col('paper_id_1'), F.col('paper_id_2'), \n",
    "                                                                        F.col('citations_1'), F.col('citations_2'))) \\\n",
    "    .select('sample_type','author_1','author_2','orcid_1','orcid_2',\n",
    "            F.col('per_int_insts')[0].alias('inst_1_len'), F.col('per_int_insts')[1].alias('inst_2_len'),\n",
    "            F.col('per_int_insts')[2].alias('inst_match'), F.col('per_int_insts')[3].alias('inst_sum'), \n",
    "            F.col('per_int_concepts')[0].alias('concepts_1_len'), F.col('per_int_concepts')[1].alias('concepts_2_len'),\n",
    "            F.col('per_int_concepts')[2].alias('concepts_match'), F.col('per_int_concepts')[3].alias('concepts_sum'), \n",
    "            F.col('per_int_concepts_shorter')[0].alias('concepts_shorter_1_len'), \n",
    "            F.col('per_int_concepts_shorter')[1].alias('concepts_shorter_2_len'),\n",
    "            F.col('per_int_concepts_shorter')[2].alias('concepts_shorter_match'), \n",
    "            F.col('per_int_concepts_shorter')[3].alias('concepts_shorter_sum'), \n",
    "            F.col('per_int_concepts_shortest')[0].alias('concepts_shortest_1_len'), \n",
    "            F.col('per_int_concepts_shortest')[1].alias('concepts_shortest_2_len'),\n",
    "            F.col('per_int_concepts_shortest')[2].alias('concepts_shortest_match'), \n",
    "            F.col('per_int_concepts_shortest')[3].alias('concepts_shortest_sum'), \n",
    "            F.col('per_int_coauthors_shorter')[0].alias('coauthors_shorter_1_len'), \n",
    "            F.col('per_int_coauthors_shorter')[1].alias('coauthors_shorter_2_len'),\n",
    "            F.col('per_int_coauthors_shorter')[2].alias('coauthors_shorter_match'), \n",
    "            F.col('per_int_coauthors_shorter')[3].alias('coauthors_shorter_sum'), \n",
    "            F.col('per_int_coauthors')[0].alias('coauthors_1_len'), F.col('per_int_coauthors')[1].alias('coauthors_2_len'),\n",
    "            F.col('per_int_coauthors')[2].alias('coauthors_match'), F.col('per_int_coauthors')[3].alias('coauthors_sum'), \n",
    "            F.col('per_int_citations')[0].alias('citation_1_len'), F.col('per_int_citations')[1].alias('citation_2_len'),\n",
    "            F.col('per_int_citations')[2].alias('citation_match'), F.col('per_int_citations')[3].alias('citation_sum'), \n",
    "            'citation_work_match') \\\n",
    "    .write.mode('overwrite') \\\n",
    "    .parquet(f\"{iteration_save_path}final_model_data/training_data_creation/all_final_sample_data_processed\")"
   ]
  },
  {
   "cell_type": "code",
   "execution_count": null,
   "metadata": {
    "application/vnd.databricks.v1+cell": {
     "cellMetadata": {
      "byteLimit": 2048000,
      "rowLimit": 10000
     },
     "inputWidgets": {},
     "nuid": "9fc85565-1660-4aa2-b803-1b3dd831f899",
     "showTitle": false,
     "title": ""
    }
   },
   "outputs": [],
   "source": [
    "all_sample_data = spark.read.parquet(f\"{iteration_save_path}final_model_data/training_data_creation/all_final_sample_data_processed\")\n",
    "all_sample_data.cache().count()"
   ]
  },
  {
   "cell_type": "code",
   "execution_count": null,
   "metadata": {
    "application/vnd.databricks.v1+cell": {
     "cellMetadata": {
      "byteLimit": 2048000,
      "rowLimit": 10000
     },
     "inputWidgets": {},
     "nuid": "d760abda-2361-422c-b849-06e397f166f3",
     "showTitle": false,
     "title": ""
    }
   },
   "outputs": [],
   "source": [
    "all_sample_data.groupBy('sample_type').count().show()"
   ]
  },
  {
   "cell_type": "code",
   "execution_count": null,
   "metadata": {
    "application/vnd.databricks.v1+cell": {
     "cellMetadata": {
      "byteLimit": 2048000,
      "rowLimit": 10000
     },
     "inputWidgets": {},
     "nuid": "4b0d6ae5-eafe-4700-8762-6093f306c4c3",
     "showTitle": false,
     "title": ""
    }
   },
   "outputs": [],
   "source": [
    "all_sample_data.filter(F.col('sample_type')=='positive').sample(0.01).select('coauthors_match','coauthors_shorter_match').show(30)"
   ]
  },
  {
   "cell_type": "code",
   "execution_count": null,
   "metadata": {
    "application/vnd.databricks.v1+cell": {
     "cellMetadata": {
      "byteLimit": 2048000,
      "rowLimit": 10000
     },
     "inputWidgets": {},
     "nuid": "4ad57ea6-6bb6-487e-a28c-4b123e50e665",
     "showTitle": false,
     "title": ""
    }
   },
   "outputs": [],
   "source": [
    "train, val, test = all_sample_data.randomSplit([0.99, 0.003, 0.002], seed=0)"
   ]
  },
  {
   "cell_type": "code",
   "execution_count": null,
   "metadata": {
    "application/vnd.databricks.v1+cell": {
     "cellMetadata": {
      "byteLimit": 2048000,
      "rowLimit": 10000
     },
     "inputWidgets": {},
     "nuid": "2247d7d7-9783-493c-a985-b70d12768e68",
     "showTitle": false,
     "title": ""
    }
   },
   "outputs": [],
   "source": [
    "val.coalesce(1).write.mode('overwrite') \\\n",
    "    .parquet(f\"{iteration_save_path}final_model_data/training_data/val\")"
   ]
  },
  {
   "cell_type": "code",
   "execution_count": null,
   "metadata": {
    "application/vnd.databricks.v1+cell": {
     "cellMetadata": {
      "byteLimit": 2048000,
      "rowLimit": 10000
     },
     "inputWidgets": {},
     "nuid": "f8b05080-7995-4867-a377-107b2601744b",
     "showTitle": false,
     "title": ""
    }
   },
   "outputs": [],
   "source": [
    "test.coalesce(1).write.mode('overwrite') \\\n",
    "    .parquet(f\"{iteration_save_path}final_model_data/training_data/test\")"
   ]
  },
  {
   "cell_type": "code",
   "execution_count": null,
   "metadata": {
    "application/vnd.databricks.v1+cell": {
     "cellMetadata": {
      "byteLimit": 2048000,
      "rowLimit": 10000
     },
     "inputWidgets": {},
     "nuid": "09c7d066-d798-4707-bb83-6f7df97248b2",
     "showTitle": false,
     "title": ""
    }
   },
   "outputs": [],
   "source": [
    "val_df = spark.read.parquet(f\"{iteration_save_path}final_model_data/training_data/val\")\n",
    "val_df.cache().count()"
   ]
  },
  {
   "cell_type": "code",
   "execution_count": null,
   "metadata": {
    "application/vnd.databricks.v1+cell": {
     "cellMetadata": {
      "byteLimit": 2048000,
      "rowLimit": 10000
     },
     "inputWidgets": {},
     "nuid": "afbe877c-4076-4e24-803a-db2a758b82a3",
     "showTitle": false,
     "title": ""
    }
   },
   "outputs": [],
   "source": [
    "test_df = spark.read.parquet(f\"{iteration_save_path}final_model_data/training_data/test\")\n",
    "test_df.cache().count()"
   ]
  },
  {
   "cell_type": "code",
   "execution_count": null,
   "metadata": {
    "application/vnd.databricks.v1+cell": {
     "cellMetadata": {
      "byteLimit": 2048000,
      "rowLimit": 10000
     },
     "inputWidgets": {},
     "nuid": "b4b9b934-f983-4137-b26c-a0a32ff0b046",
     "showTitle": false,
     "title": ""
    }
   },
   "outputs": [],
   "source": [
    "train.count()"
   ]
  },
  {
   "cell_type": "code",
   "execution_count": null,
   "metadata": {
    "application/vnd.databricks.v1+cell": {
     "cellMetadata": {
      "byteLimit": 2048000,
      "rowLimit": 10000
     },
     "inputWidgets": {},
     "nuid": "31e62fe5-935c-4019-8a10-a63eac858a85",
     "showTitle": false,
     "title": ""
    }
   },
   "outputs": [],
   "source": [
    "# making sure that none of the validation or testing samples show up in the training dataset\n",
    "train \\\n",
    "    .join(val_df, how='leftanti', on='orcid_1') \\\n",
    "    .join(val_df, how='leftanti', on='orcid_2') \\\n",
    "    .join(val_df.select(F.col('orcid_1').alias('orcid_2')), how='leftanti', on='orcid_2') \\\n",
    "    .join(val_df.select(F.col('orcid_2').alias('orcid_1')), how='leftanti', on='orcid_1') \\\n",
    "    .join(test_df, how='leftanti', on='orcid_1') \\\n",
    "    .join(test_df, how='leftanti', on='orcid_2') \\\n",
    "    .join(test_df.select(F.col('orcid_1').alias('orcid_2')), how='leftanti', on='orcid_2') \\\n",
    "    .join(test_df.select(F.col('orcid_2').alias('orcid_1')), how='leftanti', on='orcid_1') \\\n",
    "    .coalesce(1).write.mode('overwrite') \\\n",
    "    .parquet(f\"{iteration_save_path}final_model_data/training_data/train\")"
   ]
  },
  {
   "cell_type": "code",
   "execution_count": null,
   "metadata": {
    "application/vnd.databricks.v1+cell": {
     "cellMetadata": {
      "byteLimit": 2048000,
      "rowLimit": 10000
     },
     "inputWidgets": {},
     "nuid": "2fe7e268-7656-49b7-8832-4c47f06ac36a",
     "showTitle": false,
     "title": ""
    }
   },
   "outputs": [],
   "source": [
    "spark.read.parquet(f\"{iteration_save_path}final_model_data/training_data/train\").show(10)"
   ]
  },
  {
   "cell_type": "code",
   "execution_count": null,
   "metadata": {
    "application/vnd.databricks.v1+cell": {
     "cellMetadata": {},
     "inputWidgets": {},
     "nuid": "427a4ae6-2717-4ca5-971b-2dc3d5c91c93",
     "showTitle": false,
     "title": ""
    }
   },
   "outputs": [],
   "source": []
  }
 ],
 "metadata": {
  "application/vnd.databricks.v1+notebook": {
   "dashboards": [],
   "language": "python",
   "notebookMetadata": {
    "pythonIndentUnit": 4
   },
   "notebookName": "v3_create_training_data_using_hard_samples",
   "widgets": {}
  },
  "kernelspec": {
   "display_name": "Python 3 (ipykernel)",
   "language": "python",
   "name": "python3"
  },
  "language_info": {
   "codemirror_mode": {
    "name": "ipython",
    "version": 3
   },
   "file_extension": ".py",
   "mimetype": "text/x-python",
   "name": "python",
   "nbconvert_exporter": "python",
   "pygments_lexer": "ipython3",
   "version": "3.8.12"
  }
 },
 "nbformat": 4,
 "nbformat_minor": 1
}
