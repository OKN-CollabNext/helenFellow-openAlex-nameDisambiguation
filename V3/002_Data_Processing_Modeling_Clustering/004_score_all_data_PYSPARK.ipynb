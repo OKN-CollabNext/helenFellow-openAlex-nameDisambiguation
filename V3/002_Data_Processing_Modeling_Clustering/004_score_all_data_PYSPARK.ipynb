{
 "cells": [
  {
   "cell_type": "code",
   "execution_count": 0,
   "metadata": {
    "application/vnd.databricks.v1+cell": {
     "cellMetadata": {
      "byteLimit": 2048000,
      "rowLimit": 10000
     },
     "inputWidgets": {},
     "nuid": "44920190-9120-4ae8-858f-14f52b073315",
     "showTitle": false,
     "title": ""
    }
   },
   "outputs": [
    {
     "data": {
      "application/vnd.databricks.v1+bamboolib_hint": "{\"pd.DataFrames\": [], \"version\": \"0.0.1\"}",
      "text/plain": []
     },
     "metadata": {},
     "output_type": "display_data"
    }
   ],
   "source": [
    "import pickle\n",
    "import boto3\n",
    "import re\n",
    "import json\n",
    "import random\n",
    "import unicodedata\n",
    "# import unidecode\n",
    "import pandas as pd\n",
    "import numpy as np\n",
    "import time\n",
    "from datetime import datetime, timedelta\n",
    "# from nameparser import HumanName\n",
    "\n",
    "from pyspark.sql import functions as F\n",
    "from pyspark.sql.window import Window\n",
    "from pyspark.sql.types import IntegerType, StringType, FloatType, ArrayType, DoubleType, StructType, StructField"
   ]
  },
  {
   "cell_type": "code",
   "execution_count": 0,
   "metadata": {
    "application/vnd.databricks.v1+cell": {
     "cellMetadata": {
      "byteLimit": 2048000,
      "rowLimit": 10000
     },
     "inputWidgets": {},
     "nuid": "eb2086b1-79ea-4dee-95c5-fc5b86ce8d3f",
     "showTitle": false,
     "title": ""
    }
   },
   "outputs": [],
   "source": [
    "spark.catalog.clearCache()"
   ]
  },
  {
   "cell_type": "code",
   "execution_count": 0,
   "metadata": {
    "application/vnd.databricks.v1+cell": {
     "cellMetadata": {
      "byteLimit": 2048000,
      "rowLimit": 10000
     },
     "inputWidgets": {},
     "nuid": "5f29191d-1059-4a1a-a42b-0a11e8599c1f",
     "showTitle": false,
     "title": ""
    }
   },
   "outputs": [],
   "source": [
    "base_save_path = \"<S3path>\"\n",
    "iteration_save_path = \"<S3path>\""
   ]
  },
  {
   "cell_type": "markdown",
   "metadata": {
    "application/vnd.databricks.v1+cell": {
     "cellMetadata": {},
     "inputWidgets": {},
     "nuid": "47f9abef-de4b-45bd-8d74-3d30740105f2",
     "showTitle": false,
     "title": ""
    }
   },
   "source": [
    "#### Load affiliations data"
   ]
  },
  {
   "cell_type": "code",
   "execution_count": 0,
   "metadata": {
    "application/vnd.databricks.v1+cell": {
     "cellMetadata": {
      "byteLimit": 2048000,
      "rowLimit": 10000
     },
     "inputWidgets": {},
     "nuid": "1fc33ba9-5d78-4ff2-bfc8-0ba82c2edf70",
     "showTitle": false,
     "title": ""
    }
   },
   "outputs": [],
   "source": [
    "@udf(returnType=ArrayType(StringType()))\n",
    "def group_non_latin_characters(text):\n",
    "    groups = []\n",
    "    text = text.replace(\".\", \"\").replace(\" \", \"\")\n",
    "    for char in text:\n",
    "        try:\n",
    "            script = unicodedata.name(char).split(\" \")[0]\n",
    "            if script == 'LATIN':\n",
    "                pass\n",
    "            else:\n",
    "                if script not in groups:\n",
    "                    groups.append(script)\n",
    "        except:\n",
    "            if \"UNK\" not in groups:\n",
    "                groups.append(\"UNK\")\n",
    "    return groups"
   ]
  },
  {
   "cell_type": "code",
   "execution_count": 0,
   "metadata": {
    "application/vnd.databricks.v1+cell": {
     "cellMetadata": {
      "byteLimit": 2048000,
      "rowLimit": 10000
     },
     "inputWidgets": {},
     "nuid": "390a061c-0d69-4c60-a305-cd3f6808dba4",
     "showTitle": false,
     "title": ""
    }
   },
   "outputs": [],
   "source": [
    "@udf(returnType=IntegerType())\n",
    "def name_to_keep_ind(groups):\n",
    "    groups_to_skip = ['HIRAGANA', 'CJK', 'KATAKANA','ARABIC', 'HANGUL', 'THAI','DEVANAGARI','BENGALI',\n",
    "                      'THAANA','GUJARATI']\n",
    "    \n",
    "    if any(x in groups_to_skip for x in groups):\n",
    "        return 0\n",
    "    else:\n",
    "        return 1"
   ]
  },
  {
   "cell_type": "code",
   "execution_count": 0,
   "metadata": {
    "application/vnd.databricks.v1+cell": {
     "cellMetadata": {
      "byteLimit": 2048000,
      "rowLimit": 10000
     },
     "inputWidgets": {},
     "nuid": "648be189-ef99-403c-b07f-74b105dec9eb",
     "showTitle": false,
     "title": ""
    }
   },
   "outputs": [],
   "source": [
    "def length_greater_than_6(x):\n",
    "    return (x > 6)\n",
    "\n",
    "def concept_L0_removed(x):\n",
    "    return ~x.isin(['17744445','138885662','162324750','144133560','15744967','33923547','71924100','86803240','41008148','127313418','185592680','142362112','144024400','127413603','205649164','95457728','192562407','121332964','39432304'])"
   ]
  },
  {
   "cell_type": "code",
   "execution_count": 0,
   "metadata": {
    "application/vnd.databricks.v1+cell": {
     "cellMetadata": {
      "byteLimit": 2048000,
      "rowLimit": 10000
     },
     "inputWidgets": {},
     "nuid": "c5a46590-6ad8-4a00-b0c2-4f5489b6ec1a",
     "showTitle": false,
     "title": ""
    }
   },
   "outputs": [
    {
     "name": "stdout",
     "output_type": "stream",
     "text": [
      "Out[8]: 633827872"
     ]
    }
   ],
   "source": [
    "aff_data = spark.read.parquet(f\"{iteration_save_path}final_model_data/all_sample_data_for_all_work_authors\") \\\n",
    "    .select(F.col('work_id').alias('work_id_1'), F.col('orcid').alias('orcid_1'), F.col('coauthors').alias('coauthors_1'), \n",
    "            F.col('citations').alias('citations_1'), F.col('institutions').alias('institutions_1'), \n",
    "            F.col('original_author').alias('author_1'), F.col('concepts').alias('concepts_1')) \\\n",
    "    .withColumn('non_latin_groups', group_non_latin_characters(F.col('author_1')))\n",
    "    .withColumn('paper_id_1', F.split(F.col('work_id_1'), \"_\").getItem(0)) \\\n",
    "    .withColumn('concepts_1', F.array_distinct(F.col('concepts_1'))) \\\n",
    "    .withColumn('concepts_shorter_1', F.filter(F.col('concepts_1'), concept_L0_removed)) \\\n",
    "    .withColumn('coauthors_shorter_1', F.filter(F.col('coauthors_1'), length_greater_than_6))\n",
    "\n",
    "aff_data.cache().count()"
   ]
  },
  {
   "cell_type": "code",
   "execution_count": 0,
   "metadata": {
    "application/vnd.databricks.v1+cell": {
     "cellMetadata": {
      "byteLimit": 2048000,
      "rowLimit": 10000
     },
     "inputWidgets": {},
     "nuid": "25529845-88ac-4aad-b022-bc9656fa2fc9",
     "showTitle": false,
     "title": ""
    }
   },
   "outputs": [],
   "source": [
    "aff_data \\\n",
    "    .select(F.col('work_id_1').alias('work_id'), F.col('orcid_1').alias('orcid'), \n",
    "        F.col('institutions_1').alias('institutions'), F.col('citations_1').alias('citations'),\n",
    "        F.col('author_1').alias('author'), F.col('concepts_shorter_1').alias('concepts_shorter'), \n",
    "        F.col('paper_id_1').alias('paper_id'), F.col('coauthors_shorter_1').alias('coauthors_shorter')) \\\n",
    "    .write.mode('overwrite') \\\n",
    "    .parquet(f\"{iteration_save_path}final_model_data/all_sample_data_for_all_work_authors_model_features\")"
   ]
  },
  {
   "cell_type": "code",
   "execution_count": 0,
   "metadata": {
    "application/vnd.databricks.v1+cell": {
     "cellMetadata": {
      "byteLimit": 2048000,
      "rowLimit": 10000
     },
     "inputWidgets": {},
     "nuid": "69d017bf-2b4e-42a7-8c66-69adf314bb6a",
     "showTitle": false,
     "title": ""
    }
   },
   "outputs": [
    {
     "data": {
      "text/plain": [
       "590722794"
      ]
     },
     "execution_count": 9,
     "metadata": {},
     "output_type": "execute_result"
    }
   ],
   "source": [
    "aff_data = spark.read.parquet(f\"{iteration_save_path}final_model_data/all_sample_data_for_all_work_authors_model_features\") \\\n",
    "    .filter(F.col('author').isNotNull()) \\\n",
    "    .filter(F.col('author')!='') \\\n",
    "    .withColumn('non_latin_groups', group_non_latin_characters(F.col('author'))) \\\n",
    "    .withColumn('name_to_keep_ind', name_to_keep_ind('non_latin_groups')) \\\n",
    "    .filter(F.col('name_to_keep_ind')==1)\n",
    "\n",
    "aff_data.cache().count()"
   ]
  },
  {
   "cell_type": "code",
   "execution_count": 0,
   "metadata": {
    "application/vnd.databricks.v1+cell": {
     "cellMetadata": {
      "byteLimit": 2048000,
      "rowLimit": 10000
     },
     "inputWidgets": {},
     "nuid": "0631228f-39c9-427c-877e-b19af6474660",
     "showTitle": false,
     "title": ""
    }
   },
   "outputs": [],
   "source": [
    "aff_data \\\n",
    "    .select(F.col('work_id'), F.col('orcid'), \n",
    "        F.col('institutions'), F.col('citations'),\n",
    "        F.col('author'), F.col('concepts_shorter'), \n",
    "        F.col('paper_id'), F.col('coauthors_shorter')) \\\n",
    "    .write.format('parquet').bucketBy(4192, 'work_id').sortBy('work_id').mode('overwrite') \\\n",
    "    .saveAsTable(\"aff_join_latin_xbuckets\")"
   ]
  },
  {
   "cell_type": "markdown",
   "metadata": {
    "application/vnd.databricks.v1+cell": {
     "cellMetadata": {},
     "inputWidgets": {},
     "nuid": "e6dc00ab-d93f-4f9b-ae4a-15ef77675d0d",
     "showTitle": false,
     "title": ""
    }
   },
   "source": [
    "### Read Tables"
   ]
  },
  {
   "cell_type": "code",
   "execution_count": 0,
   "metadata": {
    "application/vnd.databricks.v1+cell": {
     "cellMetadata": {
      "byteLimit": 2048000,
      "rowLimit": 10000
     },
     "inputWidgets": {},
     "nuid": "90bbfda1-293c-408c-8292-07b0bded0170",
     "showTitle": false,
     "title": ""
    }
   },
   "outputs": [
    {
     "data": {
      "text/plain": [
       "590722794"
      ]
     },
     "execution_count": 7,
     "metadata": {},
     "output_type": "execute_result"
    }
   ],
   "source": [
    "aff_join_1 = spark.read.table(\"aff_join_latin_xbuckets\") \\\n",
    "    .select(F.col('work_id').alias('work_id_1'), F.col('orcid').alias('orcid_1'),\n",
    "        F.col('institutions').alias('institutions_1'), F.col('citations').alias('citations_1'),\n",
    "        F.col('author').alias('author_1'),\n",
    "        F.col('concepts_shorter').alias('concepts_shorter_1'), F.col('paper_id').alias('paper_id_1'), \n",
    "        F.col('coauthors_shorter').alias('coauthors_shorter_1'))\n",
    "    \n",
    "aff_join_1.cache().count()"
   ]
  },
  {
   "cell_type": "code",
   "execution_count": 0,
   "metadata": {
    "application/vnd.databricks.v1+cell": {
     "cellMetadata": {
      "byteLimit": 2048000,
      "rowLimit": 10000
     },
     "inputWidgets": {},
     "nuid": "c6517980-798b-4688-beeb-e96a928e22bc",
     "showTitle": false,
     "title": ""
    }
   },
   "outputs": [
    {
     "data": {
      "text/plain": [
       "590722794"
      ]
     },
     "execution_count": 8,
     "metadata": {},
     "output_type": "execute_result"
    }
   ],
   "source": [
    "aff_join_2 = spark.read.table(\"aff_join_latin_xbuckets\") \\\n",
    "    .select(F.col('work_id').alias('work_id_2'), F.col('orcid').alias('orcid_2'),\n",
    "        F.col('institutions').alias('institutions_2'), F.col('citations').alias('citations_2'),\n",
    "        F.col('author').alias('author_2'),\n",
    "        F.col('concepts_shorter').alias('concepts_shorter_2'), F.col('paper_id').alias('paper_id_2'), \n",
    "        F.col('coauthors_shorter').alias('coauthors_shorter_2'))\n",
    "    \n",
    "aff_join_2.cache().count()"
   ]
  },
  {
   "cell_type": "markdown",
   "metadata": {
    "application/vnd.databricks.v1+cell": {
     "cellMetadata": {},
     "inputWidgets": {},
     "nuid": "285acd11-fac2-4526-9af5-8f2e6473037e",
     "showTitle": false,
     "title": ""
    }
   },
   "source": [
    "#### Join to DF and create features"
   ]
  },
  {
   "cell_type": "code",
   "execution_count": null,
   "metadata": {},
   "outputs": [],
   "source": [
    "num_partitions = # number of partitions of the data (partitioned by names)"
   ]
  },
  {
   "cell_type": "code",
   "execution_count": null,
   "metadata": {
    "application/vnd.databricks.v1+cell": {
     "cellMetadata": {
      "byteLimit": 2048000,
      "rowLimit": 10000
     },
     "inputWidgets": {},
     "nuid": "f095717a-af77-4b8a-8002-bcf1a5ffa2e6",
     "showTitle": false,
     "title": ""
    }
   },
   "outputs": [],
   "source": [
    "for i in range(num_partitions):\n",
    "    start_time = time.time()\n",
    "    print(i, (datetime.now() - timedelta(hours=4)).strftime(\"%m/%d/%y %H:%M\"))\n",
    "\n",
    "    part_num = i\n",
    "\n",
    "    test_df = spark.read \\\n",
    "        .parquet(f\"{iteration_save_path}final_model_data/block_creation/all_names_blocked_and_matched_work_ids/random_part={part_num}/\") \\\n",
    "        .join(aff_join_1, how='inner', on='work_id_1') \\\n",
    "        .join(aff_join_2, how='inner', on='work_id_2')\n",
    "\n",
    "    test_df \\\n",
    "        .filter((F.col('orcid_1') == F.col('orcid_2')) & \n",
    "                (F.col('orcid_1')!='')) \\\n",
    "        .write.mode('overwrite') \\\n",
    "        .parquet(f\"{iteration_save_path}final_model_data/orcid_init_pairs/part={part_num}/\")\n",
    "    print(\"-------ORCID done\")\n",
    "    \n",
    "    test_df \\\n",
    "        .filter(~((F.col('orcid_1') == F.col('orcid_2')) & \n",
    "                (F.col('orcid_1')!=''))) \\\n",
    "        .filter(~((F.col('orcid_1')!=F.col('orcid_2')) & (F.col('orcid_1')!='') & (F.col('orcid_2')!=''))) \\\n",
    "        .write.mode('overwrite') \\\n",
    "        .parquet(f\"{iteration_save_path}final_model_data/data_to_score/part={part_num}/\")\n",
    "\n",
    "    print(f\"-------------- total time: {round((time.time()-start_time)/60/60, 3)} hours\")"
   ]
  },
  {
   "cell_type": "markdown",
   "metadata": {
    "application/vnd.databricks.v1+cell": {
     "cellMetadata": {},
     "inputWidgets": {},
     "nuid": "524dccf3-4b47-4fcc-a1dd-1f89b6d7ca8f",
     "showTitle": false,
     "title": ""
    }
   },
   "source": [
    "### Loading the model and scoring data"
   ]
  },
  {
   "cell_type": "code",
   "execution_count": 0,
   "metadata": {
    "application/vnd.databricks.v1+cell": {
     "cellMetadata": {
      "byteLimit": 2048000,
      "rowLimit": 10000
     },
     "inputWidgets": {},
     "nuid": "bd98abe0-b99b-4537-a4d1-064372bc9c54",
     "showTitle": false,
     "title": ""
    }
   },
   "outputs": [],
   "source": [
    "with open(\"<local-path-to-model>/Disambiguator.pkl\", \"rb\") as f:\n",
    "    disambiguator_model = pickle.load(f)\n",
    "\n",
    "broadcast_disambiguator_model = spark.sparkContext.broadcast(disambiguator_model)"
   ]
  },
  {
   "cell_type": "code",
   "execution_count": 0,
   "metadata": {
    "application/vnd.databricks.v1+cell": {
     "cellMetadata": {
      "byteLimit": 2048000,
      "rowLimit": 10000
     },
     "inputWidgets": {},
     "nuid": "e989acec-a93f-4fd8-9b58-1e53119c7a19",
     "showTitle": false,
     "title": ""
    }
   },
   "outputs": [],
   "source": [
    "@udf(returnType=IntegerType())\n",
    "def get_random_int_udf(block_id):\n",
    "    return random.randint(0, 1000000)"
   ]
  },
  {
   "cell_type": "code",
   "execution_count": 0,
   "metadata": {
    "application/vnd.databricks.v1+cell": {
     "cellMetadata": {
      "byteLimit": 2048000,
      "rowLimit": 10000
     },
     "inputWidgets": {},
     "nuid": "31ceacce-af07-4170-b2ad-5a118ef8769a",
     "showTitle": false,
     "title": ""
    }
   },
   "outputs": [],
   "source": [
    "@udf (returnType=ArrayType(ArrayType(StringType())))\n",
    "def score_data(full_arr):\n",
    "    full_arr = np.array(full_arr)\n",
    "    data_arr = full_arr[:,2:].astype('float')\n",
    "    block_arr = full_arr[:,0]\n",
    "    label_arr = full_arr[:,1]\n",
    "    model_preds = broadcast_disambiguator_model.value.predict_proba(data_arr)[:,1]\n",
    "    return np.vstack([block_arr[model_preds>0.2], label_arr[model_preds>0.2], model_preds[model_preds>0.2].astype('str')]).T.tolist()"
   ]
  },
  {
   "cell_type": "code",
   "execution_count": null,
   "metadata": {
    "application/vnd.databricks.v1+cell": {
     "cellMetadata": {
      "byteLimit": 2048000,
      "rowLimit": 10000
     },
     "inputWidgets": {},
     "nuid": "2462d748-31b6-4d9f-8b78-cd14672466e2",
     "showTitle": false,
     "title": ""
    }
   },
   "outputs": [],
   "source": [
    "for i in range(num_partitions):\n",
    "    start_time = time.time()\n",
    "    print(i, (datetime.now() - timedelta(hours=4)).strftime(\"%m/%d/%y %H:%M\"))\n",
    "\n",
    "    part_num = i\n",
    "\n",
    "    spark.read \\\n",
    "        .parquet(f\"{iteration_save_path}final_model_data/data_to_score/part={part_num}/\") \\\n",
    "        .withColumn('row_label', F.when(F.col('work_id_1') > F.col('work_id_2'), \n",
    "                                        F.concat_ws(\"|\", F.col('work_id_1'), F.col('work_id_2'))) \\\n",
    "                                            .otherwise(F.concat_ws(\"|\", F.col('work_id_2'), F.col('work_id_1')))) \\\n",
    "        .withColumn('work_1_in_citations_2', F.array_contains(F.col('citations_2'), F.col('paper_id_1')).cast(IntegerType())) \\\n",
    "        .withColumn('work_2_in_citations_1', F.array_contains(F.col('citations_1'), F.col('paper_id_2')).cast(IntegerType())) \\\n",
    "        .withColumn('citation_work_match', F.when((F.col('work_2_in_citations_1')==1) | (F.col('work_1_in_citations_2')==1), 1).otherwise(0)) \\\n",
    "        .withColumn('insts_inter', F.size(F.array_intersect(F.col('institutions_1'), F.col('institutions_2')))) \\\n",
    "        .withColumn('coauths_inter', F.size(F.array_intersect(F.col('coauthors_shorter_1'), F.col('coauthors_shorter_2')))) \\\n",
    "        .withColumn('concps_inter', F.size(F.array_intersect(F.col('concepts_shorter_1'), F.col('concepts_shorter_2')))) \\\n",
    "        .withColumn('cites_inter', F.size(F.array_intersect(F.col('citations_1'), F.col('citations_2')))) \\\n",
    "        .withColumn('coauths_union', F.size(F.array_union(F.col('coauthors_shorter_1'), F.col('coauthors_shorter_2')))) \\\n",
    "        .withColumn('concps_union', F.size(F.array_union(F.col('concepts_shorter_1'), F.col('concepts_shorter_2')))) \\\n",
    "        .withColumn('cites_union', F.size(F.array_union(F.col('citations_1'), F.col('citations_2')))) \\\n",
    "        .withColumn('inst_per', F.when(F.col('insts_inter')>0, 1).otherwise(0)) \\\n",
    "        .withColumn('coauthors_shorter_per', F.round(F.when(F.col('coauths_union')>0, \n",
    "                                                            F.col('coauths_inter')/F.col('coauths_union')).otherwise(0.0), 4)) \\\n",
    "        .withColumn('concepts_shorter_per', F.round(F.when(F.col('concps_union')>0, F.col('concps_inter')/F.col('concps_union')).otherwise(0.0), 4)) \\\n",
    "        .withColumn('citation_per', F.round(F.when(F.col('cites_union')>0, F.col('cites_inter')/F.col('cites_union')).otherwise(0.0), 4)) \\\n",
    "        .withColumn('exact_match', F.when(F.col('author_1')==F.col('author_2'), 1).otherwise(0)) \\\n",
    "        .withColumn('name_1_len', F.length(F.col('author_1'))) \\\n",
    "        .withColumn('name_1_spaces', F.size(F.split(F.col('author_1'), \" \"))) \\\n",
    "        .select('block','row_label', 'inst_per','concepts_shorter_per', 'coauthors_shorter_per', \n",
    "            (F.col('exact_match')*F.col('name_1_len')).alias('exact_match_len'),\n",
    "            (F.col('exact_match')*F.col('name_1_spaces')).alias('exact_match_spaces'), 'citation_per', 'citation_work_match') \\\n",
    "        .withColumn('random_int', get_random_int_udf(F.col('block'))) \\\n",
    "        .withColumn('concat_cols', F.array(F.col('block'), F.col('row_label').cast(StringType()), F.col('inst_per').cast(StringType()), \n",
    "                                            F.col('concepts_shorter_per').cast(StringType()), F.col('coauthors_shorter_per').cast(StringType()), \n",
    "                                            F.col('exact_match_len').cast(StringType()), F.col('exact_match_spaces').cast(StringType()), \n",
    "                                            F.col('citation_per').cast(StringType()), F.col('citation_work_match').cast(StringType()))) \\\n",
    "        .groupby('random_int') \\\n",
    "        .agg(F.collect_list(F.col('concat_cols')).alias('data_to_score')) \\\n",
    "        .withColumn('scored_data', score_data(F.col('data_to_score'))) \\\n",
    "        .select('scored_data') \\\n",
    "        .write.mode('overwrite') \\\n",
    "        .parquet(f\"{iteration_save_path}final_model_data/data_scored/part={part_num}/\")"
   ]
  },
  {
   "cell_type": "code",
   "execution_count": 0,
   "metadata": {
    "application/vnd.databricks.v1+cell": {
     "cellMetadata": {},
     "inputWidgets": {},
     "nuid": "ebe3050b-c529-4746-8141-21b0d5ffb33b",
     "showTitle": false,
     "title": ""
    }
   },
   "outputs": [],
   "source": []
  },
  {
   "cell_type": "code",
   "execution_count": 0,
   "metadata": {
    "application/vnd.databricks.v1+cell": {
     "cellMetadata": {},
     "inputWidgets": {},
     "nuid": "e97b453d-e57d-441f-a4c8-3d4c54525a8a",
     "showTitle": false,
     "title": ""
    }
   },
   "outputs": [],
   "source": []
  }
 ],
 "metadata": {
  "application/vnd.databricks.v1+notebook": {
   "dashboards": [],
   "language": "python",
   "notebookMetadata": {
    "pythonIndentUnit": 4
   },
   "notebookName": "v3_scoring_all_data_1",
   "widgets": {}
  },
  "kernelspec": {
   "display_name": "Python 3 (ipykernel)",
   "language": "python",
   "name": "python3"
  },
  "language_info": {
   "codemirror_mode": {
    "name": "ipython",
    "version": 3
   },
   "file_extension": ".py",
   "mimetype": "text/x-python",
   "name": "python",
   "nbconvert_exporter": "python",
   "pygments_lexer": "ipython3",
   "version": "3.8.12"
  }
 },
 "nbformat": 4,
 "nbformat_minor": 1
}
