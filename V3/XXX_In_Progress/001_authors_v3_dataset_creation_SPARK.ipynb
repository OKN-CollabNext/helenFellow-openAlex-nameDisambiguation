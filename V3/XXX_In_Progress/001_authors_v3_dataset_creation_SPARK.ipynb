{
 "cells": [
  {
   "cell_type": "code",
   "execution_count": 0,
   "metadata": {
    "application/vnd.databricks.v1+cell": {
     "cellMetadata": {
      "byteLimit": 2048000,
      "rowLimit": 10000
     },
     "inputWidgets": {},
     "nuid": "44920190-9120-4ae8-858f-14f52b073315",
     "showTitle": false,
     "title": ""
    }
   },
   "outputs": [
    {
     "data": {
      "application/vnd.databricks.v1+bamboolib_hint": "{\"pd.DataFrames\": [], \"version\": \"0.0.1\"}",
      "text/plain": []
     },
     "metadata": {
      "application/vnd.databricks.v1+output": {
       "addedWidgets": {},
       "arguments": {},
       "data": {
        "application/vnd.databricks.v1+bamboolib_hint": "{\"pd.DataFrames\": [], \"version\": \"0.0.1\"}",
        "text/plain": ""
       },
       "datasetInfos": [],
       "executionCount": null,
       "metadata": {
        "kernelSessionId": "e85c1956-d34caf2f548a87268dc41328"
       },
       "removedWidgets": [],
       "type": "mimeBundle"
      }
     },
     "output_type": "display_data"
    }
   ],
   "source": [
    "import pickle\n",
    "import boto3\n",
    "import re\n",
    "import json\n",
    "import pandas as pd\n",
    "import numpy as np\n",
    "import matplotlib.pyplot as plt"
   ]
  },
  {
   "cell_type": "code",
   "execution_count": 0,
   "metadata": {
    "application/vnd.databricks.v1+cell": {
     "cellMetadata": {
      "byteLimit": 2048000,
      "rowLimit": 10000
     },
     "inputWidgets": {},
     "nuid": "2ba961a2-7e64-4844-8d78-c47e5f47c752",
     "showTitle": false,
     "title": ""
    }
   },
   "outputs": [
    {
     "name": "stdout",
     "output_type": "stream",
     "text": [
      "/databricks/spark/python/pyspark/sql/context.py:117: FutureWarning: Deprecated in 3.0.0. Use SparkSession.builder.getOrCreate() instead.\n",
      "  warnings.warn(\n"
     ]
    }
   ],
   "source": [
    "from pyspark.sql import SparkSession\n",
    "sc = spark.sparkContext\n",
    "from pyspark.sql import SQLContext\n",
    "from pyspark.sql import functions as F\n",
    "from pyspark.sql.window import Window\n",
    "from pyspark.sql.types import IntegerType, StringType, FloatType, ArrayType, DoubleType, StructType, StructField\n",
    "sqlContext = SQLContext(sc)"
   ]
  },
  {
   "cell_type": "code",
   "execution_count": 0,
   "metadata": {
    "application/vnd.databricks.v1+cell": {
     "cellMetadata": {
      "byteLimit": 2048000,
      "rowLimit": 10000
     },
     "inputWidgets": {},
     "nuid": "5f29191d-1059-4a1a-a42b-0a11e8599c1f",
     "showTitle": false,
     "title": ""
    }
   },
   "outputs": [],
   "source": [
    "institutions_v2_data_path = \"s3://institutional-affiliation-classification/V3/\"\n",
    "base_save_path = \"s3://openalex-data-copy/snapshot_2023_02_15/\"\n",
    "iteration_save_path = \"s3://author-disambiguation/V3/\""
   ]
  },
  {
   "cell_type": "markdown",
   "metadata": {
    "application/vnd.databricks.v1+cell": {
     "cellMetadata": {},
     "inputWidgets": {},
     "nuid": "47f9abef-de4b-45bd-8d74-3d30740105f2",
     "showTitle": false,
     "title": ""
    }
   },
   "source": [
    "### Getting all data"
   ]
  },
  {
   "cell_type": "code",
   "execution_count": 0,
   "metadata": {
    "application/vnd.databricks.v1+cell": {
     "cellMetadata": {
      "byteLimit": 2048000,
      "rowLimit": 10000
     },
     "inputWidgets": {},
     "nuid": "54bf4b35-a7cd-4a18-b838-d4525ad984d9",
     "showTitle": false,
     "title": ""
    }
   },
   "outputs": [],
   "source": [
    "def transform_coauthors(coauthors):\n",
    "    if isinstance(coauthors, list):\n",
    "        final_coauthors = []\n",
    "        for coauthor in coauthors:\n",
    "            final_coauthors.append(check_author_name(coauthor))\n",
    "    else:\n",
    "        final_coauthors = []\n",
    "    return final_coauthors\n",
    "  \n",
    "def remove_current_author(author, coauthors):\n",
    "    return [x.strip() for x in coauthors if x!=author.strip()][:250]\n",
    "\n",
    "transform_coauthors_udf = F.udf(transform_coauthors,  ArrayType(StringType()))\n",
    "remove_current_author_udf = F.udf(remove_current_author,  ArrayType(StringType()))"
   ]
  },
  {
   "cell_type": "code",
   "execution_count": 0,
   "metadata": {
    "application/vnd.databricks.v1+cell": {
     "cellMetadata": {
      "byteLimit": 2048000,
      "rowLimit": 10000
     },
     "inputWidgets": {},
     "nuid": "d4fc723a-9647-48be-9773-33e5b0a7484a",
     "showTitle": false,
     "title": ""
    }
   },
   "outputs": [
    {
     "name": "stdout",
     "output_type": "stream",
     "text": [
      "Out[5]: 224140989"
     ]
    }
   ],
   "source": [
    "concepts = spark.read.parquet(f\"{base_save_path}static_concepts_v3\").dropDuplicates() \\\n",
    ".select(F.col('paper_id').alias('work_id'),'field_of_study',F.col('score').cast(FloatType()).alias('score')) \\\n",
    ".filter(F.col('score') >=0.32) \\\n",
    ".groupby('work_id') \\\n",
    ".agg(F.collect_list(F.col('field_of_study')).alias('concepts'))\n",
    "\n",
    "concepts.cache().count()"
   ]
  },
  {
   "cell_type": "code",
   "execution_count": 0,
   "metadata": {
    "application/vnd.databricks.v1+cell": {
     "cellMetadata": {
      "byteLimit": 2048000,
      "rowLimit": 10000
     },
     "inputWidgets": {},
     "nuid": "6ea71e75-5c70-4f59-aa0c-125a23318bd7",
     "showTitle": false,
     "title": ""
    }
   },
   "outputs": [
    {
     "name": "stdout",
     "output_type": "stream",
     "text": [
      "Out[6]: 71070238"
     ]
    }
   ],
   "source": [
    "string_to_institution = spark.read.parquet(f\"{institutions_v2_data_path}processed_bulk_data_for_V2\") \\\n",
    ".select(F.col('affiliation_string').alias('original_affiliation'), F.col('affiliation_id').alias('institutions'))\n",
    "\n",
    "string_to_institution.cache().count()"
   ]
  },
  {
   "cell_type": "code",
   "execution_count": 0,
   "metadata": {
    "application/vnd.databricks.v1+cell": {
     "cellMetadata": {
      "byteLimit": 2048000,
      "rowLimit": 10000
     },
     "inputWidgets": {},
     "nuid": "9a468abd-4eaa-494a-a230-fbdf4a7b5d20",
     "showTitle": false,
     "title": ""
    }
   },
   "outputs": [
    {
     "name": "stdout",
     "output_type": "stream",
     "text": [
      "+--------------------+------------+\n",
      "|original_affiliation|institutions|\n",
      "+--------------------+------------+\n",
      "|     MESA+ Institute|[4210162103]|\n",
      "+--------------------+------------+\n",
      "\n"
     ]
    }
   ],
   "source": [
    "string_to_institution.filter(F.col('original_affiliation')=='MESA+ Institute').show()"
   ]
  },
  {
   "cell_type": "code",
   "execution_count": 0,
   "metadata": {
    "application/vnd.databricks.v1+cell": {
     "cellMetadata": {
      "byteLimit": 2048000,
      "rowLimit": 10000
     },
     "inputWidgets": {},
     "nuid": "98e62bb7-5d47-484e-9a8f-43a734fd5beb",
     "showTitle": false,
     "title": ""
    }
   },
   "outputs": [
    {
     "name": "stdout",
     "output_type": "stream",
     "text": [
      "Out[7]: 634179075"
     ]
    }
   ],
   "source": [
    "affiliations = spark.read.parquet(f\"{base_save_path}static_affiliations\")\n",
    "affiliations.cache().count()"
   ]
  },
  {
   "cell_type": "code",
   "execution_count": 0,
   "metadata": {
    "application/vnd.databricks.v1+cell": {
     "cellMetadata": {
      "byteLimit": 2048000,
      "rowLimit": 10000
     },
     "inputWidgets": {},
     "nuid": "d8196311-4d87-4da8-873b-c3b9ddc4b200",
     "showTitle": false,
     "title": ""
    }
   },
   "outputs": [],
   "source": [
    "# affiliations.dropDuplicates() \\\n",
    "# .groupby('paper_id') \\\n",
    "# .agg(F.collect_set(F.col('original_author')).alias('all_authors')) \\\n",
    "# .write.mode('overwrite').parquet(f\"{iteration_save_path}all_authors_for_each_work\")"
   ]
  },
  {
   "cell_type": "code",
   "execution_count": 0,
   "metadata": {
    "application/vnd.databricks.v1+cell": {
     "cellMetadata": {
      "byteLimit": 2048000,
      "rowLimit": 10000
     },
     "inputWidgets": {},
     "nuid": "1d2e092a-dd14-47cd-b089-55dfca3731c4",
     "showTitle": false,
     "title": ""
    }
   },
   "outputs": [
    {
     "name": "stdout",
     "output_type": "stream",
     "text": [
      "Out[15]: 227593673"
     ]
    }
   ],
   "source": [
    "coauthors = spark.read.parquet(f\"{iteration_save_path}all_authors_for_each_work\") \\\n",
    ".select(F.col('paper_id').alias('work_id'), 'all_authors')\n",
    "coauthors.cache().count()"
   ]
  },
  {
   "cell_type": "code",
   "execution_count": 0,
   "metadata": {
    "application/vnd.databricks.v1+cell": {
     "cellMetadata": {
      "byteLimit": 2048000,
      "rowLimit": 10000
     },
     "inputWidgets": {},
     "nuid": "70a6ceb2-6b77-4e91-9704-47a2998b922d",
     "showTitle": false,
     "title": ""
    }
   },
   "outputs": [
    {
     "name": "stdout",
     "output_type": "stream",
     "text": [
      "Out[4]: 248663413"
     ]
    }
   ],
   "source": [
    "works = spark.read.parquet(f\"{base_save_path}static_works\").select('paper_id',\n",
    "                                                                   F.trim(F.col('doi')).alias('doi')) \\\n",
    ".dropDuplicates(subset=['paper_id'])\n",
    "works.cache().count()"
   ]
  },
  {
   "cell_type": "markdown",
   "metadata": {
    "application/vnd.databricks.v1+cell": {
     "cellMetadata": {},
     "inputWidgets": {},
     "nuid": "cc9d5a7b-f18c-41f3-9ec4-dd4e4ce0b94e",
     "showTitle": false,
     "title": ""
    }
   },
   "source": [
    "#### Creating Base ORCID clusters"
   ]
  },
  {
   "cell_type": "code",
   "execution_count": 0,
   "metadata": {
    "application/vnd.databricks.v1+cell": {
     "cellMetadata": {
      "byteLimit": 2048000,
      "rowLimit": 10000
     },
     "inputWidgets": {},
     "nuid": "1432593e-7ca0-400d-9a4e-466d2da14d2a",
     "showTitle": false,
     "title": ""
    }
   },
   "outputs": [],
   "source": [
    "orcid_names = spark.read.parquet(f\"{iteration_save_path}orcid_names_data_dump.parquet\").dropDuplicates(subset=['orcid'])"
   ]
  },
  {
   "cell_type": "code",
   "execution_count": 0,
   "metadata": {
    "application/vnd.databricks.v1+cell": {
     "cellMetadata": {
      "byteLimit": 2048000,
      "rowLimit": 10000
     },
     "inputWidgets": {},
     "nuid": "aa2ecc89-ed1d-413e-b61b-853b58a11b00",
     "showTitle": false,
     "title": ""
    }
   },
   "outputs": [
    {
     "name": "stdout",
     "output_type": "stream",
     "text": [
      "Out[16]: 14845875"
     ]
    }
   ],
   "source": [
    "orcid_names.cache().count()"
   ]
  },
  {
   "cell_type": "code",
   "execution_count": 0,
   "metadata": {
    "application/vnd.databricks.v1+cell": {
     "cellMetadata": {
      "byteLimit": 2048000,
      "rowLimit": 10000
     },
     "inputWidgets": {},
     "nuid": "1683f34e-270a-4d69-aec3-5c17eb8044da",
     "showTitle": false,
     "title": ""
    }
   },
   "outputs": [],
   "source": [
    "orcid_dois = spark.read.option('header', True).csv(f\"{iteration_save_path}orcid_ids_to_work_dois\") \\\n",
    ".select(F.trim(F.col('doi')).alias('doi'),F.col('orcid').alias('orcid'))"
   ]
  },
  {
   "cell_type": "code",
   "execution_count": 0,
   "metadata": {
    "application/vnd.databricks.v1+cell": {
     "cellMetadata": {
      "byteLimit": 2048000,
      "rowLimit": 10000
     },
     "inputWidgets": {},
     "nuid": "9fe93147-d186-4afa-849f-1433890dcab5",
     "showTitle": false,
     "title": ""
    }
   },
   "outputs": [
    {
     "name": "stdout",
     "output_type": "stream",
     "text": [
      "Out[6]: 84040875"
     ]
    }
   ],
   "source": [
    "orcid_dois.cache().count()"
   ]
  },
  {
   "cell_type": "code",
   "execution_count": 0,
   "metadata": {
    "application/vnd.databricks.v1+cell": {
     "cellMetadata": {
      "byteLimit": 2048000,
      "rowLimit": 10000
     },
     "inputWidgets": {},
     "nuid": "602d1040-0702-4d4e-86e3-a3f5ec3aa6f7",
     "showTitle": false,
     "title": ""
    }
   },
   "outputs": [
    {
     "name": "stdout",
     "output_type": "stream",
     "text": [
      "Out[7]: 66985160"
     ]
    }
   ],
   "source": [
    "works.join(orcid_dois, how='inner', on='doi').count()"
   ]
  },
  {
   "cell_type": "markdown",
   "metadata": {
    "application/vnd.databricks.v1+cell": {
     "cellMetadata": {},
     "inputWidgets": {},
     "nuid": "84567749-e41f-41b3-92e4-51fdbdf33c33",
     "showTitle": false,
     "title": ""
    }
   },
   "source": [
    "#### Saving DOIs that are showing up in ORCID but not OpenAlex"
   ]
  },
  {
   "cell_type": "code",
   "execution_count": 0,
   "metadata": {
    "application/vnd.databricks.v1+cell": {
     "cellMetadata": {
      "byteLimit": 2048000,
      "rowLimit": 10000
     },
     "inputWidgets": {},
     "nuid": "9bc95f85-cfa4-4809-8d50-1e58f0acdcae",
     "showTitle": false,
     "title": ""
    }
   },
   "outputs": [
    {
     "name": "stdout",
     "output_type": "stream",
     "text": [
      "Out[21]: 17065817"
     ]
    }
   ],
   "source": [
    "orcid_dois.join(works, how='left', on='doi').filter(F.col('paper_id').isNull()).count()"
   ]
  },
  {
   "cell_type": "code",
   "execution_count": 0,
   "metadata": {
    "application/vnd.databricks.v1+cell": {
     "cellMetadata": {
      "byteLimit": 2048000,
      "rowLimit": 10000
     },
     "inputWidgets": {},
     "nuid": "4af5c9c4-0e7d-484d-9178-5f0c0cf84828",
     "showTitle": false,
     "title": ""
    }
   },
   "outputs": [
    {
     "name": "stdout",
     "output_type": "stream",
     "text": [
      "Out[23]: 17065.817"
     ]
    }
   ],
   "source": [
    "17065817*0.001"
   ]
  },
  {
   "cell_type": "code",
   "execution_count": 0,
   "metadata": {
    "application/vnd.databricks.v1+cell": {
     "cellMetadata": {
      "byteLimit": 2048000,
      "rowLimit": 10000
     },
     "inputWidgets": {},
     "nuid": "b1c73182-06af-449a-9472-c60cb62c90b2",
     "showTitle": false,
     "title": ""
    }
   },
   "outputs": [],
   "source": [
    "orcid_dois.join(works, how='left', on='doi').filter(F.col('paper_id').isNull()).sample(0.001) \\\n",
    ".coalesce(1).write.mode('overwrite').parquet(f\"{iteration_save_path}doi_missing_in_openalex_sample\")"
   ]
  },
  {
   "cell_type": "code",
   "execution_count": 0,
   "metadata": {
    "application/vnd.databricks.v1+cell": {
     "cellMetadata": {
      "byteLimit": 2048000,
      "rowLimit": 10000
     },
     "inputWidgets": {},
     "nuid": "27783599-1ddf-472d-8773-8628d41f1e1f",
     "showTitle": false,
     "title": ""
    }
   },
   "outputs": [],
   "source": [
    "def get_author_string_match_(given, family, potential_names):\n",
    "    \n",
    "    skip_list = [\" \", \",\" ,\".\" ,\"-\" ,\":\" ,\"/\"]\n",
    "    if given:\n",
    "        given_processed = [i for i in given.lower() if i not in skip_list]\n",
    "    else:\n",
    "        given_processed = []\n",
    "    \n",
    "    if family:\n",
    "        family_processed = [i for i in family.lower() if i not in skip_list]\n",
    "    else:\n",
    "        family_processed = []\n",
    "    full_name = list(set(given_processed + family_processed))\n",
    "    \n",
    "    final_name = []\n",
    "    for pot_name in potential_names:\n",
    "        pot_name_processed = \"\".join([i for i in pot_name.lower() if i not in skip_list])\n",
    "        if family_processed:\n",
    "            if \"\".join(family_processed) in pot_name_processed:\n",
    "                final_name.append(pot_name)\n",
    "            else:\n",
    "                pass\n",
    "        else:\n",
    "            pass\n",
    "    \n",
    "    if len(final_name) > 1:\n",
    "        final_name = []\n",
    "#         curr_total = 0\n",
    "#         for pot_name in final_name:\n",
    "#             pot_name_processed = [i for i in pot_name.lower() if i not in skip_list]\n",
    "#             if given_processed:\n",
    "#                 string_to_test = [x for x in \"\".join(\"\".join(pot_name_processed).split(\"\".join(family_processed)))]\n",
    "#                 temp_total = sum(x in given_processed for x in list(set(string_to_test)))\n",
    "#                 if temp_total > curr_total:\n",
    "#                     curr_total = temp_total\n",
    "#                     final_name = [pot_name]\n",
    "#                 else:\n",
    "#                     pass\n",
    "#             else:\n",
    "#                 pass\n",
    "        \n",
    "    if final_name:\n",
    "        return final_name[0]\n",
    "    else:\n",
    "        return \"NO_MATCH_POSSIBLE\"\n",
    "\n",
    "\n",
    "get_author_string_match = F.udf(get_author_string_match_, StringType())"
   ]
  },
  {
   "cell_type": "code",
   "execution_count": 0,
   "metadata": {
    "application/vnd.databricks.v1+cell": {
     "cellMetadata": {
      "byteLimit": 2048000,
      "rowLimit": 10000
     },
     "inputWidgets": {},
     "nuid": "275791a6-486b-4dd9-939d-0900b213d646",
     "showTitle": false,
     "title": ""
    }
   },
   "outputs": [],
   "source": [
    "def clean_family_name_(fam_name):\n",
    "    skip_list = [\" \", \",\" ,\".\" ,\"-\" ,\":\" ,\"/\"]\n",
    "    new_fam_name = fam_name.replace(\"\\t\", \"\").strip()\n",
    "    new_fam_name = new_fam_name.replace(\"-\", \" \").strip()\n",
    "    new_fam_name = new_fam_name.title().replace(\" \", \"\")\n",
    "    new_fam_name = \"\".join([x for x in new_fam_name if x not in skip_list])\n",
    "    return new_fam_name\n",
    "\n",
    "clean_family_name = F.udf(clean_family_name_, StringType())"
   ]
  },
  {
   "cell_type": "code",
   "execution_count": 0,
   "metadata": {
    "application/vnd.databricks.v1+cell": {
     "cellMetadata": {
      "byteLimit": 2048000,
      "rowLimit": 10000
     },
     "inputWidgets": {},
     "nuid": "b223d4fe-645b-41b9-976c-70068e4026f2",
     "showTitle": false,
     "title": ""
    }
   },
   "outputs": [],
   "source": [
    "def turn_string_to_list_(str_array):\n",
    "    return [x for x in str_array[1:-1].split(\", \") if x!='-1']\n",
    "\n",
    "turn_string_to_list = F.udf(turn_string_to_list_, ArrayType(StringType()))"
   ]
  },
  {
   "cell_type": "code",
   "execution_count": 0,
   "metadata": {
    "application/vnd.databricks.v1+cell": {
     "cellMetadata": {
      "byteLimit": 2048000,
      "rowLimit": 10000
     },
     "inputWidgets": {},
     "nuid": "c9cdb2bc-c3ea-46a4-b3bf-963dbaeb1c96",
     "showTitle": false,
     "title": ""
    }
   },
   "outputs": [
    {
     "data": {
      "text/html": [
       "<style scoped>\n",
       "  .ansiout {\n",
       "    display: block;\n",
       "    unicode-bidi: embed;\n",
       "    white-space: pre-wrap;\n",
       "    word-wrap: break-word;\n",
       "    word-break: break-all;\n",
       "    font-family: \"Source Code Pro\", \"Menlo\", monospace;;\n",
       "    font-size: 13px;\n",
       "    color: #555;\n",
       "    margin-left: 4px;\n",
       "    line-height: 19px;\n",
       "  }\n",
       "</style>"
      ]
     },
     "metadata": {
      "application/vnd.databricks.v1+output": {
       "arguments": {},
       "data": "",
       "errorSummary": "Cancelled",
       "errorTraceType": "html",
       "metadata": {},
       "type": "ipynbError"
      }
     },
     "output_type": "display_data"
    }
   ],
   "source": [
    "grouped_aff_data = affiliations.select(F.col('paper_id').alias('work_id'),'original_author').dropDuplicates() \\\n",
    ".filter(~F.col('original_author').isNull()) \\\n",
    ".filter(F.col('original_author')!='') \\\n",
    ".groupby('work_id') \\\n",
    ".agg(F.collect_list(F.col('original_author')).alias('potential_author_strings')) \\\n",
    ".write.mode('overwrite').parquet(f\"{iteration_save_path}grouped_aff_data_for_orcid_string_match\")"
   ]
  },
  {
   "cell_type": "code",
   "execution_count": 0,
   "metadata": {
    "application/vnd.databricks.v1+cell": {
     "cellMetadata": {
      "byteLimit": 2048000,
      "rowLimit": 10000
     },
     "inputWidgets": {},
     "nuid": "1acf14bc-2b21-49aa-80bb-ebc815025376",
     "showTitle": false,
     "title": ""
    }
   },
   "outputs": [
    {
     "name": "stdout",
     "output_type": "stream",
     "text": [
      "Out[19]: 227519559"
     ]
    }
   ],
   "source": [
    "grouped_aff_data = spark.read.parquet(f\"{iteration_save_path}grouped_aff_data_for_orcid_string_match\") \\\n",
    ".select(F.col('work_id').alias('paper_id'), 'potential_author_strings')\n",
    "grouped_aff_data.cache().count()"
   ]
  },
  {
   "cell_type": "code",
   "execution_count": 0,
   "metadata": {
    "application/vnd.databricks.v1+cell": {
     "cellMetadata": {
      "byteLimit": 2048000,
      "rowLimit": 10000
     },
     "inputWidgets": {},
     "nuid": "878381b0-21a9-438a-8577-01ae349304f8",
     "showTitle": false,
     "title": ""
    }
   },
   "outputs": [],
   "source": [
    "works\\\n",
    ".join(orcid_dois, how='inner', on='doi') \\\n",
    ".join(orcid_names, how='inner', on='orcid') \\\n",
    ".join(grouped_aff_data, how='inner', on='paper_id') \\\n",
    ".dropDuplicates(subset=['paper_id','orcid','doi','given_names','family_name']) \\\n",
    ".withColumn('raw_name', get_author_string_match(F.col('given_names'), F.col('family_name'), F.col('potential_author_strings'))) \\\n",
    ".write.mode('overwrite').parquet(f\"{iteration_save_path}orcid_base_cluster_new_method_raw\")"
   ]
  },
  {
   "cell_type": "code",
   "execution_count": 0,
   "metadata": {
    "application/vnd.databricks.v1+cell": {
     "cellMetadata": {
      "byteLimit": 2048000,
      "rowLimit": 10000
     },
     "inputWidgets": {},
     "nuid": "b674faf9-2f4c-4837-ba64-290f9a57ecca",
     "showTitle": false,
     "title": ""
    }
   },
   "outputs": [],
   "source": [
    "orcid_parsed_strings = spark.read.parquet(f\"{iteration_save_path}orcid_base_cluster_new_method_raw\")"
   ]
  },
  {
   "cell_type": "code",
   "execution_count": 0,
   "metadata": {
    "application/vnd.databricks.v1+cell": {
     "cellMetadata": {
      "byteLimit": 2048000,
      "rowLimit": 10000
     },
     "inputWidgets": {},
     "nuid": "9418db94-52b4-44ee-b9bc-312165c48ca9",
     "showTitle": false,
     "title": ""
    }
   },
   "outputs": [
    {
     "name": "stdout",
     "output_type": "stream",
     "text": [
      "Out[21]: 42567198"
     ]
    }
   ],
   "source": [
    "orcid_parsed_strings.cache().count()"
   ]
  },
  {
   "cell_type": "code",
   "execution_count": 0,
   "metadata": {
    "application/vnd.databricks.v1+cell": {
     "cellMetadata": {
      "byteLimit": 2048000,
      "rowLimit": 10000
     },
     "inputWidgets": {},
     "nuid": "eda81ff7-6686-497b-9f38-e148732ec62c",
     "showTitle": false,
     "title": ""
    }
   },
   "outputs": [
    {
     "name": "stdout",
     "output_type": "stream",
     "text": [
      "Out[29]: 5848465"
     ]
    }
   ],
   "source": [
    "orcid_parsed_strings \\\n",
    "    .filter((F.col('raw_name')=='NO_MATCH_POSSIBLE') | \n",
    "            (F.col('given_names').isNull()) |\n",
    "            (F.col('family_name').isNull())) \\\n",
    "    .count()"
   ]
  },
  {
   "cell_type": "code",
   "execution_count": 0,
   "metadata": {
    "application/vnd.databricks.v1+cell": {
     "cellMetadata": {
      "byteLimit": 2048000,
      "rowLimit": 10000
     },
     "inputWidgets": {},
     "nuid": "d6cb5bba-316c-4d94-8ca9-945e37b49380",
     "showTitle": false,
     "title": ""
    }
   },
   "outputs": [
    {
     "name": "stdout",
     "output_type": "stream",
     "text": [
      "Out[62]: 4094975"
     ]
    }
   ],
   "source": [
    "orcid_parsed_strings \\\n",
    "    .filter((F.col('raw_name')=='NO_MATCH_POSSIBLE') | \n",
    "            (F.col('given_names').isNull()) |\n",
    "            (F.col('family_name').isNull())) \\\n",
    "    .count()"
   ]
  },
  {
   "cell_type": "code",
   "execution_count": 0,
   "metadata": {
    "application/vnd.databricks.v1+cell": {
     "cellMetadata": {
      "byteLimit": 2048000,
      "rowLimit": 10000
     },
     "inputWidgets": {},
     "nuid": "2a2371ae-af4c-4940-a512-d3937cbd890f",
     "showTitle": false,
     "title": ""
    }
   },
   "outputs": [
    {
     "name": "stdout",
     "output_type": "stream",
     "text": [
      "+----------+-------------------+--------------------+--------------------+-------------------+\n",
      "|  paper_id|              orcid|            raw_name|         given_names|        family_name|\n",
      "+----------+-------------------+--------------------+--------------------+-------------------+\n",
      "|2763356662|0000-0001-9224-5731|Shimaa Abd El-Sal...|              Shimaa|            Elsayed|\n",
      "|4280612547|0000-0001-8715-2776|Mohamed M. Elshar...|             Mohamed|        El Sharkawy|\n",
      "|2588316133|0000-0002-2639-6571|         D. Dannheim|               Sarah|               Heim|\n",
      "|2500435244|0000-0002-1592-4869|              WF Lau|             Wilfred|          W. F. Lau|\n",
      "|2083095730|0000-0002-8626-1564|Surinder Kumar Mehta|               Ahmad|               Umar|\n",
      "|2944075536|0000-0002-0655-0981|Fahimeh Zeraat He...|             Fahimeh|       ZeraatHerfeh|\n",
      "|3126848917|0000-0002-3235-2698|S. Mohammad J. Mi...|Seyed Mohammad Javad|Mirzapour Alehashem|\n",
      "|3206543893|0000-0001-7079-6954|           Bo-Bo Zou|                 zou|               bobo|\n",
      "|3124215265|0000-0003-4575-5899|         L.A. Nu nez|                Luis|              Nunez|\n",
      "| 295567865|0000-0002-7739-8630|        R. S. Geethu|              Geethu|                 RS|\n",
      "|2056577911|0000-0002-9828-9388|         L. Dallavia|                LISA|          DALLA VIA|\n",
      "|2742451303|0000-0001-5177-8013|  Sameem Abdulkareem|              Sameem|       Abdul Kareem|\n",
      "|1969475890|0000-0002-7361-8640|         E. El-Karef|               Essam|            ElKaref|\n",
      "|4290005347|0000-0002-8344-797X|    S T G Raghukanth|          Raghukanth|                STG|\n",
      "|3024925488|0000-0003-3190-2480|         Dawei Jiang|              Weijun|                Wei|\n",
      "|1999342560|0000-0002-5120-886X|   Riccardo Lencioni|               DANIA|              CIONI|\n",
      "|2073685968|0000-0002-3205-1713|  Mohammed Al-Saleem|            mohammed|           alsaleem|\n",
      "|2806926888|0000-0002-3454-6269|Srimanti Dutta Gupta|            Srimanti|         Duttagupta|\n",
      "|3004969510|0000-0002-3057-4924|      Bilel Benjdira|               Bilel|          Ben Jdira|\n",
      "|2031262539|0000-0003-0471-8290|     Ahmed N Abdalla|        Aboelnour N.|           Abd-alla|\n",
      "|1986904369|0000-0002-3426-0279|       W. Arnold Bik|                 Wim|          Arnoldbik|\n",
      "|3186935972|0000-0002-8207-186X| V.S. Priyadharshini|      Priyadharshini|                 VS|\n",
      "|2021411451|0000-0003-1638-8575|         Adel Boueiz|               Adel`|          El Boueiz|\n",
      "|3006163705|0000-0002-3698-9901|Ragurajaprakash K...|            Raguraja|prakash kirubakaran|\n",
      "|2968572175|0000-0003-3966-6363|          Mingli Cao|                  Li|                 Li|\n",
      "+----------+-------------------+--------------------+--------------------+-------------------+\n",
      "only showing top 25 rows\n",
      "\n"
     ]
    }
   ],
   "source": [
    "orcid_parsed_strings \\\n",
    "    .filter(F.col('raw_name')!='NO_MATCH_POSSIBLE') \\\n",
    "    .filter(~F.col('given_names').isNull()) \\\n",
    "    .filter(~F.col('family_name').isNull()) \\\n",
    "    .withColumn('given_len', F.length(F.col('given_names'))) \\\n",
    "    .withColumn('family_len', F.length(F.col('family_name'))) \\\n",
    "    .withColumn('raw_len', F.length(F.col('raw_name'))) \\\n",
    "    .withColumn('ratio', (F.col('given_len') + F.col('family_len'))/F.col('raw_len')) \\\n",
    "    .withColumn('family_name_clean', clean_family_name(F.col('family_name'))) \\\n",
    "    .withColumn('raw_name_clean', clean_family_name(F.col('raw_name'))) \\\n",
    "    .filter(~((F.col('raw_name').contains(F.col('family_name'))) | \n",
    "              (F.col('raw_name').contains(F.col('family_name_clean'))) | \n",
    "              (F.col('raw_name_clean').contains(F.col('family_name_clean'))))) \\\n",
    "    .select('paper_id','orcid','raw_name','given_names','family_name') \\\n",
    "    .sample(0.001).show(25)"
   ]
  },
  {
   "cell_type": "code",
   "execution_count": 0,
   "metadata": {
    "application/vnd.databricks.v1+cell": {
     "cellMetadata": {
      "byteLimit": 2048000,
      "rowLimit": 10000
     },
     "inputWidgets": {},
     "nuid": "2d60d490-52f3-468b-a79a-9b1937dd9772",
     "showTitle": false,
     "title": ""
    }
   },
   "outputs": [
    {
     "name": "stdout",
     "output_type": "stream",
     "text": [
      "Out[79]: 38391392"
     ]
    }
   ],
   "source": [
    "orcid_parsed_strings \\\n",
    "    .filter(F.col('raw_name')!='NO_MATCH_POSSIBLE') \\\n",
    "    .filter(~F.col('given_names').isNull()) \\\n",
    "    .filter(~F.col('family_name').isNull()) \\\n",
    "    .withColumn('given_len', F.length(F.col('given_names'))) \\\n",
    "    .withColumn('family_len', F.length(F.col('family_name'))) \\\n",
    "    .withColumn('raw_len', F.length(F.col('raw_name'))) \\\n",
    "    .withColumn('ratio', (F.col('given_len') + F.col('family_len'))/F.col('raw_len')) \\\n",
    "    .withColumn('family_name_clean', clean_family_name(F.col('family_name'))) \\\n",
    "    .withColumn('raw_name_clean', clean_family_name(F.col('raw_name'))) \\\n",
    "    .filter(((F.col('raw_name').contains(F.col('family_name'))) | \n",
    "              (F.col('raw_name').contains(F.col('family_name_clean'))) | \n",
    "              (F.col('raw_name_clean').contains(F.col('family_name_clean'))))) \\\n",
    "    .select('paper_id','orcid','raw_name','given_names','family_name') \\\n",
    "    .count()"
   ]
  },
  {
   "cell_type": "code",
   "execution_count": 0,
   "metadata": {
    "application/vnd.databricks.v1+cell": {
     "cellMetadata": {
      "byteLimit": 2048000,
      "rowLimit": 10000
     },
     "inputWidgets": {},
     "nuid": "1313a83f-dee7-4be1-83c4-83f9b79360cf",
     "showTitle": false,
     "title": ""
    }
   },
   "outputs": [],
   "source": [
    "orcid_parsed_strings \\\n",
    "    .filter(F.col('raw_name')!='NO_MATCH_POSSIBLE') \\\n",
    "    .filter(~F.col('given_names').isNull()) \\\n",
    "    .filter(~F.col('family_name').isNull()) \\\n",
    "    .withColumn('family_name_clean', clean_family_name(F.col('family_name'))) \\\n",
    "    .withColumn('raw_name_clean', clean_family_name(F.col('raw_name'))) \\\n",
    "    .filter((F.col('raw_name').contains(F.col('family_name'))) | \n",
    "              (F.col('raw_name').contains(F.col('family_name_clean'))) | \n",
    "              (F.col('raw_name_clean').contains(F.col('family_name_clean')))) \\\n",
    "    .select('paper_id','orcid','raw_name','given_names','family_name') \\\n",
    "    .write.mode('overwrite').parquet(f\"{iteration_save_path}orcid_base_cluster_new_method_data\")"
   ]
  },
  {
   "cell_type": "code",
   "execution_count": 0,
   "metadata": {
    "application/vnd.databricks.v1+cell": {
     "cellMetadata": {
      "byteLimit": 2048000,
      "rowLimit": 10000
     },
     "inputWidgets": {},
     "nuid": "44c3f2d5-cbdc-4a3c-a18b-09d916856f7d",
     "showTitle": false,
     "title": ""
    }
   },
   "outputs": [
    {
     "name": "stdout",
     "output_type": "stream",
     "text": [
      "Out[22]: 36667168"
     ]
    }
   ],
   "source": [
    "all_orcid_pdf_data = spark.read.parquet(f\"{iteration_save_path}orcid_base_cluster_new_method_data\") \\\n",
    "    .select(F.col('paper_id').alias('work_id'),'orcid',F.col('raw_name').alias('original_author'))\n",
    "all_orcid_pdf_data.cache().count()"
   ]
  },
  {
   "cell_type": "code",
   "execution_count": 0,
   "metadata": {
    "application/vnd.databricks.v1+cell": {
     "cellMetadata": {
      "byteLimit": 2048000,
      "rowLimit": 10000
     },
     "inputWidgets": {},
     "nuid": "16e3f538-7d0b-4641-a466-0da754260593",
     "showTitle": false,
     "title": ""
    }
   },
   "outputs": [
    {
     "name": "stdout",
     "output_type": "stream",
     "text": [
      "+----------+-------------------+---------------+\n",
      "|work_id   |orcid              |original_author|\n",
      "+----------+-------------------+---------------+\n",
      "|1881537177|0000-0001-7115-9105|Yukio Ando     |\n",
      "|1974274535|0000-0001-7115-9105|Yuki Ando      |\n",
      "|2017528973|0000-0001-7115-9105|Yoshihiro Ando |\n",
      "|2043918647|0000-0001-7115-9105|Y. Ando        |\n",
      "|2286723441|0000-0001-7115-9105|Yukio Ando     |\n",
      "|2520228726|0000-0001-7115-9105|Yuichi Ando    |\n",
      "|2549968178|0000-0001-7115-9105|Yoshiaki Ando  |\n",
      "|2587313190|0000-0001-7115-9105|Yuichi Ando    |\n",
      "|2606937982|0000-0001-7115-9105|Yukio Ando     |\n",
      "|2761572844|0000-0001-7115-9105|Yasutoshi Ando |\n",
      "|1885692834|0000-0001-7115-9105|Yuichi Ando    |\n",
      "|2017613824|0000-0001-7115-9105|Yukio Ando     |\n",
      "|2019150792|0000-0001-7115-9105|Yutaka Ando    |\n",
      "|2032921998|0000-0001-7115-9105|Yuki Ando      |\n",
      "|2033406345|0000-0001-7115-9105|Yuhko Ando     |\n",
      "|2067534382|0000-0001-7115-9105|Yuichi Ando    |\n",
      "|2077481177|0000-0001-7115-9105|Yoichi Ando    |\n",
      "|2081266975|0000-0001-7115-9105|Y. Ando        |\n",
      "|2093379263|0000-0001-7115-9105|Yumi Ando      |\n",
      "|2916061473|0000-0001-7115-9105|Yuichi Ando    |\n",
      "|1979637843|0000-0001-7115-9105|Yoshinori Ando |\n",
      "|2044809775|0000-0001-7115-9105|Yasuhiko Ando  |\n",
      "|2065574469|0000-0001-7115-9105|Yuichi Ando    |\n",
      "|2794111391|0000-0001-7115-9105|Yoshiaki Ando  |\n",
      "|1528922106|0000-0001-7115-9105|Y. Ando        |\n",
      "|2001488037|0000-0001-7115-9105|Yukio Ando     |\n",
      "|2002947563|0000-0001-7115-9105|Yuich Ando     |\n",
      "|2044814148|0000-0001-7115-9105|Yukio Ando     |\n",
      "|2051716311|0000-0001-7115-9105|Yutaka Ando    |\n",
      "|2074395681|0000-0001-7115-9105|Yoshiaki Ando  |\n",
      "|2530369895|0000-0001-7115-9105|Yoshino Ando   |\n",
      "|2756723855|0000-0001-7115-9105|Yukio Ando     |\n",
      "|2887211723|0000-0001-7115-9105|Yusuke Ando    |\n",
      "|1669437342|0000-0001-7115-9105|Yoichi Ando    |\n",
      "|1982340002|0000-0001-7115-9105|Y. Ando        |\n",
      "|2017430116|0000-0001-7115-9105|Yuta Ando      |\n",
      "|2043742140|0000-0001-7115-9105|Yusuke Ando    |\n",
      "|2409512691|0000-0001-7115-9105|Y. Ando        |\n",
      "|2921715015|0000-0001-7115-9105|Yoshiaki Ando  |\n",
      "|1974012584|0000-0001-7115-9105|Yukio Ando     |\n",
      "|1996693417|0000-0001-7115-9105|Yasuyo Ando    |\n",
      "|2061700697|0000-0001-7115-9105|Yasuhiro Ando  |\n",
      "|2116757007|0000-0001-7115-9105|Yukio Ando     |\n",
      "|2334844559|0000-0001-7115-9105|Yutaka Ando    |\n",
      "|2612054288|0000-0001-7115-9105|Yugo Ando      |\n",
      "|2799651844|0000-0001-7115-9105|Yukio Ando     |\n",
      "|2024743510|0000-0001-7115-9105|Yoshiki Ando   |\n",
      "|2073282966|0000-0001-7115-9105|Yuichi Ando    |\n",
      "|2078029823|0000-0001-7115-9105|Yoichi Ando    |\n",
      "|2113066756|0000-0001-7115-9105|Yumi Ando      |\n",
      "|2612878441|0000-0001-7115-9105|Yukio Ando     |\n",
      "|2620740115|0000-0001-7115-9105|Y Ando         |\n",
      "|1493205399|0000-0001-7115-9105|Yoshitaka Ando |\n",
      "|2025272563|0000-0001-7115-9105|Yasuhiro Ando  |\n",
      "|2039327450|0000-0001-7115-9105|Yoichi Ando    |\n",
      "|2107048018|0000-0001-7115-9105|Yuichiro Ando  |\n",
      "|2274310167|0000-0001-7115-9105|Y. Ando        |\n",
      "|2607488950|0000-0001-7115-9105|Yukio Ando     |\n",
      "|2760249600|0000-0001-7115-9105|Yukio Ando     |\n",
      "|2769939529|0000-0001-7115-9105|Yukio Ando     |\n",
      "+----------+-------------------+---------------+\n",
      "only showing top 60 rows\n",
      "\n"
     ]
    }
   ],
   "source": [
    "all_orcid_pdf_data.filter(F.col('orcid')=='0000-0001-7115-9105').show(60, truncate=False)"
   ]
  },
  {
   "cell_type": "code",
   "execution_count": 0,
   "metadata": {
    "application/vnd.databricks.v1+cell": {
     "cellMetadata": {
      "byteLimit": 2048000,
      "rowLimit": 10000
     },
     "inputWidgets": {},
     "nuid": "1b95b9a4-4de2-4859-8141-83388627538f",
     "showTitle": false,
     "title": ""
    }
   },
   "outputs": [],
   "source": [
    "affiliations.select(F.col('paper_id').alias('work_id'),'original_author',\n",
    "                    F.col('author_sequence_number').alias('seq_no'),'original_affiliation') \\\n",
    ".dropDuplicates(subset=['work_id','original_author']) \\\n",
    ".join(all_orcid_pdf_data, how='inner', on=['work_id','original_author']) \\\n",
    ".join(string_to_institution, how='left', on='original_affiliation') \\\n",
    ".join(concepts, how='left', on='work_id') \\\n",
    ".na.fill(\"NONE\", subset=['institutions']) \\\n",
    ".write.mode('overwrite').parquet(f\"{iteration_save_path}orcid_base_cluster_pdf_to_combine\")"
   ]
  },
  {
   "cell_type": "code",
   "execution_count": 0,
   "metadata": {
    "application/vnd.databricks.v1+cell": {
     "cellMetadata": {
      "byteLimit": 2048000,
      "rowLimit": 10000
     },
     "inputWidgets": {},
     "nuid": "d6640f5a-ae47-4b1d-bd98-ad6a5fd9f3c9",
     "showTitle": false,
     "title": ""
    }
   },
   "outputs": [
    {
     "name": "stdout",
     "output_type": "stream",
     "text": [
      "Out[34]: 2878652"
     ]
    }
   ],
   "source": [
    "data_to_check = spark.read.parquet(f\"{iteration_save_path}orcid_base_cluster_new_method_clusters\")\n",
    "data_to_check.cache().count()"
   ]
  },
  {
   "cell_type": "code",
   "execution_count": 0,
   "metadata": {
    "application/vnd.databricks.v1+cell": {
     "cellMetadata": {
      "byteLimit": 2048000,
      "rowLimit": 10000
     },
     "inputWidgets": {},
     "nuid": "d52274b2-e91d-44b8-99b0-f373f53347e7",
     "showTitle": false,
     "title": ""
    }
   },
   "outputs": [],
   "source": [
    "data_to_check.coalesce(1).write.mode('overwrite').parquet(f\"{iteration_save_path}orcid_base_cluster_new_method_clusters_single_file\")"
   ]
  },
  {
   "cell_type": "markdown",
   "metadata": {
    "application/vnd.databricks.v1+cell": {
     "cellMetadata": {},
     "inputWidgets": {},
     "nuid": "a8d08f47-16e4-4d2a-bef2-d5dff05e709b",
     "showTitle": false,
     "title": ""
    }
   },
   "source": [
    "Can probably get the same training dataset for a given ORCID author by linking ORCID data with OpenAlex, no need to do string matching. Get ORCID, author name, institutions, and DOI from ORCID data, get coauthors and concepts from OpenAlex. Otherwise, I could still do string matching and get institutions/author name from OpenAlex (but slightly harder and less accurate)"
   ]
  },
  {
   "cell_type": "code",
   "execution_count": 0,
   "metadata": {
    "application/vnd.databricks.v1+cell": {
     "cellMetadata": {},
     "inputWidgets": {},
     "nuid": "a3b3d4e2-4249-45e7-b061-45207f7bf5a2",
     "showTitle": false,
     "title": ""
    }
   },
   "outputs": [],
   "source": []
  },
  {
   "cell_type": "code",
   "execution_count": 0,
   "metadata": {
    "application/vnd.databricks.v1+cell": {
     "cellMetadata": {
      "byteLimit": 2048000,
      "rowLimit": 10000
     },
     "inputWidgets": {},
     "nuid": "02cfb61c-88ef-48c9-ad45-999f81b2525d",
     "showTitle": false,
     "title": ""
    }
   },
   "outputs": [],
   "source": [
    "orcid_base_clusters = \\\n",
    "affiliations.select(F.col('paper_id').alias('work_id'), 'original_author', F.col('author_sequence_number').alias('seq_no'), \n",
    "                    'original_affiliation', F.col('original_orcid').alias('orcid')) \\\n",
    ".filter(F.col('orcid')!='') \\\n",
    ".dropDuplicates(subset=['work_id','original_author','orcid']) \\\n",
    ".join(string_to_institution, how='left', on='original_affiliation') \\\n",
    ".join(concepts, how='left', on='work_id')"
   ]
  },
  {
   "cell_type": "code",
   "execution_count": 0,
   "metadata": {
    "application/vnd.databricks.v1+cell": {
     "cellMetadata": {
      "byteLimit": 2048000,
      "rowLimit": 10000
     },
     "inputWidgets": {},
     "nuid": "6498c1bb-07e0-493a-aa6c-1e17bc17604a",
     "showTitle": false,
     "title": ""
    }
   },
   "outputs": [],
   "source": [
    "orcid_base_clusters.write.mode('overwrite').parquet(f\"{iteration_save_path}orcid_raw_base_cluster_data\")"
   ]
  },
  {
   "cell_type": "code",
   "execution_count": 0,
   "metadata": {
    "application/vnd.databricks.v1+cell": {
     "cellMetadata": {
      "byteLimit": 2048000,
      "rowLimit": 10000
     },
     "inputWidgets": {},
     "nuid": "615bfd71-161e-4297-9baa-071c2a9fca00",
     "showTitle": false,
     "title": ""
    }
   },
   "outputs": [],
   "source": []
  },
  {
   "cell_type": "code",
   "execution_count": 0,
   "metadata": {
    "application/vnd.databricks.v1+cell": {
     "cellMetadata": {
      "byteLimit": 2048000,
      "rowLimit": 10000
     },
     "inputWidgets": {},
     "nuid": "dbb7fc4d-af54-445b-9ceb-a057d9826108",
     "showTitle": false,
     "title": ""
    }
   },
   "outputs": [],
   "source": [
    "orcid_base_clusters = spark.read.parquet(f\"{iteration_save_path}orcid_raw_base_cluster_data\").dropDuplicates() \\\n",
    ".withColumn('institutions', turn_string_to_list(F.col('institutions'))) \\\n",
    ".select(F.concat_ws(\"_\", F.col('work_id'), F.col('seq_no')).alias('work_id'),'original_affiliation','original_author','orcid', \n",
    "        F.explode(F.col('institutions')).alias('institution'), 'concepts') \\\n",
    ".select('work_id','original_affiliation','original_author','orcid','institution', \n",
    "        F.explode(F.col('concepts')).alias('concept')) \\\n",
    ".groupby('orcid') \\\n",
    ".agg(F.collect_set(F.col('work_id')).alias('works'), \n",
    "     F.collect_set(F.col('original_author')).alias('names'), \n",
    "     F.collect_set(F.col('original_affiliation')).alias('aff_strings'), \n",
    "     F.collect_set(F.col('institution')).alias('institutions'), \n",
    "     F.collect_set(F.col('concept')).alias('concepts'))"
   ]
  },
  {
   "cell_type": "code",
   "execution_count": 0,
   "metadata": {
    "application/vnd.databricks.v1+cell": {
     "cellMetadata": {
      "byteLimit": 2048000,
      "rowLimit": 10000
     },
     "inputWidgets": {},
     "nuid": "8b90f575-f052-438f-aeab-83d5216a4d49",
     "showTitle": false,
     "title": ""
    }
   },
   "outputs": [
    {
     "name": "stdout",
     "output_type": "stream",
     "text": [
      "Out[45]: 2017976"
     ]
    }
   ],
   "source": [
    "orcid_base_clusters.cache().count()"
   ]
  },
  {
   "cell_type": "code",
   "execution_count": 0,
   "metadata": {
    "application/vnd.databricks.v1+cell": {
     "cellMetadata": {
      "byteLimit": 2048000,
      "rowLimit": 10000
     },
     "inputWidgets": {},
     "nuid": "93c9e868-9f04-473e-95b2-4d24dcaba1f2",
     "showTitle": false,
     "title": ""
    }
   },
   "outputs": [],
   "source": [
    "orcid_base_clusters.coalesce(1).write.mode('overwrite').parquet(f\"{iteration_save_path}orcid_base_cluster_inst_and_concepts\")"
   ]
  },
  {
   "cell_type": "markdown",
   "metadata": {
    "application/vnd.databricks.v1+cell": {
     "cellMetadata": {},
     "inputWidgets": {},
     "nuid": "cb3c38eb-a9b5-4845-879e-52de89cba763",
     "showTitle": false,
     "title": ""
    }
   },
   "source": [
    "#### Combining ORCID from pdf and oa"
   ]
  },
  {
   "cell_type": "code",
   "execution_count": 0,
   "metadata": {
    "application/vnd.databricks.v1+cell": {
     "cellMetadata": {
      "byteLimit": 2048000,
      "rowLimit": 10000
     },
     "inputWidgets": {},
     "nuid": "fc3c4118-ed50-44be-8626-203f3569851c",
     "showTitle": false,
     "title": ""
    }
   },
   "outputs": [
    {
     "name": "stdout",
     "output_type": "stream",
     "text": [
      "Out[7]: 36667168"
     ]
    }
   ],
   "source": [
    "orcid_pdf_to_combine = spark.read.parquet(f\"{iteration_save_path}orcid_base_cluster_pdf_to_combine\").dropDuplicates()\n",
    "orcid_pdf_to_combine.cache().count()"
   ]
  },
  {
   "cell_type": "code",
   "execution_count": 0,
   "metadata": {
    "application/vnd.databricks.v1+cell": {
     "cellMetadata": {
      "byteLimit": 2048000,
      "rowLimit": 10000
     },
     "inputWidgets": {},
     "nuid": "5226daf4-235b-4c76-9bf3-2d2de5ed8935",
     "showTitle": false,
     "title": ""
    }
   },
   "outputs": [
    {
     "name": "stdout",
     "output_type": "stream",
     "text": [
      "Out[8]: 6373480"
     ]
    }
   ],
   "source": [
    "orcid_oa_to_combine = spark.read.parquet(f\"{iteration_save_path}orcid_raw_base_cluster_data\").dropDuplicates()\n",
    "orcid_oa_to_combine.cache().count()"
   ]
  },
  {
   "cell_type": "code",
   "execution_count": 0,
   "metadata": {
    "application/vnd.databricks.v1+cell": {
     "cellMetadata": {
      "byteLimit": 2048000,
      "rowLimit": 10000
     },
     "inputWidgets": {},
     "nuid": "51ee8ce2-9e81-4a96-b0ef-e14ba2193749",
     "showTitle": false,
     "title": ""
    }
   },
   "outputs": [],
   "source": [
    "orcid_pdf_to_combine.union(orcid_oa_to_combine.select(*orcid_pdf_to_combine.columns)) \\\n",
    ".withColumn('institutions', turn_string_to_list(F.col('institutions'))) \\\n",
    ".join(coauthors, how='left', on='work_id') \\\n",
    ".withColumn('coauthors', remove_current_author_udf(F.col('original_author'),F.col('all_authors'))) \\\n",
    ".select(F.concat_ws(\"_\", F.col('work_id'), F.col('seq_no')).alias('work_id'),'original_affiliation','original_author','orcid', \n",
    "        'institutions', 'concepts', 'coauthors') \\\n",
    ".coalesce(20).write.mode('overwrite').parquet(f\"{iteration_save_path}orcid_all_data_for_base_clusters\")"
   ]
  },
  {
   "cell_type": "code",
   "execution_count": 0,
   "metadata": {
    "application/vnd.databricks.v1+cell": {
     "cellMetadata": {
      "byteLimit": 2048000,
      "rowLimit": 10000
     },
     "inputWidgets": {},
     "nuid": "c88f3013-927a-4456-b579-01f966c9b1ce",
     "showTitle": false,
     "title": ""
    }
   },
   "outputs": [],
   "source": [
    "all_data = spark.read.parquet(f\"{iteration_save_path}orcid_all_data_for_base_clusters\")"
   ]
  },
  {
   "cell_type": "code",
   "execution_count": 0,
   "metadata": {
    "application/vnd.databricks.v1+cell": {
     "cellMetadata": {
      "byteLimit": 2048000,
      "rowLimit": 10000
     },
     "inputWidgets": {},
     "nuid": "7db3b36c-f9e2-4c62-a6fb-3ea468ace9d9",
     "showTitle": false,
     "title": ""
    }
   },
   "outputs": [
    {
     "name": "stdout",
     "output_type": "stream",
     "text": [
      "Out[23]: 43040648"
     ]
    }
   ],
   "source": [
    "all_data.cache().count()"
   ]
  },
  {
   "cell_type": "code",
   "execution_count": 0,
   "metadata": {
    "application/vnd.databricks.v1+cell": {
     "cellMetadata": {
      "byteLimit": 2048000,
      "rowLimit": 10000
     },
     "inputWidgets": {},
     "nuid": "7e7ecb68-6ae0-4b18-be64-f5c5e69279a0",
     "showTitle": false,
     "title": ""
    }
   },
   "outputs": [
    {
     "name": "stdout",
     "output_type": "stream",
     "text": [
      "Out[33]: 4490210"
     ]
    }
   ],
   "source": [
    "all_data.dropDuplicates(subset=['orcid']).count()"
   ]
  },
  {
   "cell_type": "code",
   "execution_count": 0,
   "metadata": {
    "application/vnd.databricks.v1+cell": {
     "cellMetadata": {
      "byteLimit": 2048000,
      "rowLimit": 10000
     },
     "inputWidgets": {},
     "nuid": "fd658688-f905-4df9-8195-57539f9b107c",
     "showTitle": false,
     "title": ""
    }
   },
   "outputs": [],
   "source": [
    "all_data \\\n",
    ".coalesce(1).write.mode('overwrite').parquet(f\"{iteration_save_path}orcid_all_data_for_base_clusters_single_file\")"
   ]
  },
  {
   "cell_type": "code",
   "execution_count": 0,
   "metadata": {
    "application/vnd.databricks.v1+cell": {
     "cellMetadata": {},
     "inputWidgets": {},
     "nuid": "6d43505d-223f-45f5-8806-2ec44c56af86",
     "showTitle": false,
     "title": ""
    }
   },
   "outputs": [],
   "source": [
    "# .select('work_id','original_affiliation','original_author','orcid', \n",
    "#         F.explode(F.col('institutions')).alias('institution'), 'concepts') \\\n",
    "# .select('work_id','original_affiliation','original_author','orcid','institution', \n",
    "#         F.explode(F.col('concepts')).alias('concept')) \\\n",
    "# .groupby('orcid') \\\n",
    "# .agg(F.collect_set(F.col('work_id')).alias('works'), \n",
    "#      F.collect_set(F.col('original_author')).alias('names'), \n",
    "#      F.collect_set(F.col('original_affiliation')).alias('aff_strings'), \n",
    "#      F.collect_set(F.col('institution')).alias('institutions'), \n",
    "#      F.collect_set(F.col('concept')).alias('concepts'))"
   ]
  },
  {
   "cell_type": "markdown",
   "metadata": {
    "application/vnd.databricks.v1+cell": {
     "cellMetadata": {},
     "inputWidgets": {},
     "nuid": "c415ce38-00fb-4903-a981-90dd58f6de03",
     "showTitle": false,
     "title": ""
    }
   },
   "source": [
    "#### Getting Clusters From Non-Orcid"
   ]
  },
  {
   "cell_type": "markdown",
   "metadata": {
    "application/vnd.databricks.v1+cell": {
     "cellMetadata": {},
     "inputWidgets": {},
     "nuid": "918f2476-a529-42a9-97ef-736a4251bd98",
     "showTitle": false,
     "title": ""
    }
   },
   "source": [
    "* get clusters where author is exactly the same, institution matches, and there are at least 2 of the same coauthors"
   ]
  },
  {
   "cell_type": "code",
   "execution_count": 0,
   "metadata": {
    "application/vnd.databricks.v1+cell": {
     "cellMetadata": {
      "byteLimit": 2048000,
      "rowLimit": 10000
     },
     "inputWidgets": {},
     "nuid": "dc47034a-e1ae-417e-becf-52d18c78eeb9",
     "showTitle": false,
     "title": ""
    }
   },
   "outputs": [],
   "source": [
    "def create_ind_for_drop_column_(col_list):\n",
    "    if isinstance(col_list, list):\n",
    "        if col_list:\n",
    "            if col_list[0] == -1:\n",
    "                return 0\n",
    "            else:\n",
    "                return 1\n",
    "        else:\n",
    "            return 0\n",
    "    else:\n",
    "        return 0\n",
    "    \n",
    "create_ind_for_drop_column = F.udf(create_ind_for_drop_column_, IntegerType())"
   ]
  },
  {
   "cell_type": "code",
   "execution_count": 0,
   "metadata": {
    "application/vnd.databricks.v1+cell": {
     "cellMetadata": {
      "byteLimit": 2048000,
      "rowLimit": 10000
     },
     "inputWidgets": {},
     "nuid": "21dd8fd3-c7d7-4b9a-87e6-cb23a77facfd",
     "showTitle": false,
     "title": ""
    }
   },
   "outputs": [],
   "source": [
    "affiliations.select(F.col('paper_id').alias('work_id'), F.col('author_sequence_number').alias('seq_no'), 'original_author',\n",
    "                    'original_orcid','original_affiliation').dropDuplicates() \\\n",
    ".join(concepts.dropDuplicates(subset=['work_id']), how='inner', on='work_id') \\\n",
    ".join(coauthors, how='inner', on='work_id') \\\n",
    ".join(string_to_institution, how='inner', on='original_affiliation') \\\n",
    ".na.fill(\"NONE\", subset=['institutions']) \\\n",
    ".withColumn('institutions', turn_string_to_list(F.col('institutions'))) \\\n",
    ".withColumn('coauthors', remove_current_author_udf(F.col('original_author'),F.col('all_authors'))) \\\n",
    ".withColumn('concepts_ind', create_ind_for_drop_column(F.col('concepts'))) \\\n",
    ".withColumn('coauthors_ind', create_ind_for_drop_column(F.col('coauthors'))) \\\n",
    ".withColumn('institutions_ind', create_ind_for_drop_column(F.col('institutions'))) \\\n",
    ".filter(F.col('concepts_ind')==1) \\\n",
    ".filter(F.col('coauthors_ind')==1) \\\n",
    ".filter(F.col('institutions_ind')==1) \\\n",
    ".filter(F.col('original_author')!='') \\\n",
    ".select(F.concat_ws(\"_\", F.col('work_id'), F.col('seq_no')).alias('work_id'), 'original_author', F.col('original_orcid').alias('orcid'),\n",
    "        'original_affiliation', 'institutions','coauthors','concepts') \\\n",
    ".write.mode('overwrite').parquet(f\"{iteration_save_path}openalex_groupby_data_for_clusters\")"
   ]
  },
  {
   "cell_type": "code",
   "execution_count": 0,
   "metadata": {
    "application/vnd.databricks.v1+cell": {
     "cellMetadata": {
      "byteLimit": 2048000,
      "rowLimit": 10000
     },
     "inputWidgets": {},
     "nuid": "bb0c9bd5-e6a3-4a2a-a11a-4bf4bcc2ccb2",
     "showTitle": false,
     "title": ""
    }
   },
   "outputs": [],
   "source": [
    "spark.read.parquet(f\"{iteration_save_path}openalex_groupby_data_for_clusters\") \\\n",
    ".select('work_id','original_author','orcid',F.explode(F.col('institutions')).alias('institution'),'coauthors','concepts') \\\n",
    ".select('work_id','original_author','orcid','institution',F.explode(F.col('coauthors')).alias('coauthor'),'concepts') \\\n",
    ".select('work_id','original_author','orcid','institution','coauthor',F.explode(F.col('concepts')).alias('concept')) \\\n",
    ".groupby(['original_author','institution','coauthor','concept']) \\\n",
    ".agg(F.collect_set(F.col('orcid')).alias('orcids'), \n",
    "     F.collect_list(F.col('work_id')).alias('work_ids')) \\\n",
    ".withColumn('works_len', F.size(F.col('work_ids'))) \\\n",
    ".filter(F.col('works_len') > 1) \\\n",
    ".write.mode('overwrite').parquet(f\"{iteration_save_path}openalex_grouped_for_clusters\")"
   ]
  },
  {
   "cell_type": "code",
   "execution_count": 0,
   "metadata": {
    "application/vnd.databricks.v1+cell": {
     "cellMetadata": {
      "byteLimit": 2048000,
      "rowLimit": 10000
     },
     "inputWidgets": {},
     "nuid": "76ba1913-fcda-40ad-8097-fc7e21a70462",
     "showTitle": false,
     "title": ""
    }
   },
   "outputs": [],
   "source": [
    "def get_string_list_(norm_list):\n",
    "    norm_list.sort()\n",
    "    new_list = \"||\".join(norm_list)\n",
    "    return new_list\n",
    "\n",
    "def get_normal_list_(string_list):\n",
    "    norm_list = string_list.split(\"||\")\n",
    "    return norm_list\n",
    "\n",
    "get_string_list = F.udf(get_string_list_, StringType())\n",
    "get_normal_list = F.udf(get_normal_list_, ArrayType(StringType()))"
   ]
  },
  {
   "cell_type": "code",
   "execution_count": 0,
   "metadata": {
    "application/vnd.databricks.v1+cell": {
     "cellMetadata": {
      "byteLimit": 2048000,
      "rowLimit": 10000
     },
     "inputWidgets": {},
     "nuid": "c0ecfd6a-1e01-432c-a0fa-8b83d7b7a477",
     "showTitle": false,
     "title": ""
    }
   },
   "outputs": [
    {
     "name": "stdout",
     "output_type": "stream",
     "text": [
      "Out[10]: 382757306"
     ]
    }
   ],
   "source": [
    "w = Window().orderBy(F.lit('A'))\n",
    "\n",
    "openalex_groupby_cluster_data = spark.read.parquet(f\"{iteration_save_path}openalex_grouped_for_clusters\") \\\n",
    ".withColumn('string_works', get_string_list(F.col('work_ids'))) \\\n",
    ".select('string_works').dropDuplicates() \\\n",
    ".withColumn('work_ids', get_normal_list(F.col('string_works'))) \\\n",
    ".select('work_ids') \\\n",
    ".withColumn('cluster_1', F.row_number().over(w))\n",
    "openalex_groupby_cluster_data.cache().count()"
   ]
  },
  {
   "cell_type": "code",
   "execution_count": 0,
   "metadata": {
    "application/vnd.databricks.v1+cell": {
     "cellMetadata": {
      "byteLimit": 2048000,
      "rowLimit": 10000
     },
     "inputWidgets": {},
     "nuid": "31967cae-e3aa-4bac-9a54-4048cb630ef4",
     "showTitle": false,
     "title": ""
    }
   },
   "outputs": [],
   "source": [
    "openalex_groupby_cluster_data \\\n",
    ".write.mode('overwrite').parquet(f\"{iteration_save_path}openalex_grouped_for_clusters_1\")"
   ]
  },
  {
   "cell_type": "code",
   "execution_count": 0,
   "metadata": {
    "application/vnd.databricks.v1+cell": {
     "cellMetadata": {
      "byteLimit": 2048000,
      "rowLimit": 10000
     },
     "inputWidgets": {},
     "nuid": "7c6aef80-ecf8-44d8-afcc-b34b6bfa1c22",
     "showTitle": false,
     "title": ""
    }
   },
   "outputs": [],
   "source": [
    "w1 = Window().orderBy(F.lit('B'))\n",
    "openalex_groupby_cluster_data.select(F.explode(F.col('work_ids')).alias('work_id'), 'cluster_1') \\\n",
    ".groupby('work_id') \\\n",
    ".agg(F.collect_set(F.col('cluster_1')).alias('cluster_1')) \\\n",
    ".write.mode('overwrite').parquet(f\"{iteration_save_path}openalex_grouped_for_clusters_2\")"
   ]
  },
  {
   "cell_type": "code",
   "execution_count": 0,
   "metadata": {
    "application/vnd.databricks.v1+cell": {
     "cellMetadata": {
      "byteLimit": 2048000,
      "rowLimit": 10000
     },
     "inputWidgets": {},
     "nuid": "cbf05dc5-da98-4b7a-8746-761c61b301cc",
     "showTitle": false,
     "title": ""
    }
   },
   "outputs": [
    {
     "name": "stdout",
     "output_type": "stream",
     "text": [
      "Out[4]: 162408549"
     ]
    }
   ],
   "source": [
    "test_clusters = spark.read.parquet(f\"{iteration_save_path}openalex_grouped_for_clusters_2\")\n",
    "test_clusters.cache().count()"
   ]
  },
  {
   "cell_type": "code",
   "execution_count": 0,
   "metadata": {
    "application/vnd.databricks.v1+cell": {
     "cellMetadata": {
      "byteLimit": 2048000,
      "rowLimit": 10000
     },
     "inputWidgets": {},
     "nuid": "2e7793ac-41fb-4a6f-a574-09da48203905",
     "showTitle": false,
     "title": ""
    }
   },
   "outputs": [
    {
     "name": "stdout",
     "output_type": "stream",
     "text": [
      "+-------------+--------------------+\n",
      "|      work_id|           cluster_1|\n",
      "+-------------+--------------------+\n",
      "| 3210905390_2|[106775609, 27148...|\n",
      "| 3210905390_3|[249187943, 14163...|\n",
      "| 3210905390_4|[278364092, 26901...|\n",
      "| 3210905390_5|[336640890, 96792...|\n",
      "| 3210905390_6|[259336455, 26207...|\n",
      "| 3210905390_9|[165114459, 13230...|\n",
      "| 3210905450_1|[66252686, 226759...|\n",
      "| 3210905450_4|         [358857971]|\n",
      "| 3210905458_2|[20760843, 214615...|\n",
      "| 3210905458_3|[252476453, 27058...|\n",
      "| 3210905488_1|[354823536, 37722...|\n",
      "|3210905488_10|[339235, 15753042...|\n",
      "|3210905488_13|[291348831, 29587...|\n",
      "|3210905488_14|[196191183, 59618...|\n",
      "|3210905488_15|[378420841, 50232...|\n",
      "|3210905488_16|[147025960, 37324...|\n",
      "|3210905488_18|[131428658, 21975...|\n",
      "| 3210905488_2|[284099729, 40684...|\n",
      "|3210905488_20|[263794454, 21660...|\n",
      "|3210905488_21|[215276238, 31964...|\n",
      "+-------------+--------------------+\n",
      "only showing top 20 rows\n",
      "\n"
     ]
    }
   ],
   "source": [
    "test_clusters.show(20)"
   ]
  },
  {
   "cell_type": "code",
   "execution_count": 0,
   "metadata": {
    "application/vnd.databricks.v1+cell": {
     "cellMetadata": {
      "byteLimit": 2048000,
      "rowLimit": 10000
     },
     "inputWidgets": {},
     "nuid": "67827735-151f-4d13-bdcd-b36b4d208654",
     "showTitle": false,
     "title": ""
    }
   },
   "outputs": [],
   "source": [
    "test_clusters \\\n",
    ".coalesce(6).write.mode('overwrite').parquet(f\"{iteration_save_path}openalex_grouped_for_clusters_2_single\")"
   ]
  },
  {
   "cell_type": "markdown",
   "metadata": {
    "application/vnd.databricks.v1+cell": {
     "cellMetadata": {},
     "inputWidgets": {},
     "nuid": "e5ea07ac-c825-4cfe-af27-545344456379",
     "showTitle": false,
     "title": ""
    }
   },
   "source": [
    "##### Situations to manipulate for training"
   ]
  },
  {
   "cell_type": "markdown",
   "metadata": {
    "application/vnd.databricks.v1+cell": {
     "cellMetadata": {},
     "inputWidgets": {},
     "nuid": "694e7646-9a54-44b7-bddd-1ec9b1ae566a",
     "showTitle": false,
     "title": ""
    }
   },
   "source": [
    "1. Name is different\n",
    "2. Institution is missing\n",
    "3. Coauthors are missing\n",
    "4. No concepts (or reduced number of concepts?)\n",
    "\n",
    "sort by author sequence value?\n",
    "\n",
    "Check for orcid (join to cluster if orcid is found)\n",
    "Check for coauthor/institution/concepts (if all null, don't send through disambiguator)"
   ]
  },
  {
   "cell_type": "markdown",
   "metadata": {
    "application/vnd.databricks.v1+cell": {
     "cellMetadata": {},
     "inputWidgets": {},
     "nuid": "12996533-408b-4071-b6fc-3c5c3086735b",
     "showTitle": false,
     "title": ""
    }
   },
   "source": [
    "### For creating dataset\n",
    "1. Go through each sample and create 10-20 copies of dataframe\n",
    "2. For each sample, transform data to either keep as is or remove some feature to trick model\n",
    "3. Get mapping of similar names for all orcids\n",
    "4. Need to create a mapping of orcid -> orcid of pos/neg pairs\n",
    "5. Join data to orcid mapping using pyspark and randommly select rows in each join\n",
    "* join sample data on orcid for first ID\n",
    "* then sample data\n",
    "* join on second ID to first orcid\n",
    "* sample that data one more time\n",
    "* dataset complete (do for both positive and negative)"
   ]
  },
  {
   "cell_type": "code",
   "execution_count": 0,
   "metadata": {
    "application/vnd.databricks.v1+cell": {
     "cellMetadata": {
      "byteLimit": 2048000,
      "rowLimit": 10000
     },
     "inputWidgets": {},
     "nuid": "dd87a591-8790-41ef-ac16-62326358ce85",
     "showTitle": false,
     "title": ""
    }
   },
   "outputs": [
    {
     "name": "stdout",
     "output_type": "stream",
     "text": [
      "Out[4]: 43040648"
     ]
    }
   ],
   "source": [
    "all_base_data = spark.read.parquet(f\"{iteration_save_path}orcid_all_data_for_base_clusters\")\n",
    "all_base_data.cache().count()"
   ]
  },
  {
   "cell_type": "code",
   "execution_count": 0,
   "metadata": {
    "application/vnd.databricks.v1+cell": {
     "cellMetadata": {
      "byteLimit": 2048000,
      "rowLimit": 10000
     },
     "inputWidgets": {},
     "nuid": "8b067e4e-e2e7-4654-bd62-90b7d4d29bcd",
     "showTitle": false,
     "title": ""
    }
   },
   "outputs": [],
   "source": [
    "for i in range(10):\n",
    "    all_base_data.select('work_id','orcid','original_author','institutions','concepts','coauthors') \\\n",
    "        .coalesce(20).write.mode('append').parquet(f\"{iteration_save_path}disambiguator_base_data_copies\")"
   ]
  },
  {
   "cell_type": "code",
   "execution_count": 0,
   "metadata": {
    "application/vnd.databricks.v1+cell": {
     "cellMetadata": {
      "byteLimit": 2048000,
      "rowLimit": 10000
     },
     "inputWidgets": {},
     "nuid": "dddff7e3-a98b-49e7-abcb-fb5e58368bb4",
     "showTitle": false,
     "title": ""
    }
   },
   "outputs": [
    {
     "name": "stdout",
     "output_type": "stream",
     "text": [
      "Out[4]: 430406480"
     ]
    }
   ],
   "source": [
    "all_base_data = spark.read.parquet(f\"{iteration_save_path}disambiguator_base_data_copies\")\n",
    "all_base_data.cache().count()"
   ]
  },
  {
   "cell_type": "code",
   "execution_count": 0,
   "metadata": {
    "application/vnd.databricks.v1+cell": {
     "cellMetadata": {
      "byteLimit": 2048000,
      "rowLimit": 10000
     },
     "inputWidgets": {},
     "nuid": "e15b8153-7c7d-45c6-a738-936db5d86e17",
     "showTitle": false,
     "title": ""
    }
   },
   "outputs": [
    {
     "name": "stdout",
     "output_type": "stream",
     "text": [
      "+-------------+-------------------+--------------------+--------------------+--------------------+--------------------+\n",
      "|      work_id|              orcid|     original_author|        institutions|            concepts|           coauthors|\n",
      "+-------------+-------------------+--------------------+--------------------+--------------------+--------------------+\n",
      "| 4206655184_4|0000-0002-4580-3849|   Cauane Blumenberg|         [169248161]|[2776867660, 4555...|[Deborah Carvalho...|\n",
      "| 4206739739_5|0000-0003-4636-9578|          Rudi Fasan|           [5388228]|[21951064, 277660...|[Daniela M. Carmi...|\n",
      "|4210375849_10|0000-0001-9712-4939|  Karine R. Mayilyan|[99064381, 421013...|[2777910003, 1569...|[Vergine Madelian...|\n",
      "| 4210674858_2|0000-0002-5112-4498|       Piotr Narloch|         [108403487]|[2780021121, 2781...|    [Łukasz Rosicki]|\n",
      "| 4211201280_1|0000-0002-6379-0199|     M. Joseph Sirgy|                  []|[75630572, 277603...|                  []|\n",
      "| 4213246594_4|0000-0002-0071-8229|      Martina Benini|          [93860229]|[198408306, 15364...|[Laura Dossi, Mar...|\n",
      "| 4214605414_2|0000-0001-8051-1772|       Chenghuan Liu|          [16609230]|[149792144, 59085...|[Chao Jiang, Binh...|\n",
      "| 4214671176_1|0000-0003-2253-4794|        Anthony Yuan|        [4210161304]|[61434518, 71924100]|[Anna Sandstrom, ...|\n",
      "| 4220679165_2|0000-0001-8867-3039|    Cheol Woong Choi|           [4921948]|[2781025758, 9092...|[Su Jin Kim, Cheo...|\n",
      "| 4221010838_4|0000-0002-8983-4962|    Martin Heilmaier|         [102335020]|[79186407, 204366...|[Klaus-Peter Weis...|\n",
      "| 4224277404_4|0000-0003-0495-789X| Karla Rona da Silva|                  []|[15708023, 121332...|[Edna Andréa Pere...|\n",
      "| 4225266615_4|0000-0002-5304-3544|        Sven Schwabe|        [4210093385]|[2993473104, 1131...|[Theofanis N. Kit...|\n",
      "| 4238554974_1|0000-0003-1267-7839| Matthew H. Goldberg|          [32971472]|[206836424, 13265...|[Anthony Leiserow...|\n",
      "| 4239083852_4|0000-0002-5673-6784|Tânia Cristina da...|                  []|                null|[Luiz Felippe Sal...|\n",
      "| 4239826036_1|0000-0001-7695-4626|    Alaa Abd-alrazaq|                  []|[169900460, 15744...|[Mowafa Househ, C...|\n",
      "| 4247327337_2|0000-0001-7671-0576|     Edward Schiappa|        [2800403580]|[111472728, 14402...|[Jennifer K. Merc...|\n",
      "| 4247535407_1|0000-0002-3376-343X|       Adriano Bauer|         [129774422]|[76164948, 277705...|[Jing Li, Nuno Ma...|\n",
      "| 4251094754_1|0000-0002-7436-3176|Charles Thomas Pa...|        [4210112217]|[86803240, 121332...|[Kara Mannor, Geo...|\n",
      "| 4251331045_1|0000-0002-9676-144X|I Nyoman Wahyu Sa...|                  []|[41008148, 339235...|[I Ketut Wiryajat...|\n",
      "| 4252308333_2|0000-0003-3807-3056|            Gujie Mi|                  []|[11268172, 192562...|[Chunmeng Sun, Th...|\n",
      "| 4253689655_8|0000-0001-8579-4919|       Olivier Pertz|         [118564535]|[57074206, 410081...|[Mustafa Khammash...|\n",
      "| 4255620851_2|0000-0003-0908-2981|       Kelvin H. Lee|                  []|[70721500, 185592...|     [Leila H. Choe]|\n",
      "| 4280583590_1|0000-0002-0302-6834|   Breanna DiAndreth|          [63966007]|[165864922, 86339...|[Noreen Wauford, ...|\n",
      "| 4281264572_1|0000-0003-1259-8911|    Matthias Welsner|                  []|[126322002, 27758...|[Florian Stehling...|\n",
      "|4281400852_11|0000-0002-1474-3214|      David P. Smith|[9623796, 129604602]|[71924100, 290864...|[Karen Chiam, Bru...|\n",
      "| 4281645347_1|0000-0003-2353-6820|            yun yang|                  []|[36503486, 119857...|                  []|\n",
      "| 4281789185_4|0000-0001-8437-3645|    Brit Mollenhauer|                  []|[126322002, 86803...|[Sebastian Kügler...|\n",
      "| 4283119302_3|0000-0002-7451-8043|            Deren Lu|                  []|[30407753, 112950...|[Shijian Huang, F...|\n",
      "| 4283697761_5|0000-0002-6938-8627|      Marco Iannetta|                  []|[1491633281, 7192...|[Carla Montesano,...|\n",
      "| 4283761308_3|0000-0002-5050-8473|        Punam Jakhar|                  []|[501593827, 19482...|[Priyanka Rathi, ...|\n",
      "| 4284712070_1|0000-0003-2337-8949|           Xiaoyu Xu|                  []|[2780596425, 5188...|[Zeinah Elhaj Bad...|\n",
      "| 4288077671_4|0000-0002-1170-6610| Sohaib Abdul Rehman|            [241749]|[54355233, 643507...|[Stefan A. Koestl...|\n",
      "| 4288426936_1|0000-0001-8192-9062|Giorgio Vallortigara|         [193223587]|[15744967, 188147...|[Elena Lorenzi, A...|\n",
      "| 4289929733_4|0000-0002-2386-5504|          Sara Diniz|                  []|[141071460, 27783...|[Ricardo Sousa, L...|\n",
      "| 4292423678_4|0000-0003-3842-8646|Marina Serena Bor...|                  []|[205649164, 53565...|[Mauro Gobbi, Mar...|\n",
      "| 4293182523_3|0000-0003-2091-6772|       Isabel Sierra|                  []|[183696295, 27794...|[Sonia Morante-Za...|\n",
      "| 4294976055_2|0000-0002-1833-0214|   Bárbara Ferronato|         [180910786]|[2779542283, 6151...|[Sandra Alaniz, V...|\n",
      "| 4297510880_4|0000-0001-7998-8637|       Goro Miyamoto|                  []|[45206210, 191897...|[Masanori Enoki, ...|\n",
      "| 4297976443_3|0000-0002-0195-9753|      Cristina Basso|                  []|[2780574415, 7192...|[Silvia Ajello, A...|\n",
      "| 4298141955_4|0000-0003-3547-5711|     Robert P. Lynch|                  []|[504678139, 27785...|[D. Noel Buckley,...|\n",
      "+-------------+-------------------+--------------------+--------------------+--------------------+--------------------+\n",
      "only showing top 40 rows\n",
      "\n"
     ]
    }
   ],
   "source": [
    "all_base_data.sample(0.001).show(40)"
   ]
  },
  {
   "cell_type": "code",
   "execution_count": 0,
   "metadata": {
    "application/vnd.databricks.v1+cell": {
     "cellMetadata": {
      "byteLimit": 2048000,
      "rowLimit": 10000
     },
     "inputWidgets": {},
     "nuid": "2eb7a555-d886-4f94-a351-b0f3dfb7d238",
     "showTitle": false,
     "title": ""
    }
   },
   "outputs": [
    {
     "name": "stdout",
     "output_type": "stream",
     "text": [
      "+--------+-------+------+------------------+-----------------+-----------------+--------+-------+------+\n",
      "|inst_min|con_min|co_min|         inst_mean|         con_mean|          co_mean|inst_max|con_max|co_max|\n",
      "+--------+-------+------+------------------+-----------------+-----------------+--------+-------+------+\n",
      "|       0|     -1|     0|0.8706168178508836|9.208078256628479|8.871159049464126|      11|     25|   250|\n",
      "+--------+-------+------+------------------+-----------------+-----------------+--------+-------+------+\n",
      "\n"
     ]
    }
   ],
   "source": [
    "all_base_data \\\n",
    "    .select(F.size(F.col('institutions')).alias('inst_len'), \n",
    "            F.size(F.col('concepts')).alias('con_len'), \n",
    "            F.size(F.col('coauthors')).alias('co_len')) \\\n",
    "    .select(F.min('inst_len').alias('inst_min'), \n",
    "            F.min('con_len').alias('con_min'), \n",
    "            F.min('co_len').alias('co_min'), \n",
    "            F.mean('inst_len').alias('inst_mean'), \n",
    "            F.mean('con_len').alias('con_mean'), \n",
    "            F.mean('co_len').alias('co_mean'),\n",
    "            F.max('inst_len').alias('inst_max'), \n",
    "            F.max('con_len').alias('con_max'), \n",
    "            F.max('co_len').alias('co_max')) \\\n",
    "    .show(10)"
   ]
  },
  {
   "cell_type": "code",
   "execution_count": 0,
   "metadata": {
    "application/vnd.databricks.v1+cell": {
     "cellMetadata": {
      "byteLimit": 2048000,
      "rowLimit": 10000
     },
     "inputWidgets": {},
     "nuid": "d74ae4ff-970a-466b-ab78-fe73e5d74957",
     "showTitle": false,
     "title": ""
    }
   },
   "outputs": [],
   "source": [
    "import random"
   ]
  },
  {
   "cell_type": "code",
   "execution_count": 0,
   "metadata": {
    "application/vnd.databricks.v1+cell": {
     "cellMetadata": {
      "byteLimit": 2048000,
      "rowLimit": 10000
     },
     "inputWidgets": {},
     "nuid": "4e9d331a-a542-4877-9bbe-84c4d60b9011",
     "showTitle": false,
     "title": ""
    }
   },
   "outputs": [],
   "source": [
    "def create_training_sample_for_orcid_(author_name, institutions, concepts, coauthors):\n",
    "    author_name = \" \".join(author_name.split())\n",
    "    rand_num = random.random()\n",
    "    if (isinstance(institutions, list) & isinstance(concepts, list) & isinstance(coauthors, list)):\n",
    "        if rand_num < 0.40:\n",
    "            return f\"{author_name}||||{'|||'.join(institutions)}||||{'|||'.join(concepts)}||||{'|||'.join(coauthors)}\"\n",
    "        elif rand_num < 0.50:\n",
    "            return f\"{author_name}||||||||||||{'|||'.join(coauthors)}\"\n",
    "        elif rand_num < 0.60:\n",
    "            return f\"{author_name}||||||||{'|||'.join(concepts)}||||{'|||'.join(coauthors)}\"\n",
    "        elif rand_num < 0.70:\n",
    "            return f\"{author_name}||||{'|||'.join(institutions)}||||||||\"\n",
    "        elif rand_num < 0.80:\n",
    "            return f\"{author_name}||||{'|||'.join(institutions)}||||||||{'|||'.join(coauthors)}\"\n",
    "        elif rand_num < 0.90:\n",
    "            return f\"{author_name}||||||||{'|||'.join(concepts)}||||\"\n",
    "        else:\n",
    "            return f\"{author_name}||||{'|||'.join(institutions)}||||{'|||'.join(concepts)}||||\"\n",
    "    elif (isinstance(institutions, list) & isinstance(concepts, list) ):\n",
    "        if rand_num < 0.5:\n",
    "            return f\"{author_name}||||{'|||'.join(institutions)}||||{'|||'.join(concepts)}||||\"\n",
    "        elif rand_num < 0.75:\n",
    "            return f\"{author_name}||||{'|||'.join(institutions)}||||||||\"\n",
    "        else:\n",
    "            return f\"{author_name}||||||||{'|||'.join(concepts)}||||\"\n",
    "    elif (isinstance(institutions, list) & isinstance(coauthors, list)):\n",
    "        if rand_num < 0.5:\n",
    "            return f\"{author_name}||||{'|||'.join(institutions)}||||||||{'|||'.join(coauthors)}\"\n",
    "        elif rand_num < 0.75:\n",
    "            return f\"{author_name}||||||||||||{'|||'.join(coauthors)}\"\n",
    "        else:\n",
    "            return f\"{author_name}||||{'|||'.join(institutions)}||||||||\"\n",
    "    elif (isinstance(concepts, list) & isinstance(coauthors, list)):\n",
    "        if rand_num < 0.5:\n",
    "            return f\"{author_name}||||||||{'|||'.join(concepts)}||||{'|||'.join(coauthors)}\"\n",
    "        elif rand_num < 0.75:\n",
    "            return f\"{author_name}||||||||{'|||'.join(concepts)}||||\"\n",
    "        else:\n",
    "            return f\"{author_name}||||||||||||{'|||'.join(coauthors)}\"\n",
    "    elif isinstance(institutions, list):\n",
    "        return f\"{author_name}||||{'|||'.join(institutions)}||||||||\"\n",
    "    elif isinstance(concepts, list):\n",
    "        return f\"{author_name}||||||||{'|||'.join(concepts)}||||\"\n",
    "    elif isinstance(coauthors, list):\n",
    "        return f\"{author_name}||||||||||||{'|||'.join(coauthors)}\"\n",
    "    else:\n",
    "        return \"\"\n",
    "\n",
    "create_training_sample_for_orcid = F.udf(create_training_sample_for_orcid_, StringType())"
   ]
  },
  {
   "cell_type": "code",
   "execution_count": 0,
   "metadata": {
    "application/vnd.databricks.v1+cell": {
     "cellMetadata": {
      "byteLimit": 2048000,
      "rowLimit": 10000
     },
     "inputWidgets": {},
     "nuid": "ab7eeda1-b425-4929-b54d-9ce1f94f6b3f",
     "showTitle": false,
     "title": ""
    }
   },
   "outputs": [],
   "source": [
    "all_base_data \\\n",
    "    .withColumn('new_training_sample', create_training_sample_for_orcid(F.col('original_author'), \n",
    "    F.col('institutions'), F.col('concepts'), F.col('coauthors'))) \\\n",
    "    .select('work_id', 'orcid', 'new_training_sample') \\\n",
    "    .dropDuplicates() \\\n",
    "    .filter(F.col('new_training_sample')!='') \\\n",
    "    .write.mode('overwrite').parquet(f\"{iteration_save_path}disambiguator_processed_training_samples\")"
   ]
  },
  {
   "cell_type": "code",
   "execution_count": 0,
   "metadata": {
    "application/vnd.databricks.v1+cell": {
     "cellMetadata": {
      "byteLimit": 2048000,
      "rowLimit": 10000
     },
     "inputWidgets": {},
     "nuid": "96b8cd68-d11e-47d7-8ebd-fef384e82079",
     "showTitle": false,
     "title": ""
    }
   },
   "outputs": [
    {
     "name": "stdout",
     "output_type": "stream",
     "text": [
      "Out[4]: 190816087"
     ]
    }
   ],
   "source": [
    "dis_data_proc = spark.read.parquet(f\"{iteration_save_path}disambiguator_processed_training_samples\")\n",
    "dis_data_proc.cache().count()"
   ]
  },
  {
   "cell_type": "code",
   "execution_count": 0,
   "metadata": {
    "application/vnd.databricks.v1+cell": {
     "cellMetadata": {
      "byteLimit": 2048000,
      "rowLimit": 10000
     },
     "inputWidgets": {},
     "nuid": "752bcf53-1cdc-4060-9f08-05277689d04a",
     "showTitle": false,
     "title": ""
    }
   },
   "outputs": [
    {
     "name": "stdout",
     "output_type": "stream",
     "text": [
      "+-------------+-------------------+------------------------------------------------------------------------------------------------------------------------------------------------------------------------------------------------------------------------------------------------------------------------------------------------------------------------------------------------------------------------------------------+\n",
      "|work_id      |orcid              |new_training_sample                                                                                                                                                                                                                                                                                                                                                                       |\n",
      "+-------------+-------------------+------------------------------------------------------------------------------------------------------------------------------------------------------------------------------------------------------------------------------------------------------------------------------------------------------------------------------------------------------------------------------------------+\n",
      "|3155883601_1 |0000-0002-1199-6726|Grajewski Katsper||||149643846||||164913051|||556248259|||2775922551|||95457728|||32276052|||124952713|||527412718|||142362112|||41895202||||                                                                                                                                                                                                                                             |\n",
      "|3026935788_1 |0000-0003-1678-0948|Xianbin Hong||||||||||||                                                                                                                                                                                                                                                                                                                                                                  |\n",
      "|3190805805_1 |0000-0001-7282-5480|Alice Bastos||||192341844||||15744967|||15708023|||2988516024|||138496976||||Carla Faria|||Joana Monteiro                                                                                                                                                                                                                                                                                 |\n",
      "|2025473508_3 |0000-0003-3150-2516|Frank R DeLeo||||4210134534|||1299303238||||||||                                                                                                                                                                                                                                                                                                                                          |\n",
      "|2279346349_3 |0000-0002-9445-3486|Alexander V. Yakimkin||||149851306||||192562407|||2778572836|||20556612||||Viktor V. Savitsky|||Leonid M. Lobanov|||Valentin S. Volkov                                                                                                                                                                                                                                                    |\n",
      "|3213252254_3 |0000-0001-7065-2993|Oleg V. Rusakovskiy||||118501908||||||||Olena Jansson|||Ingrid Maier                                                                                                                                                                                                                                                                                                                      |\n",
      "|2259480099_12|0000-0002-4138-4798|P. Chris Hammel||||||||192562407|||193812863|||185592680|||187961010|||2778870898|||159467904|||2777715892|||46141821|||49853544|||32909587|||171250308||||Richelle M. Teeling-Smith|||Marek Šimon|||Young Woo Jung|||Ezekiel Johnston-Halperin|||Vidya P. Bhallamudi|||Jeremy Cardellino|||Nicolas Scozzaro|||Michael G. Poirier|||Justin A. North|||Isaac Rampersaud|||Arfaan Rampersaud|\n",
      "|2267190778_1 |0000-0001-5815-9370|Alan G. Jardine||||7882870||||2911091166|||183713625|||2777921159|||151719136|||535046627|||71924100|||509550671|||2779699572|||86554907||||                                                                                                                                                                                                                                              |\n",
      "|4294237893_9 |0000-0003-0914-9218|Michael G. Spencer||||83909951||||||||Patrick M. Vora|||Adam J. Robinson|||Jahangir Alam|||Peker Milas|||M. V. S. Chandrashekar|||Sheikh Mathab|||John Bishoy Sam Abraham|||Birol Ozturk                                                                                                                                                                                                  |\n",
      "|2231048521_2 |0000-0003-4709-4190|Nicola Williams||||146655781||||501593827|||4937899|||2781288988|||86803240|||61716771|||2776040555|||114851261|||94665300|||547475151|||71924100|||42972112|||89423630||||Gina Pinchbeck|||Timothy Nuttall|||Ian Tuerena                                                                                                                                                                 |\n",
      "+-------------+-------------------+------------------------------------------------------------------------------------------------------------------------------------------------------------------------------------------------------------------------------------------------------------------------------------------------------------------------------------------------------------------------------------------+\n",
      "only showing top 10 rows\n",
      "\n"
     ]
    }
   ],
   "source": [
    "dis_data_proc.sample(0.001).show(10, truncate=False)"
   ]
  },
  {
   "cell_type": "code",
   "execution_count": 0,
   "metadata": {
    "application/vnd.databricks.v1+cell": {
     "cellMetadata": {},
     "inputWidgets": {},
     "nuid": "94aeef3b-95f5-4e57-a231-e8b43784d1ca",
     "showTitle": false,
     "title": ""
    }
   },
   "outputs": [],
   "source": []
  }
 ],
 "metadata": {
  "application/vnd.databricks.v1+notebook": {
   "dashboards": [],
   "language": "python",
   "notebookMetadata": {
    "pythonIndentUnit": 4
   },
   "notebookName": "authors_v3_dataset_creation",
   "notebookOrigID": 4465694221996563,
   "widgets": {}
  },
  "kernelspec": {
   "display_name": "Python 3 (ipykernel)",
   "language": "python",
   "name": "python3"
  },
  "language_info": {
   "codemirror_mode": {
    "name": "ipython",
    "version": 3
   },
   "file_extension": ".py",
   "mimetype": "text/x-python",
   "name": "python",
   "nbconvert_exporter": "python",
   "pygments_lexer": "ipython3",
   "version": "3.8.12"
  }
 },
 "nbformat": 4,
 "nbformat_minor": 1
}
