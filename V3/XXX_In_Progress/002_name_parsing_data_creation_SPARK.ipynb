{
 "cells": [
  {
   "cell_type": "code",
   "execution_count": 0,
   "metadata": {
    "application/vnd.databricks.v1+cell": {
     "cellMetadata": {
      "byteLimit": 2048000,
      "rowLimit": 10000
     },
     "inputWidgets": {},
     "nuid": "44920190-9120-4ae8-858f-14f52b073315",
     "showTitle": false,
     "title": ""
    }
   },
   "outputs": [
    {
     "data": {
      "application/vnd.databricks.v1+bamboolib_hint": "{\"pd.DataFrames\": [], \"version\": \"0.0.1\"}",
      "text/plain": []
     },
     "metadata": {
      "application/vnd.databricks.v1+output": {
       "addedWidgets": {},
       "arguments": {},
       "data": {
        "application/vnd.databricks.v1+bamboolib_hint": "{\"pd.DataFrames\": [], \"version\": \"0.0.1\"}",
        "text/plain": ""
       },
       "datasetInfos": [],
       "executionCount": null,
       "metadata": {
        "kernelSessionId": "db37602e-2830269eead6a539076deb53"
       },
       "removedWidgets": [],
       "type": "mimeBundle"
      }
     },
     "output_type": "display_data"
    }
   ],
   "source": [
    "import pickle\n",
    "import boto3\n",
    "import re\n",
    "import json\n",
    "import random\n",
    "import pandas as pd\n",
    "import numpy as np\n",
    "import matplotlib.pyplot as plt\n",
    "# from langdetect import detect\n",
    "# from unidecode import unidecode\n",
    "# from nameparser import HumanName"
   ]
  },
  {
   "cell_type": "code",
   "execution_count": 0,
   "metadata": {
    "application/vnd.databricks.v1+cell": {
     "cellMetadata": {
      "byteLimit": 2048000,
      "rowLimit": 10000
     },
     "inputWidgets": {},
     "nuid": "2ba961a2-7e64-4844-8d78-c47e5f47c752",
     "showTitle": false,
     "title": ""
    }
   },
   "outputs": [
    {
     "name": "stdout",
     "output_type": "stream",
     "text": [
      "/databricks/spark/python/pyspark/sql/context.py:117: FutureWarning: Deprecated in 3.0.0. Use SparkSession.builder.getOrCreate() instead.\n",
      "  warnings.warn(\n"
     ]
    }
   ],
   "source": [
    "from pyspark.sql import SparkSession\n",
    "sc = spark.sparkContext\n",
    "from pyspark.sql import SQLContext\n",
    "from pyspark.sql import functions as F\n",
    "from pyspark.sql.window import Window\n",
    "from pyspark.sql.types import IntegerType, StringType, FloatType, ArrayType, DoubleType, StructType, StructField\n",
    "sqlContext = SQLContext(sc)"
   ]
  },
  {
   "cell_type": "code",
   "execution_count": 0,
   "metadata": {
    "application/vnd.databricks.v1+cell": {
     "cellMetadata": {
      "byteLimit": 2048000,
      "rowLimit": 10000
     },
     "inputWidgets": {},
     "nuid": "5f29191d-1059-4a1a-a42b-0a11e8599c1f",
     "showTitle": false,
     "title": ""
    }
   },
   "outputs": [],
   "source": [
    "base_save_path = \"s3://openalex-data-copy/snapshot_2023_02_15/\"\n",
    "iteration_save_path = \"s3://author-disambiguation/V3/\""
   ]
  },
  {
   "cell_type": "code",
   "execution_count": 0,
   "metadata": {
    "application/vnd.databricks.v1+cell": {
     "cellMetadata": {},
     "inputWidgets": {},
     "nuid": "21f6b320-3532-4d4c-97df-f77e4319706e",
     "showTitle": false,
     "title": ""
    }
   },
   "outputs": [],
   "source": []
  },
  {
   "cell_type": "markdown",
   "metadata": {
    "application/vnd.databricks.v1+cell": {
     "cellMetadata": {},
     "inputWidgets": {},
     "nuid": "c8a359ae-b1bb-47ff-a402-aa5d3ccc8fcb",
     "showTitle": false,
     "title": ""
    }
   },
   "source": [
    "#### Getting some author names in various languages"
   ]
  },
  {
   "cell_type": "code",
   "execution_count": 0,
   "metadata": {
    "application/vnd.databricks.v1+cell": {
     "cellMetadata": {
      "byteLimit": 2048000,
      "rowLimit": 10000
     },
     "inputWidgets": {},
     "nuid": "83120b71-c445-4d33-b289-03deb3bce351",
     "showTitle": false,
     "title": ""
    }
   },
   "outputs": [],
   "source": [
    "def get_language_(given, family=None):\n",
    "    if given and family:\n",
    "        all_text = f\"{given} {family}\"\n",
    "    elif given:\n",
    "        all_text = f\"{given}\"\n",
    "    else:\n",
    "        all_text = f\"{family}\"\n",
    "        \n",
    "    try:\n",
    "        string_lang = detect(all_text)\n",
    "    except:\n",
    "        string_lang = 'en'\n",
    "        \n",
    "    return string_lang\n",
    "\n",
    "get_language = F.udf(get_language_, StringType())"
   ]
  },
  {
   "cell_type": "code",
   "execution_count": 0,
   "metadata": {
    "application/vnd.databricks.v1+cell": {
     "cellMetadata": {
      "byteLimit": 2048000,
      "rowLimit": 10000
     },
     "inputWidgets": {},
     "nuid": "ef2bd009-84da-4fd2-914a-ae75c74c7480",
     "showTitle": false,
     "title": ""
    }
   },
   "outputs": [
    {
     "name": "stdout",
     "output_type": "stream",
     "text": [
      "Out[7]: 634179075"
     ]
    }
   ],
   "source": [
    "affiliations = spark.read.parquet(f\"{base_save_path}static_affiliations\")\n",
    "affiliations.cache().count()"
   ]
  },
  {
   "cell_type": "code",
   "execution_count": 0,
   "metadata": {
    "application/vnd.databricks.v1+cell": {
     "cellMetadata": {
      "byteLimit": 2048000,
      "rowLimit": 10000
     },
     "inputWidgets": {},
     "nuid": "2711ce57-c70f-4a65-8f2d-bc19d0517f1c",
     "showTitle": false,
     "title": ""
    }
   },
   "outputs": [],
   "source": [
    "affiliations \\\n",
    ".withColumn('author_str_len', F.length(F.col('original_author'))) \\\n",
    ".select('original_author', 'author_str_len') \\\n",
    ".filter(F.col('author_str_len') < 6) \\\n",
    ".filter(F.col('author_str_len') > 1) \\\n",
    ".dropDuplicates() \\\n",
    ".withColumn('name_lang', get_language(F.col('original_author'))) \\\n",
    ".write.mode('overwrite').parquet(f\"{iteration_save_path}all_processed_data_for_model/extra_character_data\")"
   ]
  },
  {
   "cell_type": "code",
   "execution_count": 0,
   "metadata": {
    "application/vnd.databricks.v1+cell": {
     "cellMetadata": {
      "byteLimit": 2048000,
      "rowLimit": 10000
     },
     "inputWidgets": {},
     "nuid": "3ccf4818-d058-4899-87d5-f0edeb580704",
     "showTitle": false,
     "title": ""
    }
   },
   "outputs": [
    {
     "name": "stdout",
     "output_type": "stream",
     "text": [
      "Out[8]: 5920942"
     ]
    }
   ],
   "source": [
    "extra_char_data = spark.read.parquet(f\"{iteration_save_path}all_processed_data_for_model/extra_character_data\")\n",
    "extra_char_data.cache().count()"
   ]
  },
  {
   "cell_type": "code",
   "execution_count": 0,
   "metadata": {
    "application/vnd.databricks.v1+cell": {
     "cellMetadata": {
      "byteLimit": 2048000,
      "rowLimit": 10000
     },
     "inputWidgets": {},
     "nuid": "109db3df-b954-4e85-be10-4c44e93daa0e",
     "showTitle": false,
     "title": ""
    }
   },
   "outputs": [
    {
     "name": "stdout",
     "output_type": "stream",
     "text": [
      "+---------+-------+\n",
      "|name_lang|  count|\n",
      "+---------+-------+\n",
      "|       ko|3891168|\n",
      "|    zh-cn|1606346|\n",
      "|    zh-tw| 148705|\n",
      "|       ja|  69381|\n",
      "|       de|  29163|\n",
      "|       en|  17171|\n",
      "|       sw|  14854|\n",
      "|       so|  13031|\n",
      "|       id|  12201|\n",
      "|       tl|  10270|\n",
      "|       cy|   9409|\n",
      "|       vi|   9367|\n",
      "|       tr|   7988|\n",
      "|       pl|   6072|\n",
      "|       fr|   5414|\n",
      "|       nl|   4886|\n",
      "|       ca|   4883|\n",
      "|       pt|   4795|\n",
      "|       hu|   4755|\n",
      "|       ro|   4754|\n",
      "|       fi|   4236|\n",
      "|       lt|   4080|\n",
      "|       it|   4007|\n",
      "|       hr|   3743|\n",
      "|       et|   3665|\n",
      "|       af|   3509|\n",
      "|       es|   3408|\n",
      "|       sl|   3094|\n",
      "|       sq|   2314|\n",
      "|       da|   2173|\n",
      "|       no|   1983|\n",
      "|       sv|   1928|\n",
      "|       sk|   1480|\n",
      "|       cs|   1376|\n",
      "|       lv|   1347|\n",
      "|       ru|    862|\n",
      "|       bg|    774|\n",
      "|       ar|    673|\n",
      "|       uk|    507|\n",
      "|       fa|    490|\n",
      "+---------+-------+\n",
      "only showing top 40 rows\n",
      "\n"
     ]
    }
   ],
   "source": [
    "extra_char_data.groupby('name_lang').count().orderBy('count', ascending=False).show(40)"
   ]
  },
  {
   "cell_type": "code",
   "execution_count": 0,
   "metadata": {
    "application/vnd.databricks.v1+cell": {
     "cellMetadata": {
      "byteLimit": 2048000,
      "rowLimit": 10000
     },
     "inputWidgets": {},
     "nuid": "0227ad6d-fae6-44f1-9ab7-715c206630af",
     "showTitle": false,
     "title": ""
    }
   },
   "outputs": [
    {
     "name": "stdout",
     "output_type": "stream",
     "text": [
      "+---------------+--------------+---------+\n",
      "|original_author|author_str_len|name_lang|\n",
      "+---------------+--------------+---------+\n",
      "|           颂华|             2|    zh-cn|\n",
      "|      寛人 山本|             5|       ko|\n",
      "|         张国锋|             3|    zh-cn|\n",
      "|           白璐|             2|    zh-cn|\n",
      "|      淑子 間宮|             5|       ko|\n",
      "|      柴田 未里|             5|       ko|\n",
      "|      峰子 刀谷|             5|       ko|\n",
      "|      智幸 武田|             5|       ko|\n",
      "|         章于川|             3|    zh-cn|\n",
      "|      正司 邑田|             5|    zh-cn|\n",
      "|      優里 藤川|             5|       ko|\n",
      "|         熊友谊|             3|       ko|\n",
      "|      善男 小篠|             5|    zh-cn|\n",
      "|         孙仁义|             3|    zh-cn|\n",
      "|        類臣 森|             4|       ko|\n",
      "|         김재진|             3|       ko|\n",
      "|         정장영|             3|       ko|\n",
      "|      圭司 伊藤|             5|       ko|\n",
      "|         申在权|             3|    zh-cn|\n",
      "|         叶钦军|             3|    zh-cn|\n",
      "|      裕子 湯口|             5|       ko|\n",
      "|         罗远扬|             3|    zh-cn|\n",
      "|      和徳 市丸|             5|       ko|\n",
      "|      昌三 飯盛|             5|       ko|\n",
      "|      修一 新里|             5|    zh-cn|\n",
      "|         司世明|             3|       ko|\n",
      "|      哲郎 匂坂|             5|       ko|\n",
      "|        進 塩崎|             4|       ko|\n",
      "|         苏毅琳|             3|       ko|\n",
      "|      晴夫 大中|             5|    zh-cn|\n",
      "|         叶逸潇|             3|    zh-cn|\n",
      "|      西出 和彦|             5|       ko|\n",
      "|           叶达|             2|    zh-cn|\n",
      "|         高钦翔|             3|       ko|\n",
      "|           徐奋|             2|       ko|\n",
      "|        寛 川辺|             4|       ko|\n",
      "|         庄剑峰|             3|       ko|\n",
      "|         唐中生|             3|       ko|\n",
      "|      久幸 石松|             5|       ko|\n",
      "|         赛青克|             3|    zh-cn|\n",
      "|         叶景星|             3|    zh-cn|\n",
      "|         丁守伟|             3|    zh-cn|\n",
      "|         张康源|             3|    zh-cn|\n",
      "|         백승면|             3|       ko|\n",
      "|       鈴木文一|             4|    zh-cn|\n",
      "|         陈绍玉|             3|       ko|\n",
      "|         冯卫虎|             3|    zh-cn|\n",
      "|      正勝 齋藤|             5|       ko|\n",
      "|        鵬飛 胡|             4|       ko|\n",
      "|         童景盛|             3|    zh-cn|\n",
      "+---------------+--------------+---------+\n",
      "only showing top 50 rows\n",
      "\n"
     ]
    }
   ],
   "source": [
    "extra_char_data.filter(F.col('name_lang').isin('ko','zh-cn','zh-tw','ja')).sample(0.001).show(50)"
   ]
  },
  {
   "cell_type": "code",
   "execution_count": 0,
   "metadata": {
    "application/vnd.databricks.v1+cell": {
     "cellMetadata": {
      "byteLimit": 2048000,
      "rowLimit": 10000
     },
     "inputWidgets": {},
     "nuid": "1f95d385-c4fc-4b21-aac5-c28e0bd6b34c",
     "showTitle": false,
     "title": ""
    }
   },
   "outputs": [
    {
     "name": "stdout",
     "output_type": "stream",
     "text": [
      "Out[15]: 5712"
     ]
    }
   ],
   "source": [
    "extra_char_data.filter(F.col('name_lang').isin('ko','zh-cn','zh-tw','ja')).sample(0.1).count()"
   ]
  },
  {
   "cell_type": "code",
   "execution_count": 0,
   "metadata": {
    "application/vnd.databricks.v1+cell": {
     "cellMetadata": {
      "byteLimit": 2048000,
      "rowLimit": 10000
     },
     "inputWidgets": {},
     "nuid": "ac5912cb-ccac-44ee-845c-51f7103040c8",
     "showTitle": false,
     "title": ""
    }
   },
   "outputs": [],
   "source": [
    "extra_char_data.filter(F.col('name_lang').isin('ko','zh-cn','zh-tw','ja'))\\\n",
    ".write.mode('overwrite').parquet(f\"{iteration_save_path}all_processed_data_for_model/all_training_data_other_languages\")"
   ]
  },
  {
   "cell_type": "markdown",
   "metadata": {
    "application/vnd.databricks.v1+cell": {
     "cellMetadata": {},
     "inputWidgets": {},
     "nuid": "47f9abef-de4b-45bd-8d74-3d30740105f2",
     "showTitle": false,
     "title": ""
    }
   },
   "source": [
    "### Getting all data"
   ]
  },
  {
   "cell_type": "code",
   "execution_count": 0,
   "metadata": {
    "application/vnd.databricks.v1+cell": {
     "cellMetadata": {
      "byteLimit": 2048000,
      "rowLimit": 10000
     },
     "inputWidgets": {},
     "nuid": "e74b561e-e83f-4a68-a5e0-fea4bb621382",
     "showTitle": false,
     "title": ""
    }
   },
   "outputs": [],
   "source": [
    "# crossref_names_parsed = spark.read.option('header','true').csv(f\"{iteration_save_path}parsed-names.csv.gz\")"
   ]
  },
  {
   "cell_type": "code",
   "execution_count": 0,
   "metadata": {
    "application/vnd.databricks.v1+cell": {
     "cellMetadata": {
      "byteLimit": 2048000,
      "rowLimit": 10000
     },
     "inputWidgets": {},
     "nuid": "5f5e208c-88ab-492a-9cb6-858f1a70a170",
     "showTitle": false,
     "title": ""
    }
   },
   "outputs": [],
   "source": [
    "# crossref_names_parsed.write.mode('overwrite').parquet(f\"{iteration_save_path}parsed_names\")"
   ]
  },
  {
   "cell_type": "code",
   "execution_count": 0,
   "metadata": {
    "application/vnd.databricks.v1+cell": {
     "cellMetadata": {
      "byteLimit": 2048000,
      "rowLimit": 10000
     },
     "inputWidgets": {},
     "nuid": "df7e8ecc-3197-40bc-9f25-146dea52f05a",
     "showTitle": false,
     "title": ""
    }
   },
   "outputs": [
    {
     "name": "stdout",
     "output_type": "stream",
     "text": [
      "Out[14]: 784810"
     ]
    }
   ],
   "source": [
    "crossref_names_parsed = spark.read.parquet(f\"{iteration_save_path}parsed_names\")\n",
    "crossref_names_parsed.cache().count()"
   ]
  },
  {
   "cell_type": "code",
   "execution_count": 0,
   "metadata": {
    "application/vnd.databricks.v1+cell": {
     "cellMetadata": {
      "byteLimit": 2048000,
      "rowLimit": 10000
     },
     "inputWidgets": {},
     "nuid": "e82e6ddb-ef67-41a0-9280-8a3bab4f567f",
     "showTitle": false,
     "title": ""
    }
   },
   "outputs": [],
   "source": [
    "# crossref_names_no_raw_text = spark.read.csv(f\"{iteration_save_path}crossref_name_parts\") \\\n",
    "# .select(F.col('_c0').alias('family_name'),F.col('_c1').alias('given_name'),F.col('_c2').alias('work_id'))"
   ]
  },
  {
   "cell_type": "code",
   "execution_count": 0,
   "metadata": {
    "application/vnd.databricks.v1+cell": {
     "cellMetadata": {
      "byteLimit": 2048000,
      "rowLimit": 10000
     },
     "inputWidgets": {},
     "nuid": "d17c2abc-d05c-4a9a-9205-dd7c4be582b8",
     "showTitle": false,
     "title": ""
    }
   },
   "outputs": [],
   "source": [
    "# crossref_names_no_raw_text \\\n",
    "# .select('given_name','family_name','work_id') \\\n",
    "# .write.mode('overwrite').parquet(f\"{iteration_save_path}crossref_name_parts_parquet\")"
   ]
  },
  {
   "cell_type": "code",
   "execution_count": 0,
   "metadata": {
    "application/vnd.databricks.v1+cell": {
     "cellMetadata": {
      "byteLimit": 2048000,
      "rowLimit": 10000
     },
     "inputWidgets": {},
     "nuid": "db07b9af-4b26-49d6-96fe-66dd994a92d2",
     "showTitle": false,
     "title": ""
    }
   },
   "outputs": [],
   "source": [
    "crossref_names_no_raw_text = spark.read.parquet(f\"{iteration_save_path}crossref_name_parts_parquet\") \\\n",
    ".withColumn('work_id', F.substring(F.col('work_id'), 2, 15))\n",
    "\n",
    "crossref_names_no_raw_text.cache().count()"
   ]
  },
  {
   "cell_type": "code",
   "execution_count": 0,
   "metadata": {
    "application/vnd.databricks.v1+cell": {
     "cellMetadata": {
      "byteLimit": 2048000,
      "rowLimit": 10000
     },
     "inputWidgets": {},
     "nuid": "c172b35a-3485-40aa-9b3d-e448fed0a196",
     "showTitle": false,
     "title": ""
    }
   },
   "outputs": [],
   "source": [
    "orcid_names = spark.read.parquet(f\"{iteration_save_path}orcid_names_data_dump.parquet\")"
   ]
  },
  {
   "cell_type": "code",
   "execution_count": 0,
   "metadata": {
    "application/vnd.databricks.v1+cell": {
     "cellMetadata": {
      "byteLimit": 2048000,
      "rowLimit": 10000
     },
     "inputWidgets": {},
     "nuid": "ab320b74-3962-458b-b215-b297cc8fbc2f",
     "showTitle": false,
     "title": ""
    }
   },
   "outputs": [
    {
     "name": "stdout",
     "output_type": "stream",
     "text": [
      "Out[11]: 14845875"
     ]
    }
   ],
   "source": [
    "orcid_names.cache().count()"
   ]
  },
  {
   "cell_type": "code",
   "execution_count": 0,
   "metadata": {
    "application/vnd.databricks.v1+cell": {
     "cellMetadata": {
      "byteLimit": 2048000,
      "rowLimit": 10000
     },
     "inputWidgets": {},
     "nuid": "42009c32-4d46-44c3-a447-f5e6ab0c8ec9",
     "showTitle": false,
     "title": ""
    }
   },
   "outputs": [],
   "source": [
    "# authors = spark.read.parquet(f\"{base_save_path}static_authors\")\n",
    "# works = spark.read.parquet(f\"{base_save_path}static_works\")\n",
    "# journals = spark.read.parquet(f\"{base_save_path}static_journals\")\n",
    "affiliations = spark.read.parquet(f\"{base_save_path}static_affiliations\")\n",
    "# institutions = spark.read.parquet(f\"{base_save_path}static_institutions\")\n",
    "# citations = spark.read.parquet(f\"{base_save_path}static_citations\")"
   ]
  },
  {
   "cell_type": "code",
   "execution_count": 0,
   "metadata": {
    "application/vnd.databricks.v1+cell": {
     "cellMetadata": {
      "byteLimit": 2048000,
      "rowLimit": 10000
     },
     "inputWidgets": {},
     "nuid": "baee35c5-0b7f-406c-bf96-d705b413f67b",
     "showTitle": false,
     "title": ""
    }
   },
   "outputs": [
    {
     "name": "stdout",
     "output_type": "stream",
     "text": [
      "Out[13]: 634179075"
     ]
    }
   ],
   "source": [
    "affiliations.cache().count()"
   ]
  },
  {
   "cell_type": "code",
   "execution_count": 0,
   "metadata": {
    "application/vnd.databricks.v1+cell": {
     "cellMetadata": {
      "byteLimit": 2048000,
      "rowLimit": 10000
     },
     "inputWidgets": {},
     "nuid": "276b4540-bbfb-43ee-bbfe-64fa80e08fcc",
     "showTitle": false,
     "title": ""
    }
   },
   "outputs": [],
   "source": [
    "# works.cache().count()"
   ]
  },
  {
   "cell_type": "markdown",
   "metadata": {
    "application/vnd.databricks.v1+cell": {
     "cellMetadata": {},
     "inputWidgets": {},
     "nuid": "dfc77a7a-6370-41a2-b495-2d4556e288bf",
     "showTitle": false,
     "title": ""
    }
   },
   "source": [
    "### Already has matching string"
   ]
  },
  {
   "cell_type": "code",
   "execution_count": 0,
   "metadata": {
    "application/vnd.databricks.v1+cell": {
     "cellMetadata": {
      "byteLimit": 2048000,
      "rowLimit": 10000
     },
     "inputWidgets": {},
     "nuid": "7f2c4943-d2f3-419c-a311-86ab1d3ec431",
     "showTitle": false,
     "title": ""
    }
   },
   "outputs": [
    {
     "name": "stdout",
     "output_type": "stream",
     "text": [
      "+---------------+-----------+-----------------------------+\n",
      "|given_name     |family_name|raw_name                     |\n",
      "+---------------+-----------+-----------------------------+\n",
      "|V              |Deschamps  |Deschamps, V                 |\n",
      "|Leon           |Lack       |Leon Lack                    |\n",
      "|Changli        |Lu         |Changli Lu                   |\n",
      "|Kalpa          |Kharicha   |Kalpa Kharicha               |\n",
      "|Shirley Shapiro|Ben David  |Shirley Shapiro Ben David, MD|\n",
      "|Teodora        |Nikolova   |Nikolova, Teodora            |\n",
      "|J.A.           |Otter      |J.A. Otter                   |\n",
      "|Christopher    |Alexander  |Christopher Alexander        |\n",
      "|T              |HARGREAVE  |T.B. Hargreave               |\n",
      "|Yan            |Wang       |Yan Wang                     |\n",
      "+---------------+-----------+-----------------------------+\n",
      "only showing top 10 rows\n",
      "\n"
     ]
    }
   ],
   "source": [
    "crossref_names_parsed.sample(0.01).select('given_name','family_name','raw_name').show(10, truncate=False)"
   ]
  },
  {
   "cell_type": "code",
   "execution_count": 0,
   "metadata": {
    "application/vnd.databricks.v1+cell": {
     "cellMetadata": {
      "byteLimit": 2048000,
      "rowLimit": 10000
     },
     "inputWidgets": {},
     "nuid": "0e308d0f-d3b3-48ee-aa8c-f32b3fe9135a",
     "showTitle": false,
     "title": ""
    }
   },
   "outputs": [],
   "source": [
    "crossref_names_parsed \\\n",
    ".write.mode('overwrite').parquet(f\"{iteration_save_path}all_processed_data_for_model/crossref_names_parsed\")"
   ]
  },
  {
   "cell_type": "markdown",
   "metadata": {
    "application/vnd.databricks.v1+cell": {
     "cellMetadata": {},
     "inputWidgets": {},
     "nuid": "2112c1a6-6977-43a3-878d-69082875c70d",
     "showTitle": false,
     "title": ""
    }
   },
   "source": [
    "Can link with ROR ID to current aff data"
   ]
  },
  {
   "cell_type": "code",
   "execution_count": 0,
   "metadata": {
    "application/vnd.databricks.v1+cell": {
     "cellMetadata": {
      "byteLimit": 2048000,
      "rowLimit": 10000
     },
     "inputWidgets": {},
     "nuid": "fc2e19fc-064c-487c-b603-04fb703f8514",
     "showTitle": false,
     "title": ""
    }
   },
   "outputs": [
    {
     "name": "stdout",
     "output_type": "stream",
     "text": [
      "+--------+----------+-----------------+----------------------+--------------------+--------------+--------------+------------+\n",
      "|paper_id| author_id|  original_author|author_sequence_number|original_affiliation|original_orcid|affiliation_id|match_author|\n",
      "+--------+----------+-----------------+----------------------+--------------------+--------------+--------------+------------+\n",
      "|  113794|2423819275|Vladik Kreinovich|                     2|Department of Com...|              |     164936912|            |\n",
      "|  121243|1936008844|    Roger D. Kamm|                     2|                    |              |          null|            |\n",
      "|  126581|2652807660|   I Schwanzerová|                     3|                    |              |          null|            |\n",
      "|  199092|2145393475|    Bethan Cowley|                    10|                    |              |          null|            |\n",
      "|  212904|2123159365|      G. Van Sant|                     1|                    |              |          null|            |\n",
      "+--------+----------+-----------------+----------------------+--------------------+--------------+--------------+------------+\n",
      "only showing top 5 rows\n",
      "\n"
     ]
    }
   ],
   "source": [
    "affiliations.sample(0.01).show(5)"
   ]
  },
  {
   "cell_type": "code",
   "execution_count": 0,
   "metadata": {
    "application/vnd.databricks.v1+cell": {
     "cellMetadata": {
      "byteLimit": 2048000,
      "rowLimit": 10000
     },
     "inputWidgets": {},
     "nuid": "83c2e1fe-cad8-4a4a-910f-3238c4ea95af",
     "showTitle": false,
     "title": ""
    }
   },
   "outputs": [
    {
     "name": "stdout",
     "output_type": "stream",
     "text": [
      "+-------------------+-------------+------------------+\n",
      "|              orcid|  given_names|       family_name|\n",
      "+-------------------+-------------+------------------+\n",
      "|0000-0001-5308-9000|Sandra Regina|         Albinante|\n",
      "|0000-0001-5405-7000|        Clara|           Gambart|\n",
      "|0000-0001-5772-5000|      Tingjun|                Ye|\n",
      "|0000-0001-5875-2000|     NAOWARA |          AL-ARAFI|\n",
      "|0000-0001-5932-5000|        Ziqi |              Wang|\n",
      "|0000-0001-5999-0000|          Yue|             Zhang|\n",
      "|0000-0001-6439-4000|          Yue|               Liu|\n",
      "|0000-0001-6416-7000|       Vikash|         Chaurasia|\n",
      "|0000-0001-6610-3000|           涛|                陈|\n",
      "|0000-0001-7020-9000|        Mario|Bustamante Alarcón|\n",
      "+-------------------+-------------+------------------+\n",
      "only showing top 10 rows\n",
      "\n"
     ]
    }
   ],
   "source": [
    "orcid_names.sample(0.01).show(10)"
   ]
  },
  {
   "cell_type": "code",
   "execution_count": 0,
   "metadata": {
    "application/vnd.databricks.v1+cell": {
     "cellMetadata": {
      "byteLimit": 2048000,
      "rowLimit": 10000
     },
     "inputWidgets": {},
     "nuid": "9ccdd736-40c1-4e02-b01e-1ed07a2c19be",
     "showTitle": false,
     "title": ""
    }
   },
   "outputs": [],
   "source": [
    "matched_with_orcid = orcid_names.join(affiliations.select(F.col('original_orcid').alias('orcid'), \n",
    "                                                          'original_author').dropDuplicates(), how='inner', on='orcid') \\\n",
    "    .select(F.col('given_names').alias('given_name'), \n",
    "            'family_name', \n",
    "            F.col('original_author').alias('raw_name')).dropDuplicates()"
   ]
  },
  {
   "cell_type": "code",
   "execution_count": 0,
   "metadata": {
    "application/vnd.databricks.v1+cell": {
     "cellMetadata": {
      "byteLimit": 2048000,
      "rowLimit": 10000
     },
     "inputWidgets": {},
     "nuid": "24cf006c-6cbd-4d95-8834-6cf02e058d3e",
     "showTitle": false,
     "title": ""
    }
   },
   "outputs": [
    {
     "name": "stdout",
     "output_type": "stream",
     "text": [
      "Out[26]: 3095877"
     ]
    }
   ],
   "source": [
    "matched_with_orcid.cache().count()"
   ]
  },
  {
   "cell_type": "code",
   "execution_count": 0,
   "metadata": {
    "application/vnd.databricks.v1+cell": {
     "cellMetadata": {
      "byteLimit": 2048000,
      "rowLimit": 10000
     },
     "inputWidgets": {},
     "nuid": "b1521cb5-14c0-4866-a5c2-05209e29d4d8",
     "showTitle": false,
     "title": ""
    }
   },
   "outputs": [],
   "source": [
    "matched_with_orcid \\\n",
    ".write.mode('overwrite').parquet(f\"{iteration_save_path}all_processed_data_for_model/matched_with_orcid\")"
   ]
  },
  {
   "cell_type": "markdown",
   "metadata": {
    "application/vnd.databricks.v1+cell": {
     "cellMetadata": {},
     "inputWidgets": {},
     "nuid": "7d09523d-5ea3-4609-b643-b469b51f4dea",
     "showTitle": false,
     "title": ""
    }
   },
   "source": [
    "### Needs matching string created"
   ]
  },
  {
   "cell_type": "markdown",
   "metadata": {
    "application/vnd.databricks.v1+cell": {
     "cellMetadata": {},
     "inputWidgets": {},
     "nuid": "fee7a5c5-68de-46e1-a37f-5f871252b605",
     "showTitle": false,
     "title": ""
    }
   },
   "source": [
    "See if we can do simple string matching to work using names"
   ]
  },
  {
   "cell_type": "code",
   "execution_count": 0,
   "metadata": {
    "application/vnd.databricks.v1+cell": {
     "cellMetadata": {
      "byteLimit": 2048000,
      "rowLimit": 10000
     },
     "inputWidgets": {},
     "nuid": "b4362fd2-a939-4c5c-b80c-a8af2db34eaf",
     "showTitle": false,
     "title": ""
    }
   },
   "outputs": [],
   "source": [
    "def get_author_string_match_(given, family, potential_names):\n",
    "    \n",
    "    \n",
    "    skip_list = [\" \", \",\" ,\".\" ,\"-\" ,\":\" ,\"/\"]\n",
    "    if given:\n",
    "        given_processed = [i for i in given.lower() if i not in skip_list]\n",
    "    else:\n",
    "        given_processed = []\n",
    "    \n",
    "    if family:\n",
    "        family_processed = [i for i in family.lower() if i not in skip_list]\n",
    "    else:\n",
    "        family_processed = []\n",
    "    full_name = list(set(given_processed + family_processed))\n",
    "    \n",
    "    curr_total = 0\n",
    "    final_name = []\n",
    "    for pot_name in potential_names:\n",
    "        pot_name_processed = list(set([i for i in pot_name.lower() if i not in skip_list]))\n",
    "        temp_total = sum(x in full_name for x in pot_name_processed)\n",
    "        if temp_total > curr_total:\n",
    "            curr_total = temp_total\n",
    "            final_name = [pot_name]\n",
    "        else:\n",
    "            pass\n",
    "    \n",
    "    if final_name:\n",
    "        return final_name[0]\n",
    "    else:\n",
    "        return \"NO_MATCH_POSSIBLE\"\n",
    "\n",
    "\n",
    "get_author_string_match = F.udf(get_author_string_match_, StringType())"
   ]
  },
  {
   "cell_type": "code",
   "execution_count": 0,
   "metadata": {
    "application/vnd.databricks.v1+cell": {
     "cellMetadata": {
      "byteLimit": 2048000,
      "rowLimit": 10000
     },
     "inputWidgets": {},
     "nuid": "f613e154-2d4f-4015-b815-f1ff8b2c7a00",
     "showTitle": false,
     "title": ""
    }
   },
   "outputs": [],
   "source": [
    "grouped_aff_data = affiliations.select(F.col('paper_id').alias('work_id'),'original_author').dropDuplicates() \\\n",
    ".filter(~F.col('original_author').isNull()) \\\n",
    ".filter(F.col('original_author')!='') \\\n",
    ".groupby('work_id') \\\n",
    ".agg(F.collect_list(F.col('original_author')).alias('potential_author_strings'))"
   ]
  },
  {
   "cell_type": "code",
   "execution_count": 0,
   "metadata": {
    "application/vnd.databricks.v1+cell": {
     "cellMetadata": {
      "byteLimit": 2048000,
      "rowLimit": 10000
     },
     "inputWidgets": {},
     "nuid": "8a68d11d-95c3-4b89-8507-4b7be960c5f4",
     "showTitle": false,
     "title": ""
    }
   },
   "outputs": [
    {
     "name": "stdout",
     "output_type": "stream",
     "text": [
      "Out[52]: 227519559"
     ]
    }
   ],
   "source": [
    "grouped_aff_data.cache().count()"
   ]
  },
  {
   "cell_type": "code",
   "execution_count": 0,
   "metadata": {
    "application/vnd.databricks.v1+cell": {
     "cellMetadata": {
      "byteLimit": 2048000,
      "rowLimit": 10000
     },
     "inputWidgets": {},
     "nuid": "2519dad0-1207-47e8-a717-dbe0f64db3fb",
     "showTitle": false,
     "title": ""
    }
   },
   "outputs": [
    {
     "name": "stdout",
     "output_type": "stream",
     "text": [
      "+-------+--------------------------------+\n",
      "|work_id|        potential_author_strings|\n",
      "+-------+--------------------------------+\n",
      "| 317456|            [Kenjiro Ogawa, M...|\n",
      "|1510044|[曾莉娅, 怀化市艺术馆,湖南,怀...|\n",
      "|1928305|            [Faraja Teddy Igira]|\n",
      "|2248676|  [俊治 横澤, 靖士 榎本, 英孝...|\n",
      "|4861616|        [马志远, 韩春琏, 吉敬合]|\n",
      "|5252084|            [Corinne Pedroletti]|\n",
      "|5253716|                 [D.B.J. Peters]|\n",
      "|6097392|                  [David Kimber]|\n",
      "|6143899|            [Shubhendu Banerjee]|\n",
      "|7759235|                   [Joyce Skeet]|\n",
      "+-------+--------------------------------+\n",
      "only showing top 10 rows\n",
      "\n"
     ]
    }
   ],
   "source": [
    "grouped_aff_data.sample(0.01).show(10)"
   ]
  },
  {
   "cell_type": "code",
   "execution_count": 0,
   "metadata": {
    "application/vnd.databricks.v1+cell": {
     "cellMetadata": {
      "byteLimit": 2048000,
      "rowLimit": 10000
     },
     "inputWidgets": {},
     "nuid": "b0f3c280-7630-4801-a95f-71cdfdef80eb",
     "showTitle": false,
     "title": ""
    }
   },
   "outputs": [
    {
     "name": "stdout",
     "output_type": "stream",
     "text": [
      "+----------+-----------+----------+\n",
      "|given_name|family_name|   work_id|\n",
      "+----------+-----------+----------+\n",
      "|     Peter|      Young| 275493881|\n",
      "|    Martin|      Crook|2960281211|\n",
      "|      Ning|         Ma|2921364369|\n",
      "|   Jack E.|    Fincham|4252733870|\n",
      "| Thomas R.|    Palfrey|3139109763|\n",
      "|        S.|     Sahina|4206707983|\n",
      "|    Rainer|    Geißler|4241954072|\n",
      "|     Pedro|    Cardoso|3201974630|\n",
      "| Toshikazu|       Niki|2073738003|\n",
      "|      John|        Fry| 584940973|\n",
      "+----------+-----------+----------+\n",
      "only showing top 10 rows\n",
      "\n"
     ]
    }
   ],
   "source": [
    "crossref_names_no_raw_text.sample(0.001).show(10)"
   ]
  },
  {
   "cell_type": "code",
   "execution_count": 0,
   "metadata": {
    "application/vnd.databricks.v1+cell": {
     "cellMetadata": {
      "byteLimit": 2048000,
      "rowLimit": 10000
     },
     "inputWidgets": {},
     "nuid": "eb156619-7e27-47f9-8474-26e544d7dc0d",
     "showTitle": false,
     "title": ""
    }
   },
   "outputs": [],
   "source": [
    "cross_ref_no_text_with_affs = crossref_names_no_raw_text.dropDuplicates().join(grouped_aff_data, how='inner', on='work_id') \\\n",
    ".withColumn('raw_name', get_author_string_match(F.col('given_name'), F.col('family_name'), F.col('potential_author_strings'))) \\\n",
    ".select('given_name','family_name','raw_name')"
   ]
  },
  {
   "cell_type": "code",
   "execution_count": 0,
   "metadata": {
    "application/vnd.databricks.v1+cell": {
     "cellMetadata": {
      "byteLimit": 2048000,
      "rowLimit": 10000
     },
     "inputWidgets": {},
     "nuid": "1b7a559c-3ffe-43f4-b83e-48afe42624c6",
     "showTitle": false,
     "title": ""
    }
   },
   "outputs": [
    {
     "name": "stdout",
     "output_type": "stream",
     "text": [
      "Out[56]: 372567202"
     ]
    }
   ],
   "source": [
    "cross_ref_no_text_with_affs.cache().count()"
   ]
  },
  {
   "cell_type": "code",
   "execution_count": 0,
   "metadata": {
    "application/vnd.databricks.v1+cell": {
     "cellMetadata": {
      "byteLimit": 2048000,
      "rowLimit": 10000
     },
     "inputWidgets": {},
     "nuid": "f1a13ce2-50ab-4ca1-a07f-8019d8e83501",
     "showTitle": false,
     "title": ""
    }
   },
   "outputs": [
    {
     "name": "stdout",
     "output_type": "stream",
     "text": [
      "+---------------+-----------+-----------------------+\n",
      "|given_name     |family_name|raw_name               |\n",
      "+---------------+-----------+-----------------------+\n",
      "|Fangdong       |Zhou       |Fangdong Zhou          |\n",
      "|J.             |Nowak      |J. Nowak               |\n",
      "|Didier         |Dubois     |Didier Dubois          |\n",
      "|P. A.          |Steerenberg|P. A. Steerenberg      |\n",
      "|Lawrence       |Schovanec  |Lawrence Schovanec     |\n",
      "|H.             |Küchmeister|H. Küchmeister         |\n",
      "|Robert J.      |Boucek     |Robert J. Boucek       |\n",
      "|Steve          |McNulty    |Steve McNulty          |\n",
      "|Michael C.     |Fishbein   |Michael C. Fishbein    |\n",
      "|Gabriella      |Gobbi      |Gabriella Gobbi        |\n",
      "|G.             |Oppenheim  |G. Oppenheim           |\n",
      "|CE             |Terrill    |CE Terrill             |\n",
      "|Hiromi         |Matsubara  |Hiromi Matsubara       |\n",
      "|W.             |Pimpl      |W. Pimpl               |\n",
      "|Yoshitoki      |Ishii      |Yoshitoki Ishii        |\n",
      "|Youngsun       |Sohn       |Youngsun Sohn          |\n",
      "|Maria Aurelia  |Gregori    |Maria Aurelia Gregori  |\n",
      "|Veronica Lea J.|Dimaano    |Veronica Lea J. Dimaano|\n",
      "|Kirak          |Hong       |Kirak Hong             |\n",
      "|Huisheng       |Chi        |Huisheng Chi           |\n",
      "+---------------+-----------+-----------------------+\n",
      "only showing top 20 rows\n",
      "\n"
     ]
    }
   ],
   "source": [
    "cross_ref_no_text_with_affs.sample(0.01).show(20, truncate=False)"
   ]
  },
  {
   "cell_type": "code",
   "execution_count": 0,
   "metadata": {
    "application/vnd.databricks.v1+cell": {
     "cellMetadata": {
      "byteLimit": 2048000,
      "rowLimit": 10000
     },
     "inputWidgets": {},
     "nuid": "28f2f7a9-b81f-4d7e-a894-540220b40da4",
     "showTitle": false,
     "title": ""
    }
   },
   "outputs": [],
   "source": [
    "cross_ref_no_text_with_affs \\\n",
    ".write.mode('overwrite').parquet(f\"{iteration_save_path}all_processed_data_for_model/crossref_no_text_matched_affs\")"
   ]
  },
  {
   "cell_type": "markdown",
   "metadata": {
    "application/vnd.databricks.v1+cell": {
     "cellMetadata": {},
     "inputWidgets": {},
     "nuid": "69911a4d-9111-4997-82e9-9e2b5427ae3a",
     "showTitle": false,
     "title": ""
    }
   },
   "source": [
    "### Take final data and get into dataset for training"
   ]
  },
  {
   "cell_type": "code",
   "execution_count": 0,
   "metadata": {
    "application/vnd.databricks.v1+cell": {
     "cellMetadata": {
      "byteLimit": 2048000,
      "rowLimit": 10000
     },
     "inputWidgets": {},
     "nuid": "53fe9842-2668-499a-8afb-12b0d6a9f00b",
     "showTitle": false,
     "title": ""
    }
   },
   "outputs": [
    {
     "name": "stdout",
     "output_type": "stream",
     "text": [
      "Out[9]: 705798"
     ]
    }
   ],
   "source": [
    "crossref_names_parsed = \\\n",
    "    spark.read.parquet(f\"{iteration_save_path}all_processed_data_for_model/crossref_names_parsed\") \\\n",
    "    .select('given_name','family_name','raw_name') \\\n",
    "    .withColumn('data_type', F.lit('crossref_parsed')) \\\n",
    "    .dropDuplicates()\n",
    "crossref_names_parsed.cache().count()"
   ]
  },
  {
   "cell_type": "code",
   "execution_count": 0,
   "metadata": {
    "application/vnd.databricks.v1+cell": {
     "cellMetadata": {
      "byteLimit": 2048000,
      "rowLimit": 10000
     },
     "inputWidgets": {},
     "nuid": "74379105-5db1-4794-9855-91f4f5c35101",
     "showTitle": false,
     "title": ""
    }
   },
   "outputs": [
    {
     "name": "stdout",
     "output_type": "stream",
     "text": [
      "+----------+-----------+-------------------+\n",
      "|given_name|family_name|raw_name           |\n",
      "+----------+-----------+-------------------+\n",
      "|Bruce H.  |McCormick  |McCormick, Bruce H.|\n",
      "|Zahra     |Kargarpour |Zahra Kargarpour   |\n",
      "|R.        |Rohini     |R. Rohini          |\n",
      "|W. W.     |McMillian  |W. W. McMillian    |\n",
      "|Zhiyuan   |Xu         |Zhiyuan Xu         |\n",
      "+----------+-----------+-------------------+\n",
      "only showing top 5 rows\n",
      "\n"
     ]
    }
   ],
   "source": [
    "crossref_names_parsed.sample(0.01).show(5, truncate=False)"
   ]
  },
  {
   "cell_type": "code",
   "execution_count": 0,
   "metadata": {
    "application/vnd.databricks.v1+cell": {
     "cellMetadata": {
      "byteLimit": 2048000,
      "rowLimit": 10000
     },
     "inputWidgets": {},
     "nuid": "6339e102-c45d-423c-bcd4-2d3d12750f6e",
     "showTitle": false,
     "title": ""
    }
   },
   "outputs": [
    {
     "name": "stdout",
     "output_type": "stream",
     "text": [
      "Out[10]: 3095877"
     ]
    }
   ],
   "source": [
    "matched_with_orcid = \\\n",
    "    spark.read.parquet(f\"{iteration_save_path}all_processed_data_for_model/matched_with_orcid\") \\\n",
    "    .select('given_name','family_name','raw_name') \\\n",
    "    .withColumn('data_type', F.lit('orcid_matched')) \\\n",
    "    .dropDuplicates()\n",
    "matched_with_orcid.cache().count()"
   ]
  },
  {
   "cell_type": "code",
   "execution_count": 0,
   "metadata": {
    "application/vnd.databricks.v1+cell": {
     "cellMetadata": {
      "byteLimit": 2048000,
      "rowLimit": 10000
     },
     "inputWidgets": {},
     "nuid": "c1bffeb0-8387-4460-ae8d-fb0f73ea4eff",
     "showTitle": false,
     "title": ""
    }
   },
   "outputs": [
    {
     "name": "stdout",
     "output_type": "stream",
     "text": [
      "+---------------+-----------+----------------------+\n",
      "|given_name     |family_name|raw_name              |\n",
      "+---------------+-----------+----------------------+\n",
      "|zhongliang     |sun        |Zhong-Liang Sun       |\n",
      "|null           |null       |Mariel Friberg        |\n",
      "|Alan Kwok Shing|Chiang     |Alan Kwok Shing Chiang|\n",
      "|qiuping        |gu         |Qiuping Gu            |\n",
      "|Rafia          |Afzal      |Rafia Afzal           |\n",
      "+---------------+-----------+----------------------+\n",
      "only showing top 5 rows\n",
      "\n"
     ]
    }
   ],
   "source": [
    "matched_with_orcid.sample(0.01).show(5, truncate=False)"
   ]
  },
  {
   "cell_type": "code",
   "execution_count": 0,
   "metadata": {
    "application/vnd.databricks.v1+cell": {
     "cellMetadata": {
      "byteLimit": 2048000,
      "rowLimit": 10000
     },
     "inputWidgets": {},
     "nuid": "59084fcc-90ad-4678-97d2-b8e4f3b0a4ad",
     "showTitle": false,
     "title": ""
    }
   },
   "outputs": [
    {
     "name": "stdout",
     "output_type": "stream",
     "text": [
      "Out[11]: 59903052"
     ]
    }
   ],
   "source": [
    "cross_ref_no_text_with_affs = \\\n",
    "    spark.read.parquet(f\"{iteration_save_path}all_processed_data_for_model/crossref_no_text_matched_affs\") \\\n",
    "    .filter(F.col('raw_name')!='NO_MATCH_POSSIBLE') \\\n",
    "    .withColumn('given_len', F.length(F.col('given_name'))) \\\n",
    "    .withColumn('family_len', F.length(F.col('family_name'))) \\\n",
    "    .withColumn('raw_len', F.length(F.col('raw_name'))) \\\n",
    "    .withColumn('ratio', (F.col('given_len') + F.col('family_len'))/F.col('raw_len')) \\\n",
    "    .filter((F.col('ratio') > 0.4) & (F.col('raw_name').contains(F.col('family_name')))) \\\n",
    "    .filter(F.col('ratio') <= 1.0) \\\n",
    "    .select('given_name','family_name','raw_name') \\\n",
    "    .withColumn('data_type', F.lit('crossref_matched')) \\\n",
    "    .dropDuplicates()\n",
    "\n",
    "cross_ref_no_text_with_affs.cache().count()"
   ]
  },
  {
   "cell_type": "code",
   "execution_count": 0,
   "metadata": {
    "application/vnd.databricks.v1+cell": {
     "cellMetadata": {
      "byteLimit": 2048000,
      "rowLimit": 10000
     },
     "inputWidgets": {},
     "nuid": "5db62033-7369-4be6-9abf-e6a893e2955b",
     "showTitle": false,
     "title": ""
    }
   },
   "outputs": [
    {
     "name": "stdout",
     "output_type": "stream",
     "text": [
      "+----------+-----------+---------------+----------------+\n",
      "|given_name|family_name|raw_name       |data_type       |\n",
      "+----------+-----------+---------------+----------------+\n",
      "|Tomohiro  |Takaki     |Tomohiro Takaki|crossref_matched|\n",
      "|A.K.      |Amir-Jahed |A.K. Amir-Jahed|crossref_matched|\n",
      "|M.        |Flaherty   |M. Flaherty    |crossref_matched|\n",
      "|Victor P. |Pasko      |Victor P. Pasko|crossref_matched|\n",
      "|D.E.      |Dorfan     |D.E. Dorfan    |crossref_matched|\n",
      "+----------+-----------+---------------+----------------+\n",
      "only showing top 5 rows\n",
      "\n"
     ]
    }
   ],
   "source": [
    "cross_ref_no_text_with_affs\\\n",
    ".sample(0.01).show(5, truncate=False)"
   ]
  },
  {
   "cell_type": "markdown",
   "metadata": {
    "application/vnd.databricks.v1+cell": {
     "cellMetadata": {},
     "inputWidgets": {},
     "nuid": "351a62d8-033c-4e67-948e-98d41abcea54",
     "showTitle": false,
     "title": ""
    }
   },
   "source": [
    "### Combining all data"
   ]
  },
  {
   "cell_type": "code",
   "execution_count": 0,
   "metadata": {
    "application/vnd.databricks.v1+cell": {
     "cellMetadata": {
      "byteLimit": 2048000,
      "rowLimit": 10000
     },
     "inputWidgets": {},
     "nuid": "baae0004-a281-49a7-b31c-ae5e965cf643",
     "showTitle": false,
     "title": ""
    }
   },
   "outputs": [],
   "source": [
    "def get_language_(given, family=None):\n",
    "    if given and family:\n",
    "        all_text = f\"{given} {family}\"\n",
    "    elif given:\n",
    "        all_text = f\"{given}\"\n",
    "    else:\n",
    "        all_text = f\"{family}\"\n",
    "        \n",
    "    try:\n",
    "        string_lang = detect(all_text)\n",
    "    except:\n",
    "        string_lang = 'en'\n",
    "        \n",
    "    return string_lang\n",
    "\n",
    "get_language = F.udf(get_language_, StringType())"
   ]
  },
  {
   "cell_type": "code",
   "execution_count": 0,
   "metadata": {
    "application/vnd.databricks.v1+cell": {
     "cellMetadata": {
      "byteLimit": 2048000,
      "rowLimit": 10000
     },
     "inputWidgets": {},
     "nuid": "35fe75f3-49a6-4eba-b980-7edc1b2e3ab4",
     "showTitle": false,
     "title": ""
    }
   },
   "outputs": [],
   "source": [
    "# crossref_names_parsed \\\n",
    "#     .unionByName(matched_with_orcid) \\\n",
    "#     .unionByName(cross_ref_no_text_with_affs) \\\n",
    "#     .dropDuplicates(subset=['given_name','family_name','raw_name']) \\\n",
    "#     .write.mode('overwrite').parquet(f\"{iteration_save_path}all_processed_data_for_model/all_author_data_combined\")"
   ]
  },
  {
   "cell_type": "code",
   "execution_count": 0,
   "metadata": {
    "application/vnd.databricks.v1+cell": {
     "cellMetadata": {},
     "inputWidgets": {},
     "nuid": "e9a7064c-1d3e-479b-b402-dbc99515442a",
     "showTitle": false,
     "title": ""
    }
   },
   "outputs": [],
   "source": [
    "# all_author_data \\\n",
    "# .select('given_name') \\\n",
    "# .filter(~F.col('given_name').isNull()) \\\n",
    "# .dropDuplicates() \\\n",
    "# .withColumn('name_lang', get_language(F.col('given_name'))) \\\n",
    "# .write.mode('overwrite').parquet(f\"{iteration_save_path}all_processed_data_for_model/given_name_lang\")"
   ]
  },
  {
   "cell_type": "code",
   "execution_count": 0,
   "metadata": {
    "application/vnd.databricks.v1+cell": {
     "cellMetadata": {},
     "inputWidgets": {},
     "nuid": "20f2417c-93c3-44a6-b7d4-0a0787dc7434",
     "showTitle": false,
     "title": ""
    }
   },
   "outputs": [],
   "source": [
    "# all_author_data \\\n",
    "# .select('family_name') \\\n",
    "# .filter(~F.col('family_name').isNull()) \\\n",
    "# .dropDuplicates() \\\n",
    "# .withColumn('name_lang', get_language(F.col('family_name'))) \\\n",
    "# .write.mode('overwrite').parquet(f\"{iteration_save_path}all_processed_data_for_model/family_name_lang\")"
   ]
  },
  {
   "cell_type": "code",
   "execution_count": 0,
   "metadata": {
    "application/vnd.databricks.v1+cell": {
     "cellMetadata": {
      "byteLimit": 2048000,
      "rowLimit": 10000
     },
     "inputWidgets": {},
     "nuid": "4da77092-b94b-4293-86f1-9c5ef9ab72ac",
     "showTitle": false,
     "title": ""
    }
   },
   "outputs": [
    {
     "name": "stdout",
     "output_type": "stream",
     "text": [
      "Out[4]: 7703454"
     ]
    }
   ],
   "source": [
    "author_family_name_lang = \\\n",
    "    spark.read.parquet(f\"{iteration_save_path}all_processed_data_for_model/family_name_lang\")\n",
    "\n",
    "author_family_name_lang.cache().count()"
   ]
  },
  {
   "cell_type": "code",
   "execution_count": 0,
   "metadata": {
    "application/vnd.databricks.v1+cell": {
     "cellMetadata": {
      "byteLimit": 2048000,
      "rowLimit": 10000
     },
     "inputWidgets": {},
     "nuid": "d00efb8c-b8c7-4fb2-81ee-b3db8f942e21",
     "showTitle": false,
     "title": ""
    }
   },
   "outputs": [
    {
     "name": "stdout",
     "output_type": "stream",
     "text": [
      "Out[5]: 61719291"
     ]
    }
   ],
   "source": [
    "all_author_data = \\\n",
    "    spark.read.parquet(f\"{iteration_save_path}all_processed_data_for_model/all_author_data_combined\") \\\n",
    "    .filter(F.col('raw_name') != '') \\\n",
    "    .filter(~F.col('raw_name').isNull()) \\\n",
    "    .filter((~F.col('given_name').isNull()) & (~F.col('family_name').isNull())) \\\n",
    "    .join(author_family_name_lang.select('family_name','name_lang'), how='left', on='family_name')\n",
    "\n",
    "all_author_data.cache().count()"
   ]
  },
  {
   "cell_type": "code",
   "execution_count": 0,
   "metadata": {
    "application/vnd.databricks.v1+cell": {
     "cellMetadata": {
      "byteLimit": 2048000,
      "rowLimit": 10000
     },
     "inputWidgets": {},
     "nuid": "5bb78338-92f4-4fe3-bc11-5c5b27802133",
     "showTitle": false,
     "title": ""
    }
   },
   "outputs": [
    {
     "name": "stdout",
     "output_type": "stream",
     "text": [
      "Out[27]: 0"
     ]
    }
   ],
   "source": [
    "all_author_data.filter(F.col('name_lang').isNull()).count()"
   ]
  },
  {
   "cell_type": "code",
   "execution_count": 0,
   "metadata": {
    "application/vnd.databricks.v1+cell": {
     "cellMetadata": {
      "byteLimit": 2048000,
      "rowLimit": 10000
     },
     "inputWidgets": {},
     "nuid": "41372d86-1bf2-48b2-846a-1d58356dd3b4",
     "showTitle": false,
     "title": ""
    }
   },
   "outputs": [
    {
     "name": "stdout",
     "output_type": "stream",
     "text": [
      "+----------------+-------------------+------------------------------+----------------+---------+\n",
      "|family_name     |given_name         |raw_name                      |data_type       |name_lang|\n",
      "+----------------+-------------------+------------------------------+----------------+---------+\n",
      "|Alruwaili       |Mohammed K         |Mohammed K Alruwaili          |crossref_matched|sw       |\n",
      "|Correia         |Jozelia            |Jozélia Maria de Souza Correia|orcid_matched   |pt       |\n",
      "|Deswal          |Suman              |Suman Deswal                  |crossref_parsed |af       |\n",
      "|Schmiz          |Karl               |Karl Schmiz                   |crossref_matched|de       |\n",
      "|Brocklehurst    |Anna               |Anna Brocklehurst             |crossref_matched|sv       |\n",
      "|Lozano          |Ana Guiomar        |Ana Guiomar Lozano            |crossref_matched|sl       |\n",
      "|Pontes          |Elenir             |Elenir Pontes                 |crossref_matched|pt       |\n",
      "|Scott           |J. V.              |J. V. Scott                   |crossref_matched|it       |\n",
      "|Arguello        |J M                |J M Arguello                  |crossref_matched|es       |\n",
      "|Castro          |Mariana Telles de  |Mariana Telles de Castro      |crossref_matched|pt       |\n",
      "|Goicoechea      |Monika             |Monika Goicoechea             |crossref_matched|en       |\n",
      "|Grace Kalaimathi|SAni               |S Ani Grace Kalaimathi        |crossref_matched|en       |\n",
      "|Heidary         |David K.           |David K. Heidary              |crossref_matched|cy       |\n",
      "|Papamatheakis   |J                  |Joseph Papamatheakis          |crossref_matched|tl       |\n",
      "|Pimentel        |Pamela             |Pamela Pimentel               |crossref_matched|it       |\n",
      "|Remacle         |J.                 |J Remacle                     |crossref_matched|ca       |\n",
      "|Yokokawa        |Michihiro          |Michihiro Yokokawa            |crossref_matched|sw       |\n",
      "|Chowdhury       |Z. Z.              |Z. Z. Chowdhury               |crossref_matched|en       |\n",
      "|Datskovskiy     |Debra              |Debra Datskovskiy             |crossref_matched|hr       |\n",
      "|Bartoleschi     |Eugenio            |Eugenio Bartoleschi           |crossref_matched|de       |\n",
      "|Jones           |E.G.               |E. G. Jones                   |crossref_matched|es       |\n",
      "|Jones           |J.F.               |J.F. Jones                    |crossref_matched|es       |\n",
      "|Chen            |Shinn-Cherng       |Shinn-Cherng Chen             |crossref_matched|de       |\n",
      "|Santos          |André Luiz da Silva|André Luiz da Silva Santos    |crossref_matched|es       |\n",
      "|Sorokina        |L.Yu.              |L.Yu. Sorokina                |crossref_matched|hr       |\n",
      "|Oliveira Cardoso|Eliza              |Eliza de Oliveira Cardoso     |crossref_matched|pt       |\n",
      "|Ryu             |Hyeong-Seok        |Hyeong-Seok Ryu               |crossref_matched|lt       |\n",
      "|Sequeira        |K                  |K Sequeira                    |crossref_matched|pt       |\n",
      "|Defferrari      |M.S.               |M.S. Defferrari               |crossref_matched|de       |\n",
      "|Urban           |Alicia L.          |Alicia L. Urban               |crossref_matched|id       |\n",
      "|Xu              |Jian-Miao          |Jian-Miao Xu                  |crossref_matched|so       |\n",
      "|Xu              |Enmin              |Enmin Xu                      |crossref_matched|so       |\n",
      "|Xu              |Jane Jialu         |Jane Jialu Xu                 |orcid_matched   |so       |\n",
      "|McKinney        |James T.           |James T. McKinney             |crossref_matched|no       |\n",
      "|Sanchez         |Sérgio Veraguas    |Sérgio Veraguas Sanchez       |crossref_matched|de       |\n",
      "|Setiaji         |Kunta              |Kunta Setiaji                 |crossref_matched|fi       |\n",
      "|Willers         |Reinhardt          |Reinhardt Willers             |crossref_matched|sv       |\n",
      "|Jiang           |Zhengtong          |Zhengtong Jiang               |crossref_matched|id       |\n",
      "|Martins         |Pedro              |Pedro Magalhães Martins       |orcid_matched   |en       |\n",
      "|Pentzke         |Bayardo Robelo     |Bayardo Robelo-Pentzke        |crossref_matched|de       |\n",
      "|Ashwin Clement  |H.                 |H. Ashwin Clement             |crossref_matched|en       |\n",
      "|Caravalí-Meza   |Nuris Yohana       |Nuris Yohana Caravalí-Meza    |crossref_matched|cs       |\n",
      "|Froslie         |H. M.              |H. M. Froslie                 |crossref_matched|af       |\n",
      "|James           |Mbah Ajeck         |James Mbah Ajeck              |crossref_matched|pt       |\n",
      "|Kozuch          |Patricia           |Patricia Kozuch               |crossref_matched|de       |\n",
      "|Shuvaeva        |A.O.               |A.O. Shuvaeva                 |crossref_matched|et       |\n",
      "|Soto            |Cinque S.          |Cinque S Soto                 |crossref_matched|en       |\n",
      "|Friedman        |S L                |Scott L. Friedman             |crossref_matched|af       |\n",
      "|Goldschmidt     |Richard B.         |Richard Benedict Goldschmidt  |crossref_matched|de       |\n",
      "|Piobbico        |Gioele             |Gioele Piobbico               |crossref_matched|it       |\n",
      "+----------------+-------------------+------------------------------+----------------+---------+\n",
      "only showing top 50 rows\n",
      "\n"
     ]
    }
   ],
   "source": [
    "all_author_data.sample(0.00001).show(50, truncate=False)"
   ]
  },
  {
   "cell_type": "code",
   "execution_count": 0,
   "metadata": {
    "application/vnd.databricks.v1+cell": {
     "cellMetadata": {
      "byteLimit": 2048000,
      "rowLimit": 10000
     },
     "inputWidgets": {},
     "nuid": "2fb5ed51-666a-4016-823b-ff6ce6434da1",
     "showTitle": false,
     "title": ""
    }
   },
   "outputs": [],
   "source": [
    "# all_author_data.groupby('name_lang') \\\n",
    "# .agg(F.count(F.col('given_name')).alias('count'), \n",
    "#      F.first(F.col('family_name')).alias('family_example')).show(60)"
   ]
  },
  {
   "cell_type": "code",
   "execution_count": 0,
   "metadata": {
    "application/vnd.databricks.v1+cell": {
     "cellMetadata": {
      "byteLimit": 2048000,
      "rowLimit": 10000
     },
     "inputWidgets": {},
     "nuid": "8088f112-f129-4530-908c-e4b39a1fb908",
     "showTitle": false,
     "title": ""
    }
   },
   "outputs": [
    {
     "name": "stdout",
     "output_type": "stream",
     "text": [
      "+------------+--------------+-------------------------+----------------+---------+\n",
      "|family_name |given_name    |raw_name                 |data_type       |name_lang|\n",
      "+------------+--------------+-------------------------+----------------+---------+\n",
      "|Ahlewat     |Rajesh        |Rajesh Ahlewat           |crossref_matched|af       |\n",
      "|AlKafaween  |Mohammad      |Mohammad AlKafaween      |crossref_matched|af       |\n",
      "|Aledrees    |Adibah        |Adibah Aledrees          |crossref_matched|af       |\n",
      "|Audigier    |Raymond       |Raymond Audigier         |crossref_matched|af       |\n",
      "|Audigier    |J.-C.         |J.-C. Audigier           |crossref_matched|af       |\n",
      "|Audigier    |Jean-Christian|Jean-Christian Audigier  |crossref_matched|af       |\n",
      "|Audigier    |David S.      |David S. Audigier        |crossref_matched|af       |\n",
      "|Audigier    |Y             |Yves Audigier            |crossref_matched|af       |\n",
      "|Audigier    |Émilie        |Émilie Geneviève Audigier|crossref_matched|af       |\n",
      "|Ayele Dersie|Basha         |Basha Ayele Dersie       |crossref_matched|af       |\n",
      "+------------+--------------+-------------------------+----------------+---------+\n",
      "only showing top 10 rows\n",
      "\n"
     ]
    }
   ],
   "source": [
    "all_author_data.filter(F.col('name_lang')=='af').sample(0.1).show(10, truncate=False)"
   ]
  },
  {
   "cell_type": "code",
   "execution_count": 0,
   "metadata": {
    "application/vnd.databricks.v1+cell": {
     "cellMetadata": {
      "byteLimit": 2048000,
      "rowLimit": 10000
     },
     "inputWidgets": {},
     "nuid": "33cf6984-56ad-44b1-b601-11918cbf4c1b",
     "showTitle": false,
     "title": ""
    }
   },
   "outputs": [
    {
     "name": "stdout",
     "output_type": "stream",
     "text": [
      "+----------------+--------+\n",
      "|       data_type|   count|\n",
      "+----------------+--------+\n",
      "|crossref_matched|58752189|\n",
      "| crossref_parsed|  506677|\n",
      "|   orcid_matched| 2460425|\n",
      "+----------------+--------+\n",
      "\n"
     ]
    }
   ],
   "source": [
    "all_author_data.groupby('data_type').count().show()"
   ]
  },
  {
   "cell_type": "code",
   "execution_count": 0,
   "metadata": {
    "application/vnd.databricks.v1+cell": {
     "cellMetadata": {
      "byteLimit": 2048000,
      "rowLimit": 10000
     },
     "inputWidgets": {},
     "nuid": "f935be20-00fd-4a98-bd80-654263d8aea4",
     "showTitle": false,
     "title": ""
    }
   },
   "outputs": [],
   "source": [
    "def mix_up_author_name_(given, family, lang):\n",
    "  \n",
    "    work_with_spaces = ['zh-cn','ne','ur','ko','zh-tw','th','ta','pa','mr','kn','ja','hi','he','gu','fa','ar']\n",
    "    different_but_same = ['uk','el','ru','mk']\n",
    "    to_remove = ['bn']\n",
    "    \n",
    "    if lang in work_with_spaces:\n",
    "        if given and family:\n",
    "            all_text = f\"{given} {family}\"\n",
    "            all_text_split = all_text.split(\" \")\n",
    "            if len(all_text_split) > 3:\n",
    "                pass\n",
    "            else:\n",
    "                random_number = random.random()\n",
    "                if random_number < 0.6:\n",
    "                    return all_text\n",
    "                else:\n",
    "                    return f\"{family} {given}\"\n",
    "        elif given:\n",
    "            all_text = f\"{given}\"\n",
    "            all_text_split = all_text.split(\" \")\n",
    "            if len(all_text_split) > 3:\n",
    "                pass\n",
    "            else:\n",
    "                random_number = random.random()\n",
    "                if random_number < 0.6:\n",
    "                    return all_text\n",
    "                else:\n",
    "                    return f\"{all_text_split[2]} {all_text_split[0]} {all_text_split[1]}\"\n",
    "        else:\n",
    "            all_text = f\"{family}\"\n",
    "            all_text_split = all_text.split(\" \")\n",
    "            if len(all_text_split) > 3:\n",
    "                pass\n",
    "            else:\n",
    "                random_number = random.random()\n",
    "                if random_number < 0.6:\n",
    "                    return all_text\n",
    "                else:\n",
    "                    return f\"{all_text_split[2]} {all_text_split[0]} {all_text_split[1]}\"\n",
    "        \n",
    "    else:\n",
    "        if given and family:\n",
    "            all_text = f\"{given} {family}\"\n",
    "            random_number = random.random()\n",
    "            if random_number < 0.025:\n",
    "                return all_text.replace(\".\", \"\")\n",
    "            elif random_number < 0.05:\n",
    "                return all_text.replace(\".\", \" \").replace(\"  \", \" \")\n",
    "            elif random_number < 0.15:\n",
    "                return f\"{family}, {given}\".replace(\".\", \"\")\n",
    "            elif random_number < 0.25:\n",
    "                return f\"{family} {given}\".replace(\".\", \"\")\n",
    "            elif random_number < 0.35:\n",
    "                given_split = [x for x in given.split(\" \") if x]\n",
    "                if len(given_split) == 1:\n",
    "                    return f\"{given[0]} {family}\".title()\n",
    "                elif len(given_split) == 2:\n",
    "                    return f\"{given_split[0][0]}. {given_split[1][0]}. {family}\".title()\n",
    "                elif len(given_split) == 3:\n",
    "                    return f\"{given_split[0][0]}. {given_split[1][0]}. {given_split[2][0]}. {family}\".title()\n",
    "                elif len(given_split) == 4:\n",
    "                    return f\"{given_split[0][0]}. {given_split[1][0]}. {given_split[2][0]}. {given_split[3][0]}. {family}\".title()\n",
    "                elif len(given_split) == 5:\n",
    "                    return f\"{given_split[0][0]}. {given_split[1][0]}. {given_split[2][0]}. {given_split[3][0]}. {given_split[4][0]} {family}\".title()\n",
    "                else:\n",
    "                    return all_text.title()\n",
    "            elif random_number < 0.5:\n",
    "                return unidecode(all_text).title()\n",
    "            elif random_number < 0.625:\n",
    "                return f\"{family} {given}\"\n",
    "            elif random_number < 0.75:\n",
    "                return f\"{family}, {given}\"\n",
    "            elif random_number < 0.85:\n",
    "                given_split = [x for x in given.split(\" \") if x]\n",
    "                if len(given_split) == 1:\n",
    "                    return f\"{given[0]} {family}\"\n",
    "                elif len(given_split) == 2:\n",
    "                    return f\"{given_split[0][0]}{given_split[1][0]} {family}\"\n",
    "                elif len(given_split) == 3:\n",
    "                    return f\"{given_split[0][0]}{given_split[1][0]}{given_split[2][0]} {family}\"\n",
    "                elif len(given_split) == 4:\n",
    "                    return f\"{given_split[0][0]}{given_split[1][0]}{given_split[2][0]}{given_split[3][0]} {family}\"\n",
    "                elif len(given_split) == 5:\n",
    "                    return f\"{given_split[0][0]}{given_split[1][0]}{given_split[2][0]}{given_split[3][0]}{given_split[4][0]} {family}\"\n",
    "                else:\n",
    "                    return all_text\n",
    "            elif random_number < 0.95:\n",
    "                given_split = [x for x in given.split(\" \") if x]\n",
    "                if len(given_split) == 1:\n",
    "                    return f\"{family} {given[0]}.\"\n",
    "                elif len(given_split) == 2:\n",
    "                    return f\" {family} {given_split[0][0]}.{given_split[1][0]}.\"\n",
    "                elif len(given_split) == 3:\n",
    "                    return f\"{family} {given_split[0][0]}.{given_split[1][0]}.{given_split[2][0]}.\"\n",
    "                elif len(given_split) == 4:\n",
    "                    return f\"{family} {given_split[0][0]}.{given_split[1][0]}.{given_split[2][0]}.{given_split[3][0]}.\"\n",
    "                elif len(given_split) == 5:\n",
    "                    return f\"{family} {given_split[0][0]}.{given_split[1][0]}.{given_split[2][0]}.{given_split[3][0]}.{given_split[4][0]}.\"\n",
    "                else:\n",
    "                    return all_text\n",
    "            else:\n",
    "                return f\"{family}, {given}\"\n",
    "        elif given:\n",
    "            all_text = f\"{given}\"\n",
    "        else:\n",
    "            all_text = f\"{family}\"\n",
    "\n",
    "mix_up_author_name = F.udf(mix_up_author_name_, StringType())"
   ]
  },
  {
   "cell_type": "code",
   "execution_count": 0,
   "metadata": {
    "application/vnd.databricks.v1+cell": {
     "cellMetadata": {
      "byteLimit": 2048000,
      "rowLimit": 10000
     },
     "inputWidgets": {},
     "nuid": "e5671834-f9a6-4636-b8b5-c6a20a2eb0cb",
     "showTitle": false,
     "title": ""
    }
   },
   "outputs": [],
   "source": [
    "all_author_data \\\n",
    ".withColumn('new_raw_name', mix_up_author_name(F.col('given_name'), F.col('family_name'), F.col('name_lang'))) \\\n",
    ".select('given_name','family_name', 'new_raw_name','name_lang') \\\n",
    ".write.mode('overwrite').parquet(f\"{iteration_save_path}all_processed_data_for_model/art_names_1\")"
   ]
  },
  {
   "cell_type": "code",
   "execution_count": 0,
   "metadata": {
    "application/vnd.databricks.v1+cell": {
     "cellMetadata": {
      "byteLimit": 2048000,
      "rowLimit": 10000
     },
     "inputWidgets": {},
     "nuid": "98779970-7a4f-476b-8c30-0acaeac2a5ae",
     "showTitle": false,
     "title": ""
    }
   },
   "outputs": [],
   "source": [
    "all_author_data \\\n",
    ".withColumn('new_raw_name', mix_up_author_name(F.col('given_name'), F.col('family_name'), F.col('name_lang'))) \\\n",
    ".select('given_name','family_name', 'new_raw_name','name_lang') \\\n",
    ".write.mode('overwrite').parquet(f\"{iteration_save_path}all_processed_data_for_model/art_names_2\")"
   ]
  },
  {
   "cell_type": "code",
   "execution_count": 0,
   "metadata": {
    "application/vnd.databricks.v1+cell": {
     "cellMetadata": {
      "byteLimit": 2048000,
      "rowLimit": 10000
     },
     "inputWidgets": {},
     "nuid": "3d26b4fc-effb-4d1f-9def-99e1bd1c6c5e",
     "showTitle": false,
     "title": ""
    }
   },
   "outputs": [],
   "source": [
    "all_author_data \\\n",
    ".withColumn('new_raw_name', mix_up_author_name(F.col('given_name'), F.col('family_name'), F.col('name_lang'))) \\\n",
    ".select('given_name','family_name', 'new_raw_name','name_lang') \\\n",
    ".write.mode('overwrite').parquet(f\"{iteration_save_path}all_processed_data_for_model/art_names_3\")"
   ]
  },
  {
   "cell_type": "code",
   "execution_count": 0,
   "metadata": {
    "application/vnd.databricks.v1+cell": {
     "cellMetadata": {
      "byteLimit": 2048000,
      "rowLimit": 10000
     },
     "inputWidgets": {},
     "nuid": "95171e1e-0cd4-408b-a5ee-646ceebde63f",
     "showTitle": false,
     "title": ""
    }
   },
   "outputs": [],
   "source": [
    "all_author_data \\\n",
    ".withColumn('new_raw_name', mix_up_author_name(F.col('given_name'), F.col('family_name'), F.col('name_lang'))) \\\n",
    ".select('given_name','family_name', 'new_raw_name','name_lang') \\\n",
    ".write.mode('overwrite').parquet(f\"{iteration_save_path}all_processed_data_for_model/art_names_4\")"
   ]
  },
  {
   "cell_type": "code",
   "execution_count": 0,
   "metadata": {
    "application/vnd.databricks.v1+cell": {
     "cellMetadata": {
      "byteLimit": 2048000,
      "rowLimit": 10000
     },
     "inputWidgets": {},
     "nuid": "9c061560-616d-4c24-ad2f-7690f633889b",
     "showTitle": false,
     "title": ""
    }
   },
   "outputs": [],
   "source": [
    "all_author_data \\\n",
    ".withColumn('new_raw_name', mix_up_author_name(F.col('given_name'), F.col('family_name'), F.col('name_lang'))) \\\n",
    ".select('given_name','family_name', 'new_raw_name','name_lang') \\\n",
    ".write.mode('overwrite').parquet(f\"{iteration_save_path}all_processed_data_for_model/art_names_5\")"
   ]
  },
  {
   "cell_type": "markdown",
   "metadata": {
    "application/vnd.databricks.v1+cell": {
     "cellMetadata": {},
     "inputWidgets": {},
     "nuid": "e65a744c-11d4-4467-83df-fbe78b5ae2b4",
     "showTitle": false,
     "title": ""
    }
   },
   "source": [
    "#### Pulling all data together"
   ]
  },
  {
   "cell_type": "code",
   "execution_count": 0,
   "metadata": {
    "application/vnd.databricks.v1+cell": {
     "cellMetadata": {
      "byteLimit": 2048000,
      "rowLimit": 10000
     },
     "inputWidgets": {},
     "nuid": "5d93c78e-2b0c-4c01-8b3b-4219e8c66fc9",
     "showTitle": false,
     "title": ""
    }
   },
   "outputs": [],
   "source": [
    "def get_title_cased_text_(output_name, lang):\n",
    "    work_with_spaces = ['zh-cn','ne','ur','ko','zh-tw','th','ta','pa','mr','kn','ja','hi','he','gu','fa','ar']\n",
    "    different_but_same = ['uk','el','ru','mk']\n",
    "    to_remove = ['bn']\n",
    "    \n",
    "    if lang in work_with_spaces:\n",
    "        return output_name\n",
    "    else:\n",
    "        return output_name.title()\n",
    "      \n",
    "get_title_cased_text = F.udf(get_title_cased_text_, StringType())"
   ]
  },
  {
   "cell_type": "code",
   "execution_count": 0,
   "metadata": {
    "application/vnd.databricks.v1+cell": {
     "cellMetadata": {
      "byteLimit": 2048000,
      "rowLimit": 10000
     },
     "inputWidgets": {},
     "nuid": "f207df6c-bf14-434e-b94b-374ebda7294f",
     "showTitle": false,
     "title": ""
    }
   },
   "outputs": [
    {
     "name": "stdout",
     "output_type": "stream",
     "text": [
      "Out[5]: 61719291"
     ]
    }
   ],
   "source": [
    "author_family_name_lang = \\\n",
    "    spark.read.parquet(f\"{iteration_save_path}all_processed_data_for_model/family_name_lang\")\n",
    "\n",
    "author_family_name_lang.cache().count()\n",
    "\n",
    "og_data = \\\n",
    "    spark.read.parquet(f\"{iteration_save_path}all_processed_data_for_model/all_author_data_combined\") \\\n",
    "    .filter(F.col('raw_name') != '') \\\n",
    "    .filter(~F.col('raw_name').isNull()) \\\n",
    "    .filter((~F.col('given_name').isNull()) & (~F.col('family_name').isNull())) \\\n",
    "    .join(author_family_name_lang.select('family_name','name_lang'), how='left', on='family_name') \\\n",
    "    .select('given_name','family_name',F.col('raw_name').alias('new_raw_name'), 'name_lang')\n",
    "    \n",
    "og_data.cache().count()"
   ]
  },
  {
   "cell_type": "code",
   "execution_count": 0,
   "metadata": {
    "application/vnd.databricks.v1+cell": {
     "cellMetadata": {
      "byteLimit": 2048000,
      "rowLimit": 10000
     },
     "inputWidgets": {},
     "nuid": "549d365d-4c3a-453c-858e-21f9dc503772",
     "showTitle": false,
     "title": ""
    }
   },
   "outputs": [
    {
     "name": "stdout",
     "output_type": "stream",
     "text": [
      "Out[6]: 61719291"
     ]
    }
   ],
   "source": [
    "art_1 = spark.read.parquet(f\"{iteration_save_path}all_processed_data_for_model/art_names_1\")\n",
    "art_1.cache().count()"
   ]
  },
  {
   "cell_type": "code",
   "execution_count": 0,
   "metadata": {
    "application/vnd.databricks.v1+cell": {
     "cellMetadata": {
      "byteLimit": 2048000,
      "rowLimit": 10000
     },
     "inputWidgets": {},
     "nuid": "cd86dd80-43aa-47d5-9cf0-7818a0a5e68f",
     "showTitle": false,
     "title": ""
    }
   },
   "outputs": [
    {
     "name": "stdout",
     "output_type": "stream",
     "text": [
      "Out[7]: 61719291"
     ]
    }
   ],
   "source": [
    "art_2 = spark.read.parquet(f\"{iteration_save_path}all_processed_data_for_model/art_names_2\")\n",
    "art_2.cache().count()"
   ]
  },
  {
   "cell_type": "code",
   "execution_count": 0,
   "metadata": {
    "application/vnd.databricks.v1+cell": {
     "cellMetadata": {
      "byteLimit": 2048000,
      "rowLimit": 10000
     },
     "inputWidgets": {},
     "nuid": "e95b5b20-4bdf-401b-8322-4bd0f62667b4",
     "showTitle": false,
     "title": ""
    }
   },
   "outputs": [
    {
     "name": "stdout",
     "output_type": "stream",
     "text": [
      "Out[8]: 61719291"
     ]
    }
   ],
   "source": [
    "art_3 = spark.read.parquet(f\"{iteration_save_path}all_processed_data_for_model/art_names_3\")\n",
    "art_3.cache().count()"
   ]
  },
  {
   "cell_type": "code",
   "execution_count": 0,
   "metadata": {
    "application/vnd.databricks.v1+cell": {
     "cellMetadata": {
      "byteLimit": 2048000,
      "rowLimit": 10000
     },
     "inputWidgets": {},
     "nuid": "99e2c73c-94f0-4ed3-8412-72600ee0bef0",
     "showTitle": false,
     "title": ""
    }
   },
   "outputs": [
    {
     "name": "stdout",
     "output_type": "stream",
     "text": [
      "Out[9]: 61719291"
     ]
    }
   ],
   "source": [
    "art_4 = spark.read.parquet(f\"{iteration_save_path}all_processed_data_for_model/art_names_4\")\n",
    "art_4.cache().count()"
   ]
  },
  {
   "cell_type": "code",
   "execution_count": 0,
   "metadata": {
    "application/vnd.databricks.v1+cell": {
     "cellMetadata": {
      "byteLimit": 2048000,
      "rowLimit": 10000
     },
     "inputWidgets": {},
     "nuid": "7d01d6b2-5542-486a-b9d4-801c37a5b807",
     "showTitle": false,
     "title": ""
    }
   },
   "outputs": [
    {
     "name": "stdout",
     "output_type": "stream",
     "text": [
      "Out[10]: 61719291"
     ]
    }
   ],
   "source": [
    "art_5 = spark.read.parquet(f\"{iteration_save_path}all_processed_data_for_model/art_names_5\")\n",
    "art_5.cache().count()"
   ]
  },
  {
   "cell_type": "code",
   "execution_count": 0,
   "metadata": {
    "application/vnd.databricks.v1+cell": {
     "cellMetadata": {
      "byteLimit": 2048000,
      "rowLimit": 10000
     },
     "inputWidgets": {},
     "nuid": "1b0e053a-314c-49c7-8298-466c16fdfdc4",
     "showTitle": false,
     "title": ""
    }
   },
   "outputs": [],
   "source": [
    "og_data \\\n",
    ".unionByName(art_1) \\\n",
    ".unionByName(art_2) \\\n",
    ".unionByName(art_3) \\\n",
    ".unionByName(art_4) \\\n",
    ".unionByName(art_5) \\\n",
    ".dropDuplicates() \\\n",
    ".filter(~F.col('given_name').isNull()) \\\n",
    ".filter(F.col('given_name')!='') \\\n",
    ".withColumn(\"output_name\", F.concat_ws(' ', F.col('given_name'), F.col('family_name'))) \\\n",
    ".withColumn(\"output_name\", get_title_cased_text(F.col('output_name'), F.col('name_lang'))) \\\n",
    ".select(F.col('new_raw_name').alias('raw_input'), \"output_name\") \\\n",
    ".coalesce(100).write.mode('overwrite').parquet(f\"{iteration_save_path}all_processed_data_for_model/all_training_data\")"
   ]
  },
  {
   "cell_type": "code",
   "execution_count": 0,
   "metadata": {
    "application/vnd.databricks.v1+cell": {
     "cellMetadata": {
      "byteLimit": 2048000,
      "rowLimit": 10000
     },
     "inputWidgets": {},
     "nuid": "6a2f11c2-82fa-4b0b-857e-7b837440ade5",
     "showTitle": false,
     "title": ""
    }
   },
   "outputs": [],
   "source": [
    "og_data \\\n",
    ".unionByName(art_1) \\\n",
    ".unionByName(art_2) \\\n",
    ".unionByName(art_3) \\\n",
    ".unionByName(art_4) \\\n",
    ".unionByName(art_5) \\\n",
    ".dropDuplicates() \\\n",
    ".filter(~F.col('given_name').isNull()) \\\n",
    ".filter(F.col('given_name')!='') \\\n",
    ".withColumn(\"output_name\", F.concat_ws(' ', F.col('given_name'), F.col('family_name'))) \\\n",
    ".withColumn(\"output_name\", get_title_cased_text(F.col('output_name'), F.col('name_lang'))) \\\n",
    ".select(F.col('new_raw_name').alias('raw_input'), \"output_name\", \"given_name\", \"family_name\") \\\n",
    ".coalesce(100).write.mode('overwrite').parquet(f\"{iteration_save_path}name_embedding_training_data/given_family_output_names\")"
   ]
  },
  {
   "cell_type": "markdown",
   "metadata": {
    "application/vnd.databricks.v1+cell": {
     "cellMetadata": {},
     "inputWidgets": {},
     "nuid": "34499076-9ac5-4578-b232-d288b3fa484a",
     "showTitle": false,
     "title": ""
    }
   },
   "source": [
    "### Final Training Data"
   ]
  },
  {
   "cell_type": "code",
   "execution_count": 0,
   "metadata": {
    "application/vnd.databricks.v1+cell": {
     "cellMetadata": {
      "byteLimit": 2048000,
      "rowLimit": 10000
     },
     "inputWidgets": {},
     "nuid": "31696907-03cb-4ed2-8c91-9416ca380b49",
     "showTitle": false,
     "title": ""
    }
   },
   "outputs": [],
   "source": [
    "def get_fake_raw_input_(diff_lang_name):\n",
    "    if diff_lang_name.strip():\n",
    "        split_name = diff_lang_name.strip().split(\" \")\n",
    "        if len(split_name) == 2:\n",
    "            rand_float = random.random()\n",
    "            if rand_float < 0.7:\n",
    "                return diff_lang_name.strip()\n",
    "            else:\n",
    "                return f\"{split_name[1]} {split_name[0]}\"\n",
    "        elif len(split_name) == 3:\n",
    "            rand_float = random.random()\n",
    "            if rand_float < 0.7:\n",
    "                return diff_lang_name.strip()\n",
    "            elif rand_float < 0.85:\n",
    "                return f\"{split_name[2]} {split_name[0]} {split_name[1]}\"\n",
    "            else:\n",
    "                return f\"{split_name[1]} {split_name[2]} {split_name[0]}\"\n",
    "        else:\n",
    "            return diff_lang_name.strip()\n",
    "    else:\n",
    "        return diff_lang_name.strip()\n",
    "    \n",
    "get_fake_raw_input = F.udf(get_fake_raw_input_, StringType())"
   ]
  },
  {
   "cell_type": "code",
   "execution_count": 0,
   "metadata": {
    "application/vnd.databricks.v1+cell": {
     "cellMetadata": {
      "byteLimit": 2048000,
      "rowLimit": 10000
     },
     "inputWidgets": {},
     "nuid": "cf1ccafd-ee8d-4bbe-9ee1-f8f8ac586c7c",
     "showTitle": false,
     "title": ""
    }
   },
   "outputs": [
    {
     "name": "stdout",
     "output_type": "stream",
     "text": [
      "Out[33]: 222619352"
     ]
    }
   ],
   "source": [
    "all_train_data = spark.read.parquet(f\"{iteration_save_path}all_processed_data_for_model/all_training_data\")\n",
    "all_train_data.cache().count()"
   ]
  },
  {
   "cell_type": "code",
   "execution_count": 0,
   "metadata": {
    "application/vnd.databricks.v1+cell": {
     "cellMetadata": {
      "byteLimit": 2048000,
      "rowLimit": 10000
     },
     "inputWidgets": {},
     "nuid": "6640620c-98ae-424c-9415-cd3e1fcdccee",
     "showTitle": false,
     "title": ""
    }
   },
   "outputs": [
    {
     "name": "stdout",
     "output_type": "stream",
     "text": [
      "Out[35]: 5715600"
     ]
    }
   ],
   "source": [
    "all_train_data_diff_langs = spark.read.parquet(f\"{iteration_save_path}all_processed_data_for_model/all_training_data_other_languages\") \\\n",
    ".select(F.col('original_author').alias('output_name')) \\\n",
    ".withColumn('raw_input', get_fake_raw_input(F.col('output_name'))) \\\n",
    ".filter(F.col('raw_input')!=\"\")\n",
    "\n",
    "all_train_data_diff_langs.cache().count()"
   ]
  },
  {
   "cell_type": "code",
   "execution_count": 0,
   "metadata": {
    "application/vnd.databricks.v1+cell": {
     "cellMetadata": {
      "byteLimit": 2048000,
      "rowLimit": 10000
     },
     "inputWidgets": {},
     "nuid": "19a152f8-78a5-4e40-9183-3597e591a9b9",
     "showTitle": false,
     "title": ""
    }
   },
   "outputs": [
    {
     "name": "stdout",
     "output_type": "stream",
     "text": [
      "Out[5]: 49093812"
     ]
    }
   ],
   "source": [
    "all_train_data.dropDuplicates(subset=['output_name']).count()"
   ]
  },
  {
   "cell_type": "code",
   "execution_count": 0,
   "metadata": {
    "application/vnd.databricks.v1+cell": {
     "cellMetadata": {
      "byteLimit": 2048000,
      "rowLimit": 10000
     },
     "inputWidgets": {},
     "nuid": "717b3f41-7235-447d-9ada-5c655fb7062f",
     "showTitle": false,
     "title": ""
    }
   },
   "outputs": [
    {
     "name": "stdout",
     "output_type": "stream",
     "text": [
      "+----------------------------+------------------------------+\n",
      "|raw_input                   |output_name                   |\n",
      "+----------------------------+------------------------------+\n",
      "|A. Rayment                  |A. Rayment                    |\n",
      "|Muthusami Kumaran           |Muthusami Kumaran             |\n",
      "|D B Holland                 |D B Holland                   |\n",
      "|Rossimiriam P.F. Gil        |Rossimiriam P.F. Gil          |\n",
      "|Norazira, M A               |M. A. Norazira                |\n",
      "|Medina A.                   |Angélica Medina               |\n",
      "|Pyry Matikainen             |Pyry Matikainen               |\n",
      "|R Gubaydullin               |R.R. Gubaydullin              |\n",
      "|Anna Asgharian              |Anna Asgharian                |\n",
      "|Salvador Oton-Tortosa       |Salvador Oton Tortosa         |\n",
      "|Dharamsi N.                 |Nafisa Dharamsi               |\n",
      "|Amos S.                     |Sitenda Amos                  |\n",
      "|Jones-Johnson, Gloria       |Gloria Jones-Johnson          |\n",
      "|Olga I. Baum                |Olga I Baum                   |\n",
      "|I Lee                       |Il-Nam Lee                    |\n",
      "|Fang G.                     |Guang-You Fang                |\n",
      "|Kumakura, Nahomi            |Nahomi Kumakura               |\n",
      "|B.Yu. Zanoz                 |B.Yu. Zanoz                   |\n",
      "|Jonathan Raye               |Jonathan Raye                 |\n",
      "|الجبوریّ خلیل               |خلیل الجبوریّ                 |\n",
      "|T Iyota                     |T. Iyota                      |\n",
      "|A Valika                    |Ali Valika                    |\n",
      "|Acungil Y.                  |Yavuz Acungil                 |\n",
      "|Frank Bornhoft              |Frank Bornhöft                |\n",
      "|Aires, Gabriela             |Gabriela Aires                |\n",
      "|Subiza, J L                 |J L Subiza                    |\n",
      "|Tuzi, Shiro                 |Shiro Tuzi                    |\n",
      "|Nilson Laura A              |Laura A. Nilson               |\n",
      "|E Kokotsis                  |Eleonore Kokotsis             |\n",
      "|Asih, Indhira V.Y           |Indhira V.Y Asih              |\n",
      "|R Chairat                   |R. Chairat                    |\n",
      "|Ebner, Jennifer             |Jennifer Ebner                |\n",
      "|E. C. Park                  |Eui Cheol Park                |\n",
      "|Klohs W.                    |W. Klohs                      |\n",
      "|Y Zhao                      |You-Fang Zhao                 |\n",
      "|Graciela González-Villegas  |Graciela  Gonzàlez Villegas   |\n",
      "|J Jeanniot                  |Jean-Philippe Jeanniot        |\n",
      "|Beverley Summers            |B Summers                     |\n",
      "|T.N. Sairam                 |T.N. Sairam                   |\n",
      "|Bichan, N G                 |N. G. Bichan                  |\n",
      "|Garrafa, Mayra              |Mayra Garrafa                 |\n",
      "|Li, MingDian                |Mingdian Li                   |\n",
      "|S.V. Dvornikov              |С.В. Дворников                |\n",
      "|Donald S. Perry             |Donald S. Perry               |\n",
      "|Plasencia Garcia De Diego B.|B.O. Plasencia Garcia De Diego|\n",
      "|A Karoline Rocha da Cruz    |Anna Karoline Rocha Da Cruz   |\n",
      "|E HOLINSKIFEDER             |E Holinskifeder               |\n",
      "|Ha-jung Lee                 |Ha-Jung Lee                   |\n",
      "|Calvo Roger                 |Roger Calvo                   |\n",
      "|Zulkefli A                  |A Zulkefli                    |\n",
      "+----------------------------+------------------------------+\n",
      "only showing top 50 rows\n",
      "\n"
     ]
    }
   ],
   "source": [
    "all_train_data.sample(0.00001).show(50, truncate=False)"
   ]
  },
  {
   "cell_type": "code",
   "execution_count": 0,
   "metadata": {
    "application/vnd.databricks.v1+cell": {
     "cellMetadata": {
      "byteLimit": 2048000,
      "rowLimit": 10000
     },
     "inputWidgets": {},
     "nuid": "dbf47cf0-b9bf-482d-82de-69f566ca4786",
     "showTitle": false,
     "title": ""
    }
   },
   "outputs": [],
   "source": [
    "train, val = all_train_data.union(all_train_data_diff_langs.select(*all_train_data.columns)).randomSplit([0.9995, 0.0005], seed=0)"
   ]
  },
  {
   "cell_type": "code",
   "execution_count": 0,
   "metadata": {
    "application/vnd.databricks.v1+cell": {
     "cellMetadata": {
      "byteLimit": 2048000,
      "rowLimit": 10000
     },
     "inputWidgets": {},
     "nuid": "365b3ab4-91e1-40da-99c6-0d775876cf02",
     "showTitle": false,
     "title": ""
    }
   },
   "outputs": [],
   "source": [
    "train.coalesce(100).write.mode('overwrite').parquet(f\"{iteration_save_path}all_processed_data_for_model_diff_langs/train\")"
   ]
  },
  {
   "cell_type": "code",
   "execution_count": 0,
   "metadata": {
    "application/vnd.databricks.v1+cell": {
     "cellMetadata": {
      "byteLimit": 2048000,
      "rowLimit": 10000
     },
     "inputWidgets": {},
     "nuid": "85d6aeb4-7170-48eb-bcbb-cf476d786bc9",
     "showTitle": false,
     "title": ""
    }
   },
   "outputs": [],
   "source": [
    "val.coalesce(5).write.mode('overwrite').parquet(f\"{iteration_save_path}all_processed_data_for_model_diff_langs/val\")"
   ]
  },
  {
   "cell_type": "code",
   "execution_count": 0,
   "metadata": {
    "application/vnd.databricks.v1+cell": {
     "cellMetadata": {
      "byteLimit": 2048000,
      "rowLimit": 10000
     },
     "inputWidgets": {},
     "nuid": "f93474fd-45b9-4e2a-9e8c-459356dc225e",
     "showTitle": false,
     "title": ""
    }
   },
   "outputs": [
    {
     "name": "stdout",
     "output_type": "stream",
     "text": [
      "Out[10]: 113000.0"
     ]
    }
   ],
   "source": [
    "226000000*0.0005"
   ]
  },
  {
   "cell_type": "markdown",
   "metadata": {
    "application/vnd.databricks.v1+cell": {
     "cellMetadata": {},
     "inputWidgets": {},
     "nuid": "59f43502-d6ad-43b2-b28e-ad6fb6ae3625",
     "showTitle": false,
     "title": ""
    }
   },
   "source": [
    "### Randomize data"
   ]
  },
  {
   "cell_type": "code",
   "execution_count": 0,
   "metadata": {
    "application/vnd.databricks.v1+cell": {
     "cellMetadata": {
      "byteLimit": 2048000,
      "rowLimit": 10000
     },
     "inputWidgets": {},
     "nuid": "d1ee91cf-e082-4bad-977a-6b55f6377eb1",
     "showTitle": false,
     "title": ""
    }
   },
   "outputs": [
    {
     "name": "stdout",
     "output_type": "stream",
     "text": [
      "Out[39]: 228220506"
     ]
    }
   ],
   "source": [
    "train = spark.read.parquet(f\"{iteration_save_path}all_processed_data_for_model_diff_langs/train\")\n",
    "train.cache().count()"
   ]
  },
  {
   "cell_type": "code",
   "execution_count": 0,
   "metadata": {
    "application/vnd.databricks.v1+cell": {
     "cellMetadata": {
      "byteLimit": 2048000,
      "rowLimit": 10000
     },
     "inputWidgets": {},
     "nuid": "274493ca-402e-47c1-bb15-65764ddaa251",
     "showTitle": false,
     "title": ""
    }
   },
   "outputs": [
    {
     "name": "stdout",
     "output_type": "stream",
     "text": [
      "Out[40]: 114446"
     ]
    }
   ],
   "source": [
    "val = spark.read.parquet(f\"{iteration_save_path}all_processed_data_for_model_diff_langs/val\")\n",
    "val.cache().count()"
   ]
  },
  {
   "cell_type": "code",
   "execution_count": 0,
   "metadata": {
    "application/vnd.databricks.v1+cell": {
     "cellMetadata": {
      "byteLimit": 2048000,
      "rowLimit": 10000
     },
     "inputWidgets": {},
     "nuid": "f0ce85ee-f0d9-4727-a728-53d224574d5f",
     "showTitle": false,
     "title": ""
    }
   },
   "outputs": [],
   "source": [
    "train.orderBy(F.rand()).coalesce(100).write.mode('overwrite') \\\n",
    ".parquet(f\"{iteration_save_path}all_processed_data_for_model_random_diff_langs/train\")"
   ]
  },
  {
   "cell_type": "code",
   "execution_count": 0,
   "metadata": {
    "application/vnd.databricks.v1+cell": {
     "cellMetadata": {
      "byteLimit": 2048000,
      "rowLimit": 10000
     },
     "inputWidgets": {},
     "nuid": "62862730-d7a8-4c70-ac16-a36949a7eea8",
     "showTitle": false,
     "title": ""
    }
   },
   "outputs": [],
   "source": [
    "val.orderBy(F.rand()).coalesce(5).write.mode('overwrite') \\\n",
    ".parquet(f\"{iteration_save_path}all_processed_data_for_model_random_diff_langs/validation\")"
   ]
  },
  {
   "cell_type": "code",
   "execution_count": 0,
   "metadata": {
    "application/vnd.databricks.v1+cell": {
     "cellMetadata": {
      "byteLimit": 2048000,
      "rowLimit": 10000
     },
     "inputWidgets": {},
     "nuid": "e85164c0-12f1-4577-bcc3-a6d274dbb920",
     "showTitle": false,
     "title": ""
    }
   },
   "outputs": [
    {
     "name": "stdout",
     "output_type": "stream",
     "text": [
      "Out[43]: 228220506"
     ]
    }
   ],
   "source": [
    "train = spark.read.parquet(f\"{iteration_save_path}all_processed_data_for_model_random_diff_langs/train\")\n",
    "train.cache().count()"
   ]
  },
  {
   "cell_type": "code",
   "execution_count": 0,
   "metadata": {
    "application/vnd.databricks.v1+cell": {
     "cellMetadata": {
      "byteLimit": 2048000,
      "rowLimit": 10000
     },
     "inputWidgets": {},
     "nuid": "0ea94e5b-e033-475e-bc24-ef70c1953890",
     "showTitle": false,
     "title": ""
    }
   },
   "outputs": [
    {
     "name": "stdout",
     "output_type": "stream",
     "text": [
      "+--------------------+--------------------+\n",
      "|           raw_input|         output_name|\n",
      "+--------------------+--------------------+\n",
      "|      Pasha Hasan G.|      Hasan G. Pasha|\n",
      "|     M. J. De Castro|  María J. De Castro|\n",
      "|            戸田昇三|            戸田昇三|\n",
      "|          Didie E.R.|Elizabeth Rose Didie|\n",
      "|           Avdeev, I|            I Avdeev|\n",
      "|       Ting‐yue Zhou|       Ting‐Yue Zhou|\n",
      "|       Borunova A.B.|       A.B. Borunova|\n",
      "|   Hassoun Mahmoud H|  Mahmoud H. Hassoun|\n",
      "|      H. Eneriz Imaz|           H. Eneriz|\n",
      "|     Garber Gwynneth|     Gwynneth Garber|\n",
      "|         Lam Denisse|         Denisse Lam|\n",
      "|    Imerman Paula M.|    Paula M. Imerman|\n",
      "|            Li Y.-X.|            Y.-X. Li|\n",
      "|              Jong Y|              Jong Y|\n",
      "|Dr. Vijaya Kumar ...|Dr. Vijaya Kumar ...|\n",
      "|     Martins José D.|     José D. Martins|\n",
      "|         H SILBERMAN|    Howard Silberman|\n",
      "|            E Schell|         Eric Schell|\n",
      "|              B Yang|      Byoungeun Yang|\n",
      "|   P Rivera Ceballos|Paulina Rivera Ce...|\n",
      "|     M. Iu. Boboshko|       М. Ю. Бобошко|\n",
      "|     Bolat Manesanov|     Bolat Manesanov|\n",
      "|       Furbear Helen|       Helen Furbear|\n",
      "|         Taek-Su Nam|         Taek-Su Nam|\n",
      "|Mara Patricia T C...|Mara Patricia T. ...|\n",
      "|        A Weisberger|     A.M. Weisberger|\n",
      "|  Kiritsy-Roy Judith|  Judith Kiritsy-Roy|\n",
      "|      V. C. H. Chung|      V. C. H. Chung|\n",
      "| Nardes, Raysa Costa|  Raysa Costa Nardes|\n",
      "|            Cheng C.|       Chin-Ni Cheng|\n",
      "|   L Barrera Ramirez|Laura Barrera Ram...|\n",
      "|      Antonio C Rosa|     Antonio C. Rosa|\n",
      "|Jiraseree-Amornku...|Amorn Jiraseree-A...|\n",
      "|    I Christovasilis| I.P. Christovasilis|\n",
      "|    Bartschi Brent Y|   Brent Y. Bartschi|\n",
      "|     Oleg V. Maltsev|     Oleg V. Maltsev|\n",
      "|Guillen Navarro M...|Maria Jose Guille...|\n",
      "|            Liqun C.|             C Liqun|\n",
      "|               G Mei|        Guanghao Mei|\n",
      "|   Carroll, M Daniel|    M Daniel Carroll|\n",
      "|         M. S. Shams|            M. Shams|\n",
      "|Vishwanandha, Vij...|Vijaya Padma Vish...|\n",
      "|           Sheng yan|           Yan Sheng|\n",
      "|         O Hadjiiski|         O Hadjiiski|\n",
      "|       Oakley, Ann R|        Ann R Oakley|\n",
      "|        LaCreta J.M.|     John M. Lacreta|\n",
      "|       J Pasztorova |    Jana Pasztorova |\n",
      "|               Yi g.|        Guangzhao Yi|\n",
      "|         Rom-Glas A.|         A. Rom-Glas|\n",
      "|       A Kolomiytsev|       A Kolomiytsev|\n",
      "+--------------------+--------------------+\n",
      "only showing top 50 rows\n",
      "\n"
     ]
    }
   ],
   "source": [
    "train.show(50)"
   ]
  },
  {
   "cell_type": "markdown",
   "metadata": {
    "application/vnd.databricks.v1+cell": {
     "cellMetadata": {},
     "inputWidgets": {},
     "nuid": "655d71f8-6aa0-4980-89da-37d1f531aaf2",
     "showTitle": false,
     "title": ""
    }
   },
   "source": [
    "#### Things to look at"
   ]
  },
  {
   "cell_type": "code",
   "execution_count": 0,
   "metadata": {
    "application/vnd.databricks.v1+cell": {
     "cellMetadata": {},
     "inputWidgets": {},
     "nuid": "0d1741f9-3711-4030-a967-b258e6d8247e",
     "showTitle": false,
     "title": ""
    }
   },
   "outputs": [
    {
     "name": "stdout",
     "output_type": "stream",
     "text": [
      "+-------------------+---------------+\n",
      "|original_orcid     |original_author|\n",
      "+-------------------+---------------+\n",
      "|0000-0001-9695-4543|Valeriy Lakhno |\n",
      "|0000-0001-9695-4543|Valerii Lakhno |\n",
      "|0000-0001-9695-4543|Valery Lakhno  |\n",
      "|0000-0001-9695-4543|V. Lakhno      |\n",
      "|0000-0001-9695-4543|V. Lakhno      |\n",
      "|0000-0001-9695-4543|V. A. Lakhno   |\n",
      "|0000-0001-9695-4543|Valerii Lakhno |\n",
      "|0000-0001-9695-4543|Valery Lakhno  |\n",
      "|0000-0001-9695-4543|Lakhno Valeriy |\n",
      "+-------------------+---------------+\n",
      "\n"
     ]
    }
   ],
   "source": [
    "affiliations.filter(F.col('original_orcid')=='0000-0001-9695-4543') \\\n",
    ".select('original_orcid','original_author').show(25, truncate=False)"
   ]
  },
  {
   "cell_type": "code",
   "execution_count": 0,
   "metadata": {
    "application/vnd.databricks.v1+cell": {
     "cellMetadata": {},
     "inputWidgets": {},
     "nuid": "4dc2bf88-4428-4e7a-bd4c-80937109d9e9",
     "showTitle": false,
     "title": ""
    }
   },
   "outputs": [
    {
     "name": "stdout",
     "output_type": "stream",
     "text": [
      "+-------------------+-------------------------------------------------------------------------------------------------------------------------------------------------------------------------------------------------------+----------------+\n",
      "|original_orcid     |author_names                                                                                                                                                                                           |author_names_len|\n",
      "+-------------------+-------------------------------------------------------------------------------------------------------------------------------------------------------------------------------------------------------+----------------+\n",
      "|0000-0001-6206-2133|[S. A. Melchenko, Yu.M. Zabrodskaya, Yu. M. Zabrodskaya, J. M. Zabrodskaya, Yu M Zabrodskaya, Yu. M. Zabrodskaia]                                                                                      |6               |\n",
      "|0000-0001-6268-6552|[José Padrón, José M. Padrón, José M.Padrón, José M Padrón, José Manuel Padrón, Jose M. M. Padrón]                                                                                                     |6               |\n",
      "|0000-0001-6413-5957|[Ihsan-ul- Haq, Ihsan-Ul Haq, Ihsan ul Haq, None Ihsan-ul-Haq, I. Haq, Ihsan Ul Haq]                                                                                                                   |6               |\n",
      "|0000-0001-6755-7629|[Asha KOTNURKAR>, Asha S. Kotnurkar, Asha Kotnurkar, asha Shivappa kotnurkar, S. K. Asha, Asha KOTNURKAR]                                                                                              |6               |\n",
      "|0000-0001-6825-4697|[T. A. Vakaliuk, Тетяна ВАКАЛЮК, Tetiana Vakaliuk, Тетяна Анатоліївна Вакалюк, Т.А. Вакалюк, Tetiana A. Vakaliuk]                                                                                      |6               |\n",
      "|0000-0001-7060-1598|[CARLOS E.G.R. SCHAEFER, CARLOS ERNESTO G.R. SCHAEFER, Carlos E G R Schaefer, Carlos Ernesto G R Schaefer, Carlos Ernesto Gonçalves Reynaud Schaefer, CARLOS E.R.G. SCHAEFER, Carlos E. G. R. Schaefer]|7               |\n",
      "|0000-0001-7394-5185|[Mohamed Kharfan‐Dabaja, Mohamed A Kharfan-Dabaja, Mohamed Kharfan-Dabaja, Mohamad A. Kharfan-Dabaja, Mohamed A. Kharfan-Dabaja, Mohamed KHARFAN-DABAJA]                                               |6               |\n",
      "|0000-0001-7985-0048|[M Kassim Javaid, Kassim Javaid, MK Javaid, M.K. Javaid, M. Kassim Javaid, Muhammad Kassim Javaid]                                                                                                     |6               |\n",
      "|0000-0001-8078-2652|[V. Chubaieskyi, V. Chubaievskyi, V Chubaievskyi, Vitaliy Chubaievskyi, Віталій ЧУБАЄВСЬКИЙ, Vitalii Chubaievskyi]                                                                                     |6               |\n",
      "|0000-0001-9695-4543|[Valeriy Lakhno, V. Lakhno, V. A. Lakhno, Lakhno Valeriy, Valerii Lakhno, Valery Lakhno]                                                                                                               |6               |\n",
      "|0000-0001-9700-0418|[Malcolm G. Semple, Malcolm G Semple, Calum Semple, Malcolm Gracie Semple, M.G. Semple, Malcolm Semple]                                                                                                |6               |\n",
      "|0000-0002-0343-239X|[John Leif Jørgensen, J. L. Jørgensen, John Leif Jorgensen, John L Jorgensen, John L. Jørgensen, John Jørgensen]                                                                                       |6               |\n",
      "|0000-0002-0447-2633|[J. R. Hopkins, James F. Hopkins, J. Hopkins, James Hopkins, Jim R. Hopkins, James R. Hopkins]                                                                                                         |6               |\n",
      "|0000-0002-0801-0831|[Robert J. Parker, R. Parker, R. J. Parker, Robert J . Parker, Rob Parker, Robert Parker, Robert J Parker]                                                                                             |7               |\n",
      "|0000-0002-1605-7859|[Sergey Tereshchenko, S. Yu. Tereschenko, Sergey Yu. Tereshchenko, S.Yu. Tereschenko, S. Yu. Tereshchenko, S Y Tereshchenko]                                                                           |6               |\n",
      "|0000-0002-2448-4033|[D. V. Bishop, Dorothy V M Bishop, D. V. M. Bishop, Dorothy V Bishop, Dorothy Vera Margaret Bishop, Dorothy V.M. Bishop, Dorothy V. M. Bishop]                                                         |7               |\n",
      "|0000-0002-3010-6493|[Liz Thomas, Elizabeth Ruth Thomas, Elizabeth R. Thomas, Elizabeth Thomas, E. R. Thomas, Elisabeth R. Thomas]                                                                                          |6               |\n",
      "|0000-0002-3319-5516|[T Pradhan, Snigdha Rai, Gehanath Baral, Nrinmoy Biswas, Animesh Biswas, Henry Ruiru Mwang, Pushpa Srichand]                                                                                           |7               |\n",
      "|0000-0002-3478-4945|[A.C.T. van Duin, Adri C.T. van Duin, Adri C. T. van Duin, Adri. C. T. van Duin, Adri van Duin, Adri C T van Duin]                                                                                     |6               |\n",
      "|0000-0002-3944-996X|[PAULO E.A.S. CÂMARA, Paulo Eduardo Aguiar Saraiva Câmara, Paulo E.A.S. Câmara, Paulo Saraiva Camara, Paulo E. A. S. Câmara, WESLEY L. BARBOSA]                                                        |6               |\n",
      "|0000-0002-4166-2284|[Jeroen A. Bokhoven, Jeroen Anton van Bokhoven, Jeroen A van Bokhoven, Jeroen A. van Bokhoven, Jeroen Anton Bokhoven, J. A. van Bokhoven]                                                              |6               |\n",
      "|0000-0002-6317-3975|[John J V McMurray, John Joseph Valentine McMurray, John JV. McMurray, John Jv McMurray, John McMurray, John J.V. McMurray, John J. V. McMurray, John JV McMurray]                                     |8               |\n",
      "|0000-0002-7700-7724|[Andrey Yaremenko, A I Yaremenko, A. I. Yaremenko, Andrey I. Yaremenko, А.И. Еременко, A.I. Yaremenko]                                                                                                 |6               |\n",
      "|0000-0002-7948-9317|[Margarida Reis-Santos, Margarida Santos-Reis, Margarida Santos, Margarida Reis Santos, Maria Margarida da Silva Reis dos Santos Ferreira, Maria Margarida da Silva Reis Dos Santos Ferreira]          |6               |\n",
      "|0000-0002-8868-4739|[Thomas Bracegirdle, Thomas Bricegirdle, Tom Bracegirdle, Tom J. Bracegirdle, Thomas J. Bracegirdle, T. J. Bracegirdle]                                                                                |6               |\n",
      "+-------------------+-------------------------------------------------------------------------------------------------------------------------------------------------------------------------------------------------------+----------------+\n",
      "only showing top 25 rows\n",
      "\n"
     ]
    }
   ],
   "source": [
    "affiliations.filter(F.col('original_orcid')!='') \\\n",
    ".groupby('original_orcid') \\\n",
    ".agg(F.collect_set(F.col('original_author')).alias('author_names')) \\\n",
    ".withColumn('author_names_len', F.size(F.col('author_names'))) \\\n",
    ".filter(F.col('author_names_len') > 5) \\\n",
    ".show(25, truncate=False)"
   ]
  },
  {
   "cell_type": "code",
   "execution_count": 0,
   "metadata": {
    "application/vnd.databricks.v1+cell": {
     "cellMetadata": {},
     "inputWidgets": {},
     "nuid": "987346d9-17e6-419f-952a-04326c867d5a",
     "showTitle": false,
     "title": ""
    }
   },
   "outputs": [],
   "source": []
  },
  {
   "cell_type": "code",
   "execution_count": 0,
   "metadata": {
    "application/vnd.databricks.v1+cell": {
     "cellMetadata": {},
     "inputWidgets": {},
     "nuid": "5ecd7e6b-9bbf-47a9-90b3-5d7372784e3c",
     "showTitle": false,
     "title": ""
    }
   },
   "outputs": [],
   "source": []
  },
  {
   "cell_type": "code",
   "execution_count": 0,
   "metadata": {
    "application/vnd.databricks.v1+cell": {
     "cellMetadata": {},
     "inputWidgets": {},
     "nuid": "b91e2979-1996-4c1e-ab8e-66d95a7a7861",
     "showTitle": false,
     "title": ""
    }
   },
   "outputs": [],
   "source": []
  }
 ],
 "metadata": {
  "application/vnd.databricks.v1+notebook": {
   "dashboards": [],
   "language": "python",
   "notebookMetadata": {
    "pythonIndentUnit": 4
   },
   "notebookName": "name_parsing_data_creation",
   "notebookOrigID": 1355336014911857,
   "widgets": {}
  },
  "kernelspec": {
   "display_name": "Python 3 (ipykernel)",
   "language": "python",
   "name": "python3"
  },
  "language_info": {
   "codemirror_mode": {
    "name": "ipython",
    "version": 3
   },
   "file_extension": ".py",
   "mimetype": "text/x-python",
   "name": "python",
   "nbconvert_exporter": "python",
   "pygments_lexer": "ipython3",
   "version": "3.8.12"
  }
 },
 "nbformat": 4,
 "nbformat_minor": 1
}
