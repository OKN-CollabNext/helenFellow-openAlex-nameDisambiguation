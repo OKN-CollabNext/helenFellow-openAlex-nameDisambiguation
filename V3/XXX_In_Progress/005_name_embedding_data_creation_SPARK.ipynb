{
 "cells": [
  {
   "cell_type": "code",
   "execution_count": 0,
   "metadata": {
    "application/vnd.databricks.v1+cell": {
     "cellMetadata": {
      "byteLimit": 2048000,
      "rowLimit": 10000
     },
     "inputWidgets": {},
     "nuid": "44920190-9120-4ae8-858f-14f52b073315",
     "showTitle": false,
     "title": ""
    }
   },
   "outputs": [
    {
     "data": {
      "application/vnd.databricks.v1+bamboolib_hint": "{\"pd.DataFrames\": [], \"version\": \"0.0.1\"}",
      "text/plain": []
     },
     "metadata": {
      "application/vnd.databricks.v1+output": {
       "addedWidgets": {},
       "arguments": {},
       "data": {
        "application/vnd.databricks.v1+bamboolib_hint": "{\"pd.DataFrames\": [], \"version\": \"0.0.1\"}",
        "text/plain": ""
       },
       "datasetInfos": [],
       "executionCount": null,
       "metadata": {
        "kernelSessionId": "19bb1b93-78ec6692cd696bfaadd57e1a"
       },
       "removedWidgets": [],
       "type": "mimeBundle"
      }
     },
     "output_type": "display_data"
    }
   ],
   "source": [
    "import pickle\n",
    "import boto3\n",
    "import re\n",
    "import json\n",
    "import random\n",
    "import pandas as pd\n",
    "import numpy as np\n",
    "import matplotlib.pyplot as plt"
   ]
  },
  {
   "cell_type": "code",
   "execution_count": 0,
   "metadata": {
    "application/vnd.databricks.v1+cell": {
     "cellMetadata": {
      "byteLimit": 2048000,
      "rowLimit": 10000
     },
     "inputWidgets": {},
     "nuid": "2ba961a2-7e64-4844-8d78-c47e5f47c752",
     "showTitle": false,
     "title": ""
    }
   },
   "outputs": [
    {
     "name": "stdout",
     "output_type": "stream",
     "text": [
      "/databricks/spark/python/pyspark/sql/context.py:117: FutureWarning: Deprecated in 3.0.0. Use SparkSession.builder.getOrCreate() instead.\n",
      "  warnings.warn(\n"
     ]
    }
   ],
   "source": [
    "from pyspark.sql import SparkSession\n",
    "sc = spark.sparkContext\n",
    "from pyspark.sql import SQLContext\n",
    "from pyspark.sql import functions as F\n",
    "from pyspark.sql.window import Window\n",
    "from pyspark.sql.types import IntegerType, StringType, FloatType, ArrayType, DoubleType, StructType, StructField\n",
    "sqlContext = SQLContext(sc)"
   ]
  },
  {
   "cell_type": "code",
   "execution_count": 0,
   "metadata": {
    "application/vnd.databricks.v1+cell": {
     "cellMetadata": {
      "byteLimit": 2048000,
      "rowLimit": 10000
     },
     "inputWidgets": {},
     "nuid": "5f29191d-1059-4a1a-a42b-0a11e8599c1f",
     "showTitle": false,
     "title": ""
    }
   },
   "outputs": [],
   "source": [
    "base_save_path = \"s3://openalex-data-copy/snapshot_2023_02_15/\"\n",
    "iteration_save_path = \"s3://author-disambiguation/V3/\""
   ]
  },
  {
   "cell_type": "code",
   "execution_count": 0,
   "metadata": {
    "application/vnd.databricks.v1+cell": {
     "cellMetadata": {
      "byteLimit": 2048000,
      "rowLimit": 10000
     },
     "inputWidgets": {},
     "nuid": "31696907-03cb-4ed2-8c91-9416ca380b49",
     "showTitle": false,
     "title": ""
    }
   },
   "outputs": [],
   "source": [
    "def get_fake_raw_input_(diff_lang_name):\n",
    "    if diff_lang_name.strip():\n",
    "        split_name = diff_lang_name.strip().split(\" \")\n",
    "        if len(split_name) == 2:\n",
    "            rand_float = random.random()\n",
    "            if rand_float < 0.7:\n",
    "                return diff_lang_name.strip()\n",
    "            else:\n",
    "                return f\"{split_name[1]} {split_name[0]}\"\n",
    "        elif len(split_name) == 3:\n",
    "            rand_float = random.random()\n",
    "            if rand_float < 0.7:\n",
    "                return diff_lang_name.strip()\n",
    "            elif rand_float < 0.85:\n",
    "                return f\"{split_name[2]} {split_name[0]} {split_name[1]}\"\n",
    "            else:\n",
    "                return f\"{split_name[1]} {split_name[2]} {split_name[0]}\"\n",
    "        else:\n",
    "            return diff_lang_name.strip()\n",
    "    else:\n",
    "        return diff_lang_name.strip()\n",
    "    \n",
    "get_fake_raw_input = F.udf(get_fake_raw_input_, StringType())"
   ]
  },
  {
   "cell_type": "code",
   "execution_count": 0,
   "metadata": {
    "application/vnd.databricks.v1+cell": {
     "cellMetadata": {
      "byteLimit": 2048000,
      "rowLimit": 10000
     },
     "inputWidgets": {},
     "nuid": "cf1ccafd-ee8d-4bbe-9ee1-f8f8ac586c7c",
     "showTitle": false,
     "title": ""
    }
   },
   "outputs": [
    {
     "name": "stdout",
     "output_type": "stream",
     "text": [
      "Out[5]: 222619352"
     ]
    }
   ],
   "source": [
    "all_train_data = spark.read.parquet(f\"{iteration_save_path}all_processed_data_for_model/all_training_data\")\n",
    "all_train_data.cache().count()"
   ]
  },
  {
   "cell_type": "code",
   "execution_count": 0,
   "metadata": {
    "application/vnd.databricks.v1+cell": {
     "cellMetadata": {
      "byteLimit": 2048000,
      "rowLimit": 10000
     },
     "inputWidgets": {},
     "nuid": "6640620c-98ae-424c-9415-cd3e1fcdccee",
     "showTitle": false,
     "title": ""
    }
   },
   "outputs": [
    {
     "name": "stdout",
     "output_type": "stream",
     "text": [
      "Out[6]: 5715600"
     ]
    }
   ],
   "source": [
    "all_train_data_diff_langs = spark.read.parquet(f\"{iteration_save_path}all_processed_data_for_model/all_training_data_other_languages\") \\\n",
    ".select(F.col('original_author').alias('output_name')) \\\n",
    ".withColumn('raw_input', get_fake_raw_input(F.col('output_name'))) \\\n",
    ".filter(F.col('raw_input')!=\"\")\n",
    "\n",
    "all_train_data_diff_langs.cache().count()"
   ]
  },
  {
   "cell_type": "code",
   "execution_count": 0,
   "metadata": {
    "application/vnd.databricks.v1+cell": {
     "cellMetadata": {
      "byteLimit": 2048000,
      "rowLimit": 10000
     },
     "inputWidgets": {},
     "nuid": "0aefdcae-ad07-44d5-81f2-9510e0ed03ab",
     "showTitle": false,
     "title": ""
    }
   },
   "outputs": [],
   "source": [
    "all_train_data.union(all_train_data_diff_langs.select(*all_train_data.columns)) \\\n",
    ".dropDuplicates() \\\n",
    ".write.mode('overwrite').parquet(f\"{iteration_save_path}name_embedding_training_data/all_data\")"
   ]
  },
  {
   "cell_type": "code",
   "execution_count": 0,
   "metadata": {
    "application/vnd.databricks.v1+cell": {
     "cellMetadata": {
      "byteLimit": 2048000,
      "rowLimit": 10000
     },
     "inputWidgets": {},
     "nuid": "6a2ed9de-3919-4459-adc4-002bac966a0e",
     "showTitle": false,
     "title": ""
    }
   },
   "outputs": [
    {
     "name": "stdout",
     "output_type": "stream",
     "text": [
      "Out[11]: 224520730"
     ]
    }
   ],
   "source": [
    "all_data = spark.read.parquet(f\"{iteration_save_path}name_embedding_training_data/all_data\") \\\n",
    ".select('raw_input', F.trim(F.col('output_name')).alias('output_name')) \\\n",
    ".dropDuplicates()\n",
    "all_data.cache().count()"
   ]
  },
  {
   "cell_type": "code",
   "execution_count": 0,
   "metadata": {
    "application/vnd.databricks.v1+cell": {
     "cellMetadata": {
      "byteLimit": 2048000,
      "rowLimit": 10000
     },
     "inputWidgets": {},
     "nuid": "19a152f8-78a5-4e40-9183-3597e591a9b9",
     "showTitle": false,
     "title": ""
    }
   },
   "outputs": [
    {
     "name": "stdout",
     "output_type": "stream",
     "text": [
      "Out[12]: 54682278"
     ]
    }
   ],
   "source": [
    "all_data.dropDuplicates(subset=['output_name']).count()"
   ]
  },
  {
   "cell_type": "code",
   "execution_count": 0,
   "metadata": {
    "application/vnd.databricks.v1+cell": {
     "cellMetadata": {
      "byteLimit": 2048000,
      "rowLimit": 10000
     },
     "inputWidgets": {},
     "nuid": "e8855c7a-c375-40ab-9214-54a5ac160f40",
     "showTitle": false,
     "title": ""
    }
   },
   "outputs": [
    {
     "name": "stdout",
     "output_type": "stream",
     "text": [
      "Out[13]: 54682278"
     ]
    }
   ],
   "source": [
    "all_data.select(F.trim(F.col('output_name')).alias('output_name')).dropDuplicates(subset=['output_name']).count()"
   ]
  },
  {
   "cell_type": "code",
   "execution_count": 0,
   "metadata": {
    "application/vnd.databricks.v1+cell": {
     "cellMetadata": {
      "byteLimit": 2048000,
      "rowLimit": 10000
     },
     "inputWidgets": {},
     "nuid": "717b3f41-7235-447d-9ada-5c655fb7062f",
     "showTitle": false,
     "title": ""
    }
   },
   "outputs": [
    {
     "name": "stdout",
     "output_type": "stream",
     "text": [
      "+-------------------------------+-------------------------------+\n",
      "|raw_input                      |output_name                    |\n",
      "+-------------------------------+-------------------------------+\n",
      "|Sara Wallin                    |Sara Wallin                    |\n",
      "|James A. Pope Marine           |James A. Pope Marine           |\n",
      "|Rodríguez de Ancos Marcos      |Marcos Rodríguez De Ancos      |\n",
      "|JVD Bilt                       |J. V. D. Bilt                  |\n",
      "|JJ Guo                         |J. J Guo                       |\n",
      "|Paul Mange Johansen            |Paul Mange Johansen            |\n",
      "|Desai, Bhalloo                 |Bhalloo Desai                  |\n",
      "|Rudd, Jeffrey A.               |Jeffrey A. Rudd                |\n",
      "|L. Telezhenko                  |L. Telezhenko                  |\n",
      "|Kang, Seong-Oun                |Seong-Oun Kang                 |\n",
      "|Razel Carol                    |Carol Razel                    |\n",
      "|Punjabi V.                     |Vina Punjabi                   |\n",
      "|Amraeiniya, Ali                |Ali Amraeiniya                 |\n",
      "|Rienzo J.                      |J. Rienzo                      |\n",
      "|HR Sainz Rozas                 |Hernán Rene Sainz Rozas        |\n",
      "|Shabnam Ziaee                  |Shabnam Ziaee                  |\n",
      "|Sosson, H                      |H. Sosson                      |\n",
      "|Faraji Amir H.                 |Amir H. Faraji                 |\n",
      "|马忠军                         |马忠军                         |\n",
      "|E Tembo                        |Emmanuel Tembo                 |\n",
      "|Yon, Morgan                    |Morgan Yon                     |\n",
      "|LANG Lang                      |Lang Lang                      |\n",
      "|Isert, Joshua E.               |Joshua E. Isert                |\n",
      "|P.H Tan                        |P.H Tan                        |\n",
      "|Wassilew S.W.                  |S.W. Wassilew                  |\n",
      "|H Jie Fan                      |Hui Jie Fan                    |\n",
      "|M.G. Bagur Gonzalez            |M.G. Bagur González            |\n",
      "|Sylvie Dieu-Osika              |Sylvie Dieu-Osika              |\n",
      "|Garcia Luzala Elisabeth Armando|Luzala Elisabeth Armando Garcia|\n",
      "|Lin, Jiang-Feng                |Jiang-Feng Lin                 |\n",
      "|Wen Yao K.                     |Yao K. Wen                     |\n",
      "|Spurr, Charles W.              |Charles W. Spurr               |\n",
      "|S.W Hoag                       |S.W Hoag                       |\n",
      "|Moreno-Mateos D.               |D. Moreno-Mateos               |\n",
      "|Waddington Tadhg               |Tadhg Waddington               |\n",
      "|Leal José Sérgio Brandão       |José Sérgio Brandão Leal       |\n",
      "|Μαλαπέτσα Μ.                   |Μαρία Μαλαπέτσα                |\n",
      "|Roberta Mennitto               |Roberta Mennitto               |\n",
      "|Daubrée Noëlle                 |Noëlle Daubrée                 |\n",
      "|Arango L.                      |L. Arango                      |\n",
      "|Lee, Jeongrang                 |Jeongrang Lee                  |\n",
      "|Virnich M.                     |M. Virnich                     |\n",
      "|Gia Hân, Trịnh                 |Trịnh Gia Hân                  |\n",
      "|Percy Kampeis                  |P. Kampeis                     |\n",
      "|Plantz Mark                    |Mark Plantz                    |\n",
      "|Critchley, Sophie              |Sophie Critchley               |\n",
      "|NS Panwar                      |Neha Singh Panwar              |\n",
      "|Μακρυγιαννάκη, Στέλλα          |Στέλλα Μακρυγιαννάκη           |\n",
      "|Juliana Rodrigues Trinca       |Juliana Rodrigues Trinca       |\n",
      "|Xiao A. Huang                  |Xiao A. Huang                  |\n",
      "+-------------------------------+-------------------------------+\n",
      "only showing top 50 rows\n",
      "\n"
     ]
    }
   ],
   "source": [
    "all_data.sample(0.00001).show(50, truncate=False)"
   ]
  },
  {
   "cell_type": "code",
   "execution_count": 0,
   "metadata": {
    "application/vnd.databricks.v1+cell": {
     "cellMetadata": {
      "byteLimit": 2048000,
      "rowLimit": 10000
     },
     "inputWidgets": {},
     "nuid": "e27fb142-a0fd-47cf-8706-bdd4a3fc1ce7",
     "showTitle": false,
     "title": ""
    }
   },
   "outputs": [],
   "source": [
    "w1 = Window().orderBy(F.rand())\n",
    "\n",
    "all_data.dropDuplicates(subset=['output_name']).select('output_name') \\\n",
    ".withColumn('name_label', F.row_number().over(w1)) \\\n",
    ".write.mode('overwrite').parquet(f\"{iteration_save_path}name_embedding_training_data/name_labels\")"
   ]
  },
  {
   "cell_type": "code",
   "execution_count": 0,
   "metadata": {
    "application/vnd.databricks.v1+cell": {
     "cellMetadata": {
      "byteLimit": 2048000,
      "rowLimit": 10000
     },
     "inputWidgets": {},
     "nuid": "697814b5-551f-4a85-86ec-b33a19def911",
     "showTitle": false,
     "title": ""
    }
   },
   "outputs": [
    {
     "name": "stdout",
     "output_type": "stream",
     "text": [
      "Out[29]: 54682278"
     ]
    }
   ],
   "source": [
    "name_labels = spark.read.parquet(f\"{iteration_save_path}name_embedding_training_data/name_labels\")\n",
    "name_labels.cache().count()"
   ]
  },
  {
   "cell_type": "code",
   "execution_count": 0,
   "metadata": {
    "application/vnd.databricks.v1+cell": {
     "cellMetadata": {
      "byteLimit": 2048000,
      "rowLimit": 10000
     },
     "inputWidgets": {},
     "nuid": "dc40982e-03ce-4ebb-aee0-280cbd871486",
     "showTitle": false,
     "title": ""
    }
   },
   "outputs": [],
   "source": [
    "train, val, test = name_labels.randomSplit([0.9995, 0.0003, 0.0002], seed=0)"
   ]
  },
  {
   "cell_type": "code",
   "execution_count": 0,
   "metadata": {
    "application/vnd.databricks.v1+cell": {
     "cellMetadata": {
      "byteLimit": 2048000,
      "rowLimit": 10000
     },
     "inputWidgets": {},
     "nuid": "dbf47cf0-b9bf-482d-82de-69f566ca4786",
     "showTitle": false,
     "title": ""
    }
   },
   "outputs": [],
   "source": [
    "all_data.join(train, how='inner', on='output_name') \\\n",
    ".orderBy(F.rand()) \\\n",
    ".groupBy(['output_name','name_label']) \\\n",
    ".agg(F.collect_list(F.col('raw_input')).alias('raw_input')) \\\n",
    ".coalesce(50).write.mode('overwrite').parquet(f\"{iteration_save_path}name_embedding_training_data/train_data\")"
   ]
  },
  {
   "cell_type": "code",
   "execution_count": 0,
   "metadata": {
    "application/vnd.databricks.v1+cell": {
     "cellMetadata": {
      "byteLimit": 2048000,
      "rowLimit": 10000
     },
     "inputWidgets": {},
     "nuid": "365b3ab4-91e1-40da-99c6-0d775876cf02",
     "showTitle": false,
     "title": ""
    }
   },
   "outputs": [],
   "source": [
    "all_data.join(val, how='inner', on='output_name') \\\n",
    ".orderBy(F.rand()) \\\n",
    ".groupBy(['output_name','name_label']) \\\n",
    ".agg(F.collect_list(F.col('raw_input')).alias('raw_input')) \\\n",
    ".coalesce(5).write.mode('overwrite').parquet(f\"{iteration_save_path}name_embedding_training_data/val_data\")"
   ]
  },
  {
   "cell_type": "code",
   "execution_count": 0,
   "metadata": {
    "application/vnd.databricks.v1+cell": {
     "cellMetadata": {
      "byteLimit": 2048000,
      "rowLimit": 10000
     },
     "inputWidgets": {},
     "nuid": "85d6aeb4-7170-48eb-bcbb-cf476d786bc9",
     "showTitle": false,
     "title": ""
    }
   },
   "outputs": [],
   "source": [
    "all_data.join(test, how='inner', on='output_name') \\\n",
    ".orderBy(F.rand()) \\\n",
    ".groupBy(['output_name','name_label']) \\\n",
    ".agg(F.collect_list(F.col('raw_input')).alias('raw_input')) \\\n",
    ".coalesce(1).write.mode('overwrite').parquet(f\"{iteration_save_path}name_embedding_training_data/test_data\")"
   ]
  },
  {
   "cell_type": "code",
   "execution_count": 0,
   "metadata": {
    "application/vnd.databricks.v1+cell": {
     "cellMetadata": {
      "byteLimit": 2048000,
      "rowLimit": 10000
     },
     "inputWidgets": {},
     "nuid": "b544606f-c07d-4139-a87f-c2bd4e3f1d59",
     "showTitle": false,
     "title": ""
    }
   },
   "outputs": [
    {
     "name": "stdout",
     "output_type": "stream",
     "text": [
      "Out[34]: 54655132"
     ]
    }
   ],
   "source": [
    "spark.read.parquet(f\"{iteration_save_path}name_embedding_training_data/train_data\").count()"
   ]
  },
  {
   "cell_type": "code",
   "execution_count": 0,
   "metadata": {
    "application/vnd.databricks.v1+cell": {
     "cellMetadata": {
      "byteLimit": 2048000,
      "rowLimit": 10000
     },
     "inputWidgets": {},
     "nuid": "2561d7e5-0dce-4ddb-876f-0bfe26c19b87",
     "showTitle": false,
     "title": ""
    }
   },
   "outputs": [
    {
     "name": "stdout",
     "output_type": "stream",
     "text": [
      "+--------------------+----------+--------------------+\n",
      "|         output_name|name_label|           raw_input|\n",
      "+--------------------+----------+--------------------+\n",
      "|             A Bizze|  35908451|[A Bizze, Bizze A...|\n",
      "|            A Florou|  26569623|[Florou, A, Ageli...|\n",
      "|           A Gaganov|  52498660|[Gaganov A., A Ga...|\n",
      "|            A P Sime|  46836439|[Sime, A P, Sime ...|\n",
      "|            A Paluka|   2803044|[A. Paluka, Paluk...|\n",
      "|       A T. Sillitoe|  35405850|[A T. Sillitoe, A...|\n",
      "| A. Cancino Marambio|  51198746|[A. Cancino Maram...|\n",
      "|        A. F. Norman|  30860599|[Norman A. F., Al...|\n",
      "| A. G. Tereshchenkov|  23412116|[Tereshchenkov A....|\n",
      "|A. Jean-Antoine P...|   2184430|[Jean-Antoine Pic...|\n",
      "|        A. M. Nassef|  24222910|[Nassef, A. M., N...|\n",
      "|         A. Mikheeva|  25468706|[A Mikheeva, A MI...|\n",
      "|       A. P. Bhaduri|  25307058|[A. P. BHADURI, A...|\n",
      "|A. P. Yepes Quintero|  12081211|[AP Yepes Quinter...|\n",
      "|       A. Paul Press|    338995|[A. P. Press, A. ...|\n",
      "|      A. V. Nadtochy|  11377791|[Nadtochy A V, Na...|\n",
      "|     A. Zhunisbayeva|  44681923|[Zhunisbayeva, A,...|\n",
      "|        A.O. Abisuga|  47407615|[A.O. Abisuga, Ab...|\n",
      "|   Abdulhamid Charif|  35841428|[Charif, Abdulham...|\n",
      "|        Abe Yasuhisa|  20880630|[Yasuhisa, ABE, A...|\n",
      "+--------------------+----------+--------------------+\n",
      "only showing top 20 rows\n",
      "\n"
     ]
    }
   ],
   "source": [
    "spark.read.parquet(f\"{iteration_save_path}name_embedding_training_data/val_data\").sample(0.1).show(20)"
   ]
  },
  {
   "cell_type": "code",
   "execution_count": 0,
   "metadata": {
    "application/vnd.databricks.v1+cell": {
     "cellMetadata": {
      "byteLimit": 2048000,
      "rowLimit": 10000
     },
     "inputWidgets": {},
     "nuid": "071f85b9-f3a0-49be-b6c5-08ba8000592a",
     "showTitle": false,
     "title": ""
    }
   },
   "outputs": [
    {
     "name": "stdout",
     "output_type": "stream",
     "text": [
      "Out[37]: 10791"
     ]
    }
   ],
   "source": [
    "spark.read.parquet(f\"{iteration_save_path}name_embedding_training_data/test_data\").count()"
   ]
  },
  {
   "cell_type": "code",
   "execution_count": 0,
   "metadata": {
    "application/vnd.databricks.v1+cell": {
     "cellMetadata": {},
     "inputWidgets": {},
     "nuid": "3cd19c0b-f2e1-4281-88af-0691df0bbf07",
     "showTitle": false,
     "title": ""
    }
   },
   "outputs": [],
   "source": []
  }
 ],
 "metadata": {
  "application/vnd.databricks.v1+notebook": {
   "dashboards": [],
   "language": "python",
   "notebookMetadata": {
    "pythonIndentUnit": 4
   },
   "notebookName": "name_embedding_data_creation",
   "notebookOrigID": 2989642991756148,
   "widgets": {}
  },
  "kernelspec": {
   "display_name": "Python 3 (ipykernel)",
   "language": "python",
   "name": "python3"
  },
  "language_info": {
   "codemirror_mode": {
    "name": "ipython",
    "version": 3
   },
   "file_extension": ".py",
   "mimetype": "text/x-python",
   "name": "python",
   "nbconvert_exporter": "python",
   "pygments_lexer": "ipython3",
   "version": "3.8.12"
  }
 },
 "nbformat": 4,
 "nbformat_minor": 1
}
