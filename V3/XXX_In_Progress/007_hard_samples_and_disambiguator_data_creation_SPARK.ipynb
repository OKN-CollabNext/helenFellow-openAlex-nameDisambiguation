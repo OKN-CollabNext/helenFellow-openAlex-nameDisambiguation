{
 "cells": [
  {
   "cell_type": "code",
   "execution_count": 0,
   "metadata": {
    "application/vnd.databricks.v1+cell": {
     "cellMetadata": {
      "byteLimit": 2048000,
      "rowLimit": 10000
     },
     "inputWidgets": {},
     "nuid": "44920190-9120-4ae8-858f-14f52b073315",
     "showTitle": false,
     "title": ""
    }
   },
   "outputs": [
    {
     "data": {
      "application/vnd.databricks.v1+bamboolib_hint": "{\"pd.DataFrames\": [], \"version\": \"0.0.1\"}",
      "text/plain": []
     },
     "metadata": {
      "application/vnd.databricks.v1+output": {
       "addedWidgets": {},
       "arguments": {},
       "data": {
        "application/vnd.databricks.v1+bamboolib_hint": "{\"pd.DataFrames\": [], \"version\": \"0.0.1\"}",
        "text/plain": ""
       },
       "datasetInfos": [],
       "executionCount": null,
       "metadata": {
        "kernelSessionId": "0d493b0a-05dd3e8060fdc9bde91812db"
       },
       "removedWidgets": [],
       "type": "mimeBundle"
      }
     },
     "output_type": "display_data"
    }
   ],
   "source": [
    "import pickle\n",
    "import boto3\n",
    "import re\n",
    "import json\n",
    "import random\n",
    "import pandas as pd\n",
    "import numpy as np\n",
    "import matplotlib.pyplot as plt"
   ]
  },
  {
   "cell_type": "code",
   "execution_count": 0,
   "metadata": {
    "application/vnd.databricks.v1+cell": {
     "cellMetadata": {
      "byteLimit": 2048000,
      "rowLimit": 10000
     },
     "inputWidgets": {},
     "nuid": "2ba961a2-7e64-4844-8d78-c47e5f47c752",
     "showTitle": false,
     "title": ""
    }
   },
   "outputs": [
    {
     "name": "stdout",
     "output_type": "stream",
     "text": [
      "/databricks/spark/python/pyspark/sql/context.py:117: FutureWarning: Deprecated in 3.0.0. Use SparkSession.builder.getOrCreate() instead.\n",
      "  warnings.warn(\n"
     ]
    }
   ],
   "source": [
    "from pyspark.sql import SparkSession\n",
    "sc = spark.sparkContext\n",
    "from pyspark.sql import SQLContext\n",
    "from pyspark.sql import functions as F\n",
    "from pyspark.sql.window import Window\n",
    "from pyspark.sql.types import IntegerType, StringType, FloatType, ArrayType, DoubleType, StructType, StructField\n",
    "sqlContext = SQLContext(sc)"
   ]
  },
  {
   "cell_type": "code",
   "execution_count": 0,
   "metadata": {
    "application/vnd.databricks.v1+cell": {
     "cellMetadata": {
      "byteLimit": 2048000,
      "rowLimit": 10000
     },
     "inputWidgets": {},
     "nuid": "5f29191d-1059-4a1a-a42b-0a11e8599c1f",
     "showTitle": false,
     "title": ""
    }
   },
   "outputs": [],
   "source": [
    "base_save_path = \"s3://openalex-data-copy/snapshot_2023_02_15/\"\n",
    "iteration_save_path = \"s3://author-disambiguation/V3/\""
   ]
  },
  {
   "cell_type": "code",
   "execution_count": 0,
   "metadata": {
    "application/vnd.databricks.v1+cell": {
     "cellMetadata": {
      "byteLimit": 2048000,
      "rowLimit": 10000
     },
     "inputWidgets": {},
     "nuid": "f3fc9950-ebb9-463e-af5a-e2c9b59ae456",
     "showTitle": false,
     "title": ""
    }
   },
   "outputs": [
    {
     "name": "stdout",
     "output_type": "stream",
     "text": [
      "Out[7]: 52420616"
     ]
    }
   ],
   "source": [
    "all_names = spark.read.parquet(f\"{iteration_save_path}name_embedding_training_data/given_family_output_names\") \\\n",
    ".select(F.trim(F.col('given_name')).alias('given_name'), \n",
    "        F.trim(F.col('family_name')).alias('family_name'), \n",
    "        F.trim(F.col('output_name')).alias('output_name'), \n",
    "        F.trim(F.col('raw_input')).alias('raw_input')) \\\n",
    ".drop_duplicates(subset=['given_name','family_name','output_name'])\n",
    "all_names.cache().count()"
   ]
  },
  {
   "cell_type": "code",
   "execution_count": 0,
   "metadata": {
    "application/vnd.databricks.v1+cell": {
     "cellMetadata": {
      "byteLimit": 2048000,
      "rowLimit": 10000
     },
     "inputWidgets": {},
     "nuid": "93613755-4177-4cd3-a944-af433e93732e",
     "showTitle": false,
     "title": ""
    }
   },
   "outputs": [],
   "source": [
    "all_names.groupby('given_name').agg(F.collect_list(F.col('output_name')).alias('output_name')) \\\n",
    ".write.mode('overwrite').parquet(f\"{iteration_save_path}name_embedding_training_data/hard_samples/given_name_matches\")"
   ]
  },
  {
   "cell_type": "code",
   "execution_count": 0,
   "metadata": {
    "application/vnd.databricks.v1+cell": {
     "cellMetadata": {
      "byteLimit": 2048000,
      "rowLimit": 10000
     },
     "inputWidgets": {},
     "nuid": "268655f3-a8f0-4afd-905f-3cb48be004d3",
     "showTitle": false,
     "title": ""
    }
   },
   "outputs": [],
   "source": [
    "all_names.groupby('family_name').agg(F.collect_list(F.col('output_name')).alias('output_name')) \\\n",
    ".write.mode('overwrite').parquet(f\"{iteration_save_path}name_embedding_training_data/hard_samples/family_name_matches\")"
   ]
  },
  {
   "cell_type": "code",
   "execution_count": 0,
   "metadata": {
    "application/vnd.databricks.v1+cell": {
     "cellMetadata": {
      "byteLimit": 2048000,
      "rowLimit": 10000
     },
     "inputWidgets": {},
     "nuid": "d8ffa8d5-2ac5-4168-89a5-322a0c87a9ad",
     "showTitle": false,
     "title": ""
    }
   },
   "outputs": [
    {
     "name": "stdout",
     "output_type": "stream",
     "text": [
      "Out[5]: 8460722"
     ]
    }
   ],
   "source": [
    "given_matches = spark.read \\\n",
    ".parquet(f\"{iteration_save_path}name_embedding_training_data/hard_samples/given_name_matches\")\n",
    "\n",
    "given_matches.cache().count()"
   ]
  },
  {
   "cell_type": "code",
   "execution_count": 0,
   "metadata": {
    "application/vnd.databricks.v1+cell": {
     "cellMetadata": {
      "byteLimit": 2048000,
      "rowLimit": 10000
     },
     "inputWidgets": {},
     "nuid": "9835c224-001f-4998-9bf7-a7c466b565af",
     "showTitle": false,
     "title": ""
    }
   },
   "outputs": [
    {
     "name": "stdout",
     "output_type": "stream",
     "text": [
      "Out[7]: 7684839"
     ]
    }
   ],
   "source": [
    "family_matches = spark.read \\\n",
    ".parquet(f\"{iteration_save_path}name_embedding_training_data/hard_samples/family_name_matches\")\n",
    "\n",
    "family_matches.cache().count()"
   ]
  },
  {
   "cell_type": "code",
   "execution_count": 0,
   "metadata": {
    "application/vnd.databricks.v1+cell": {
     "cellMetadata": {
      "byteLimit": 2048000,
      "rowLimit": 10000
     },
     "inputWidgets": {},
     "nuid": "8349ede2-c7a1-45d4-989c-4805d1178083",
     "showTitle": false,
     "title": ""
    }
   },
   "outputs": [],
   "source": [
    "def get_pair_of_hard_samples_(list_of_like_names):\n",
    "    if len(list_of_like_names) <8:\n",
    "        return []\n",
    "    else:\n",
    "        choice_1 = random.choice(list_of_like_names)\n",
    "        choice_2 = random.choice(list_of_like_names)\n",
    "        if choice_1 == choice_2:\n",
    "            return list_of_like_names[:2]\n",
    "        else:\n",
    "            return [choice_1, choice_2]\n",
    "\n",
    "get_pair_of_hard_samples = F.udf(get_pair_of_hard_samples_, ArrayType(StringType()))"
   ]
  },
  {
   "cell_type": "code",
   "execution_count": 0,
   "metadata": {
    "application/vnd.databricks.v1+cell": {
     "cellMetadata": {
      "byteLimit": 2048000,
      "rowLimit": 10000
     },
     "inputWidgets": {},
     "nuid": "dd347be6-92bb-4ecc-90d6-fee692137a98",
     "showTitle": false,
     "title": ""
    }
   },
   "outputs": [],
   "source": [
    "given_matches \\\n",
    ".withColumn(\"hard_pairs\", get_pair_of_hard_samples(F.col('output_name'))) \\\n",
    ".withColumn(\"hard_pair_len\", F.size(F.col('hard_pairs'))) \\\n",
    ".filter(F.col('hard_pair_len') ==2) \\\n",
    ".select('hard_pairs') \\\n",
    ".write.mode('overwrite').parquet(f\"{iteration_save_path}name_embedding_training_data/hard_samples/given_hard_pairs\")"
   ]
  },
  {
   "cell_type": "code",
   "execution_count": 0,
   "metadata": {
    "application/vnd.databricks.v1+cell": {
     "cellMetadata": {
      "byteLimit": 2048000,
      "rowLimit": 10000
     },
     "inputWidgets": {},
     "nuid": "a0783542-64e5-447d-a818-ab4e1ca03393",
     "showTitle": false,
     "title": ""
    }
   },
   "outputs": [],
   "source": [
    "family_matches \\\n",
    ".withColumn(\"hard_pairs\", get_pair_of_hard_samples(F.col('output_name'))) \\\n",
    ".withColumn(\"hard_pair_len\", F.size(F.col('hard_pairs'))) \\\n",
    ".filter(F.col('hard_pair_len') ==2) \\\n",
    ".select('hard_pairs') \\\n",
    ".write.mode('overwrite').parquet(f\"{iteration_save_path}name_embedding_training_data/hard_samples/family_hard_pairs\")"
   ]
  },
  {
   "cell_type": "code",
   "execution_count": 0,
   "metadata": {
    "application/vnd.databricks.v1+cell": {
     "cellMetadata": {
      "byteLimit": 2048000,
      "rowLimit": 10000
     },
     "inputWidgets": {},
     "nuid": "3706390e-3b9c-427a-a638-c8b1193f4672",
     "showTitle": false,
     "title": ""
    }
   },
   "outputs": [],
   "source": [
    "spark.read.parquet(f\"{iteration_save_path}name_embedding_training_data/hard_samples/family_hard_pairs\") \\\n",
    ".union(spark.read.parquet(f\"{iteration_save_path}name_embedding_training_data/hard_samples/given_hard_pairs\")) \\\n",
    ".dropDuplicates() \\\n",
    ".coalesce(1).write.mode('overwrite').parquet(f\"{iteration_save_path}name_embedding_training_data/hard_samples/final_hard_negative_pairs\")"
   ]
  },
  {
   "cell_type": "code",
   "execution_count": 0,
   "metadata": {
    "application/vnd.databricks.v1+cell": {
     "cellMetadata": {
      "byteLimit": 2048000,
      "rowLimit": 10000
     },
     "inputWidgets": {},
     "nuid": "eb93b30b-6f2f-4a93-90e9-996867fb1759",
     "showTitle": false,
     "title": ""
    }
   },
   "outputs": [
    {
     "name": "stdout",
     "output_type": "stream",
     "text": [
      "Out[45]: 1118133"
     ]
    }
   ],
   "source": [
    "spark.read.parquet(f\"{iteration_save_path}name_embedding_training_data/hard_samples/family_hard_pairs\") \\\n",
    ".union(spark.read.parquet(f\"{iteration_save_path}name_embedding_training_data/hard_samples/given_hard_pairs\"))"
   ]
  },
  {
   "cell_type": "markdown",
   "metadata": {
    "application/vnd.databricks.v1+cell": {
     "cellMetadata": {},
     "inputWidgets": {},
     "nuid": "91b9d3b1-edc1-4309-aa33-6490e9837b4c",
     "showTitle": false,
     "title": ""
    }
   },
   "source": [
    "### For Disambiguator"
   ]
  },
  {
   "cell_type": "code",
   "execution_count": 0,
   "metadata": {
    "application/vnd.databricks.v1+cell": {
     "cellMetadata": {
      "byteLimit": 2048000,
      "rowLimit": 10000
     },
     "inputWidgets": {},
     "nuid": "98a39cc6-218d-4ab7-8701-8d001d8bca14",
     "showTitle": false,
     "title": ""
    }
   },
   "outputs": [
    {
     "name": "stdout",
     "output_type": "stream",
     "text": [
      "Out[21]: 14845875"
     ]
    }
   ],
   "source": [
    "orcid_names = spark.read.parquet(f\"{iteration_save_path}orcid_names_data_dump.parquet\") \\\n",
    "    .select('orcid',F.trim(F.col('given_names')).alias('given_name'),F.trim(F.col('family_name')).alias('family_name')) \\\n",
    "    .select('orcid', 'given_name','family_name', \n",
    "    F.concat_ws(' ', F.col('given_name'), F.col('family_name')).alias('output_name')) \\\n",
    "    .dropDuplicates()\n",
    "orcid_names.cache().count()"
   ]
  },
  {
   "cell_type": "code",
   "execution_count": 0,
   "metadata": {
    "application/vnd.databricks.v1+cell": {
     "cellMetadata": {
      "byteLimit": 2048000,
      "rowLimit": 10000
     },
     "inputWidgets": {},
     "nuid": "970d5bf7-0444-4ffc-a6ef-1ba918278a1e",
     "showTitle": false,
     "title": ""
    }
   },
   "outputs": [],
   "source": [
    "for i in range(4):\n",
    "    orcid_names.select(F.lit('positive').alias('sample_type'), F.col('orcid').alias('orcid_1'), F.col('orcid').alias('orcid_2')) \\\n",
    "        .coalesce(50).write.mode('append') \\\n",
    "        .parquet(f\"{iteration_save_path}disambiguator_training_data/final_positive_sample_orcids\")"
   ]
  },
  {
   "cell_type": "code",
   "execution_count": 0,
   "metadata": {
    "application/vnd.databricks.v1+cell": {
     "cellMetadata": {
      "byteLimit": 2048000,
      "rowLimit": 10000
     },
     "inputWidgets": {},
     "nuid": "33fd0120-294d-4b1e-a2c8-ce85835d9f17",
     "showTitle": false,
     "title": ""
    }
   },
   "outputs": [
    {
     "name": "stdout",
     "output_type": "stream",
     "text": [
      "Out[24]: 59383500"
     ]
    }
   ],
   "source": [
    "pos_samples = spark.read.parquet(f\"{iteration_save_path}disambiguator_training_data/final_positive_sample_orcids\")\n",
    "pos_samples.cache().count()"
   ]
  },
  {
   "cell_type": "code",
   "execution_count": 0,
   "metadata": {
    "application/vnd.databricks.v1+cell": {
     "cellMetadata": {
      "byteLimit": 2048000,
      "rowLimit": 10000
     },
     "inputWidgets": {},
     "nuid": "22d60f02-564e-431c-a773-20a55acf8ad5",
     "showTitle": false,
     "title": ""
    }
   },
   "outputs": [
    {
     "name": "stdout",
     "output_type": "stream",
     "text": [
      "+-----------+-------------------+-------------------+\n",
      "|sample_type|            orcid_1|            orcid_2|\n",
      "+-----------+-------------------+-------------------+\n",
      "|   positive|0000-0001-5041-9000|0000-0001-5041-9000|\n",
      "|   positive|0000-0001-5153-4000|0000-0001-5153-4000|\n",
      "|   positive|0000-0001-5351-3000|0000-0001-5351-3000|\n",
      "|   positive|0000-0001-5435-6000|0000-0001-5435-6000|\n",
      "|   positive|0000-0001-5550-0000|0000-0001-5550-0000|\n",
      "|   positive|0000-0001-5763-7000|0000-0001-5763-7000|\n",
      "|   positive|0000-0001-6414-0000|0000-0001-6414-0000|\n",
      "|   positive|0000-0001-7488-3000|0000-0001-7488-3000|\n",
      "|   positive|0000-0001-7557-9000|0000-0001-7557-9000|\n",
      "|   positive|0000-0001-7748-6000|0000-0001-7748-6000|\n",
      "|   positive|0000-0001-8089-6000|0000-0001-8089-6000|\n",
      "|   positive|0000-0001-8331-7000|0000-0001-8331-7000|\n",
      "|   positive|0000-0001-8469-4000|0000-0001-8469-4000|\n",
      "|   positive|0000-0001-9019-7000|0000-0001-9019-7000|\n",
      "|   positive|0000-0001-9537-7000|0000-0001-9537-7000|\n",
      "|   positive|0000-0001-9666-0000|0000-0001-9666-0000|\n",
      "|   positive|0000-0001-9896-5000|0000-0001-9896-5000|\n",
      "|   positive|0000-0001-9977-3000|0000-0001-9977-3000|\n",
      "|   positive|0000-0002-0120-4000|0000-0002-0120-4000|\n",
      "|   positive|0000-0002-0147-4000|0000-0002-0147-4000|\n",
      "+-----------+-------------------+-------------------+\n",
      "only showing top 20 rows\n",
      "\n"
     ]
    }
   ],
   "source": [
    "orcid_names.select(F.lit('positive').alias('sample_type'), F.col('orcid').alias('orcid_1'), F.col('orcid').alias('orcid_2')).show()"
   ]
  },
  {
   "cell_type": "code",
   "execution_count": 0,
   "metadata": {
    "application/vnd.databricks.v1+cell": {
     "cellMetadata": {
      "byteLimit": 2048000,
      "rowLimit": 10000
     },
     "inputWidgets": {},
     "nuid": "4d1bb5fd-af6d-481d-8587-11a63c1f05b5",
     "showTitle": false,
     "title": ""
    }
   },
   "outputs": [
    {
     "name": "stdout",
     "output_type": "stream",
     "text": [
      "+-------------------+----------+------------+-------------------+\n",
      "|              orcid|given_name| family_name|        output_name|\n",
      "+-------------------+----------+------------+-------------------+\n",
      "|0000-0001-5074-2000|    Martin|Perez-Santos|Martin Perez-Santos|\n",
      "|0000-0001-5001-3000|   Vincent|      Nguyen|     Vincent Nguyen|\n",
      "|0000-0001-5109-1000|    Andrew|     Porteus|     Andrew Porteus|\n",
      "|0000-0001-5031-2000|  Yi-Chien|        null|           Yi-Chien|\n",
      "|0000-0001-5028-3000|  Benjamin|      Becket|    Benjamin Becket|\n",
      "|0000-0001-5024-0000|   Pâmella|       Romão|      Pâmella Romão|\n",
      "|0000-0001-5073-4000|    Kleice|    Oliveira|    Kleice Oliveira|\n",
      "|0000-0001-5091-0000|   Michele|     Saysana|    Michele Saysana|\n",
      "|0000-0001-5123-5000|    Şevval|     Özdemir|     Şevval Özdemir|\n",
      "|0000-0001-5006-4000|Risma Dede|      Andini|  Risma Dede Andini|\n",
      "+-------------------+----------+------------+-------------------+\n",
      "only showing top 10 rows\n",
      "\n"
     ]
    }
   ],
   "source": [
    "orcid_names.show(10)"
   ]
  },
  {
   "cell_type": "code",
   "execution_count": 0,
   "metadata": {
    "application/vnd.databricks.v1+cell": {
     "cellMetadata": {
      "byteLimit": 2048000,
      "rowLimit": 10000
     },
     "inputWidgets": {},
     "nuid": "2776e22f-17ac-4894-9161-e78db70304f9",
     "showTitle": false,
     "title": ""
    }
   },
   "outputs": [],
   "source": [
    "w = Window().partitionBy(F.lit('a')).orderBy(F.rand())\n",
    "\n",
    "orcid_names.withColumn(\"row_num\", F.row_number().over(w)) \\\n",
    "    .select('orcid', 'row_num') \\\n",
    "    .coalesce(20).write.mode('overwrite') \\\n",
    "    .parquet(f\"{iteration_save_path}disambiguator_training_data/easy_samples/random_1\")"
   ]
  },
  {
   "cell_type": "code",
   "execution_count": 0,
   "metadata": {
    "application/vnd.databricks.v1+cell": {
     "cellMetadata": {
      "byteLimit": 2048000,
      "rowLimit": 10000
     },
     "inputWidgets": {},
     "nuid": "6cb66242-e2d1-484b-b1c6-4cf6febfc6fc",
     "showTitle": false,
     "title": ""
    }
   },
   "outputs": [],
   "source": [
    "w = Window().partitionBy(F.lit('a')).orderBy(F.rand())\n",
    "\n",
    "orcid_names.withColumn(\"row_num\", F.row_number().over(w)) \\\n",
    "    .select('orcid', 'row_num') \\\n",
    "    .coalesce(20).write.mode('overwrite') \\\n",
    "    .parquet(f\"{iteration_save_path}disambiguator_training_data/easy_samples/random_2\")"
   ]
  },
  {
   "cell_type": "code",
   "execution_count": 0,
   "metadata": {
    "application/vnd.databricks.v1+cell": {
     "cellMetadata": {
      "byteLimit": 2048000,
      "rowLimit": 10000
     },
     "inputWidgets": {},
     "nuid": "b40bb9bd-66c8-4cc1-8c79-8001e44dd35e",
     "showTitle": false,
     "title": ""
    }
   },
   "outputs": [],
   "source": [
    "w = Window().partitionBy(F.lit('a')).orderBy(F.rand())\n",
    "\n",
    "orcid_names.withColumn(\"row_num\", F.row_number().over(w)) \\\n",
    "    .select('orcid', 'row_num') \\\n",
    "    .coalesce(20).write.mode('overwrite') \\\n",
    "    .parquet(f\"{iteration_save_path}disambiguator_training_data/easy_samples/random_3\")"
   ]
  },
  {
   "cell_type": "code",
   "execution_count": 0,
   "metadata": {
    "application/vnd.databricks.v1+cell": {
     "cellMetadata": {
      "byteLimit": 2048000,
      "rowLimit": 10000
     },
     "inputWidgets": {},
     "nuid": "397a9068-e149-4757-a9fb-35c8a3bd55bb",
     "showTitle": false,
     "title": ""
    }
   },
   "outputs": [],
   "source": [
    "orcid_names \\\n",
    "    .filter(~F.col('given_name').isNull()) \\\n",
    "    .filter(~F.col('family_name').isNull()) \\\n",
    "    .groupBy('output_name').agg(F.collect_list(F.col('orcid')).alias('orcids')) \\\n",
    "    .withColumn('orcid_len', F.size(F.col('orcids'))) \\\n",
    "    .filter(F.col('orcid_len')>1) \\\n",
    "    .coalesce(20).write.mode('overwrite') \\\n",
    "    .parquet(f\"{iteration_save_path}disambiguator_training_data/hard_samples/hard_negatives_output_name\")"
   ]
  },
  {
   "cell_type": "code",
   "execution_count": 0,
   "metadata": {
    "application/vnd.databricks.v1+cell": {
     "cellMetadata": {
      "byteLimit": 2048000,
      "rowLimit": 10000
     },
     "inputWidgets": {},
     "nuid": "02bc8c8e-f5a7-495c-9292-d9a2c11c3c5c",
     "showTitle": false,
     "title": ""
    }
   },
   "outputs": [],
   "source": [
    "orcid_names.groupBy('given_name').agg(F.collect_list(F.col('orcid')).alias('orcids')) \\\n",
    "    .withColumn('orcid_len', F.size(F.col('orcids'))) \\\n",
    "    .filter(F.col('orcid_len')>1) \\\n",
    "    .coalesce(20).write.mode('overwrite') \\\n",
    "    .parquet(f\"{iteration_save_path}disambiguator_training_data/hard_samples/hard_negatives_given_name\")"
   ]
  },
  {
   "cell_type": "code",
   "execution_count": 0,
   "metadata": {
    "application/vnd.databricks.v1+cell": {
     "cellMetadata": {
      "byteLimit": 2048000,
      "rowLimit": 10000
     },
     "inputWidgets": {},
     "nuid": "83a6f245-2d71-44b7-8fce-b94fa6ff3faf",
     "showTitle": false,
     "title": ""
    }
   },
   "outputs": [],
   "source": [
    "orcid_names.groupBy('family_name').agg(F.collect_list(F.col('orcid')).alias('orcids')) \\\n",
    "    .withColumn('orcid_len', F.size(F.col('orcids'))) \\\n",
    "    .filter(F.col('orcid_len')>1) \\\n",
    "    .coalesce(20).write.mode('overwrite') \\\n",
    "    .parquet(f\"{iteration_save_path}disambiguator_training_data/hard_samples/hard_negatives_family_name\")"
   ]
  },
  {
   "cell_type": "code",
   "execution_count": 0,
   "metadata": {
    "application/vnd.databricks.v1+cell": {
     "cellMetadata": {
      "byteLimit": 2048000,
      "rowLimit": 10000
     },
     "inputWidgets": {},
     "nuid": "96757d87-b1ab-4571-9f6a-f86d78f39eca",
     "showTitle": false,
     "title": ""
    }
   },
   "outputs": [
    {
     "name": "stdout",
     "output_type": "stream",
     "text": [
      "+-------------------+---------------------------------------------------------------------------------------------------------+---------+\n",
      "|output_name        |orcids                                                                                                   |orcid_len|\n",
      "+-------------------+---------------------------------------------------------------------------------------------------------+---------+\n",
      "|Abbas Jahanara     |[0000-0001-5832-9309, 0000-0003-3027-0119]                                                               |2        |\n",
      "|Aiping Song        |[0000-0001-8981-2213, 0000-0003-3812-6744]                                                               |2        |\n",
      "|António Castanheira|[0000-0002-9811-2961, 0000-0002-4346-2745, 0000-0002-4861-7267]                                          |3        |\n",
      "|Dalya              |[0000-0001-9326-0896, 0000-0001-9222-7285, 0000-0001-9379-2737, 0000-0002-6733-748X]                     |4        |\n",
      "|Daqi Liu           |[0000-0002-0475-581X, 0000-0003-1929-657X]                                                               |2        |\n",
      "|Jianan Zhao        |[0000-0002-1859-3436, 0000-0002-2897-6086, 0000-0002-9743-7588, 0000-0002-8439-1082, 0000-0001-6276-8961]|5        |\n",
      "|Julia Mills        |[0000-0001-9484-6194, 0000-0001-9950-9074]                                                               |2        |\n",
      "|Kamshat Tussupova  |[0000-0001-8005-0371, 0000-0002-5254-3432]                                                               |2        |\n",
      "|Li Haiying         |[0000-0002-5555-6802, 0000-0002-3063-6873]                                                               |2        |\n",
      "|Liene Ozoliņa      |[0000-0002-2541-8169, 0000-0001-6203-7130]                                                               |2        |\n",
      "+-------------------+---------------------------------------------------------------------------------------------------------+---------+\n",
      "only showing top 10 rows\n",
      "\n"
     ]
    }
   ],
   "source": [
    "orcid_names.groupBy('output_name').agg(F.collect_list(F.col('orcid')).alias('orcids')) \\\n",
    "    .withColumn('orcid_len', F.size(F.col('orcids'))) \\\n",
    "    .filter(F.col('orcid_len')>1) \\\n",
    "    .sample(0.001).show(10, truncate=False)"
   ]
  },
  {
   "cell_type": "code",
   "execution_count": 0,
   "metadata": {
    "application/vnd.databricks.v1+cell": {
     "cellMetadata": {},
     "inputWidgets": {},
     "nuid": "222f491e-c526-45bc-acd1-b2afff6c6ade",
     "showTitle": false,
     "title": ""
    }
   },
   "outputs": [],
   "source": []
  },
  {
   "cell_type": "code",
   "execution_count": 0,
   "metadata": {
    "application/vnd.databricks.v1+cell": {
     "cellMetadata": {
      "byteLimit": 2048000,
      "rowLimit": 10000
     },
     "inputWidgets": {},
     "nuid": "0d0eb6d1-2dd3-4e1f-9ead-73bcd5a5028e",
     "showTitle": false,
     "title": ""
    }
   },
   "outputs": [],
   "source": [
    "def get_pair_of_hard_samples_(list_of_like_names):\n",
    "    if len(list_of_like_names) <2:\n",
    "        return []\n",
    "    else:\n",
    "        choice_1 = random.choice(list_of_like_names)\n",
    "        choice_2 = random.choice(list_of_like_names)\n",
    "        if choice_1 == choice_2:\n",
    "            return list_of_like_names[:2]\n",
    "        else:\n",
    "            return [choice_1, choice_2]\n",
    "\n",
    "get_pair_of_hard_samples = F.udf(get_pair_of_hard_samples_, ArrayType(StringType()))"
   ]
  },
  {
   "cell_type": "code",
   "execution_count": 0,
   "metadata": {
    "application/vnd.databricks.v1+cell": {
     "cellMetadata": {
      "byteLimit": 2048000,
      "rowLimit": 10000
     },
     "inputWidgets": {},
     "nuid": "97d690ed-f3fe-4e6a-945c-897371348b01",
     "showTitle": false,
     "title": ""
    }
   },
   "outputs": [],
   "source": [
    "random_1 = spark.read\\\n",
    "    .parquet(f\"{iteration_save_path}disambiguator_training_data/easy_samples/random_1\") \\\n",
    "    .select('row_num',F.col('orcid').alias('orcid_1'))"
   ]
  },
  {
   "cell_type": "code",
   "execution_count": 0,
   "metadata": {
    "application/vnd.databricks.v1+cell": {
     "cellMetadata": {
      "byteLimit": 2048000,
      "rowLimit": 10000
     },
     "inputWidgets": {},
     "nuid": "1463104c-bbe6-4b4d-9305-c2c7005a4d47",
     "showTitle": false,
     "title": ""
    }
   },
   "outputs": [],
   "source": [
    "random_2 = spark.read\\\n",
    "    .parquet(f\"{iteration_save_path}disambiguator_training_data/easy_samples/random_2\") \\\n",
    "    .select('row_num',F.col('orcid').alias('orcid_2'))"
   ]
  },
  {
   "cell_type": "code",
   "execution_count": 0,
   "metadata": {
    "application/vnd.databricks.v1+cell": {
     "cellMetadata": {
      "byteLimit": 2048000,
      "rowLimit": 10000
     },
     "inputWidgets": {},
     "nuid": "6fff778e-be0b-499f-9d3c-2576226ef541",
     "showTitle": false,
     "title": ""
    }
   },
   "outputs": [],
   "source": [
    "random_3 = spark.read\\\n",
    "    .parquet(f\"{iteration_save_path}disambiguator_training_data/easy_samples/random_3\") \\\n",
    "    .select('row_num',F.col('orcid').alias('orcid_3'))"
   ]
  },
  {
   "cell_type": "code",
   "execution_count": 0,
   "metadata": {
    "application/vnd.databricks.v1+cell": {
     "cellMetadata": {
      "byteLimit": 2048000,
      "rowLimit": 10000
     },
     "inputWidgets": {},
     "nuid": "f36c47bd-ca84-439f-a1f8-06d0fdfb838e",
     "showTitle": false,
     "title": ""
    }
   },
   "outputs": [],
   "source": [
    "def turn_into_neg_pair_(num_1, num_2):\n",
    "    return [num_1, num_2]\n",
    "\n",
    "turn_into_neg_pair = F.udf(turn_into_neg_pair_, ArrayType(StringType()))"
   ]
  },
  {
   "cell_type": "code",
   "execution_count": 0,
   "metadata": {
    "application/vnd.databricks.v1+cell": {
     "cellMetadata": {
      "byteLimit": 2048000,
      "rowLimit": 10000
     },
     "inputWidgets": {},
     "nuid": "0d81f036-459e-4aa8-91f3-f315095ed341",
     "showTitle": false,
     "title": ""
    }
   },
   "outputs": [],
   "source": [
    "random_1\\\n",
    "    .join(random_2, how='inner', on='row_num') \\\n",
    "    .join(random_3, how='inner', on='row_num') \\\n",
    "    .withColumn('pair_1', turn_into_neg_pair(F.col('orcid_1'), F.col('orcid_2'))) \\\n",
    "    .withColumn('pair_2', turn_into_neg_pair(F.col('orcid_2'), F.col('orcid_3'))) \\\n",
    "    .withColumn('pair_3', turn_into_neg_pair(F.col('orcid_1'), F.col('orcid_3'))) \\\n",
    "    .select('pair_1','pair_2','pair_3') \\\n",
    "    .coalesce(20).write.mode('overwrite') \\\n",
    "    .parquet(f\"{iteration_save_path}disambiguator_training_data/easy_samples/random_negatives\")"
   ]
  },
  {
   "cell_type": "code",
   "execution_count": 0,
   "metadata": {
    "application/vnd.databricks.v1+cell": {
     "cellMetadata": {
      "byteLimit": 2048000,
      "rowLimit": 10000
     },
     "inputWidgets": {},
     "nuid": "b02af214-8398-410a-a734-10aa3418861a",
     "showTitle": false,
     "title": ""
    }
   },
   "outputs": [
    {
     "name": "stdout",
     "output_type": "stream",
     "text": [
      "Out[4]: 14845875"
     ]
    }
   ],
   "source": [
    "random_1 = spark.read.parquet(f\"{iteration_save_path}disambiguator_training_data/easy_samples/random_negatives\") \\\n",
    "    .select(F.col('pair_1').alias('pairs'), F.lit('random_negative').alias('sample_type'))\n",
    "\n",
    "random_1.cache().count()"
   ]
  },
  {
   "cell_type": "code",
   "execution_count": 0,
   "metadata": {
    "application/vnd.databricks.v1+cell": {
     "cellMetadata": {
      "byteLimit": 2048000,
      "rowLimit": 10000
     },
     "inputWidgets": {},
     "nuid": "1b69f1b3-f590-407b-908e-6578b76a3dfb",
     "showTitle": false,
     "title": ""
    }
   },
   "outputs": [
    {
     "name": "stdout",
     "output_type": "stream",
     "text": [
      "Out[5]: 14845875"
     ]
    }
   ],
   "source": [
    "random_2 = spark.read.parquet(f\"{iteration_save_path}disambiguator_training_data/easy_samples/random_negatives\") \\\n",
    "    .select(F.col('pair_2').alias('pairs'), F.lit('random_negative').alias('sample_type'))\n",
    "\n",
    "random_2.cache().count()"
   ]
  },
  {
   "cell_type": "code",
   "execution_count": 0,
   "metadata": {
    "application/vnd.databricks.v1+cell": {
     "cellMetadata": {
      "byteLimit": 2048000,
      "rowLimit": 10000
     },
     "inputWidgets": {},
     "nuid": "7b0ad6ef-46ce-4492-851d-85b4e1601461",
     "showTitle": false,
     "title": ""
    }
   },
   "outputs": [
    {
     "name": "stdout",
     "output_type": "stream",
     "text": [
      "Out[6]: 14845875"
     ]
    }
   ],
   "source": [
    "random_3 = spark.read.parquet(f\"{iteration_save_path}disambiguator_training_data/easy_samples/random_negatives\") \\\n",
    "    .select(F.col('pair_3').alias('pairs'), F.lit('random_negative').alias('sample_type'))\n",
    "\n",
    "random_3.cache().count()"
   ]
  },
  {
   "cell_type": "code",
   "execution_count": 0,
   "metadata": {
    "application/vnd.databricks.v1+cell": {
     "cellMetadata": {
      "byteLimit": 2048000,
      "rowLimit": 10000
     },
     "inputWidgets": {},
     "nuid": "1126c35c-a37f-485d-97a5-adc176a226fa",
     "showTitle": false,
     "title": ""
    }
   },
   "outputs": [
    {
     "name": "stdout",
     "output_type": "stream",
     "text": [
      "Out[13]: 986832"
     ]
    }
   ],
   "source": [
    "hard_output = spark.read\\\n",
    "    .parquet(f\"{iteration_save_path}disambiguator_training_data/hard_samples/hard_negatives_output_name\") \\\n",
    "    .select(F.col('orcids').alias('pairs'), F.lit('output_negative').alias('sample_type'))\n",
    "hard_output.cache().count()"
   ]
  },
  {
   "cell_type": "code",
   "execution_count": 0,
   "metadata": {
    "application/vnd.databricks.v1+cell": {
     "cellMetadata": {
      "byteLimit": 2048000,
      "rowLimit": 10000
     },
     "inputWidgets": {},
     "nuid": "ba7cac2d-8e0b-4502-b89f-39cda1de2ed7",
     "showTitle": false,
     "title": ""
    }
   },
   "outputs": [
    {
     "name": "stdout",
     "output_type": "stream",
     "text": [
      "Out[14]: 532129"
     ]
    }
   ],
   "source": [
    "hard_given = spark.read\\\n",
    "    .parquet(f\"{iteration_save_path}disambiguator_training_data/hard_samples/hard_negatives_given_name\") \\\n",
    "    .select(F.col('orcids').alias('pairs'), F.lit('given_negative').alias('sample_type'))\n",
    "hard_given.cache().count()"
   ]
  },
  {
   "cell_type": "code",
   "execution_count": 0,
   "metadata": {
    "application/vnd.databricks.v1+cell": {
     "cellMetadata": {
      "byteLimit": 2048000,
      "rowLimit": 10000
     },
     "inputWidgets": {},
     "nuid": "478cb6b0-df39-423d-b98a-a9541c550b2b",
     "showTitle": false,
     "title": ""
    }
   },
   "outputs": [
    {
     "name": "stdout",
     "output_type": "stream",
     "text": [
      "Out[15]: 937638"
     ]
    }
   ],
   "source": [
    "hard_family = spark.read\\\n",
    "    .parquet(f\"{iteration_save_path}disambiguator_training_data/hard_samples/hard_negatives_family_name\") \\\n",
    "    .select(F.col('orcids').alias('pairs'), F.lit('family_negative').alias('sample_type'))\n",
    "hard_family.cache().count()"
   ]
  },
  {
   "cell_type": "code",
   "execution_count": 0,
   "metadata": {
    "application/vnd.databricks.v1+cell": {
     "cellMetadata": {
      "byteLimit": 2048000,
      "rowLimit": 10000
     },
     "inputWidgets": {},
     "nuid": "173d9795-00cc-46cc-ba57-ddfc530b2af7",
     "showTitle": false,
     "title": ""
    }
   },
   "outputs": [],
   "source": [
    "hard_output \\\n",
    "    .union(hard_family.select(*hard_output.columns)) \\\n",
    "    .union(hard_given.select(*hard_output.columns)) \\\n",
    "    .union(random_1.select(*hard_output.columns)) \\\n",
    "    .union(random_2.select(*hard_output.columns)) \\\n",
    "    .union(random_3.select(*hard_output.columns)) \\\n",
    "    .withColumn('final_pair', get_pair_of_hard_samples(F.col('pairs'))) \\\n",
    "        .select('final_pair', 'sample_type') \\\n",
    "    .withColumn('pair_len', F.size(F.col('final_pair'))) \\\n",
    "    .filter(F.col('pair_len')==2) \\\n",
    "    .select('sample_type', F.col('final_pair')[0].alias('orcid_1'), F.col('final_pair')[1].alias('orcid_2')) \\\n",
    "    .write.mode('overwrite') \\\n",
    "    .parquet(f\"{iteration_save_path}disambiguator_training_data/final_negative_sample_orcids\")"
   ]
  },
  {
   "cell_type": "markdown",
   "metadata": {
    "application/vnd.databricks.v1+cell": {
     "cellMetadata": {},
     "inputWidgets": {},
     "nuid": "8292fb3d-1234-424a-b04b-88be71a5c4de",
     "showTitle": false,
     "title": ""
    }
   },
   "source": [
    "### Creating the training data for disambiguator"
   ]
  },
  {
   "cell_type": "markdown",
   "metadata": {
    "application/vnd.databricks.v1+cell": {
     "cellMetadata": {},
     "inputWidgets": {},
     "nuid": "97a740ce-51e6-41bb-87de-483dccd46a5d",
     "showTitle": false,
     "title": ""
    }
   },
   "source": [
    "* join sample data on orcid for first ID\n",
    "* then sample data\n",
    "* join on second ID to first orcid\n",
    "* sample that data one more time\n",
    "* dataset complete (do for both positive and negative)"
   ]
  },
  {
   "cell_type": "code",
   "execution_count": 0,
   "metadata": {
    "application/vnd.databricks.v1+cell": {
     "cellMetadata": {
      "byteLimit": 2048000,
      "rowLimit": 10000
     },
     "inputWidgets": {},
     "nuid": "7681ecc5-91c6-4ba8-942a-43301dba3578",
     "showTitle": false,
     "title": ""
    }
   },
   "outputs": [],
   "source": [
    "w1 = Window().partitionBy('orcid_1').orderBy(F.rand())\n",
    "w2 = Window().partitionBy('orcid_2').orderBy(F.rand())"
   ]
  },
  {
   "cell_type": "code",
   "execution_count": 0,
   "metadata": {
    "application/vnd.databricks.v1+cell": {
     "cellMetadata": {
      "byteLimit": 2048000,
      "rowLimit": 10000
     },
     "inputWidgets": {},
     "nuid": "1ee66a29-8cdd-4be9-9035-aa74c12758d2",
     "showTitle": false,
     "title": ""
    }
   },
   "outputs": [
    {
     "name": "stdout",
     "output_type": "stream",
     "text": [
      "Out[6]: 59383500"
     ]
    }
   ],
   "source": [
    "pos_samples = spark.read.parquet(f\"{iteration_save_path}disambiguator_training_data/final_positive_sample_orcids\")\n",
    "pos_samples.cache().count()"
   ]
  },
  {
   "cell_type": "code",
   "execution_count": 0,
   "metadata": {
    "application/vnd.databricks.v1+cell": {
     "cellMetadata": {
      "byteLimit": 2048000,
      "rowLimit": 10000
     },
     "inputWidgets": {},
     "nuid": "17ef48bc-7cdb-4259-94e6-f78a93b1bf0a",
     "showTitle": false,
     "title": ""
    }
   },
   "outputs": [
    {
     "name": "stdout",
     "output_type": "stream",
     "text": [
      "Out[7]: 46994224"
     ]
    }
   ],
   "source": [
    "neg_samples = spark.read.parquet(f\"{iteration_save_path}disambiguator_training_data/final_negative_sample_orcids\")\n",
    "neg_samples.cache().count()"
   ]
  },
  {
   "cell_type": "code",
   "execution_count": 0,
   "metadata": {
    "application/vnd.databricks.v1+cell": {
     "cellMetadata": {
      "byteLimit": 2048000,
      "rowLimit": 10000
     },
     "inputWidgets": {},
     "nuid": "f20551a8-e20c-4c42-8968-86bff046b8b2",
     "showTitle": false,
     "title": ""
    }
   },
   "outputs": [
    {
     "name": "stdout",
     "output_type": "stream",
     "text": [
      "Out[8]: 190816087"
     ]
    }
   ],
   "source": [
    "dis_data_proc_1 = spark.read.parquet(f\"{iteration_save_path}disambiguator_processed_training_samples\") \\\n",
    "    .select(F.col('work_id').alias('work_id_1'),F.col('orcid').alias('orcid_1'), F.col('new_training_sample').alias('new_training_sample_1'))\n",
    "dis_data_proc_1.cache().count()"
   ]
  },
  {
   "cell_type": "code",
   "execution_count": 0,
   "metadata": {
    "application/vnd.databricks.v1+cell": {
     "cellMetadata": {
      "byteLimit": 2048000,
      "rowLimit": 10000
     },
     "inputWidgets": {},
     "nuid": "bf33ca4c-49b9-4341-8da5-bc955c746bce",
     "showTitle": false,
     "title": ""
    }
   },
   "outputs": [
    {
     "name": "stdout",
     "output_type": "stream",
     "text": [
      "Out[9]: 190816087"
     ]
    }
   ],
   "source": [
    "dis_data_proc_2 = spark.read.parquet(f\"{iteration_save_path}disambiguator_processed_training_samples\") \\\n",
    "    .select(F.col('work_id').alias('work_id_2'),F.col('orcid').alias('orcid_2'), F.col('new_training_sample').alias('new_training_sample_2'))\n",
    "dis_data_proc_2.cache().count()"
   ]
  },
  {
   "cell_type": "code",
   "execution_count": 0,
   "metadata": {
    "application/vnd.databricks.v1+cell": {
     "cellMetadata": {
      "byteLimit": 2048000,
      "rowLimit": 10000
     },
     "inputWidgets": {},
     "nuid": "51d2ceca-4f74-4b34-b901-d81818f03e1c",
     "showTitle": false,
     "title": ""
    }
   },
   "outputs": [],
   "source": [
    "pos_samples \\\n",
    "    .join(dis_data_proc_1, how='inner', on='orcid_1') \\\n",
    "    .withColumn('inst_orc', F.row_number().over(w1)) \\\n",
    "    .filter(F.col('inst_orc')<3) \\\n",
    "    .select('sample_type','orcid_1','orcid_2','work_id_1','new_training_sample_1') \\\n",
    "    .join(dis_data_proc_2, how='inner', on='orcid_2') \\\n",
    "    .withColumn('inst_orc', F.row_number().over(w2)) \\\n",
    "    .filter(F.col('inst_orc')<3) \\\n",
    "    .select('sample_type','orcid_1','orcid_2','work_id_1','work_id_2','new_training_sample_1','new_training_sample_2') \\\n",
    "    .write.mode('overwrite') \\\n",
    "    .parquet(f\"{iteration_save_path}disambiguator_training_data/final_positive_samples\")"
   ]
  },
  {
   "cell_type": "code",
   "execution_count": 0,
   "metadata": {
    "application/vnd.databricks.v1+cell": {
     "cellMetadata": {
      "byteLimit": 2048000,
      "rowLimit": 10000
     },
     "inputWidgets": {},
     "nuid": "ab4b8438-dc0e-424f-903d-0cab5a3d6fb3",
     "showTitle": false,
     "title": ""
    }
   },
   "outputs": [
    {
     "name": "stdout",
     "output_type": "stream",
     "text": [
      "Out[11]: 8845254"
     ]
    }
   ],
   "source": [
    "final_pos_samples = spark.read.parquet(f\"{iteration_save_path}disambiguator_training_data/final_positive_samples\")\n",
    "final_pos_samples.cache().count()"
   ]
  },
  {
   "cell_type": "code",
   "execution_count": 0,
   "metadata": {
    "application/vnd.databricks.v1+cell": {
     "cellMetadata": {
      "byteLimit": 2048000,
      "rowLimit": 10000
     },
     "inputWidgets": {},
     "nuid": "e4a2a42f-0d26-4fcc-9c59-275b265cd919",
     "showTitle": false,
     "title": ""
    }
   },
   "outputs": [],
   "source": [
    "neg_samples \\\n",
    "    .join(dis_data_proc_1, how='inner', on='orcid_1') \\\n",
    "    .withColumn('inst_orc', F.row_number().over(w1)) \\\n",
    "    .filter(F.col('inst_orc')<4) \\\n",
    "    .select('sample_type','orcid_1','orcid_2','work_id_1','new_training_sample_1') \\\n",
    "    .join(dis_data_proc_2, how='inner', on='orcid_2') \\\n",
    "    .withColumn('inst_orc', F.row_number().over(w2)) \\\n",
    "    .filter(F.col('inst_orc')<4) \\\n",
    "    .select('sample_type','orcid_1','orcid_2','work_id_1','work_id_2','new_training_sample_1','new_training_sample_2') \\\n",
    "    .write.mode('overwrite') \\\n",
    "    .parquet(f\"{iteration_save_path}disambiguator_training_data/final_negative_samples\")"
   ]
  },
  {
   "cell_type": "code",
   "execution_count": 0,
   "metadata": {
    "application/vnd.databricks.v1+cell": {
     "cellMetadata": {
      "byteLimit": 2048000,
      "rowLimit": 10000
     },
     "inputWidgets": {},
     "nuid": "9ecdf027-798a-49a2-8052-3be52cf7e2f0",
     "showTitle": false,
     "title": ""
    }
   },
   "outputs": [
    {
     "name": "stdout",
     "output_type": "stream",
     "text": [
      "Out[15]: 6494792"
     ]
    }
   ],
   "source": [
    "final_neg_samples = spark.read.parquet(f\"{iteration_save_path}disambiguator_training_data/final_negative_samples\")\n",
    "final_neg_samples.cache().count()"
   ]
  },
  {
   "cell_type": "code",
   "execution_count": 0,
   "metadata": {
    "application/vnd.databricks.v1+cell": {
     "cellMetadata": {
      "byteLimit": 2048000,
      "rowLimit": 10000
     },
     "inputWidgets": {},
     "nuid": "62140679-c721-41a1-b002-1a6b7454ee28",
     "showTitle": false,
     "title": ""
    }
   },
   "outputs": [],
   "source": [
    "final_pos_samples.union(final_neg_samples.select(*final_pos_samples.columns)).orderBy(F.rand()) \\\n",
    "    .write.mode('overwrite') \\\n",
    "    .parquet(f\"{iteration_save_path}disambiguator_training_data/all_final_sample_data\")"
   ]
  },
  {
   "cell_type": "markdown",
   "metadata": {
    "application/vnd.databricks.v1+cell": {
     "cellMetadata": {},
     "inputWidgets": {},
     "nuid": "4fdd3222-0db4-49f3-8b51-83c0b319551b",
     "showTitle": false,
     "title": ""
    }
   },
   "source": [
    "### Train, Val, Test"
   ]
  },
  {
   "cell_type": "code",
   "execution_count": 0,
   "metadata": {
    "application/vnd.databricks.v1+cell": {
     "cellMetadata": {
      "byteLimit": 2048000,
      "rowLimit": 10000
     },
     "inputWidgets": {},
     "nuid": "c9817998-0d59-449b-9328-b9d1750a3844",
     "showTitle": false,
     "title": ""
    }
   },
   "outputs": [
    {
     "name": "stdout",
     "output_type": "stream",
     "text": [
      "Out[17]: 15340046"
     ]
    }
   ],
   "source": [
    "all_sample_data = spark.read.parquet(f\"{iteration_save_path}disambiguator_training_data/all_final_sample_data\")\n",
    "all_sample_data.cache().count()"
   ]
  },
  {
   "cell_type": "code",
   "execution_count": 0,
   "metadata": {
    "application/vnd.databricks.v1+cell": {
     "cellMetadata": {
      "byteLimit": 2048000,
      "rowLimit": 10000
     },
     "inputWidgets": {},
     "nuid": "d760abda-2361-422c-b849-06e397f166f3",
     "showTitle": false,
     "title": ""
    }
   },
   "outputs": [
    {
     "name": "stdout",
     "output_type": "stream",
     "text": [
      "+---------------+-------+\n",
      "|    sample_type|  count|\n",
      "+---------------+-------+\n",
      "|       positive|8845254|\n",
      "|family_negative| 149869|\n",
      "|output_negative| 140818|\n",
      "|random_negative|6146597|\n",
      "| given_negative|  57508|\n",
      "+---------------+-------+\n",
      "\n"
     ]
    }
   ],
   "source": [
    "all_sample_data.groupBy('sample_type').count().show()"
   ]
  },
  {
   "cell_type": "code",
   "execution_count": 0,
   "metadata": {
    "application/vnd.databricks.v1+cell": {
     "cellMetadata": {
      "byteLimit": 2048000,
      "rowLimit": 10000
     },
     "inputWidgets": {},
     "nuid": "4ad57ea6-6bb6-487e-a28c-4b123e50e665",
     "showTitle": false,
     "title": ""
    }
   },
   "outputs": [],
   "source": [
    "train, val, test = all_sample_data.randomSplit([0.998, 0.001, 0.001], seed=0)"
   ]
  },
  {
   "cell_type": "code",
   "execution_count": 0,
   "metadata": {
    "application/vnd.databricks.v1+cell": {
     "cellMetadata": {
      "byteLimit": 2048000,
      "rowLimit": 10000
     },
     "inputWidgets": {},
     "nuid": "0ebb213e-4926-4fd5-88b9-8dab5a88c134",
     "showTitle": false,
     "title": ""
    }
   },
   "outputs": [],
   "source": [
    "val_df = val.toPandas()"
   ]
  },
  {
   "cell_type": "code",
   "execution_count": 0,
   "metadata": {
    "application/vnd.databricks.v1+cell": {
     "cellMetadata": {
      "byteLimit": 2048000,
      "rowLimit": 10000
     },
     "inputWidgets": {},
     "nuid": "75464588-6e95-40dc-850d-179bbe2be513",
     "showTitle": false,
     "title": ""
    }
   },
   "outputs": [],
   "source": [
    "test_df = test.toPandas()"
   ]
  },
  {
   "cell_type": "code",
   "execution_count": 0,
   "metadata": {
    "application/vnd.databricks.v1+cell": {
     "cellMetadata": {
      "byteLimit": 2048000,
      "rowLimit": 10000
     },
     "inputWidgets": {},
     "nuid": "4e03966f-f960-4451-aff6-7f2f762e685a",
     "showTitle": false,
     "title": ""
    }
   },
   "outputs": [
    {
     "name": "stdout",
     "output_type": "stream",
     "text": [
      "Out[37]: 43725"
     ]
    }
   ],
   "source": [
    "orcids_to_skip = list(set(val_df['orcid_1'].tolist() + val_df['orcid_2'].tolist() + test_df['orcid_1'].tolist() + test_df['orcid_2'].tolist()))\n",
    "len(orcids_to_skip)"
   ]
  },
  {
   "cell_type": "code",
   "execution_count": 0,
   "metadata": {
    "application/vnd.databricks.v1+cell": {
     "cellMetadata": {
      "byteLimit": 2048000,
      "rowLimit": 10000
     },
     "inputWidgets": {},
     "nuid": "7fe0ed74-71e4-49a7-ba4d-34855533a611",
     "showTitle": false,
     "title": ""
    }
   },
   "outputs": [],
   "source": [
    "train \\\n",
    "    .filter(~F.col('orcid_1').isin(orcids_to_skip)) \\\n",
    "    .filter(~F.col('orcid_2').isin(orcids_to_skip)) \\\n",
    "    .orderBy(F.rand()).write.mode('overwrite') \\\n",
    "    .parquet(f\"{iteration_save_path}disambiguator_training_data/training_data/train\")"
   ]
  },
  {
   "cell_type": "code",
   "execution_count": 0,
   "metadata": {
    "application/vnd.databricks.v1+cell": {
     "cellMetadata": {
      "byteLimit": 2048000,
      "rowLimit": 10000
     },
     "inputWidgets": {},
     "nuid": "2247d7d7-9783-493c-a985-b70d12768e68",
     "showTitle": false,
     "title": ""
    }
   },
   "outputs": [],
   "source": [
    "val.orderBy(F.rand()).write.mode('overwrite') \\\n",
    "    .parquet(f\"{iteration_save_path}disambiguator_training_data/training_data/val\")"
   ]
  },
  {
   "cell_type": "code",
   "execution_count": 0,
   "metadata": {
    "application/vnd.databricks.v1+cell": {
     "cellMetadata": {
      "byteLimit": 2048000,
      "rowLimit": 10000
     },
     "inputWidgets": {},
     "nuid": "f8b05080-7995-4867-a377-107b2601744b",
     "showTitle": false,
     "title": ""
    }
   },
   "outputs": [],
   "source": [
    "test.orderBy(F.rand()).write.mode('overwrite') \\\n",
    "    .parquet(f\"{iteration_save_path}disambiguator_training_data/training_data/test\")"
   ]
  },
  {
   "cell_type": "code",
   "execution_count": 0,
   "metadata": {
    "application/vnd.databricks.v1+cell": {
     "cellMetadata": {
      "byteLimit": 2048000,
      "rowLimit": 10000
     },
     "inputWidgets": {},
     "nuid": "2fe7e268-7656-49b7-8832-4c47f06ac36a",
     "showTitle": false,
     "title": ""
    }
   },
   "outputs": [
    {
     "name": "stdout",
     "output_type": "stream",
     "text": [
      "Out[41]: 15114415"
     ]
    }
   ],
   "source": [
    "spark.read.parquet(f\"{iteration_save_path}disambiguator_training_data/training_data/train\").count()"
   ]
  },
  {
   "cell_type": "code",
   "execution_count": 0,
   "metadata": {
    "application/vnd.databricks.v1+cell": {
     "cellMetadata": {
      "byteLimit": 2048000,
      "rowLimit": 10000
     },
     "inputWidgets": {},
     "nuid": "afb97367-41ee-4760-807e-3ce65bd2b031",
     "showTitle": false,
     "title": ""
    }
   },
   "outputs": [
    {
     "name": "stdout",
     "output_type": "stream",
     "text": [
      "Out[42]: 15355"
     ]
    }
   ],
   "source": [
    "spark.read.parquet(f\"{iteration_save_path}disambiguator_training_data/training_data/val\").count()"
   ]
  },
  {
   "cell_type": "code",
   "execution_count": 0,
   "metadata": {
    "application/vnd.databricks.v1+cell": {
     "cellMetadata": {
      "byteLimit": 2048000,
      "rowLimit": 10000
     },
     "inputWidgets": {},
     "nuid": "f80dee72-5f42-4899-ac67-5db17311e149",
     "showTitle": false,
     "title": ""
    }
   },
   "outputs": [
    {
     "name": "stdout",
     "output_type": "stream",
     "text": [
      "Out[43]: 15471"
     ]
    }
   ],
   "source": [
    "spark.read.parquet(f\"{iteration_save_path}disambiguator_training_data/training_data/test\").count()"
   ]
  },
  {
   "cell_type": "code",
   "execution_count": 0,
   "metadata": {
    "application/vnd.databricks.v1+cell": {
     "cellMetadata": {},
     "inputWidgets": {},
     "nuid": "0b969fba-ce95-41c7-a263-4cd9053721f3",
     "showTitle": false,
     "title": ""
    }
   },
   "outputs": [],
   "source": []
  }
 ],
 "metadata": {
  "application/vnd.databricks.v1+notebook": {
   "dashboards": [],
   "language": "python",
   "notebookMetadata": {
    "pythonIndentUnit": 4
   },
   "notebookName": "name_embedding_disam_data_creation_hard_samples",
   "notebookOrigID": 336798386597758,
   "widgets": {}
  },
  "kernelspec": {
   "display_name": "Python 3 (ipykernel)",
   "language": "python",
   "name": "python3"
  },
  "language_info": {
   "codemirror_mode": {
    "name": "ipython",
    "version": 3
   },
   "file_extension": ".py",
   "mimetype": "text/x-python",
   "name": "python",
   "nbconvert_exporter": "python",
   "pygments_lexer": "ipython3",
   "version": "3.8.12"
  }
 },
 "nbformat": 4,
 "nbformat_minor": 1
}
