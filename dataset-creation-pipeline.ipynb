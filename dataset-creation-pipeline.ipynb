{
 "cells": [
  {
   "cell_type": "code",
   "execution_count": 93,
   "metadata": {},
   "outputs": [],
   "source": [
    "import requests\n",
    "import csv\n",
    "import pandas as pd"
   ]
  },
  {
   "cell_type": "markdown",
   "metadata": {},
   "source": [
    "# Get Data from API"
   ]
  },
  {
   "cell_type": "code",
   "execution_count": null,
   "metadata": {},
   "outputs": [],
   "source": [
    "# Define the base URL for OpenAlex API works endpoint with a larger per-page limit\n",
    "base_url = \"https://api.openalex.org/works?select=authorships&per-page=200\""
   ]
  },
  {
   "cell_type": "code",
   "execution_count": null,
   "metadata": {},
   "outputs": [],
   "source": [
    "# Send request to OpenAlex API\n",
    "response = requests.get(base_url)\n",
    "\n",
    "if response.status_code != 200:\n",
    "    print(f\"Error: {response.status_code}\")"
   ]
  },
  {
   "cell_type": "code",
   "execution_count": 96,
   "metadata": {},
   "outputs": [],
   "source": [
    "data = response.json()\n",
    "results = data.get(\"results\", [])"
   ]
  },
  {
   "cell_type": "code",
   "execution_count": 97,
   "metadata": {},
   "outputs": [],
   "source": [
    "# List to hold data for DataFrame\n",
    "rows = []"
   ]
  },
  {
   "cell_type": "code",
   "execution_count": 98,
   "metadata": {},
   "outputs": [],
   "source": [
    "for work in results:\n",
    "    authorships = work.get(\"authorships\", [])\n",
    "    \n",
    "    if not authorships:\n",
    "        continue\n",
    "    \n",
    "    # Extract first author\n",
    "    first_author = authorships[0]\n",
    "    name = first_author[\"author\"].get(\"display_name\", \"Unknown\")\n",
    "    orcid = first_author[\"author\"].get(\"orcid\", \"N/A\")\n",
    "    institution = (\n",
    "        first_author[\"institutions\"][0][\"display_name\"]\n",
    "        if first_author.get(\"institutions\") else \"Unknown\"\n",
    "    )\n",
    "    \n",
    "    # Extract coauthors (middle and last authors)\n",
    "    coauthors = [auth[\"author\"].get(\"display_name\", \"Unknown\") for auth in authorships[1:]]\n",
    "    coauthors_str = \", \".join(coauthors) if coauthors else \"N/A\"\n",
    "    \n",
    "    # Append data to rows list\n",
    "    rows.append({\n",
    "        'Name': name,\n",
    "        'Orcid': orcid,\n",
    "        'Institution': institution,\n",
    "        'Coauthors': coauthors_str\n",
    "    })\n"
   ]
  },
  {
   "cell_type": "code",
   "execution_count": 99,
   "metadata": {},
   "outputs": [],
   "source": [
    "# Create DataFrame\n",
    "df = pd.DataFrame(rows)"
   ]
  },
  {
   "cell_type": "code",
   "execution_count": 100,
   "metadata": {},
   "outputs": [],
   "source": [
    "# Save DataFrame to CSV\n",
    "df.to_csv('alldata-csv.csv', index=False)"
   ]
  },
  {
   "cell_type": "code",
   "execution_count": 101,
   "metadata": {},
   "outputs": [
    {
     "name": "stdout",
     "output_type": "stream",
     "text": [
      "                   Name                                  Orcid  \\\n",
      "0        OliverH. Lowry                                   None   \n",
      "1           R Core Team                                   None   \n",
      "2     Ulrich K. Laemmli                                   None   \n",
      "3      Mark A. Bradford  https://orcid.org/0000-0002-2022-8331   \n",
      "4    Marion M. Bradford                                   None   \n",
      "..                  ...                                    ...   \n",
      "189   Nitish Srivastava  https://orcid.org/0000-0002-3442-5352   \n",
      "190    Barney G. Glaser                                   None   \n",
      "191  Zbyszek Otwinowski  https://orcid.org/0000-0003-3640-8545   \n",
      "192     David P. Bartel  https://orcid.org/0000-0002-3872-2856   \n",
      "193        John E. Ware  https://orcid.org/0000-0002-0744-2149   \n",
      "\n",
      "                                     Institution  \\\n",
      "0             Washington University in St. Louis   \n",
      "1                                        Unknown   \n",
      "2            MRC Laboratory of Molecular Biology   \n",
      "3                          University of Georgia   \n",
      "4                          University of Georgia   \n",
      "..                                           ...   \n",
      "189                        University of Toronto   \n",
      "190                     New Haven Public Schools   \n",
      "191                                      Unknown   \n",
      "192  Whitehead Institute for Biomedical Research   \n",
      "193                                      Unknown   \n",
      "\n",
      "                                             Coauthors  \n",
      "0           NiraJ. Rosebrough, A. Farr, RoseJ. Randall  \n",
      "1                                                  N/A  \n",
      "2                                                  N/A  \n",
      "3                                                  N/A  \n",
      "4                                                  N/A  \n",
      "..                                                 ...  \n",
      "189  Geoffrey E. Hinton, Alex Krizhevsky, Ilya Suts...  \n",
      "190              Anselm L. Strauss, Elizabeth Strutzel  \n",
      "191                                           W. Minor  \n",
      "192                                                N/A  \n",
      "193                                Cathy D. Sherbourne  \n",
      "\n",
      "[194 rows x 4 columns]\n"
     ]
    }
   ],
   "source": [
    "# Display the DataFrame\n",
    "print(df)"
   ]
  },
  {
   "cell_type": "markdown",
   "metadata": {},
   "source": [
    "# Refine Dataset"
   ]
  },
  {
   "cell_type": "markdown",
   "metadata": {},
   "source": [
    "## Split into known and unknown ORCID"
   ]
  },
  {
   "cell_type": "code",
   "execution_count": 102,
   "metadata": {},
   "outputs": [],
   "source": [
    "# Refine Dataset\n",
    "authors_with_orcid = df[df['Orcid'].notna() & (df['Orcid'] != \"N/A\")]\n",
    "authors_without_orcid = df[df['Orcid'].isna() | (df['Orcid'] == \"N/A\")]\n",
    "\n",
    "authors_with_orcid.to_csv('authors_with_orcid.csv', index=False)\n",
    "authors_without_orcid.to_csv('authors_without_orcid.csv', index=False)"
   ]
  },
  {
   "cell_type": "code",
   "execution_count": 103,
   "metadata": {},
   "outputs": [
    {
     "name": "stdout",
     "output_type": "stream",
     "text": [
      "                       Name                                  Orcid  \\\n",
      "3          Mark A. Bradford  https://orcid.org/0000-0002-2022-8331   \n",
      "5                Kaiming He  https://orcid.org/0000-0001-7318-9658   \n",
      "6            John P. Perdew  https://orcid.org/0000-0003-4237-824X   \n",
      "7          Kenneth J. Livak  https://orcid.org/0000-0001-9105-5856   \n",
      "8            Virginia Braun  https://orcid.org/0000-0002-3435-091X   \n",
      "..                      ...                                    ...   \n",
      "186  Albert‐László Barabási  https://orcid.org/0000-0002-4028-3522   \n",
      "189       Nitish Srivastava  https://orcid.org/0000-0002-3442-5352   \n",
      "191      Zbyszek Otwinowski  https://orcid.org/0000-0003-3640-8545   \n",
      "192         David P. Bartel  https://orcid.org/0000-0002-3872-2856   \n",
      "193            John E. Ware  https://orcid.org/0000-0002-0744-2149   \n",
      "\n",
      "                                     Institution  \\\n",
      "3                          University of Georgia   \n",
      "5            Microsoft Research (United Kingdom)   \n",
      "6                              Tulane University   \n",
      "7                                        Unknown   \n",
      "8                         University of Auckland   \n",
      "..                                           ...   \n",
      "186                     University of Notre Dame   \n",
      "189                        University of Toronto   \n",
      "191                                      Unknown   \n",
      "192  Whitehead Institute for Biomedical Research   \n",
      "193                                      Unknown   \n",
      "\n",
      "                                             Coauthors  \n",
      "3                                                  N/A  \n",
      "5                Xiangyu Zhang, Shaoqing Ren, Jian Sun  \n",
      "6                     Kieron Burke, Matthias Ernzerhof  \n",
      "7                                 Thomas D. Schmittgen  \n",
      "8                                      Victoria Clarke  \n",
      "..                                                 ...  \n",
      "186                                        Réka Albert  \n",
      "189  Geoffrey E. Hinton, Alex Krizhevsky, Ilya Suts...  \n",
      "191                                           W. Minor  \n",
      "192                                                N/A  \n",
      "193                                Cathy D. Sherbourne  \n",
      "\n",
      "[95 rows x 4 columns]\n"
     ]
    }
   ],
   "source": [
    "print(authors_with_orcid)"
   ]
  },
  {
   "cell_type": "code",
   "execution_count": 104,
   "metadata": {},
   "outputs": [
    {
     "name": "stdout",
     "output_type": "stream",
     "text": [
      "                       Name Orcid  \\\n",
      "0            OliverH. Lowry  None   \n",
      "1               R Core Team  None   \n",
      "2         Ulrich K. Laemmli  None   \n",
      "4        Marion M. Bradford  None   \n",
      "9           Joseph Sambrook  None   \n",
      "..                      ...   ...   \n",
      "184               Venkatesh  None   \n",
      "185  Laurens van der Maaten  None   \n",
      "187         Daniel Kahneman  None   \n",
      "188            Da Wei Huang  None   \n",
      "190        Barney G. Glaser  None   \n",
      "\n",
      "                                           Institution  \\\n",
      "0                   Washington University in St. Louis   \n",
      "1                                              Unknown   \n",
      "2                  MRC Laboratory of Molecular Biology   \n",
      "4                                University of Georgia   \n",
      "9                                              Unknown   \n",
      "..                                                 ...   \n",
      "184               University of Maryland, College Park   \n",
      "185                                            Unknown   \n",
      "187                     University of British Columbia   \n",
      "188  Science Applications International Corporation...   \n",
      "190                           New Haven Public Schools   \n",
      "\n",
      "                                      Coauthors  \n",
      "0    NiraJ. Rosebrough, A. Farr, RoseJ. Randall  \n",
      "1                                           N/A  \n",
      "2                                           N/A  \n",
      "4                                           N/A  \n",
      "9               Elisabeth Fritsch, Tom Maniatis  \n",
      "..                                          ...  \n",
      "184                 Jeremy Morris, Davis, Davis  \n",
      "185                          Geoffrey E. Hinton  \n",
      "187                                Amos Tversky  \n",
      "188        Brad T. Sherman, Richard A. Lempicki  \n",
      "190       Anselm L. Strauss, Elizabeth Strutzel  \n",
      "\n",
      "[99 rows x 4 columns]\n"
     ]
    }
   ],
   "source": [
    "print(authors_without_orcid)"
   ]
  },
  {
   "cell_type": "code",
   "execution_count": 105,
   "metadata": {},
   "outputs": [],
   "source": [
    "authors_with_orcid.to_csv('withorcid-csv.csv', index=False)\n",
    "authors_without_orcid.to_csv('withoutorcid-csv.csv', index=False)"
   ]
  },
  {
   "cell_type": "code",
   "execution_count": null,
   "metadata": {},
   "outputs": [],
   "source": []
  }
 ],
 "metadata": {
  "kernelspec": {
   "display_name": ".venv",
   "language": "python",
   "name": "python3"
  },
  "language_info": {
   "codemirror_mode": {
    "name": "ipython",
    "version": 3
   },
   "file_extension": ".py",
   "mimetype": "text/x-python",
   "name": "python",
   "nbconvert_exporter": "python",
   "pygments_lexer": "ipython3",
   "version": "3.11.9"
  }
 },
 "nbformat": 4,
 "nbformat_minor": 2
}
