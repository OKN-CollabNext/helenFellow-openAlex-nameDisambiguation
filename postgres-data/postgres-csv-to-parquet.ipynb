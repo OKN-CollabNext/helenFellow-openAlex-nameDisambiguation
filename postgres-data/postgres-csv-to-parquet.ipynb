{
 "cells": [
  {
   "cell_type": "code",
   "execution_count": 1,
   "metadata": {},
   "outputs": [],
   "source": [
    "import pandas as pd\n",
    "import os\n",
    "from pathlib import Path"
   ]
  },
  {
   "cell_type": "markdown",
   "metadata": {},
   "source": [
    "### provide files to process"
   ]
  },
  {
   "cell_type": "code",
   "execution_count": 2,
   "metadata": {},
   "outputs": [],
   "source": [
    "# Choose your Parquet engine: \"pyarrow\" or \"fastparquet\"\n",
    "parquet_engine = 'pyarrow'\n",
    "\n",
    "# Get the current working directory\n",
    "cwd = Path.cwd()"
   ]
  },
  {
   "cell_type": "markdown",
   "metadata": {},
   "source": [
    "### process file"
   ]
  },
  {
   "cell_type": "code",
   "execution_count": 3,
   "metadata": {},
   "outputs": [
    {
     "name": "stdout",
     "output_type": "stream",
     "text": [
      "Converted 'pairs_5000_0-8.csv' to 'pairs_5000_0-8.parquet'\n",
      "Converted 'pairs_5000_0-6.csv' to 'pairs_5000_0-6.parquet'\n",
      "Converted 'authors_data_5000.csv' to 'authors_data_5000.parquet'\n",
      "Converted 'pairs_5000_0-7.csv' to 'pairs_5000_0-7.parquet'\n",
      "Converted 'authors_data_10000.csv' to 'authors_data_10000.parquet'\n"
     ]
    }
   ],
   "source": [
    "# Loop through all CSV files in the directory\n",
    "for csv_file in cwd.glob(\"*.csv\"):\n",
    "    # Define the output Parquet file path\n",
    "    parquet_file = csv_file.with_suffix(\".parquet\")\n",
    "    \n",
    "    try:\n",
    "        # Read CSV into DataFrame\n",
    "        df = pd.read_csv(csv_file)\n",
    "        \n",
    "        # Write DataFrame to Parquet\n",
    "        df.to_parquet(parquet_file, engine=parquet_engine)\n",
    "        \n",
    "        print(f\"Converted '{csv_file.name}' to '{parquet_file.name}'\")\n",
    "    except Exception as e:\n",
    "        print(f\"Failed to convert '{csv_file.name}': {e}\")"
   ]
  }
 ],
 "metadata": {
  "kernelspec": {
   "display_name": "base",
   "language": "python",
   "name": "python3"
  },
  "language_info": {
   "codemirror_mode": {
    "name": "ipython",
    "version": 3
   },
   "file_extension": ".py",
   "mimetype": "text/x-python",
   "name": "python",
   "nbconvert_exporter": "python",
   "pygments_lexer": "ipython3",
   "version": "3.8.3"
  }
 },
 "nbformat": 4,
 "nbformat_minor": 2
}
