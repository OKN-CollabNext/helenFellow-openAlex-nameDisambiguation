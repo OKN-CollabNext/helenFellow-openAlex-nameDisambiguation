{
 "cells": [
  {
   "cell_type": "code",
   "execution_count": 22,
   "metadata": {},
   "outputs": [],
   "source": [
    "import pandas as pd\n",
    "import random\n",
    "from difflib import SequenceMatcher\n",
    "from tqdm import tqdm"
   ]
  },
  {
   "cell_type": "code",
   "execution_count": 23,
   "metadata": {},
   "outputs": [],
   "source": [
    "\n",
    "# ---- Parameters ----\n",
    "INPUT_PARQUET = \"authors_data_10000.parquet\"\n",
    "OUTPUT_CSV = \"pairs_10000_0-65.csv\"\n",
    "NAME_SIM_THRESHOLD = 0.65  # synthetic same-author similarity threshold"
   ]
  },
  {
   "cell_type": "code",
   "execution_count": 24,
   "metadata": {},
   "outputs": [],
   "source": [
    "def name_similarity(name1, name2):\n",
    "    return SequenceMatcher(None, name1.lower(), name2.lower()).ratio()\n"
   ]
  },
  {
   "cell_type": "code",
   "execution_count": 25,
   "metadata": {},
   "outputs": [],
   "source": [
    "def generate_pairs(df, name_sim_threshold=NAME_SIM_THRESHOLD):\n",
    "    pairs = []\n",
    "\n",
    "    print(\"Generating same-author (synthetic) pairs...\")\n",
    "    for i, row1 in tqdm(df.iterrows(), total=len(df)):\n",
    "        for j, row2 in df.iterrows():\n",
    "            if i >= j:\n",
    "                continue\n",
    "            sim = name_similarity(row1['author'], row2['author'])\n",
    "            if sim >= name_sim_threshold:\n",
    "                pairs.append({\n",
    "                    \"author_id_1\": row1[\"author_id\"],\n",
    "                    \"author_id_2\": row2[\"author_id\"],\n",
    "                    \"same_author\": 1\n",
    "                })\n",
    "\n",
    "    print(\"Generating different-author (negative) pairs...\")\n",
    "    author_ids = df[\"author_id\"].tolist()\n",
    "    for _ in tqdm(range(len(pairs))):\n",
    "        a1, a2 = random.sample(author_ids, 2)\n",
    "        if a1 != a2:\n",
    "            pairs.append({\n",
    "                \"author_id_1\": a1,\n",
    "                \"author_id_2\": a2,\n",
    "                \"same_author\": 0\n",
    "            })\n",
    "\n",
    "    return pd.DataFrame(pairs)"
   ]
  },
  {
   "cell_type": "code",
   "execution_count": 26,
   "metadata": {},
   "outputs": [
    {
     "name": "stderr",
     "output_type": "stream",
     "text": [
      "  0%|          | 2/1699 [00:00<02:10, 13.00it/s]"
     ]
    },
    {
     "name": "stdout",
     "output_type": "stream",
     "text": [
      "Reading author data from: authors_data_10000.parquet\n",
      "Generating labeled pairs...\n",
      "Generating same-author (synthetic) pairs...\n"
     ]
    },
    {
     "name": "stderr",
     "output_type": "stream",
     "text": [
      "100%|██████████| 1699/1699 [01:23<00:00, 20.43it/s]\n",
      "100%|██████████| 693/693 [00:00<00:00, 703960.44it/s]"
     ]
    },
    {
     "name": "stdout",
     "output_type": "stream",
     "text": [
      "Generating different-author (negative) pairs...\n",
      "Saving to: pairs_10000_0-65.csv\n",
      "Done. 1386 pairs saved.\n"
     ]
    },
    {
     "name": "stderr",
     "output_type": "stream",
     "text": [
      "\n"
     ]
    }
   ],
   "source": [
    "if __name__ == \"__main__\":\n",
    "    print(f\"Reading author data from: {INPUT_PARQUET}\")\n",
    "    df = pd.read_parquet(INPUT_PARQUET)\n",
    "\n",
    "    print(\"Generating labeled pairs...\")\n",
    "    pairs_df = generate_pairs(df)\n",
    "\n",
    "    print(f\"Saving to: {OUTPUT_CSV}\")\n",
    "    pairs_df.to_csv(OUTPUT_CSV, index=False)\n",
    "    print(f\"Done. {len(pairs_df)} pairs saved.\")"
   ]
  }
 ],
 "metadata": {
  "kernelspec": {
   "display_name": "base",
   "language": "python",
   "name": "python3"
  },
  "language_info": {
   "codemirror_mode": {
    "name": "ipython",
    "version": 3
   },
   "file_extension": ".py",
   "mimetype": "text/x-python",
   "name": "python",
   "nbconvert_exporter": "python",
   "pygments_lexer": "ipython3",
   "version": "3.8.3"
  }
 },
 "nbformat": 4,
 "nbformat_minor": 2
}
