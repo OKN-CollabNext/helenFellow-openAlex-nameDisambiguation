{
 "cells": [
  {
   "cell_type": "code",
   "execution_count": 9,
   "metadata": {},
   "outputs": [],
   "source": [
    "import os\n",
    "import pandas as pd\n",
    "import matplotlib.pyplot as plt"
   ]
  },
  {
   "cell_type": "code",
   "execution_count": 10,
   "metadata": {},
   "outputs": [],
   "source": [
    "# Specify the columns to sort by\n",
    "columns_to_sort = [\n",
    "    'inst_match', 'inst_sum', 'concepts_shortest_match', 'concepts_shortest_sum',\n",
    "    'concepts_shorter_match', 'concepts_shorter_sum', 'concepts_match', 'concepts_sum',\n",
    "    'coauthors_shorter_match', 'coauthors_shorter_sum', 'coauthors_match', 'coauthors_sum',\n",
    "    'citation_match', 'citation_sum', 'citation_work_match', 'name_1_len', 'name_1_spaces',\n",
    "    'exact_match_len', 'exact_match_spaces', 'inst_per'\n",
    "]"
   ]
  },
  {
   "cell_type": "code",
   "execution_count": 11,
   "metadata": {},
   "outputs": [],
   "source": [
    "# Create a directory for output files if not exist\n",
    "output_directory = '/data/disambiguation/mtg2/rachel_test_scripts/output_data/final_val_data_stats'\n",
    "if not os.path.exists(output_directory):\n",
    "    os.makedirs(output_directory)"
   ]
  },
  {
   "cell_type": "code",
   "execution_count": 12,
   "metadata": {},
   "outputs": [
    {
     "name": "stdout",
     "output_type": "stream",
     "text": [
      "Processing file: /data/disambiguation/mtg2/parquet_data/Disambiguator_final_val_data.parquet\n",
      "Sorted inst_match and saved to /data/disambiguation/mtg2/rachel_test_scripts/output_data/final_val_data_stats/Disambiguator_final_val_data_inst_match_sorted.csv\n",
      "Sorted inst_sum and saved to /data/disambiguation/mtg2/rachel_test_scripts/output_data/final_val_data_stats/Disambiguator_final_val_data_inst_sum_sorted.csv\n",
      "Sorted concepts_shortest_match and saved to /data/disambiguation/mtg2/rachel_test_scripts/output_data/final_val_data_stats/Disambiguator_final_val_data_concepts_shortest_match_sorted.csv\n",
      "Sorted concepts_shortest_sum and saved to /data/disambiguation/mtg2/rachel_test_scripts/output_data/final_val_data_stats/Disambiguator_final_val_data_concepts_shortest_sum_sorted.csv\n",
      "Sorted concepts_shorter_match and saved to /data/disambiguation/mtg2/rachel_test_scripts/output_data/final_val_data_stats/Disambiguator_final_val_data_concepts_shorter_match_sorted.csv\n",
      "Sorted concepts_shorter_sum and saved to /data/disambiguation/mtg2/rachel_test_scripts/output_data/final_val_data_stats/Disambiguator_final_val_data_concepts_shorter_sum_sorted.csv\n",
      "Sorted concepts_match and saved to /data/disambiguation/mtg2/rachel_test_scripts/output_data/final_val_data_stats/Disambiguator_final_val_data_concepts_match_sorted.csv\n",
      "Sorted concepts_sum and saved to /data/disambiguation/mtg2/rachel_test_scripts/output_data/final_val_data_stats/Disambiguator_final_val_data_concepts_sum_sorted.csv\n",
      "Sorted coauthors_shorter_match and saved to /data/disambiguation/mtg2/rachel_test_scripts/output_data/final_val_data_stats/Disambiguator_final_val_data_coauthors_shorter_match_sorted.csv\n",
      "Sorted coauthors_shorter_sum and saved to /data/disambiguation/mtg2/rachel_test_scripts/output_data/final_val_data_stats/Disambiguator_final_val_data_coauthors_shorter_sum_sorted.csv\n",
      "Sorted coauthors_match and saved to /data/disambiguation/mtg2/rachel_test_scripts/output_data/final_val_data_stats/Disambiguator_final_val_data_coauthors_match_sorted.csv\n",
      "Sorted coauthors_sum and saved to /data/disambiguation/mtg2/rachel_test_scripts/output_data/final_val_data_stats/Disambiguator_final_val_data_coauthors_sum_sorted.csv\n",
      "Sorted citation_match and saved to /data/disambiguation/mtg2/rachel_test_scripts/output_data/final_val_data_stats/Disambiguator_final_val_data_citation_match_sorted.csv\n",
      "Sorted citation_sum and saved to /data/disambiguation/mtg2/rachel_test_scripts/output_data/final_val_data_stats/Disambiguator_final_val_data_citation_sum_sorted.csv\n",
      "Sorted citation_work_match and saved to /data/disambiguation/mtg2/rachel_test_scripts/output_data/final_val_data_stats/Disambiguator_final_val_data_citation_work_match_sorted.csv\n",
      "Sorted name_1_len and saved to /data/disambiguation/mtg2/rachel_test_scripts/output_data/final_val_data_stats/Disambiguator_final_val_data_name_1_len_sorted.csv\n",
      "Sorted name_1_spaces and saved to /data/disambiguation/mtg2/rachel_test_scripts/output_data/final_val_data_stats/Disambiguator_final_val_data_name_1_spaces_sorted.csv\n",
      "Sorted exact_match_len and saved to /data/disambiguation/mtg2/rachel_test_scripts/output_data/final_val_data_stats/Disambiguator_final_val_data_exact_match_len_sorted.csv\n",
      "Sorted exact_match_spaces and saved to /data/disambiguation/mtg2/rachel_test_scripts/output_data/final_val_data_stats/Disambiguator_final_val_data_exact_match_spaces_sorted.csv\n",
      "Sorted inst_per and saved to /data/disambiguation/mtg2/rachel_test_scripts/output_data/final_val_data_stats/Disambiguator_final_val_data_inst_per_sorted.csv\n",
      "Saved frequency graph for inst_match to /data/disambiguation/mtg2/rachel_test_scripts/output_data/final_val_data_stats/Disambiguator_final_val_data_inst_match_frequency.png\n",
      "Saved frequency graph for inst_sum to /data/disambiguation/mtg2/rachel_test_scripts/output_data/final_val_data_stats/Disambiguator_final_val_data_inst_sum_frequency.png\n",
      "Saved frequency graph for concepts_shortest_match to /data/disambiguation/mtg2/rachel_test_scripts/output_data/final_val_data_stats/Disambiguator_final_val_data_concepts_shortest_match_frequency.png\n",
      "Saved frequency graph for concepts_shortest_sum to /data/disambiguation/mtg2/rachel_test_scripts/output_data/final_val_data_stats/Disambiguator_final_val_data_concepts_shortest_sum_frequency.png\n",
      "Saved frequency graph for concepts_shorter_match to /data/disambiguation/mtg2/rachel_test_scripts/output_data/final_val_data_stats/Disambiguator_final_val_data_concepts_shorter_match_frequency.png\n",
      "Saved frequency graph for concepts_shorter_sum to /data/disambiguation/mtg2/rachel_test_scripts/output_data/final_val_data_stats/Disambiguator_final_val_data_concepts_shorter_sum_frequency.png\n",
      "Saved frequency graph for concepts_match to /data/disambiguation/mtg2/rachel_test_scripts/output_data/final_val_data_stats/Disambiguator_final_val_data_concepts_match_frequency.png\n",
      "Saved frequency graph for concepts_sum to /data/disambiguation/mtg2/rachel_test_scripts/output_data/final_val_data_stats/Disambiguator_final_val_data_concepts_sum_frequency.png\n",
      "Saved frequency graph for coauthors_shorter_match to /data/disambiguation/mtg2/rachel_test_scripts/output_data/final_val_data_stats/Disambiguator_final_val_data_coauthors_shorter_match_frequency.png\n",
      "Saved frequency graph for coauthors_shorter_sum to /data/disambiguation/mtg2/rachel_test_scripts/output_data/final_val_data_stats/Disambiguator_final_val_data_coauthors_shorter_sum_frequency.png\n",
      "Saved frequency graph for coauthors_match to /data/disambiguation/mtg2/rachel_test_scripts/output_data/final_val_data_stats/Disambiguator_final_val_data_coauthors_match_frequency.png\n",
      "Saved frequency graph for coauthors_sum to /data/disambiguation/mtg2/rachel_test_scripts/output_data/final_val_data_stats/Disambiguator_final_val_data_coauthors_sum_frequency.png\n",
      "Saved frequency graph for citation_match to /data/disambiguation/mtg2/rachel_test_scripts/output_data/final_val_data_stats/Disambiguator_final_val_data_citation_match_frequency.png\n",
      "Saved frequency graph for citation_sum to /data/disambiguation/mtg2/rachel_test_scripts/output_data/final_val_data_stats/Disambiguator_final_val_data_citation_sum_frequency.png\n",
      "Saved frequency graph for citation_work_match to /data/disambiguation/mtg2/rachel_test_scripts/output_data/final_val_data_stats/Disambiguator_final_val_data_citation_work_match_frequency.png\n",
      "Saved frequency graph for name_1_len to /data/disambiguation/mtg2/rachel_test_scripts/output_data/final_val_data_stats/Disambiguator_final_val_data_name_1_len_frequency.png\n",
      "Saved frequency graph for name_1_spaces to /data/disambiguation/mtg2/rachel_test_scripts/output_data/final_val_data_stats/Disambiguator_final_val_data_name_1_spaces_frequency.png\n",
      "Saved frequency graph for exact_match_len to /data/disambiguation/mtg2/rachel_test_scripts/output_data/final_val_data_stats/Disambiguator_final_val_data_exact_match_len_frequency.png\n",
      "Saved frequency graph for exact_match_spaces to /data/disambiguation/mtg2/rachel_test_scripts/output_data/final_val_data_stats/Disambiguator_final_val_data_exact_match_spaces_frequency.png\n",
      "Saved frequency graph for inst_per to /data/disambiguation/mtg2/rachel_test_scripts/output_data/final_val_data_stats/Disambiguator_final_val_data_inst_per_frequency.png\n",
      "Saved exact matches to /data/disambiguation/mtg2/rachel_test_scripts/output_data/final_val_data_stats/Disambiguator_final_val_data_exact_matches.csv\n"
     ]
    }
   ],
   "source": [
    "file_path = '/data/disambiguation/mtg2/parquet_data/'\n",
    "input_file_name = 'Disambiguator_final_val_data.parquet'\n",
    "\n",
    "# full file path\n",
    "full_file_path = os.path.join(file_path, input_file_name)\n",
    "\n",
    "# Function to process each parquet file\n",
    "def process_parquet_file(file_path):\n",
    "\n",
    "    # Print the file being processed\n",
    "    print(f\"Processing file: {file_path}\")\n",
    "\n",
    "    # Read the parquet file\n",
    "    df = pd.read_parquet(file_path)\n",
    "    \n",
    "    # Get the file name for later use\n",
    "    input_file_name = os.path.basename(file_path).replace('.parquet', '')\n",
    "\n",
    "    # 1. Sorting specific columns and saving as CSV\n",
    "    for col in columns_to_sort:\n",
    "        sorted_df = df.sort_values(by=col, ascending=True)\n",
    "        sorted_csv_path = os.path.join(output_directory, f\"{input_file_name}_{col}_sorted.csv\")\n",
    "        sorted_df.to_csv(sorted_csv_path, index=False)\n",
    "        print(f\"Sorted {col} and saved to {sorted_csv_path}\")\n",
    "\n",
    "    # 2. Create frequency graphs for each column\n",
    "    for col in columns_to_sort:\n",
    "        plt.figure(figsize=(10, 6))\n",
    "        df[col].hist(bins=50, edgecolor='black')\n",
    "        plt.title(f'Frequency Distribution for {col}')\n",
    "        plt.xlabel(col)\n",
    "        plt.ylabel('Frequency')\n",
    "        graph_output_path = os.path.join(output_directory, f\"{input_file_name}_{col}_frequency.png\")\n",
    "        plt.savefig(graph_output_path)\n",
    "        plt.close()\n",
    "        print(f\"Saved frequency graph for {col} to {graph_output_path}\")\n",
    "\n",
    "    # 3. Find exact matches and save to a CSV file\n",
    "    exact_matches_df = df[df['exact_match'] == 1]\n",
    "    exact_matches_csv = os.path.join(output_directory, f\"{input_file_name}_exact_matches.csv\")\n",
    "    exact_matches_df.to_csv(exact_matches_csv, index=False)\n",
    "    print(f\"Saved exact matches to {exact_matches_csv}\")\n",
    "\n",
    "\n",
    "process_parquet_file(full_file_path)"
   ]
  },
  {
   "cell_type": "code",
   "execution_count": null,
   "metadata": {},
   "outputs": [],
   "source": []
  }
 ],
 "metadata": {
  "kernelspec": {
   "display_name": "Python 3 (ipykernel)",
   "language": "python",
   "name": "python3"
  },
  "language_info": {
   "codemirror_mode": {
    "name": "ipython",
    "version": 3
   },
   "file_extension": ".py",
   "mimetype": "text/x-python",
   "name": "python",
   "nbconvert_exporter": "python",
   "pygments_lexer": "ipython3",
   "version": "3.8.3"
  }
 },
 "nbformat": 4,
 "nbformat_minor": 2
}
